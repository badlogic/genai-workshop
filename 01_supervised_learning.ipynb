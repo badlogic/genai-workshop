{
  "nbformat": 4,
  "nbformat_minor": 0,
  "metadata": {
    "colab": {
      "provenance": [],
      "authorship_tag": "ABX9TyO3bM8FsjcQFcv7Xz/rvydy",
      "include_colab_link": true
    },
    "kernelspec": {
      "name": "python3",
      "display_name": "Python 3"
    },
    "language_info": {
      "name": "python"
    },
    "widgets": {
      "application/vnd.jupyter.widget-state+json": {
        "c4e485f379374e0a8f0b24488f8c6f7d": {
          "model_module": "@jupyter-widgets/controls",
          "model_name": "VBoxModel",
          "model_module_version": "1.5.0",
          "state": {
            "_dom_classes": [],
            "_model_module": "@jupyter-widgets/controls",
            "_model_module_version": "1.5.0",
            "_model_name": "VBoxModel",
            "_view_count": null,
            "_view_module": "@jupyter-widgets/controls",
            "_view_module_version": "1.5.0",
            "_view_name": "VBoxView",
            "box_style": "",
            "children": [
              "IPY_MODEL_dfd9373cc6bf4213a4b10b489be1621d",
              "IPY_MODEL_dc8f9787cc0542ff9dd9f8186fc219d3",
              "IPY_MODEL_1e824fd96e044b5fb6b9b1c5a4d4b34a"
            ],
            "layout": "IPY_MODEL_e7c5f3e1a32346d2875d28db1e6209d8"
          }
        },
        "dfd9373cc6bf4213a4b10b489be1621d": {
          "model_module": "@jupyter-widgets/controls",
          "model_name": "FloatSliderModel",
          "model_module_version": "1.5.0",
          "state": {
            "_dom_classes": [],
            "_model_module": "@jupyter-widgets/controls",
            "_model_module_version": "1.5.0",
            "_model_name": "FloatSliderModel",
            "_view_count": null,
            "_view_module": "@jupyter-widgets/controls",
            "_view_module_version": "1.5.0",
            "_view_name": "FloatSliderView",
            "continuous_update": true,
            "description": "m (slope)",
            "description_tooltip": null,
            "disabled": false,
            "layout": "IPY_MODEL_55af09c29bb94884814f293d70c8ceec",
            "max": 4,
            "min": -4,
            "orientation": "horizontal",
            "readout": true,
            "readout_format": ".2f",
            "step": 0.1,
            "style": "IPY_MODEL_9d19e516a8894808b701645b8afb879a",
            "value": 0
          }
        },
        "dc8f9787cc0542ff9dd9f8186fc219d3": {
          "model_module": "@jupyter-widgets/controls",
          "model_name": "FloatSliderModel",
          "model_module_version": "1.5.0",
          "state": {
            "_dom_classes": [],
            "_model_module": "@jupyter-widgets/controls",
            "_model_module_version": "1.5.0",
            "_model_name": "FloatSliderModel",
            "_view_count": null,
            "_view_module": "@jupyter-widgets/controls",
            "_view_module_version": "1.5.0",
            "_view_name": "FloatSliderView",
            "continuous_update": true,
            "description": "b (bias)",
            "description_tooltip": null,
            "disabled": false,
            "layout": "IPY_MODEL_5eee57b417874be388d731b9039b6ef9",
            "max": 10,
            "min": 0,
            "orientation": "horizontal",
            "readout": true,
            "readout_format": ".2f",
            "step": 0.1,
            "style": "IPY_MODEL_c096f7e2dc74433a9d884489768ccace",
            "value": 0
          }
        },
        "1e824fd96e044b5fb6b9b1c5a4d4b34a": {
          "model_module": "@jupyter-widgets/output",
          "model_name": "OutputModel",
          "model_module_version": "1.0.0",
          "state": {
            "_dom_classes": [],
            "_model_module": "@jupyter-widgets/output",
            "_model_module_version": "1.0.0",
            "_model_name": "OutputModel",
            "_view_count": null,
            "_view_module": "@jupyter-widgets/output",
            "_view_module_version": "1.0.0",
            "_view_name": "OutputView",
            "layout": "IPY_MODEL_6f7b2aef449d4edab0faf3297f9c7b7c",
            "msg_id": "",
            "outputs": [
              {
                "output_type": "display_data",
                "data": {
                  "text/plain": "<Figure size 600x400 with 1 Axes>",
                  "image/png": "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\n"
                },
                "metadata": {}
              }
            ]
          }
        },
        "e7c5f3e1a32346d2875d28db1e6209d8": {
          "model_module": "@jupyter-widgets/base",
          "model_name": "LayoutModel",
          "model_module_version": "1.2.0",
          "state": {
            "_model_module": "@jupyter-widgets/base",
            "_model_module_version": "1.2.0",
            "_model_name": "LayoutModel",
            "_view_count": null,
            "_view_module": "@jupyter-widgets/base",
            "_view_module_version": "1.2.0",
            "_view_name": "LayoutView",
            "align_content": null,
            "align_items": null,
            "align_self": null,
            "border": null,
            "bottom": null,
            "display": null,
            "flex": null,
            "flex_flow": null,
            "grid_area": null,
            "grid_auto_columns": null,
            "grid_auto_flow": null,
            "grid_auto_rows": null,
            "grid_column": null,
            "grid_gap": null,
            "grid_row": null,
            "grid_template_areas": null,
            "grid_template_columns": null,
            "grid_template_rows": null,
            "height": null,
            "justify_content": null,
            "justify_items": null,
            "left": null,
            "margin": null,
            "max_height": null,
            "max_width": null,
            "min_height": null,
            "min_width": null,
            "object_fit": null,
            "object_position": null,
            "order": null,
            "overflow": null,
            "overflow_x": null,
            "overflow_y": null,
            "padding": null,
            "right": null,
            "top": null,
            "visibility": null,
            "width": null
          }
        },
        "55af09c29bb94884814f293d70c8ceec": {
          "model_module": "@jupyter-widgets/base",
          "model_name": "LayoutModel",
          "model_module_version": "1.2.0",
          "state": {
            "_model_module": "@jupyter-widgets/base",
            "_model_module_version": "1.2.0",
            "_model_name": "LayoutModel",
            "_view_count": null,
            "_view_module": "@jupyter-widgets/base",
            "_view_module_version": "1.2.0",
            "_view_name": "LayoutView",
            "align_content": null,
            "align_items": null,
            "align_self": null,
            "border": null,
            "bottom": null,
            "display": null,
            "flex": null,
            "flex_flow": null,
            "grid_area": null,
            "grid_auto_columns": null,
            "grid_auto_flow": null,
            "grid_auto_rows": null,
            "grid_column": null,
            "grid_gap": null,
            "grid_row": null,
            "grid_template_areas": null,
            "grid_template_columns": null,
            "grid_template_rows": null,
            "height": null,
            "justify_content": null,
            "justify_items": null,
            "left": null,
            "margin": null,
            "max_height": null,
            "max_width": null,
            "min_height": null,
            "min_width": null,
            "object_fit": null,
            "object_position": null,
            "order": null,
            "overflow": null,
            "overflow_x": null,
            "overflow_y": null,
            "padding": null,
            "right": null,
            "top": null,
            "visibility": null,
            "width": null
          }
        },
        "9d19e516a8894808b701645b8afb879a": {
          "model_module": "@jupyter-widgets/controls",
          "model_name": "SliderStyleModel",
          "model_module_version": "1.5.0",
          "state": {
            "_model_module": "@jupyter-widgets/controls",
            "_model_module_version": "1.5.0",
            "_model_name": "SliderStyleModel",
            "_view_count": null,
            "_view_module": "@jupyter-widgets/base",
            "_view_module_version": "1.2.0",
            "_view_name": "StyleView",
            "description_width": "",
            "handle_color": null
          }
        },
        "5eee57b417874be388d731b9039b6ef9": {
          "model_module": "@jupyter-widgets/base",
          "model_name": "LayoutModel",
          "model_module_version": "1.2.0",
          "state": {
            "_model_module": "@jupyter-widgets/base",
            "_model_module_version": "1.2.0",
            "_model_name": "LayoutModel",
            "_view_count": null,
            "_view_module": "@jupyter-widgets/base",
            "_view_module_version": "1.2.0",
            "_view_name": "LayoutView",
            "align_content": null,
            "align_items": null,
            "align_self": null,
            "border": null,
            "bottom": null,
            "display": null,
            "flex": null,
            "flex_flow": null,
            "grid_area": null,
            "grid_auto_columns": null,
            "grid_auto_flow": null,
            "grid_auto_rows": null,
            "grid_column": null,
            "grid_gap": null,
            "grid_row": null,
            "grid_template_areas": null,
            "grid_template_columns": null,
            "grid_template_rows": null,
            "height": null,
            "justify_content": null,
            "justify_items": null,
            "left": null,
            "margin": null,
            "max_height": null,
            "max_width": null,
            "min_height": null,
            "min_width": null,
            "object_fit": null,
            "object_position": null,
            "order": null,
            "overflow": null,
            "overflow_x": null,
            "overflow_y": null,
            "padding": null,
            "right": null,
            "top": null,
            "visibility": null,
            "width": null
          }
        },
        "c096f7e2dc74433a9d884489768ccace": {
          "model_module": "@jupyter-widgets/controls",
          "model_name": "SliderStyleModel",
          "model_module_version": "1.5.0",
          "state": {
            "_model_module": "@jupyter-widgets/controls",
            "_model_module_version": "1.5.0",
            "_model_name": "SliderStyleModel",
            "_view_count": null,
            "_view_module": "@jupyter-widgets/base",
            "_view_module_version": "1.2.0",
            "_view_name": "StyleView",
            "description_width": "",
            "handle_color": null
          }
        },
        "6f7b2aef449d4edab0faf3297f9c7b7c": {
          "model_module": "@jupyter-widgets/base",
          "model_name": "LayoutModel",
          "model_module_version": "1.2.0",
          "state": {
            "_model_module": "@jupyter-widgets/base",
            "_model_module_version": "1.2.0",
            "_model_name": "LayoutModel",
            "_view_count": null,
            "_view_module": "@jupyter-widgets/base",
            "_view_module_version": "1.2.0",
            "_view_name": "LayoutView",
            "align_content": null,
            "align_items": null,
            "align_self": null,
            "border": null,
            "bottom": null,
            "display": null,
            "flex": null,
            "flex_flow": null,
            "grid_area": null,
            "grid_auto_columns": null,
            "grid_auto_flow": null,
            "grid_auto_rows": null,
            "grid_column": null,
            "grid_gap": null,
            "grid_row": null,
            "grid_template_areas": null,
            "grid_template_columns": null,
            "grid_template_rows": null,
            "height": null,
            "justify_content": null,
            "justify_items": null,
            "left": null,
            "margin": null,
            "max_height": null,
            "max_width": null,
            "min_height": null,
            "min_width": null,
            "object_fit": null,
            "object_position": null,
            "order": null,
            "overflow": null,
            "overflow_x": null,
            "overflow_y": null,
            "padding": null,
            "right": null,
            "top": null,
            "visibility": null,
            "width": null
          }
        },
        "3c0f875bd54e4eaabc971f3b10a95a8c": {
          "model_module": "@jupyter-widgets/controls",
          "model_name": "VBoxModel",
          "model_module_version": "1.5.0",
          "state": {
            "_dom_classes": [],
            "_model_module": "@jupyter-widgets/controls",
            "_model_module_version": "1.5.0",
            "_model_name": "VBoxModel",
            "_view_count": null,
            "_view_module": "@jupyter-widgets/controls",
            "_view_module_version": "1.5.0",
            "_view_name": "VBoxView",
            "box_style": "",
            "children": [
              "IPY_MODEL_32888cdb4586445d8fabf6a4d4b611d0",
              "IPY_MODEL_2296d0b5a7a34a2485dc282285188479",
              "IPY_MODEL_0c8bc293e4ad4c86912e1fb3b1afd3ea",
              "IPY_MODEL_34a19f264430484c981332a748cd5bae"
            ],
            "layout": "IPY_MODEL_afe2b5be58884cd5ae1c00e4e2a647a9"
          }
        },
        "32888cdb4586445d8fabf6a4d4b611d0": {
          "model_module": "@jupyter-widgets/controls",
          "model_name": "FloatSliderModel",
          "model_module_version": "1.5.0",
          "state": {
            "_dom_classes": [],
            "_model_module": "@jupyter-widgets/controls",
            "_model_module_version": "1.5.0",
            "_model_name": "FloatSliderModel",
            "_view_count": null,
            "_view_module": "@jupyter-widgets/controls",
            "_view_module_version": "1.5.0",
            "_view_name": "FloatSliderView",
            "continuous_update": true,
            "description": "m (slope)",
            "description_tooltip": null,
            "disabled": false,
            "layout": "IPY_MODEL_de4060744d0f487e88afdbc5ce415ce8",
            "max": 4,
            "min": -4,
            "orientation": "horizontal",
            "readout": true,
            "readout_format": ".2f",
            "step": 0.1,
            "style": "IPY_MODEL_b2fba0fee9d54bf89a3fb04dea939d8f",
            "value": 0
          }
        },
        "2296d0b5a7a34a2485dc282285188479": {
          "model_module": "@jupyter-widgets/controls",
          "model_name": "FloatSliderModel",
          "model_module_version": "1.5.0",
          "state": {
            "_dom_classes": [],
            "_model_module": "@jupyter-widgets/controls",
            "_model_module_version": "1.5.0",
            "_model_name": "FloatSliderModel",
            "_view_count": null,
            "_view_module": "@jupyter-widgets/controls",
            "_view_module_version": "1.5.0",
            "_view_name": "FloatSliderView",
            "continuous_update": true,
            "description": "b (bias)",
            "description_tooltip": null,
            "disabled": false,
            "layout": "IPY_MODEL_e6f8a03173af41a38e7785952f029b51",
            "max": 10,
            "min": 0,
            "orientation": "horizontal",
            "readout": true,
            "readout_format": ".2f",
            "step": 0.1,
            "style": "IPY_MODEL_e4bdd798d83b40f18dea4447cbb53131",
            "value": 0
          }
        },
        "0c8bc293e4ad4c86912e1fb3b1afd3ea": {
          "model_module": "@jupyter-widgets/controls",
          "model_name": "LabelModel",
          "model_module_version": "1.5.0",
          "state": {
            "_dom_classes": [],
            "_model_module": "@jupyter-widgets/controls",
            "_model_module_version": "1.5.0",
            "_model_name": "LabelModel",
            "_view_count": null,
            "_view_module": "@jupyter-widgets/controls",
            "_view_module_version": "1.5.0",
            "_view_name": "LabelView",
            "description": "",
            "description_tooltip": null,
            "layout": "IPY_MODEL_0324ff6230e6471b9735a725812229a4",
            "placeholder": "​",
            "style": "IPY_MODEL_8d9d5af59b7547d992101506a9559469",
            "value": "Loss:  0.390"
          }
        },
        "34a19f264430484c981332a748cd5bae": {
          "model_module": "@jupyter-widgets/output",
          "model_name": "OutputModel",
          "model_module_version": "1.0.0",
          "state": {
            "_dom_classes": [],
            "_model_module": "@jupyter-widgets/output",
            "_model_module_version": "1.0.0",
            "_model_name": "OutputModel",
            "_view_count": null,
            "_view_module": "@jupyter-widgets/output",
            "_view_module_version": "1.0.0",
            "_view_name": "OutputView",
            "layout": "IPY_MODEL_5cc82fb531ad4d46909a50dcc7ab999c",
            "msg_id": "",
            "outputs": [
              {
                "output_type": "display_data",
                "data": {
                  "text/plain": "<Figure size 600x400 with 1 Axes>",
                  "image/png": "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\n"
                },
                "metadata": {}
              }
            ]
          }
        },
        "afe2b5be58884cd5ae1c00e4e2a647a9": {
          "model_module": "@jupyter-widgets/base",
          "model_name": "LayoutModel",
          "model_module_version": "1.2.0",
          "state": {
            "_model_module": "@jupyter-widgets/base",
            "_model_module_version": "1.2.0",
            "_model_name": "LayoutModel",
            "_view_count": null,
            "_view_module": "@jupyter-widgets/base",
            "_view_module_version": "1.2.0",
            "_view_name": "LayoutView",
            "align_content": null,
            "align_items": null,
            "align_self": null,
            "border": null,
            "bottom": null,
            "display": null,
            "flex": null,
            "flex_flow": null,
            "grid_area": null,
            "grid_auto_columns": null,
            "grid_auto_flow": null,
            "grid_auto_rows": null,
            "grid_column": null,
            "grid_gap": null,
            "grid_row": null,
            "grid_template_areas": null,
            "grid_template_columns": null,
            "grid_template_rows": null,
            "height": null,
            "justify_content": null,
            "justify_items": null,
            "left": null,
            "margin": null,
            "max_height": null,
            "max_width": null,
            "min_height": null,
            "min_width": null,
            "object_fit": null,
            "object_position": null,
            "order": null,
            "overflow": null,
            "overflow_x": null,
            "overflow_y": null,
            "padding": null,
            "right": null,
            "top": null,
            "visibility": null,
            "width": null
          }
        },
        "de4060744d0f487e88afdbc5ce415ce8": {
          "model_module": "@jupyter-widgets/base",
          "model_name": "LayoutModel",
          "model_module_version": "1.2.0",
          "state": {
            "_model_module": "@jupyter-widgets/base",
            "_model_module_version": "1.2.0",
            "_model_name": "LayoutModel",
            "_view_count": null,
            "_view_module": "@jupyter-widgets/base",
            "_view_module_version": "1.2.0",
            "_view_name": "LayoutView",
            "align_content": null,
            "align_items": null,
            "align_self": null,
            "border": null,
            "bottom": null,
            "display": null,
            "flex": null,
            "flex_flow": null,
            "grid_area": null,
            "grid_auto_columns": null,
            "grid_auto_flow": null,
            "grid_auto_rows": null,
            "grid_column": null,
            "grid_gap": null,
            "grid_row": null,
            "grid_template_areas": null,
            "grid_template_columns": null,
            "grid_template_rows": null,
            "height": null,
            "justify_content": null,
            "justify_items": null,
            "left": null,
            "margin": null,
            "max_height": null,
            "max_width": null,
            "min_height": null,
            "min_width": null,
            "object_fit": null,
            "object_position": null,
            "order": null,
            "overflow": null,
            "overflow_x": null,
            "overflow_y": null,
            "padding": null,
            "right": null,
            "top": null,
            "visibility": null,
            "width": null
          }
        },
        "b2fba0fee9d54bf89a3fb04dea939d8f": {
          "model_module": "@jupyter-widgets/controls",
          "model_name": "SliderStyleModel",
          "model_module_version": "1.5.0",
          "state": {
            "_model_module": "@jupyter-widgets/controls",
            "_model_module_version": "1.5.0",
            "_model_name": "SliderStyleModel",
            "_view_count": null,
            "_view_module": "@jupyter-widgets/base",
            "_view_module_version": "1.2.0",
            "_view_name": "StyleView",
            "description_width": "",
            "handle_color": null
          }
        },
        "e6f8a03173af41a38e7785952f029b51": {
          "model_module": "@jupyter-widgets/base",
          "model_name": "LayoutModel",
          "model_module_version": "1.2.0",
          "state": {
            "_model_module": "@jupyter-widgets/base",
            "_model_module_version": "1.2.0",
            "_model_name": "LayoutModel",
            "_view_count": null,
            "_view_module": "@jupyter-widgets/base",
            "_view_module_version": "1.2.0",
            "_view_name": "LayoutView",
            "align_content": null,
            "align_items": null,
            "align_self": null,
            "border": null,
            "bottom": null,
            "display": null,
            "flex": null,
            "flex_flow": null,
            "grid_area": null,
            "grid_auto_columns": null,
            "grid_auto_flow": null,
            "grid_auto_rows": null,
            "grid_column": null,
            "grid_gap": null,
            "grid_row": null,
            "grid_template_areas": null,
            "grid_template_columns": null,
            "grid_template_rows": null,
            "height": null,
            "justify_content": null,
            "justify_items": null,
            "left": null,
            "margin": null,
            "max_height": null,
            "max_width": null,
            "min_height": null,
            "min_width": null,
            "object_fit": null,
            "object_position": null,
            "order": null,
            "overflow": null,
            "overflow_x": null,
            "overflow_y": null,
            "padding": null,
            "right": null,
            "top": null,
            "visibility": null,
            "width": null
          }
        },
        "e4bdd798d83b40f18dea4447cbb53131": {
          "model_module": "@jupyter-widgets/controls",
          "model_name": "SliderStyleModel",
          "model_module_version": "1.5.0",
          "state": {
            "_model_module": "@jupyter-widgets/controls",
            "_model_module_version": "1.5.0",
            "_model_name": "SliderStyleModel",
            "_view_count": null,
            "_view_module": "@jupyter-widgets/base",
            "_view_module_version": "1.2.0",
            "_view_name": "StyleView",
            "description_width": "",
            "handle_color": null
          }
        },
        "0324ff6230e6471b9735a725812229a4": {
          "model_module": "@jupyter-widgets/base",
          "model_name": "LayoutModel",
          "model_module_version": "1.2.0",
          "state": {
            "_model_module": "@jupyter-widgets/base",
            "_model_module_version": "1.2.0",
            "_model_name": "LayoutModel",
            "_view_count": null,
            "_view_module": "@jupyter-widgets/base",
            "_view_module_version": "1.2.0",
            "_view_name": "LayoutView",
            "align_content": null,
            "align_items": null,
            "align_self": null,
            "border": null,
            "bottom": null,
            "display": null,
            "flex": null,
            "flex_flow": null,
            "grid_area": null,
            "grid_auto_columns": null,
            "grid_auto_flow": null,
            "grid_auto_rows": null,
            "grid_column": null,
            "grid_gap": null,
            "grid_row": null,
            "grid_template_areas": null,
            "grid_template_columns": null,
            "grid_template_rows": null,
            "height": null,
            "justify_content": null,
            "justify_items": null,
            "left": null,
            "margin": null,
            "max_height": null,
            "max_width": null,
            "min_height": null,
            "min_width": null,
            "object_fit": null,
            "object_position": null,
            "order": null,
            "overflow": null,
            "overflow_x": null,
            "overflow_y": null,
            "padding": null,
            "right": null,
            "top": null,
            "visibility": null,
            "width": null
          }
        },
        "8d9d5af59b7547d992101506a9559469": {
          "model_module": "@jupyter-widgets/controls",
          "model_name": "DescriptionStyleModel",
          "model_module_version": "1.5.0",
          "state": {
            "_model_module": "@jupyter-widgets/controls",
            "_model_module_version": "1.5.0",
            "_model_name": "DescriptionStyleModel",
            "_view_count": null,
            "_view_module": "@jupyter-widgets/base",
            "_view_module_version": "1.2.0",
            "_view_name": "StyleView",
            "description_width": ""
          }
        },
        "5cc82fb531ad4d46909a50dcc7ab999c": {
          "model_module": "@jupyter-widgets/base",
          "model_name": "LayoutModel",
          "model_module_version": "1.2.0",
          "state": {
            "_model_module": "@jupyter-widgets/base",
            "_model_module_version": "1.2.0",
            "_model_name": "LayoutModel",
            "_view_count": null,
            "_view_module": "@jupyter-widgets/base",
            "_view_module_version": "1.2.0",
            "_view_name": "LayoutView",
            "align_content": null,
            "align_items": null,
            "align_self": null,
            "border": null,
            "bottom": null,
            "display": null,
            "flex": null,
            "flex_flow": null,
            "grid_area": null,
            "grid_auto_columns": null,
            "grid_auto_flow": null,
            "grid_auto_rows": null,
            "grid_column": null,
            "grid_gap": null,
            "grid_row": null,
            "grid_template_areas": null,
            "grid_template_columns": null,
            "grid_template_rows": null,
            "height": null,
            "justify_content": null,
            "justify_items": null,
            "left": null,
            "margin": null,
            "max_height": null,
            "max_width": null,
            "min_height": null,
            "min_width": null,
            "object_fit": null,
            "object_position": null,
            "order": null,
            "overflow": null,
            "overflow_x": null,
            "overflow_y": null,
            "padding": null,
            "right": null,
            "top": null,
            "visibility": null,
            "width": null
          }
        },
        "21090c992e1b4415a00a97de2a5ac913": {
          "model_module": "@jupyter-widgets/controls",
          "model_name": "VBoxModel",
          "model_module_version": "1.5.0",
          "state": {
            "_dom_classes": [],
            "_model_module": "@jupyter-widgets/controls",
            "_model_module_version": "1.5.0",
            "_model_name": "VBoxModel",
            "_view_count": null,
            "_view_module": "@jupyter-widgets/controls",
            "_view_module_version": "1.5.0",
            "_view_name": "VBoxView",
            "box_style": "",
            "children": [
              "IPY_MODEL_784e744f60eb489a8bd8bebfb3bf38e9",
              "IPY_MODEL_8823b6ab6f57487a9c78e4a07e5434ab",
              "IPY_MODEL_e5b06ada77554850a23cc17aa0a4f2f1",
              "IPY_MODEL_18492953fc074aafb9d3f281ec96cf49"
            ],
            "layout": "IPY_MODEL_d2f009e9e4aa4318817b59e140f61625"
          }
        },
        "784e744f60eb489a8bd8bebfb3bf38e9": {
          "model_module": "@jupyter-widgets/controls",
          "model_name": "FloatSliderModel",
          "model_module_version": "1.5.0",
          "state": {
            "_dom_classes": [],
            "_model_module": "@jupyter-widgets/controls",
            "_model_module_version": "1.5.0",
            "_model_name": "FloatSliderModel",
            "_view_count": null,
            "_view_module": "@jupyter-widgets/controls",
            "_view_module_version": "1.5.0",
            "_view_name": "FloatSliderView",
            "continuous_update": true,
            "description": "m (slope)",
            "description_tooltip": null,
            "disabled": false,
            "layout": "IPY_MODEL_79b5f6ed6e7548c980f3769902b103ad",
            "max": 4,
            "min": -4,
            "orientation": "horizontal",
            "readout": true,
            "readout_format": ".2f",
            "step": 0.1,
            "style": "IPY_MODEL_4522eedf4b12455195f2087536843cc0",
            "value": 3.5591833314538746
          }
        },
        "8823b6ab6f57487a9c78e4a07e5434ab": {
          "model_module": "@jupyter-widgets/controls",
          "model_name": "FloatSliderModel",
          "model_module_version": "1.5.0",
          "state": {
            "_dom_classes": [],
            "_model_module": "@jupyter-widgets/controls",
            "_model_module_version": "1.5.0",
            "_model_name": "FloatSliderModel",
            "_view_count": null,
            "_view_module": "@jupyter-widgets/controls",
            "_view_module_version": "1.5.0",
            "_view_name": "FloatSliderView",
            "continuous_update": true,
            "description": "b (bias)",
            "description_tooltip": null,
            "disabled": false,
            "layout": "IPY_MODEL_6c01f59cc0664e219e975983a7aff3d1",
            "max": 10,
            "min": 0,
            "orientation": "horizontal",
            "readout": true,
            "readout_format": ".2f",
            "step": 0.1,
            "style": "IPY_MODEL_77b2f58370c84859ab5a3dca4a4f950a",
            "value": 2.834853899691966
          }
        },
        "e5b06ada77554850a23cc17aa0a4f2f1": {
          "model_module": "@jupyter-widgets/controls",
          "model_name": "LabelModel",
          "model_module_version": "1.5.0",
          "state": {
            "_dom_classes": [],
            "_model_module": "@jupyter-widgets/controls",
            "_model_module_version": "1.5.0",
            "_model_name": "LabelModel",
            "_view_count": null,
            "_view_module": "@jupyter-widgets/controls",
            "_view_module_version": "1.5.0",
            "_view_name": "LabelView",
            "description": "",
            "description_tooltip": null,
            "layout": "IPY_MODEL_57f48d547a6a49e1987a181afc0a0a0a",
            "placeholder": "​",
            "style": "IPY_MODEL_4971ce780d834be9a2ecadec64462234",
            "value": "Loss:  0.000"
          }
        },
        "18492953fc074aafb9d3f281ec96cf49": {
          "model_module": "@jupyter-widgets/output",
          "model_name": "OutputModel",
          "model_module_version": "1.0.0",
          "state": {
            "_dom_classes": [],
            "_model_module": "@jupyter-widgets/output",
            "_model_module_version": "1.0.0",
            "_model_name": "OutputModel",
            "_view_count": null,
            "_view_module": "@jupyter-widgets/output",
            "_view_module_version": "1.0.0",
            "_view_name": "OutputView",
            "layout": "IPY_MODEL_9e4462400ecd469c8f23f7f5ed5e4620",
            "msg_id": "",
            "outputs": [
              {
                "output_type": "display_data",
                "data": {
                  "text/plain": "<Figure size 600x400 with 1 Axes>",
                  "image/png": "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\n"
                },
                "metadata": {}
              }
            ]
          }
        },
        "d2f009e9e4aa4318817b59e140f61625": {
          "model_module": "@jupyter-widgets/base",
          "model_name": "LayoutModel",
          "model_module_version": "1.2.0",
          "state": {
            "_model_module": "@jupyter-widgets/base",
            "_model_module_version": "1.2.0",
            "_model_name": "LayoutModel",
            "_view_count": null,
            "_view_module": "@jupyter-widgets/base",
            "_view_module_version": "1.2.0",
            "_view_name": "LayoutView",
            "align_content": null,
            "align_items": null,
            "align_self": null,
            "border": null,
            "bottom": null,
            "display": null,
            "flex": null,
            "flex_flow": null,
            "grid_area": null,
            "grid_auto_columns": null,
            "grid_auto_flow": null,
            "grid_auto_rows": null,
            "grid_column": null,
            "grid_gap": null,
            "grid_row": null,
            "grid_template_areas": null,
            "grid_template_columns": null,
            "grid_template_rows": null,
            "height": null,
            "justify_content": null,
            "justify_items": null,
            "left": null,
            "margin": null,
            "max_height": null,
            "max_width": null,
            "min_height": null,
            "min_width": null,
            "object_fit": null,
            "object_position": null,
            "order": null,
            "overflow": null,
            "overflow_x": null,
            "overflow_y": null,
            "padding": null,
            "right": null,
            "top": null,
            "visibility": null,
            "width": null
          }
        },
        "79b5f6ed6e7548c980f3769902b103ad": {
          "model_module": "@jupyter-widgets/base",
          "model_name": "LayoutModel",
          "model_module_version": "1.2.0",
          "state": {
            "_model_module": "@jupyter-widgets/base",
            "_model_module_version": "1.2.0",
            "_model_name": "LayoutModel",
            "_view_count": null,
            "_view_module": "@jupyter-widgets/base",
            "_view_module_version": "1.2.0",
            "_view_name": "LayoutView",
            "align_content": null,
            "align_items": null,
            "align_self": null,
            "border": null,
            "bottom": null,
            "display": null,
            "flex": null,
            "flex_flow": null,
            "grid_area": null,
            "grid_auto_columns": null,
            "grid_auto_flow": null,
            "grid_auto_rows": null,
            "grid_column": null,
            "grid_gap": null,
            "grid_row": null,
            "grid_template_areas": null,
            "grid_template_columns": null,
            "grid_template_rows": null,
            "height": null,
            "justify_content": null,
            "justify_items": null,
            "left": null,
            "margin": null,
            "max_height": null,
            "max_width": null,
            "min_height": null,
            "min_width": null,
            "object_fit": null,
            "object_position": null,
            "order": null,
            "overflow": null,
            "overflow_x": null,
            "overflow_y": null,
            "padding": null,
            "right": null,
            "top": null,
            "visibility": null,
            "width": null
          }
        },
        "4522eedf4b12455195f2087536843cc0": {
          "model_module": "@jupyter-widgets/controls",
          "model_name": "SliderStyleModel",
          "model_module_version": "1.5.0",
          "state": {
            "_model_module": "@jupyter-widgets/controls",
            "_model_module_version": "1.5.0",
            "_model_name": "SliderStyleModel",
            "_view_count": null,
            "_view_module": "@jupyter-widgets/base",
            "_view_module_version": "1.2.0",
            "_view_name": "StyleView",
            "description_width": "",
            "handle_color": null
          }
        },
        "6c01f59cc0664e219e975983a7aff3d1": {
          "model_module": "@jupyter-widgets/base",
          "model_name": "LayoutModel",
          "model_module_version": "1.2.0",
          "state": {
            "_model_module": "@jupyter-widgets/base",
            "_model_module_version": "1.2.0",
            "_model_name": "LayoutModel",
            "_view_count": null,
            "_view_module": "@jupyter-widgets/base",
            "_view_module_version": "1.2.0",
            "_view_name": "LayoutView",
            "align_content": null,
            "align_items": null,
            "align_self": null,
            "border": null,
            "bottom": null,
            "display": null,
            "flex": null,
            "flex_flow": null,
            "grid_area": null,
            "grid_auto_columns": null,
            "grid_auto_flow": null,
            "grid_auto_rows": null,
            "grid_column": null,
            "grid_gap": null,
            "grid_row": null,
            "grid_template_areas": null,
            "grid_template_columns": null,
            "grid_template_rows": null,
            "height": null,
            "justify_content": null,
            "justify_items": null,
            "left": null,
            "margin": null,
            "max_height": null,
            "max_width": null,
            "min_height": null,
            "min_width": null,
            "object_fit": null,
            "object_position": null,
            "order": null,
            "overflow": null,
            "overflow_x": null,
            "overflow_y": null,
            "padding": null,
            "right": null,
            "top": null,
            "visibility": null,
            "width": null
          }
        },
        "77b2f58370c84859ab5a3dca4a4f950a": {
          "model_module": "@jupyter-widgets/controls",
          "model_name": "SliderStyleModel",
          "model_module_version": "1.5.0",
          "state": {
            "_model_module": "@jupyter-widgets/controls",
            "_model_module_version": "1.5.0",
            "_model_name": "SliderStyleModel",
            "_view_count": null,
            "_view_module": "@jupyter-widgets/base",
            "_view_module_version": "1.2.0",
            "_view_name": "StyleView",
            "description_width": "",
            "handle_color": null
          }
        },
        "57f48d547a6a49e1987a181afc0a0a0a": {
          "model_module": "@jupyter-widgets/base",
          "model_name": "LayoutModel",
          "model_module_version": "1.2.0",
          "state": {
            "_model_module": "@jupyter-widgets/base",
            "_model_module_version": "1.2.0",
            "_model_name": "LayoutModel",
            "_view_count": null,
            "_view_module": "@jupyter-widgets/base",
            "_view_module_version": "1.2.0",
            "_view_name": "LayoutView",
            "align_content": null,
            "align_items": null,
            "align_self": null,
            "border": null,
            "bottom": null,
            "display": null,
            "flex": null,
            "flex_flow": null,
            "grid_area": null,
            "grid_auto_columns": null,
            "grid_auto_flow": null,
            "grid_auto_rows": null,
            "grid_column": null,
            "grid_gap": null,
            "grid_row": null,
            "grid_template_areas": null,
            "grid_template_columns": null,
            "grid_template_rows": null,
            "height": null,
            "justify_content": null,
            "justify_items": null,
            "left": null,
            "margin": null,
            "max_height": null,
            "max_width": null,
            "min_height": null,
            "min_width": null,
            "object_fit": null,
            "object_position": null,
            "order": null,
            "overflow": null,
            "overflow_x": null,
            "overflow_y": null,
            "padding": null,
            "right": null,
            "top": null,
            "visibility": null,
            "width": null
          }
        },
        "4971ce780d834be9a2ecadec64462234": {
          "model_module": "@jupyter-widgets/controls",
          "model_name": "DescriptionStyleModel",
          "model_module_version": "1.5.0",
          "state": {
            "_model_module": "@jupyter-widgets/controls",
            "_model_module_version": "1.5.0",
            "_model_name": "DescriptionStyleModel",
            "_view_count": null,
            "_view_module": "@jupyter-widgets/base",
            "_view_module_version": "1.2.0",
            "_view_name": "StyleView",
            "description_width": ""
          }
        },
        "9e4462400ecd469c8f23f7f5ed5e4620": {
          "model_module": "@jupyter-widgets/base",
          "model_name": "LayoutModel",
          "model_module_version": "1.2.0",
          "state": {
            "_model_module": "@jupyter-widgets/base",
            "_model_module_version": "1.2.0",
            "_model_name": "LayoutModel",
            "_view_count": null,
            "_view_module": "@jupyter-widgets/base",
            "_view_module_version": "1.2.0",
            "_view_name": "LayoutView",
            "align_content": null,
            "align_items": null,
            "align_self": null,
            "border": null,
            "bottom": null,
            "display": null,
            "flex": null,
            "flex_flow": null,
            "grid_area": null,
            "grid_auto_columns": null,
            "grid_auto_flow": null,
            "grid_auto_rows": null,
            "grid_column": null,
            "grid_gap": null,
            "grid_row": null,
            "grid_template_areas": null,
            "grid_template_columns": null,
            "grid_template_rows": null,
            "height": null,
            "justify_content": null,
            "justify_items": null,
            "left": null,
            "margin": null,
            "max_height": null,
            "max_width": null,
            "min_height": null,
            "min_width": null,
            "object_fit": null,
            "object_position": null,
            "order": null,
            "overflow": null,
            "overflow_x": null,
            "overflow_y": null,
            "padding": null,
            "right": null,
            "top": null,
            "visibility": null,
            "width": null
          }
        },
        "e6ad6ab12db74c07b4c9448e1b60758c": {
          "model_module": "@jupyter-widgets/controls",
          "model_name": "VBoxModel",
          "model_module_version": "1.5.0",
          "state": {
            "_dom_classes": [],
            "_model_module": "@jupyter-widgets/controls",
            "_model_module_version": "1.5.0",
            "_model_name": "VBoxModel",
            "_view_count": null,
            "_view_module": "@jupyter-widgets/controls",
            "_view_module_version": "1.5.0",
            "_view_name": "VBoxView",
            "box_style": "",
            "children": [
              "IPY_MODEL_2d899d03a625453fbdbdcc9ba7f6010b",
              "IPY_MODEL_a330516acb93422a8e87e8e0c457bde8",
              "IPY_MODEL_721e72d1a07e486c967bf43cd36c42f6",
              "IPY_MODEL_277e069f978d42478eff560901f7f328"
            ],
            "layout": "IPY_MODEL_714781daa590430fa49a554b3153e193"
          }
        },
        "2d899d03a625453fbdbdcc9ba7f6010b": {
          "model_module": "@jupyter-widgets/controls",
          "model_name": "FloatSliderModel",
          "model_module_version": "1.5.0",
          "state": {
            "_dom_classes": [],
            "_model_module": "@jupyter-widgets/controls",
            "_model_module_version": "1.5.0",
            "_model_name": "FloatSliderModel",
            "_view_count": null,
            "_view_module": "@jupyter-widgets/controls",
            "_view_module_version": "1.5.0",
            "_view_name": "FloatSliderView",
            "continuous_update": true,
            "description": "m (slope)",
            "description_tooltip": null,
            "disabled": false,
            "layout": "IPY_MODEL_27f2ffd8e9cf41d2927f3dd73f35e7f7",
            "max": 4,
            "min": -4,
            "orientation": "horizontal",
            "readout": true,
            "readout_format": ".2f",
            "step": 0.1,
            "style": "IPY_MODEL_d533b24906444c5d873380e881ccfad7",
            "value": 3.5591833314538746
          }
        },
        "a330516acb93422a8e87e8e0c457bde8": {
          "model_module": "@jupyter-widgets/controls",
          "model_name": "FloatSliderModel",
          "model_module_version": "1.5.0",
          "state": {
            "_dom_classes": [],
            "_model_module": "@jupyter-widgets/controls",
            "_model_module_version": "1.5.0",
            "_model_name": "FloatSliderModel",
            "_view_count": null,
            "_view_module": "@jupyter-widgets/controls",
            "_view_module_version": "1.5.0",
            "_view_name": "FloatSliderView",
            "continuous_update": true,
            "description": "b (bias)",
            "description_tooltip": null,
            "disabled": false,
            "layout": "IPY_MODEL_602cea3ecd6c44e2bbddb99a190d3a21",
            "max": 10,
            "min": 0,
            "orientation": "horizontal",
            "readout": true,
            "readout_format": ".2f",
            "step": 0.1,
            "style": "IPY_MODEL_d6ed71f619694ff5a459c9dcd75a19ce",
            "value": 2.834853899691966
          }
        },
        "721e72d1a07e486c967bf43cd36c42f6": {
          "model_module": "@jupyter-widgets/controls",
          "model_name": "LabelModel",
          "model_module_version": "1.5.0",
          "state": {
            "_dom_classes": [],
            "_model_module": "@jupyter-widgets/controls",
            "_model_module_version": "1.5.0",
            "_model_name": "LabelModel",
            "_view_count": null,
            "_view_module": "@jupyter-widgets/controls",
            "_view_module_version": "1.5.0",
            "_view_name": "LabelView",
            "description": "",
            "description_tooltip": null,
            "layout": "IPY_MODEL_99e213f9336549a2a9e8afa3f6cb8360",
            "placeholder": "​",
            "style": "IPY_MODEL_453bbc58f2e34620b637148f5e68a621",
            "value": "Loss:  0.000"
          }
        },
        "277e069f978d42478eff560901f7f328": {
          "model_module": "@jupyter-widgets/output",
          "model_name": "OutputModel",
          "model_module_version": "1.0.0",
          "state": {
            "_dom_classes": [],
            "_model_module": "@jupyter-widgets/output",
            "_model_module_version": "1.0.0",
            "_model_name": "OutputModel",
            "_view_count": null,
            "_view_module": "@jupyter-widgets/output",
            "_view_module_version": "1.0.0",
            "_view_name": "OutputView",
            "layout": "IPY_MODEL_e302a933215143a78b1d1815376cf917",
            "msg_id": "",
            "outputs": [
              {
                "output_type": "display_data",
                "data": {
                  "text/plain": "<Figure size 600x400 with 1 Axes>",
                  "image/png": "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\n"
                },
                "metadata": {}
              }
            ]
          }
        },
        "714781daa590430fa49a554b3153e193": {
          "model_module": "@jupyter-widgets/base",
          "model_name": "LayoutModel",
          "model_module_version": "1.2.0",
          "state": {
            "_model_module": "@jupyter-widgets/base",
            "_model_module_version": "1.2.0",
            "_model_name": "LayoutModel",
            "_view_count": null,
            "_view_module": "@jupyter-widgets/base",
            "_view_module_version": "1.2.0",
            "_view_name": "LayoutView",
            "align_content": null,
            "align_items": null,
            "align_self": null,
            "border": null,
            "bottom": null,
            "display": null,
            "flex": null,
            "flex_flow": null,
            "grid_area": null,
            "grid_auto_columns": null,
            "grid_auto_flow": null,
            "grid_auto_rows": null,
            "grid_column": null,
            "grid_gap": null,
            "grid_row": null,
            "grid_template_areas": null,
            "grid_template_columns": null,
            "grid_template_rows": null,
            "height": null,
            "justify_content": null,
            "justify_items": null,
            "left": null,
            "margin": null,
            "max_height": null,
            "max_width": null,
            "min_height": null,
            "min_width": null,
            "object_fit": null,
            "object_position": null,
            "order": null,
            "overflow": null,
            "overflow_x": null,
            "overflow_y": null,
            "padding": null,
            "right": null,
            "top": null,
            "visibility": null,
            "width": null
          }
        },
        "27f2ffd8e9cf41d2927f3dd73f35e7f7": {
          "model_module": "@jupyter-widgets/base",
          "model_name": "LayoutModel",
          "model_module_version": "1.2.0",
          "state": {
            "_model_module": "@jupyter-widgets/base",
            "_model_module_version": "1.2.0",
            "_model_name": "LayoutModel",
            "_view_count": null,
            "_view_module": "@jupyter-widgets/base",
            "_view_module_version": "1.2.0",
            "_view_name": "LayoutView",
            "align_content": null,
            "align_items": null,
            "align_self": null,
            "border": null,
            "bottom": null,
            "display": null,
            "flex": null,
            "flex_flow": null,
            "grid_area": null,
            "grid_auto_columns": null,
            "grid_auto_flow": null,
            "grid_auto_rows": null,
            "grid_column": null,
            "grid_gap": null,
            "grid_row": null,
            "grid_template_areas": null,
            "grid_template_columns": null,
            "grid_template_rows": null,
            "height": null,
            "justify_content": null,
            "justify_items": null,
            "left": null,
            "margin": null,
            "max_height": null,
            "max_width": null,
            "min_height": null,
            "min_width": null,
            "object_fit": null,
            "object_position": null,
            "order": null,
            "overflow": null,
            "overflow_x": null,
            "overflow_y": null,
            "padding": null,
            "right": null,
            "top": null,
            "visibility": null,
            "width": null
          }
        },
        "d533b24906444c5d873380e881ccfad7": {
          "model_module": "@jupyter-widgets/controls",
          "model_name": "SliderStyleModel",
          "model_module_version": "1.5.0",
          "state": {
            "_model_module": "@jupyter-widgets/controls",
            "_model_module_version": "1.5.0",
            "_model_name": "SliderStyleModel",
            "_view_count": null,
            "_view_module": "@jupyter-widgets/base",
            "_view_module_version": "1.2.0",
            "_view_name": "StyleView",
            "description_width": "",
            "handle_color": null
          }
        },
        "602cea3ecd6c44e2bbddb99a190d3a21": {
          "model_module": "@jupyter-widgets/base",
          "model_name": "LayoutModel",
          "model_module_version": "1.2.0",
          "state": {
            "_model_module": "@jupyter-widgets/base",
            "_model_module_version": "1.2.0",
            "_model_name": "LayoutModel",
            "_view_count": null,
            "_view_module": "@jupyter-widgets/base",
            "_view_module_version": "1.2.0",
            "_view_name": "LayoutView",
            "align_content": null,
            "align_items": null,
            "align_self": null,
            "border": null,
            "bottom": null,
            "display": null,
            "flex": null,
            "flex_flow": null,
            "grid_area": null,
            "grid_auto_columns": null,
            "grid_auto_flow": null,
            "grid_auto_rows": null,
            "grid_column": null,
            "grid_gap": null,
            "grid_row": null,
            "grid_template_areas": null,
            "grid_template_columns": null,
            "grid_template_rows": null,
            "height": null,
            "justify_content": null,
            "justify_items": null,
            "left": null,
            "margin": null,
            "max_height": null,
            "max_width": null,
            "min_height": null,
            "min_width": null,
            "object_fit": null,
            "object_position": null,
            "order": null,
            "overflow": null,
            "overflow_x": null,
            "overflow_y": null,
            "padding": null,
            "right": null,
            "top": null,
            "visibility": null,
            "width": null
          }
        },
        "d6ed71f619694ff5a459c9dcd75a19ce": {
          "model_module": "@jupyter-widgets/controls",
          "model_name": "SliderStyleModel",
          "model_module_version": "1.5.0",
          "state": {
            "_model_module": "@jupyter-widgets/controls",
            "_model_module_version": "1.5.0",
            "_model_name": "SliderStyleModel",
            "_view_count": null,
            "_view_module": "@jupyter-widgets/base",
            "_view_module_version": "1.2.0",
            "_view_name": "StyleView",
            "description_width": "",
            "handle_color": null
          }
        },
        "99e213f9336549a2a9e8afa3f6cb8360": {
          "model_module": "@jupyter-widgets/base",
          "model_name": "LayoutModel",
          "model_module_version": "1.2.0",
          "state": {
            "_model_module": "@jupyter-widgets/base",
            "_model_module_version": "1.2.0",
            "_model_name": "LayoutModel",
            "_view_count": null,
            "_view_module": "@jupyter-widgets/base",
            "_view_module_version": "1.2.0",
            "_view_name": "LayoutView",
            "align_content": null,
            "align_items": null,
            "align_self": null,
            "border": null,
            "bottom": null,
            "display": null,
            "flex": null,
            "flex_flow": null,
            "grid_area": null,
            "grid_auto_columns": null,
            "grid_auto_flow": null,
            "grid_auto_rows": null,
            "grid_column": null,
            "grid_gap": null,
            "grid_row": null,
            "grid_template_areas": null,
            "grid_template_columns": null,
            "grid_template_rows": null,
            "height": null,
            "justify_content": null,
            "justify_items": null,
            "left": null,
            "margin": null,
            "max_height": null,
            "max_width": null,
            "min_height": null,
            "min_width": null,
            "object_fit": null,
            "object_position": null,
            "order": null,
            "overflow": null,
            "overflow_x": null,
            "overflow_y": null,
            "padding": null,
            "right": null,
            "top": null,
            "visibility": null,
            "width": null
          }
        },
        "453bbc58f2e34620b637148f5e68a621": {
          "model_module": "@jupyter-widgets/controls",
          "model_name": "DescriptionStyleModel",
          "model_module_version": "1.5.0",
          "state": {
            "_model_module": "@jupyter-widgets/controls",
            "_model_module_version": "1.5.0",
            "_model_name": "DescriptionStyleModel",
            "_view_count": null,
            "_view_module": "@jupyter-widgets/base",
            "_view_module_version": "1.2.0",
            "_view_name": "StyleView",
            "description_width": ""
          }
        },
        "e302a933215143a78b1d1815376cf917": {
          "model_module": "@jupyter-widgets/base",
          "model_name": "LayoutModel",
          "model_module_version": "1.2.0",
          "state": {
            "_model_module": "@jupyter-widgets/base",
            "_model_module_version": "1.2.0",
            "_model_name": "LayoutModel",
            "_view_count": null,
            "_view_module": "@jupyter-widgets/base",
            "_view_module_version": "1.2.0",
            "_view_name": "LayoutView",
            "align_content": null,
            "align_items": null,
            "align_self": null,
            "border": null,
            "bottom": null,
            "display": null,
            "flex": null,
            "flex_flow": null,
            "grid_area": null,
            "grid_auto_columns": null,
            "grid_auto_flow": null,
            "grid_auto_rows": null,
            "grid_column": null,
            "grid_gap": null,
            "grid_row": null,
            "grid_template_areas": null,
            "grid_template_columns": null,
            "grid_template_rows": null,
            "height": null,
            "justify_content": null,
            "justify_items": null,
            "left": null,
            "margin": null,
            "max_height": null,
            "max_width": null,
            "min_height": null,
            "min_width": null,
            "object_fit": null,
            "object_position": null,
            "order": null,
            "overflow": null,
            "overflow_x": null,
            "overflow_y": null,
            "padding": null,
            "right": null,
            "top": null,
            "visibility": null,
            "width": null
          }
        },
        "439d35e4d38d4e9bbb89082fa63c74df": {
          "model_module": "@jupyter-widgets/controls",
          "model_name": "VBoxModel",
          "model_module_version": "1.5.0",
          "state": {
            "_dom_classes": [],
            "_model_module": "@jupyter-widgets/controls",
            "_model_module_version": "1.5.0",
            "_model_name": "VBoxModel",
            "_view_count": null,
            "_view_module": "@jupyter-widgets/controls",
            "_view_module_version": "1.5.0",
            "_view_name": "VBoxView",
            "box_style": "",
            "children": [
              "IPY_MODEL_22ebd7cee94d4a3a8d473ca7976238a9",
              "IPY_MODEL_97603c31ab5443dc8d7dea5cfb64b1b3",
              "IPY_MODEL_6f505b47176a42578a60556ccd37c875",
              "IPY_MODEL_37a7d3e7e5a348b89a2ae32eb34f25b1"
            ],
            "layout": "IPY_MODEL_5229d10021b342f591853c8b13c388c7"
          }
        },
        "22ebd7cee94d4a3a8d473ca7976238a9": {
          "model_module": "@jupyter-widgets/controls",
          "model_name": "FloatSliderModel",
          "model_module_version": "1.5.0",
          "state": {
            "_dom_classes": [],
            "_model_module": "@jupyter-widgets/controls",
            "_model_module_version": "1.5.0",
            "_model_name": "FloatSliderModel",
            "_view_count": null,
            "_view_module": "@jupyter-widgets/controls",
            "_view_module_version": "1.5.0",
            "_view_name": "FloatSliderView",
            "continuous_update": true,
            "description": "m (slope)",
            "description_tooltip": null,
            "disabled": false,
            "layout": "IPY_MODEL_5b6b401ab3ea4b4c9417647a2c672b48",
            "max": 4,
            "min": -4,
            "orientation": "horizontal",
            "readout": true,
            "readout_format": ".2f",
            "step": 0.1,
            "style": "IPY_MODEL_2f589a28726140ce9f85f4b523e1ae75",
            "value": 0
          }
        },
        "97603c31ab5443dc8d7dea5cfb64b1b3": {
          "model_module": "@jupyter-widgets/controls",
          "model_name": "FloatSliderModel",
          "model_module_version": "1.5.0",
          "state": {
            "_dom_classes": [],
            "_model_module": "@jupyter-widgets/controls",
            "_model_module_version": "1.5.0",
            "_model_name": "FloatSliderModel",
            "_view_count": null,
            "_view_module": "@jupyter-widgets/controls",
            "_view_module_version": "1.5.0",
            "_view_name": "FloatSliderView",
            "continuous_update": true,
            "description": "b (bias)",
            "description_tooltip": null,
            "disabled": false,
            "layout": "IPY_MODEL_159474f6751449c7a56b82a8d51a5d15",
            "max": 10,
            "min": 0,
            "orientation": "horizontal",
            "readout": true,
            "readout_format": ".2f",
            "step": 0.1,
            "style": "IPY_MODEL_75cdc39da6a040f5afc29828fee02f6b",
            "value": 0
          }
        },
        "6f505b47176a42578a60556ccd37c875": {
          "model_module": "@jupyter-widgets/controls",
          "model_name": "LabelModel",
          "model_module_version": "1.5.0",
          "state": {
            "_dom_classes": [],
            "_model_module": "@jupyter-widgets/controls",
            "_model_module_version": "1.5.0",
            "_model_name": "LabelModel",
            "_view_count": null,
            "_view_module": "@jupyter-widgets/controls",
            "_view_module_version": "1.5.0",
            "_view_name": "LabelView",
            "description": "",
            "description_tooltip": null,
            "layout": "IPY_MODEL_4352762c87254ce38717070dd3332d0a",
            "placeholder": "​",
            "style": "IPY_MODEL_50c8c997a21d43ada3a9d1f3b629920d",
            "value": "Loss:  0.412"
          }
        },
        "37a7d3e7e5a348b89a2ae32eb34f25b1": {
          "model_module": "@jupyter-widgets/output",
          "model_name": "OutputModel",
          "model_module_version": "1.0.0",
          "state": {
            "_dom_classes": [],
            "_model_module": "@jupyter-widgets/output",
            "_model_module_version": "1.0.0",
            "_model_name": "OutputModel",
            "_view_count": null,
            "_view_module": "@jupyter-widgets/output",
            "_view_module_version": "1.0.0",
            "_view_name": "OutputView",
            "layout": "IPY_MODEL_f22f6e1f30d940d8b06851fb5a9c0ba3",
            "msg_id": "",
            "outputs": [
              {
                "output_type": "display_data",
                "data": {
                  "text/plain": "<Figure size 600x400 with 1 Axes>",
                  "image/png": "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\n"
                },
                "metadata": {}
              }
            ]
          }
        },
        "5229d10021b342f591853c8b13c388c7": {
          "model_module": "@jupyter-widgets/base",
          "model_name": "LayoutModel",
          "model_module_version": "1.2.0",
          "state": {
            "_model_module": "@jupyter-widgets/base",
            "_model_module_version": "1.2.0",
            "_model_name": "LayoutModel",
            "_view_count": null,
            "_view_module": "@jupyter-widgets/base",
            "_view_module_version": "1.2.0",
            "_view_name": "LayoutView",
            "align_content": null,
            "align_items": null,
            "align_self": null,
            "border": null,
            "bottom": null,
            "display": null,
            "flex": null,
            "flex_flow": null,
            "grid_area": null,
            "grid_auto_columns": null,
            "grid_auto_flow": null,
            "grid_auto_rows": null,
            "grid_column": null,
            "grid_gap": null,
            "grid_row": null,
            "grid_template_areas": null,
            "grid_template_columns": null,
            "grid_template_rows": null,
            "height": null,
            "justify_content": null,
            "justify_items": null,
            "left": null,
            "margin": null,
            "max_height": null,
            "max_width": null,
            "min_height": null,
            "min_width": null,
            "object_fit": null,
            "object_position": null,
            "order": null,
            "overflow": null,
            "overflow_x": null,
            "overflow_y": null,
            "padding": null,
            "right": null,
            "top": null,
            "visibility": null,
            "width": null
          }
        },
        "5b6b401ab3ea4b4c9417647a2c672b48": {
          "model_module": "@jupyter-widgets/base",
          "model_name": "LayoutModel",
          "model_module_version": "1.2.0",
          "state": {
            "_model_module": "@jupyter-widgets/base",
            "_model_module_version": "1.2.0",
            "_model_name": "LayoutModel",
            "_view_count": null,
            "_view_module": "@jupyter-widgets/base",
            "_view_module_version": "1.2.0",
            "_view_name": "LayoutView",
            "align_content": null,
            "align_items": null,
            "align_self": null,
            "border": null,
            "bottom": null,
            "display": null,
            "flex": null,
            "flex_flow": null,
            "grid_area": null,
            "grid_auto_columns": null,
            "grid_auto_flow": null,
            "grid_auto_rows": null,
            "grid_column": null,
            "grid_gap": null,
            "grid_row": null,
            "grid_template_areas": null,
            "grid_template_columns": null,
            "grid_template_rows": null,
            "height": null,
            "justify_content": null,
            "justify_items": null,
            "left": null,
            "margin": null,
            "max_height": null,
            "max_width": null,
            "min_height": null,
            "min_width": null,
            "object_fit": null,
            "object_position": null,
            "order": null,
            "overflow": null,
            "overflow_x": null,
            "overflow_y": null,
            "padding": null,
            "right": null,
            "top": null,
            "visibility": null,
            "width": null
          }
        },
        "2f589a28726140ce9f85f4b523e1ae75": {
          "model_module": "@jupyter-widgets/controls",
          "model_name": "SliderStyleModel",
          "model_module_version": "1.5.0",
          "state": {
            "_model_module": "@jupyter-widgets/controls",
            "_model_module_version": "1.5.0",
            "_model_name": "SliderStyleModel",
            "_view_count": null,
            "_view_module": "@jupyter-widgets/base",
            "_view_module_version": "1.2.0",
            "_view_name": "StyleView",
            "description_width": "",
            "handle_color": null
          }
        },
        "159474f6751449c7a56b82a8d51a5d15": {
          "model_module": "@jupyter-widgets/base",
          "model_name": "LayoutModel",
          "model_module_version": "1.2.0",
          "state": {
            "_model_module": "@jupyter-widgets/base",
            "_model_module_version": "1.2.0",
            "_model_name": "LayoutModel",
            "_view_count": null,
            "_view_module": "@jupyter-widgets/base",
            "_view_module_version": "1.2.0",
            "_view_name": "LayoutView",
            "align_content": null,
            "align_items": null,
            "align_self": null,
            "border": null,
            "bottom": null,
            "display": null,
            "flex": null,
            "flex_flow": null,
            "grid_area": null,
            "grid_auto_columns": null,
            "grid_auto_flow": null,
            "grid_auto_rows": null,
            "grid_column": null,
            "grid_gap": null,
            "grid_row": null,
            "grid_template_areas": null,
            "grid_template_columns": null,
            "grid_template_rows": null,
            "height": null,
            "justify_content": null,
            "justify_items": null,
            "left": null,
            "margin": null,
            "max_height": null,
            "max_width": null,
            "min_height": null,
            "min_width": null,
            "object_fit": null,
            "object_position": null,
            "order": null,
            "overflow": null,
            "overflow_x": null,
            "overflow_y": null,
            "padding": null,
            "right": null,
            "top": null,
            "visibility": null,
            "width": null
          }
        },
        "75cdc39da6a040f5afc29828fee02f6b": {
          "model_module": "@jupyter-widgets/controls",
          "model_name": "SliderStyleModel",
          "model_module_version": "1.5.0",
          "state": {
            "_model_module": "@jupyter-widgets/controls",
            "_model_module_version": "1.5.0",
            "_model_name": "SliderStyleModel",
            "_view_count": null,
            "_view_module": "@jupyter-widgets/base",
            "_view_module_version": "1.2.0",
            "_view_name": "StyleView",
            "description_width": "",
            "handle_color": null
          }
        },
        "4352762c87254ce38717070dd3332d0a": {
          "model_module": "@jupyter-widgets/base",
          "model_name": "LayoutModel",
          "model_module_version": "1.2.0",
          "state": {
            "_model_module": "@jupyter-widgets/base",
            "_model_module_version": "1.2.0",
            "_model_name": "LayoutModel",
            "_view_count": null,
            "_view_module": "@jupyter-widgets/base",
            "_view_module_version": "1.2.0",
            "_view_name": "LayoutView",
            "align_content": null,
            "align_items": null,
            "align_self": null,
            "border": null,
            "bottom": null,
            "display": null,
            "flex": null,
            "flex_flow": null,
            "grid_area": null,
            "grid_auto_columns": null,
            "grid_auto_flow": null,
            "grid_auto_rows": null,
            "grid_column": null,
            "grid_gap": null,
            "grid_row": null,
            "grid_template_areas": null,
            "grid_template_columns": null,
            "grid_template_rows": null,
            "height": null,
            "justify_content": null,
            "justify_items": null,
            "left": null,
            "margin": null,
            "max_height": null,
            "max_width": null,
            "min_height": null,
            "min_width": null,
            "object_fit": null,
            "object_position": null,
            "order": null,
            "overflow": null,
            "overflow_x": null,
            "overflow_y": null,
            "padding": null,
            "right": null,
            "top": null,
            "visibility": null,
            "width": null
          }
        },
        "50c8c997a21d43ada3a9d1f3b629920d": {
          "model_module": "@jupyter-widgets/controls",
          "model_name": "DescriptionStyleModel",
          "model_module_version": "1.5.0",
          "state": {
            "_model_module": "@jupyter-widgets/controls",
            "_model_module_version": "1.5.0",
            "_model_name": "DescriptionStyleModel",
            "_view_count": null,
            "_view_module": "@jupyter-widgets/base",
            "_view_module_version": "1.2.0",
            "_view_name": "StyleView",
            "description_width": ""
          }
        },
        "f22f6e1f30d940d8b06851fb5a9c0ba3": {
          "model_module": "@jupyter-widgets/base",
          "model_name": "LayoutModel",
          "model_module_version": "1.2.0",
          "state": {
            "_model_module": "@jupyter-widgets/base",
            "_model_module_version": "1.2.0",
            "_model_name": "LayoutModel",
            "_view_count": null,
            "_view_module": "@jupyter-widgets/base",
            "_view_module_version": "1.2.0",
            "_view_name": "LayoutView",
            "align_content": null,
            "align_items": null,
            "align_self": null,
            "border": null,
            "bottom": null,
            "display": null,
            "flex": null,
            "flex_flow": null,
            "grid_area": null,
            "grid_auto_columns": null,
            "grid_auto_flow": null,
            "grid_auto_rows": null,
            "grid_column": null,
            "grid_gap": null,
            "grid_row": null,
            "grid_template_areas": null,
            "grid_template_columns": null,
            "grid_template_rows": null,
            "height": null,
            "justify_content": null,
            "justify_items": null,
            "left": null,
            "margin": null,
            "max_height": null,
            "max_width": null,
            "min_height": null,
            "min_width": null,
            "object_fit": null,
            "object_position": null,
            "order": null,
            "overflow": null,
            "overflow_x": null,
            "overflow_y": null,
            "padding": null,
            "right": null,
            "top": null,
            "visibility": null,
            "width": null
          }
        }
      }
    }
  },
  "cells": [
    {
      "cell_type": "markdown",
      "metadata": {
        "id": "view-in-github",
        "colab_type": "text"
      },
      "source": [
        "<a href=\"https://colab.research.google.com/github/badlogic/genai-workshop/blob/main/01_supervised_learning.ipynb\" target=\"_parent\"><img src=\"https://colab.research.google.com/assets/colab-badge.svg\" alt=\"Open In Colab\"/></a>"
      ]
    },
    {
      "cell_type": "markdown",
      "source": [
        "# Supervised learning\n",
        "In supervised learning, our goal is to create a model that learns how to map inputs to outputs, based on examples of input-output pairs.\n",
        "\n",
        "The output values can be limited to a fixed set of categories, or **classes**. For example, in spam detection, we learn to map from an email text to the two possible output values `spam` or `not spam`. This type of task is called **classification**.\n",
        "\n",
        "We can also learn a mapping from an input value to a continuous output value. For example, we can learn to map from the number of cylinders, maker, and age of a car to its fuel efficiency given in liters per 100 kilometers. This type of task is called **regression**.\n",
        "\n",
        "We can use supervised **machine learning models** for both of these tasks."
      ],
      "metadata": {
        "id": "Cq-oa4l__Zlx"
      }
    },
    {
      "cell_type": "markdown",
      "source": [
        "\n",
        "## Data\n",
        "\n",
        "Before any learning can happen, we need to identify and collect data we want to learn from. Data is abundant and can be sourced from various platforms such as the internet, personal devices, or enterprise databases. However, not all data is immediately suitable for learning. For example, text data may be stored in binary formats like PDF, or markup formats like HTML; image or video data may be too big to handle or simply have the wrong aspect ratio; time series data may have missing values or outliers; or the data is \"polluted\" in some way, which all makes learning hard or impossible."
      ],
      "metadata": {
        "id": "_7L_rT3KzSfJ"
      }
    },
    {
      "cell_type": "markdown",
      "source": [
        "\n",
        "### Data Preprocessing\n",
        "Generally, we need to apply **data preprocessing** in some way, to bring it into a format and onto a quality level so it can serve as input to a machine learning model. For example, for learning how to detect spam, we'd collect thousands or hundreds of thousands of emails and extract the raw text by stripping any markup or formatting. Each resulting raw email text could possibly then be used as a direct input to the machine learning model. One such input is then generally referred to as a **sample**, as in: a sample from the set of all possible emails. However, usually, raw text (or audio, or images) can seldomly be passed to a model.\n",
        "\n",
        "Instead, raw data often has to be transformed to a numerical representation, such as **feature** vectors, or more generally, tensors. Each entry in such a vector represents a feature or attribute of the original raw data. For example, a simple raw data entry like {\"color\": \"red\", \"weight\": 150, \"type\": \"apple\"} can be converted into a numerical vector. If we encode \"color\" as red=1, green=2, yellow=3; and \"type\" as apple=1, banana=2, the raw data entry could be represented as a vector [1, 150, 1], where the first entry represents the color, the second the weight in grams, and the third the type of fruit. Deciding which information to choose from the raw data and how to convert it to a vectorial or other numeric representation is called **feature engineering**. Some machine learning models can be very sensitive to how the data is represented numerically, while other models like deep neural networks require much less care or no feature engineering at all."
      ],
      "metadata": {
        "id": "n3Ilz0g2zWA5"
      }
    },
    {
      "cell_type": "markdown",
      "source": [
        "\n",
        "### Data Labeling\n",
        "For supervised learning, we not only need clean samples, but also expected outputs. For example, we can collect millions of emails, but without the information which email is spam and which email is not, the model will not be able to learn to differentiate between the two classes. We need to also assign a class (or expected output value) to each collected sample. This process is called **data labeling**, and is most often done manually by humans. The class (or expected output value) assigned to a sample is called the sample's **label** or **target**.\n",
        "\n",
        "Depending on the task, it may not be necessary to create one's own data set. Practitioners have collected, preprocessed, and labeled a lot of datasets over the decades and made them available through public repositories. For example, you can find tens of thousands of data sets for different machine learning tasks on [Hugging Face](https://huggingface.co/datasets) or [Kaggle](https://www.kaggle.com/datasets).\n",
        "\n",
        "If you indeed need to create your data set based on your own data, you can use tools like [Label Studio](https://labelstud.io/). If you don't have the human resources for labeling, you can use services like [Google AI Platform Data Labeling Service](https://cloud.google.com/ai-platform/data-labeling/pricing), or [Amazon SageMaker Ground Truth](https://docs.aws.amazon.com/sagemaker/latest/dg/sms.html)."
      ],
      "metadata": {
        "id": "P2FLqswszZQQ"
      }
    },
    {
      "cell_type": "markdown",
      "source": [
        "\n",
        "## Models\n",
        "A machine learning model consists of two parts:\n",
        "\n",
        "1. An **architecture** for learning and applying the mapping from input values to expected output values.\n",
        "2. A set of **parameters** that encode the learned mapping, and which can be stored for later use.\n",
        "\n",
        "There is a plethora of different supervised machine learning models for classification and regression tasks. They differ in what types of input and output values they can handle, what types of mappings they can create, their computational complexity, and the amount and quality of data they need to successfully learn the mapping.\n",
        "\n",
        "Examples of supervised machine learning models are [k-NN](https://en.wikipedia.org/wiki/K-nearest_neighbors_algorithm), [Naive Bayes classifier](https://en.wikipedia.org/wiki/Naive_Bayes_classifier), [Support Vector Machines (SVM)](https://en.wikipedia.org/wiki/Support_vector_machine), [Decision Trees](https://en.wikipedia.org/wiki/Decision_tree), [Random Forests](https://en.wikipedia.org/wiki/Random_forest), [Logistic Regression](https://en.wikipedia.org/wiki/Logistic_regression), and [(Deep) Neural Networks](https://en.wikipedia.org/wiki/Deep_learning).\n",
        "\n",
        "Within the machine learning community, sharing models is standard to advance the state of the art. Scientific descriptions of models can be found in papers, e.g., on [arXiv](https://arxiv.org/list/cs.LG/recent), [Google Scholar](https://scholar.google.com/), or [Papers with Code](https://paperswithcode.com/sota). Implementations of models, including data preprocessing, model parameter layout and plumbing, and training and inference algorithms, are often derived from these scientific papers and contributed to open-source machine learning frameworks like [PyTorch](https://pytorch.org/),  [TensorFlow](https://www.tensorflow.org/), [scikit-learn](https://scikit-learn.org/stable/), or higher-level frameworks like [Hugging Face Transformers](https://huggingface.co/docs/transformers/en/index). A more recent development is the sharing of trained models. Pre-trained models for a wide range of machine learning tasks can be found on platforms like [Hugging Face](https://huggingface.co/models)."
      ],
      "metadata": {
        "id": "ni4s_Sc1zcYb"
      }
    },
    {
      "cell_type": "markdown",
      "source": [
        "\n",
        "## Training\n",
        "For a supervised machine learning model to learn a mapping from input values to expected output values, we need to present it with labeled samples. The model will then (usually iteratively) learn the underlying patterns in the data, from which it can construct the input/output mapping. It encodes its learned \"knowledge\" in its parameters. This process is called **training**.\n",
        "\n",
        "For example, to train a sentiment detection model for product reviews, we need to present it with a set of product review texts (samples) and their corresponding sentiment like `positive`, `neutral`, and `negative` (labels).\n",
        "\n",
        "The data set consisting of samples and labels we present to the model for training is called the **training set**.\n",
        "\n",
        "To help decide which machine learning model to use for a task, and how to configure its **hyper-parameters**, that is, parameters that are not learned but specified as part of the model configuration, another labeled data set called a **validation set** is sometimes used.\n",
        "\n",
        "Most training algorithms are iterative. First, the parameters of the model are initialized in some way, for example, randomly. Of course, this \"random\" model is unlikely to give any meaningful or correct outputs.\n",
        "\n",
        "Next, the training data (or a subset thereof called a **batch**) are presented to the model. For each sample, the model uses its current parameters to map it to a label. These labels are then compared to the expected labels found in the training set. The result of the comparison is then used to adjust the parameters of the model in such a way, that it will (hopefully) generate more correct labels in the next iteration. This process repeats until some stopping criterion has been reached, for example, after a fixed number of iterations over the entire training set, often referred to as **epochs**, or if the model parameters do not change significantly anymore, in which case the model is said to have **converged**.\n",
        "\n",
        "How the adjustment of model parameters is done exactly depends on the type of model. For example, for many model types such as neural networks, a **loss function** is used, which models how well the labels generated by the model correspond to the true labels for the samples in the training set.\n",
        "\n",
        "The training objective then becomes minimizing the loss function by adjusting the model parameters such that the difference between the model outputs and the expected outputs is as small as possible.\n",
        "\n",
        "This class of problem is called an **optimization problem**, which, depending on the model type, can be solved in various ways. For example, for neural networks, the optimization problem is solved via [backpropagation](https://en.wikipedia.org/wiki/Backpropagation) through [stochastic gradient descent](https://en.wikipedia.org/wiki/Stochastic_gradient_descent).\n",
        "\n",
        "We can observe if and how well the model is improving during training, by logging or visualizing the losses of each training iteration."
      ],
      "metadata": {
        "id": "RKZNQwV1zgOf"
      }
    },
    {
      "cell_type": "markdown",
      "source": [
        "\n",
        "## Evaluation\n",
        "Once model training is complete, we want to evaluate its quality. For this, we need another labeled data set called **test set**.\n",
        "\n",
        "The evaluation is done by asking the model to assign labels to previously unseen samples. This is called **prediction** or **inference**.\n",
        "\n",
        "We can then compare the model output to the expected labels of each sample in the test set.\n",
        "\n",
        "The comparison between expected labels and labels predicted by the model can be done via different evaluation metrics and scoring functions. Commonly used metrics in supervised learning are [accuracy, precision, recall, F1 score](https://en.wikipedia.org/wiki/Precision_and_recall) for classification tasks, and [mean squared error (MSE)](https://en.wikipedia.org/wiki/Mean_squared_error), [mean absolute error (MAE)](https://en.wikipedia.org/wiki/Mean_absolute_error), or [R-squared](https://en.wikipedia.org/wiki/Coefficient_of_determination) for regression tasks.\n",
        "\n",
        "The result of the evaluation metric tells us how well the model can predict labels for samples it has not seen during training. This gives us an indication of whether the model **generalizes** well to unseen data, or wether it has **overfitted** on the training data, meaning it may have learned to predict labels for the training data very well, but fails to predict correct labels for novel data.\n",
        "\n",
        "We can also compare different models for the same task by comparing their evaluation results on the same training and test set.\n",
        "\n",
        "[scikit-learn](https://scikit-learn.org/stable/modules/model_evaluation.html) and [Hugging Face](https://huggingface.co/docs/evaluate/en/index) both provide frameworks for evaluation."
      ],
      "metadata": {
        "id": "6ITH3fVAzi_g"
      }
    },
    {
      "cell_type": "markdown",
      "source": [
        "## A simple linear binary classifier\n",
        "Let us illustrate the above concepts by building a simple linear binary classifier. \"Binary\" in this context means, that we have two classes or categories we want the model to be able to discern. \"Linear\" means, that the samples of the two different classes can be separated from each other by a line (or hyper-plane in higher dimensional spaces)."
      ],
      "metadata": {
        "id": "HjJ8ARubzud-"
      }
    },
    {
      "cell_type": "markdown",
      "source": [
        "### Data\n",
        "For illustrative purposes, we'll genereate a synthetic dataset instead of using real-world data. The synthetic data samples will have 2 features. Each sample can thus be represented as a two dimensional vector. You can think of them as the properties of a real world object, like a car's maximum speed and weight. The reason we only use 2 features is that such data is very easy to visualize.\n",
        "\n",
        "Let's use [scikit-learn](https://scikit-learn.org/stable/) to generate the data and a [Pandas DataFrame](https://pandas.pydata.org/) to inspect it:"
      ],
      "metadata": {
        "id": "hB-o8T96zw_l"
      }
    },
    {
      "cell_type": "code",
      "source": [
        "# Generate 100 samples, split into 2 clusters, with 2 features each. Each cluster has a center point (centroid)\n",
        "# around which samples are randomly generated with a standard deviation of 1. We also fix the random seed to\n",
        "# make things reproducible.\n",
        "from sklearn.datasets import make_blobs\n",
        "samples, labels = make_blobs(n_samples=100, centers=2, n_features=2, cluster_std=2.5, random_state=42)\n",
        "\n",
        "# Use Pandas DataFrame to display the data in a table inside the notebook\n",
        "import pandas as pd\n",
        "df = pd.DataFrame(samples, columns=[\"Feature 1\", \" Feature 2\"])\n",
        "df[\"labels\"] = labels\n",
        "df"
      ],
      "metadata": {
        "colab": {
          "base_uri": "https://localhost:8080/",
          "height": 423
        },
        "id": "7uHmouCuZxPA",
        "outputId": "2251fda3-0b5f-4c6a-f343-0d7e7ed6dd4a"
      },
      "execution_count": null,
      "outputs": [
        {
          "output_type": "execute_result",
          "data": {
            "text/plain": [
              "    Feature 1   Feature 2  labels\n",
              "0   -3.707133    8.550139       0\n",
              "1    7.347507    4.607675       1\n",
              "2   -3.870154    9.291593       0\n",
              "3    6.695029    6.715152       1\n",
              "4    5.208529    5.241027       1\n",
              "..        ...         ...     ...\n",
              "95   0.068301   11.342486       0\n",
              "96  -0.220692    9.836164       0\n",
              "97   2.522895   -1.813948       1\n",
              "98  -3.058377    9.907068       0\n",
              "99  -2.496414    8.427818       0\n",
              "\n",
              "[100 rows x 3 columns]"
            ],
            "text/html": [
              "\n",
              "  <div id=\"df-c197f99a-6520-4160-b644-20ceb061a663\" class=\"colab-df-container\">\n",
              "    <div>\n",
              "<style scoped>\n",
              "    .dataframe tbody tr th:only-of-type {\n",
              "        vertical-align: middle;\n",
              "    }\n",
              "\n",
              "    .dataframe tbody tr th {\n",
              "        vertical-align: top;\n",
              "    }\n",
              "\n",
              "    .dataframe thead th {\n",
              "        text-align: right;\n",
              "    }\n",
              "</style>\n",
              "<table border=\"1\" class=\"dataframe\">\n",
              "  <thead>\n",
              "    <tr style=\"text-align: right;\">\n",
              "      <th></th>\n",
              "      <th>Feature 1</th>\n",
              "      <th>Feature 2</th>\n",
              "      <th>labels</th>\n",
              "    </tr>\n",
              "  </thead>\n",
              "  <tbody>\n",
              "    <tr>\n",
              "      <th>0</th>\n",
              "      <td>-3.707133</td>\n",
              "      <td>8.550139</td>\n",
              "      <td>0</td>\n",
              "    </tr>\n",
              "    <tr>\n",
              "      <th>1</th>\n",
              "      <td>7.347507</td>\n",
              "      <td>4.607675</td>\n",
              "      <td>1</td>\n",
              "    </tr>\n",
              "    <tr>\n",
              "      <th>2</th>\n",
              "      <td>-3.870154</td>\n",
              "      <td>9.291593</td>\n",
              "      <td>0</td>\n",
              "    </tr>\n",
              "    <tr>\n",
              "      <th>3</th>\n",
              "      <td>6.695029</td>\n",
              "      <td>6.715152</td>\n",
              "      <td>1</td>\n",
              "    </tr>\n",
              "    <tr>\n",
              "      <th>4</th>\n",
              "      <td>5.208529</td>\n",
              "      <td>5.241027</td>\n",
              "      <td>1</td>\n",
              "    </tr>\n",
              "    <tr>\n",
              "      <th>...</th>\n",
              "      <td>...</td>\n",
              "      <td>...</td>\n",
              "      <td>...</td>\n",
              "    </tr>\n",
              "    <tr>\n",
              "      <th>95</th>\n",
              "      <td>0.068301</td>\n",
              "      <td>11.342486</td>\n",
              "      <td>0</td>\n",
              "    </tr>\n",
              "    <tr>\n",
              "      <th>96</th>\n",
              "      <td>-0.220692</td>\n",
              "      <td>9.836164</td>\n",
              "      <td>0</td>\n",
              "    </tr>\n",
              "    <tr>\n",
              "      <th>97</th>\n",
              "      <td>2.522895</td>\n",
              "      <td>-1.813948</td>\n",
              "      <td>1</td>\n",
              "    </tr>\n",
              "    <tr>\n",
              "      <th>98</th>\n",
              "      <td>-3.058377</td>\n",
              "      <td>9.907068</td>\n",
              "      <td>0</td>\n",
              "    </tr>\n",
              "    <tr>\n",
              "      <th>99</th>\n",
              "      <td>-2.496414</td>\n",
              "      <td>8.427818</td>\n",
              "      <td>0</td>\n",
              "    </tr>\n",
              "  </tbody>\n",
              "</table>\n",
              "<p>100 rows × 3 columns</p>\n",
              "</div>\n",
              "    <div class=\"colab-df-buttons\">\n",
              "\n",
              "  <div class=\"colab-df-container\">\n",
              "    <button class=\"colab-df-convert\" onclick=\"convertToInteractive('df-c197f99a-6520-4160-b644-20ceb061a663')\"\n",
              "            title=\"Convert this dataframe to an interactive table.\"\n",
              "            style=\"display:none;\">\n",
              "\n",
              "  <svg xmlns=\"http://www.w3.org/2000/svg\" height=\"24px\" viewBox=\"0 -960 960 960\">\n",
              "    <path d=\"M120-120v-720h720v720H120Zm60-500h600v-160H180v160Zm220 220h160v-160H400v160Zm0 220h160v-160H400v160ZM180-400h160v-160H180v160Zm440 0h160v-160H620v160ZM180-180h160v-160H180v160Zm440 0h160v-160H620v160Z\"/>\n",
              "  </svg>\n",
              "    </button>\n",
              "\n",
              "  <style>\n",
              "    .colab-df-container {\n",
              "      display:flex;\n",
              "      gap: 12px;\n",
              "    }\n",
              "\n",
              "    .colab-df-convert {\n",
              "      background-color: #E8F0FE;\n",
              "      border: none;\n",
              "      border-radius: 50%;\n",
              "      cursor: pointer;\n",
              "      display: none;\n",
              "      fill: #1967D2;\n",
              "      height: 32px;\n",
              "      padding: 0 0 0 0;\n",
              "      width: 32px;\n",
              "    }\n",
              "\n",
              "    .colab-df-convert:hover {\n",
              "      background-color: #E2EBFA;\n",
              "      box-shadow: 0px 1px 2px rgba(60, 64, 67, 0.3), 0px 1px 3px 1px rgba(60, 64, 67, 0.15);\n",
              "      fill: #174EA6;\n",
              "    }\n",
              "\n",
              "    .colab-df-buttons div {\n",
              "      margin-bottom: 4px;\n",
              "    }\n",
              "\n",
              "    [theme=dark] .colab-df-convert {\n",
              "      background-color: #3B4455;\n",
              "      fill: #D2E3FC;\n",
              "    }\n",
              "\n",
              "    [theme=dark] .colab-df-convert:hover {\n",
              "      background-color: #434B5C;\n",
              "      box-shadow: 0px 1px 3px 1px rgba(0, 0, 0, 0.15);\n",
              "      filter: drop-shadow(0px 1px 2px rgba(0, 0, 0, 0.3));\n",
              "      fill: #FFFFFF;\n",
              "    }\n",
              "  </style>\n",
              "\n",
              "    <script>\n",
              "      const buttonEl =\n",
              "        document.querySelector('#df-c197f99a-6520-4160-b644-20ceb061a663 button.colab-df-convert');\n",
              "      buttonEl.style.display =\n",
              "        google.colab.kernel.accessAllowed ? 'block' : 'none';\n",
              "\n",
              "      async function convertToInteractive(key) {\n",
              "        const element = document.querySelector('#df-c197f99a-6520-4160-b644-20ceb061a663');\n",
              "        const dataTable =\n",
              "          await google.colab.kernel.invokeFunction('convertToInteractive',\n",
              "                                                    [key], {});\n",
              "        if (!dataTable) return;\n",
              "\n",
              "        const docLinkHtml = 'Like what you see? Visit the ' +\n",
              "          '<a target=\"_blank\" href=https://colab.research.google.com/notebooks/data_table.ipynb>data table notebook</a>'\n",
              "          + ' to learn more about interactive tables.';\n",
              "        element.innerHTML = '';\n",
              "        dataTable['output_type'] = 'display_data';\n",
              "        await google.colab.output.renderOutput(dataTable, element);\n",
              "        const docLink = document.createElement('div');\n",
              "        docLink.innerHTML = docLinkHtml;\n",
              "        element.appendChild(docLink);\n",
              "      }\n",
              "    </script>\n",
              "  </div>\n",
              "\n",
              "\n",
              "<div id=\"df-42b7ed95-7f02-4ebd-8799-93e66d291aee\">\n",
              "  <button class=\"colab-df-quickchart\" onclick=\"quickchart('df-42b7ed95-7f02-4ebd-8799-93e66d291aee')\"\n",
              "            title=\"Suggest charts\"\n",
              "            style=\"display:none;\">\n",
              "\n",
              "<svg xmlns=\"http://www.w3.org/2000/svg\" height=\"24px\"viewBox=\"0 0 24 24\"\n",
              "     width=\"24px\">\n",
              "    <g>\n",
              "        <path d=\"M19 3H5c-1.1 0-2 .9-2 2v14c0 1.1.9 2 2 2h14c1.1 0 2-.9 2-2V5c0-1.1-.9-2-2-2zM9 17H7v-7h2v7zm4 0h-2V7h2v10zm4 0h-2v-4h2v4z\"/>\n",
              "    </g>\n",
              "</svg>\n",
              "  </button>\n",
              "\n",
              "<style>\n",
              "  .colab-df-quickchart {\n",
              "      --bg-color: #E8F0FE;\n",
              "      --fill-color: #1967D2;\n",
              "      --hover-bg-color: #E2EBFA;\n",
              "      --hover-fill-color: #174EA6;\n",
              "      --disabled-fill-color: #AAA;\n",
              "      --disabled-bg-color: #DDD;\n",
              "  }\n",
              "\n",
              "  [theme=dark] .colab-df-quickchart {\n",
              "      --bg-color: #3B4455;\n",
              "      --fill-color: #D2E3FC;\n",
              "      --hover-bg-color: #434B5C;\n",
              "      --hover-fill-color: #FFFFFF;\n",
              "      --disabled-bg-color: #3B4455;\n",
              "      --disabled-fill-color: #666;\n",
              "  }\n",
              "\n",
              "  .colab-df-quickchart {\n",
              "    background-color: var(--bg-color);\n",
              "    border: none;\n",
              "    border-radius: 50%;\n",
              "    cursor: pointer;\n",
              "    display: none;\n",
              "    fill: var(--fill-color);\n",
              "    height: 32px;\n",
              "    padding: 0;\n",
              "    width: 32px;\n",
              "  }\n",
              "\n",
              "  .colab-df-quickchart:hover {\n",
              "    background-color: var(--hover-bg-color);\n",
              "    box-shadow: 0 1px 2px rgba(60, 64, 67, 0.3), 0 1px 3px 1px rgba(60, 64, 67, 0.15);\n",
              "    fill: var(--button-hover-fill-color);\n",
              "  }\n",
              "\n",
              "  .colab-df-quickchart-complete:disabled,\n",
              "  .colab-df-quickchart-complete:disabled:hover {\n",
              "    background-color: var(--disabled-bg-color);\n",
              "    fill: var(--disabled-fill-color);\n",
              "    box-shadow: none;\n",
              "  }\n",
              "\n",
              "  .colab-df-spinner {\n",
              "    border: 2px solid var(--fill-color);\n",
              "    border-color: transparent;\n",
              "    border-bottom-color: var(--fill-color);\n",
              "    animation:\n",
              "      spin 1s steps(1) infinite;\n",
              "  }\n",
              "\n",
              "  @keyframes spin {\n",
              "    0% {\n",
              "      border-color: transparent;\n",
              "      border-bottom-color: var(--fill-color);\n",
              "      border-left-color: var(--fill-color);\n",
              "    }\n",
              "    20% {\n",
              "      border-color: transparent;\n",
              "      border-left-color: var(--fill-color);\n",
              "      border-top-color: var(--fill-color);\n",
              "    }\n",
              "    30% {\n",
              "      border-color: transparent;\n",
              "      border-left-color: var(--fill-color);\n",
              "      border-top-color: var(--fill-color);\n",
              "      border-right-color: var(--fill-color);\n",
              "    }\n",
              "    40% {\n",
              "      border-color: transparent;\n",
              "      border-right-color: var(--fill-color);\n",
              "      border-top-color: var(--fill-color);\n",
              "    }\n",
              "    60% {\n",
              "      border-color: transparent;\n",
              "      border-right-color: var(--fill-color);\n",
              "    }\n",
              "    80% {\n",
              "      border-color: transparent;\n",
              "      border-right-color: var(--fill-color);\n",
              "      border-bottom-color: var(--fill-color);\n",
              "    }\n",
              "    90% {\n",
              "      border-color: transparent;\n",
              "      border-bottom-color: var(--fill-color);\n",
              "    }\n",
              "  }\n",
              "</style>\n",
              "\n",
              "  <script>\n",
              "    async function quickchart(key) {\n",
              "      const quickchartButtonEl =\n",
              "        document.querySelector('#' + key + ' button');\n",
              "      quickchartButtonEl.disabled = true;  // To prevent multiple clicks.\n",
              "      quickchartButtonEl.classList.add('colab-df-spinner');\n",
              "      try {\n",
              "        const charts = await google.colab.kernel.invokeFunction(\n",
              "            'suggestCharts', [key], {});\n",
              "      } catch (error) {\n",
              "        console.error('Error during call to suggestCharts:', error);\n",
              "      }\n",
              "      quickchartButtonEl.classList.remove('colab-df-spinner');\n",
              "      quickchartButtonEl.classList.add('colab-df-quickchart-complete');\n",
              "    }\n",
              "    (() => {\n",
              "      let quickchartButtonEl =\n",
              "        document.querySelector('#df-42b7ed95-7f02-4ebd-8799-93e66d291aee button');\n",
              "      quickchartButtonEl.style.display =\n",
              "        google.colab.kernel.accessAllowed ? 'block' : 'none';\n",
              "    })();\n",
              "  </script>\n",
              "</div>\n",
              "    </div>\n",
              "  </div>\n"
            ],
            "application/vnd.google.colaboratory.intrinsic+json": {
              "type": "dataframe",
              "variable_name": "df",
              "summary": "{\n  \"name\": \"df\",\n  \"rows\": 100,\n  \"fields\": [\n    {\n      \"column\": \"Feature 1\",\n      \"properties\": {\n        \"dtype\": \"number\",\n        \"std\": 4.358699452966607,\n        \"min\": -9.058560383277111,\n        \"max\": 9.355343589254428,\n        \"num_unique_values\": 100,\n        \"samples\": [\n          -4.779257811855778,\n          5.534347237098809,\n          -3.660794550452219\n        ],\n        \"semantic_type\": \"\",\n        \"description\": \"\"\n      }\n    },\n    {\n      \"column\": \" Feature 2\",\n      \"properties\": {\n        \"dtype\": \"number\",\n        \"std\": 3.9803165555521995,\n        \"min\": -1.8139483777739294,\n        \"max\": 13.644981589470666,\n        \"num_unique_values\": 100,\n        \"samples\": [\n          5.483526874860093,\n          3.3751309998613177,\n          11.65709169374561\n        ],\n        \"semantic_type\": \"\",\n        \"description\": \"\"\n      }\n    },\n    {\n      \"column\": \"labels\",\n      \"properties\": {\n        \"dtype\": \"number\",\n        \"std\": 0,\n        \"min\": 0,\n        \"max\": 1,\n        \"num_unique_values\": 2,\n        \"samples\": [\n          1,\n          0\n        ],\n        \"semantic_type\": \"\",\n        \"description\": \"\"\n      }\n    }\n  ]\n}"
            }
          },
          "metadata": {},
          "execution_count": 34
        }
      ]
    },
    {
      "cell_type": "markdown",
      "source": [
        "We can use [Matplotlib](https://matplotlib.org/) to visualize the generated data (and [NumPy](https://numpy.org/) to help wrangle the data for visualization a little):"
      ],
      "metadata": {
        "id": "pdzOZ2gzazuz"
      }
    },
    {
      "cell_type": "code",
      "source": [
        "import matplotlib.pyplot as plt\n",
        "import numpy as np\n",
        "\n",
        "def visualize_data(samples, labels):\n",
        "  plt.figure(figsize=(6, 4))\n",
        "  class0 = samples[labels == 0]\n",
        "  class1 = samples[labels == 1]\n",
        "  plt.scatter(class0[:, 0], class0[:, 1], c='blue', label='Class 0')\n",
        "  plt.scatter(class1[:, 0], class1[:, 1], c='red', label='Class 1')\n",
        "  plt.title('Data')\n",
        "  plt.xlabel('Feature 1')\n",
        "  plt.ylabel('Feature 2')\n",
        "  plt.legend()\n",
        "  plt.grid(True)\n",
        "  plt.xlim(np.min(samples[:,0])-1, np.max(samples[:,0])+1)\n",
        "  plt.ylim(min(-1, np.min(samples[:,1])-1), np.max(samples[:,1])+1)\n",
        "  plt.axhline(y=0, color='green', linewidth=1, alpha=0.5)\n",
        "  plt.axvline(x=0, color='green', linewidth=1, alpha=0.5)\n",
        "\n",
        "  plt.show()\n",
        "\n",
        "visualize_data(samples, labels)"
      ],
      "metadata": {
        "colab": {
          "base_uri": "https://localhost:8080/",
          "height": 410
        },
        "id": "7qvxX8T-bE2j",
        "outputId": "7cba7157-3a0d-4497-b337-46ba0230434d"
      },
      "execution_count": null,
      "outputs": [
        {
          "output_type": "display_data",
          "data": {
            "text/plain": [
              "<Figure size 600x400 with 1 Axes>"
            ],
            "image/png": "[encoded data removed]"
          },
          "metadata": {}
        }
      ]
    },
    {
      "cell_type": "markdown",
      "source": [
        "### Model\n",
        "If we look at the visualization above, it's very easy to draw a line that separates the samples of the two classes from each other. This is what we mean by \"linearly separable\".\n",
        "\n",
        "While not a great model, we can use a parametric line equation to create a binary linear classifier:\n",
        "\n",
        "$y = mx + b$\n",
        "\n",
        "The parameters of the model are `m`, the line's slope, and `b`, the bias.\n",
        "\n",
        "To make predictions using this model, we take a sample and plug in its `x` coordinate. The model then generates a `y` coordinate for us, based on the line slope and bias. If the sample's actual `y` coordinate is above the predicted `y` coordinate, then we assign the label `0` to the line, otherwise `0`. The line is called a **decision boundary**, as we use it to decide which class a sample belongs to.\n",
        "\n",
        "This model has some (severe) deficiencies, which we'll explore later. For now, let us put the above model architecture into a simple function to predict the label of a sample given the model's parameters `m` and `b`."
      ],
      "metadata": {
        "id": "VPAPu26ZbZMq"
      }
    },
    {
      "cell_type": "code",
      "source": [
        "def predict(m, b, sample):\n",
        "  x, y = sample\n",
        "  line_y = m * x + b\n",
        "  return 0 if y > line_y else 1"
      ],
      "metadata": {
        "id": "yVEZHV-dioUf"
      },
      "execution_count": null,
      "outputs": []
    },
    {
      "cell_type": "markdown",
      "source": [
        "We can then use the `ipywidgets` package to create an interactive visualization to explore such a model's parameters `m` and `b` and their effect on prediciting the label of one or more samples.\n",
        "\n",
        "The visualization lets us manually set `m` and `b`, uses the `predict` function to generate labels for all our samples, and then visualizes the result, including the line modelled by the parameters."
      ],
      "metadata": {
        "id": "zcushJ62lkbU"
      }
    },
    {
      "cell_type": "code",
      "source": [
        "import ipywidgets as widgets\n",
        "\n",
        "def visualize_model(m, b, samples, labels):\n",
        "  m_slider = widgets.FloatSlider(description='m (slope)', min = -4, max=4)\n",
        "  m_slider.value = m\n",
        "  b_slider = widgets.FloatSlider(description='b (bias)', min=0, max=10)\n",
        "  b_slider.value = b\n",
        "\n",
        "  def plot_model_and_data(m, b):\n",
        "    plt.figure(figsize=(6, 4))\n",
        "    plt.xlabel('Feature 1')\n",
        "    plt.ylabel('Feature 2')\n",
        "    plt.grid(True)\n",
        "    plt.xlim(np.min(samples[:,0])-1, np.max(samples[:,0])+1)\n",
        "    plt.ylim(min(-1, np.min(samples[:,1])-1), np.max(samples[:,1])+1)\n",
        "    plt.axhline(y=0, color='green', linewidth=1, alpha=0.5)\n",
        "    plt.axvline(x=0, color='green', linewidth=1, alpha=0.5)\n",
        "\n",
        "    # Draw the model line\n",
        "    x_values = np.array([np.min(samples[:,0])-1, np.max(samples[:,0])+1])\n",
        "    y_values = m*x_values + b\n",
        "    plt.plot(x_values, y_values, '-r', label=f'y = {m:.2f}x + {b:.2f}')\n",
        "\n",
        "    # Predict labels for the samples based on the current model and\n",
        "    predicted_labels = np.array([predict(m, b, sample) for sample in samples])\n",
        "\n",
        "    # Draw the samples, colored by class\n",
        "    class0 = samples[predicted_labels == 0]\n",
        "    class1 = samples[predicted_labels == 1]\n",
        "    plt.scatter(class0[:, 0], class0[:, 1], c='blue', label='Class 0')\n",
        "    plt.scatter(class1[:, 0], class1[:, 1], c='red', label='Class 1')\n",
        "\n",
        "    plt.legend(loc='best')\n",
        "    plt.show()\n",
        "\n",
        "  out = widgets.interactive_output(plot_model_and_data, {'m': m_slider, 'b': b_slider})\n",
        "  return widgets.VBox([m_slider, b_slider, out])\n",
        "\n",
        "visualize_model(0, 0, samples, labels)"
      ],
      "metadata": {
        "colab": {
          "base_uri": "https://localhost:8080/",
          "height": 452,
          "referenced_widgets": [
            "c4e485f379374e0a8f0b24488f8c6f7d",
            "dfd9373cc6bf4213a4b10b489be1621d",
            "dc8f9787cc0542ff9dd9f8186fc219d3",
            "1e824fd96e044b5fb6b9b1c5a4d4b34a",
            "e7c5f3e1a32346d2875d28db1e6209d8",
            "55af09c29bb94884814f293d70c8ceec",
            "9d19e516a8894808b701645b8afb879a",
            "5eee57b417874be388d731b9039b6ef9",
            "c096f7e2dc74433a9d884489768ccace",
            "6f7b2aef449d4edab0faf3297f9c7b7c"
          ]
        },
        "id": "MO3Knxfvfaaw",
        "outputId": "993c404a-c8f3-4718-92e9-b8bb670cc2ed"
      },
      "execution_count": null,
      "outputs": [
        {
          "output_type": "display_data",
          "data": {
            "text/plain": [
              "VBox(children=(FloatSlider(value=0.0, description='m (slope)', max=4.0, min=-4.0), FloatSlider(value=0.0, desc…"
            ],
            "application/vnd.jupyter.widget-view+json": {
              "version_major": 2,
              "version_minor": 0,
              "model_id": "c4e485f379374e0a8f0b24488f8c6f7d"
            }
          },
          "metadata": {}
        }
      ]
    },
    {
      "cell_type": "markdown",
      "source": [
        "We can manually play with the slope and bias slider, until we find values for our model parameters `m` and `b` that we think produce a line that separates the samples of the 2 classes well, just based on visual inspection.\n",
        "\n",
        "But that's not very precise, nor efficient, nor will we be able to do it for more complex or higher dimensional datasets.\n",
        "\n",
        "Instead, we need an objective measure that tells us how well the model can separate the samples of the two classes via its decision boundary. That is what we use **loss functions** for.\n",
        "\n",
        "The most naive loss function in this case would be to count the number of samples the current model predicts the labels for correctly, divided by the total number of samples. This is the accuracy metric mentioned in the evaluation section above."
      ],
      "metadata": {
        "id": "JMXEKCtbh26u"
      }
    },
    {
      "cell_type": "code",
      "source": [
        "def accuracy(predicted_labels, labels):\n",
        "    correct_predictions = sum(p == l for p, l in zip(predicted_labels, labels))\n",
        "    accuracy = correct_predictions / len(labels)\n",
        "    return accuracy"
      ],
      "metadata": {
        "id": "GKcKvjn3v28W"
      },
      "execution_count": null,
      "outputs": []
    },
    {
      "cell_type": "markdown",
      "source": [
        "To turn it into a loss function, that goes down as more samples are labeled correctly, we need to invert it, that is, subtract the accuracy from 1."
      ],
      "metadata": {
        "id": "cJvHC0Xcv3LM"
      }
    },
    {
      "cell_type": "code",
      "source": [
        "def loss(predicted_labels, labels):\n",
        "    return 1 - accuracy(predicted_labels, labels)"
      ],
      "metadata": {
        "id": "Zg18ywAdppg7"
      },
      "execution_count": null,
      "outputs": []
    },
    {
      "cell_type": "markdown",
      "source": [
        "We can modify our visualization above, to also output the loss each time we change a parameter. This way, we are no longer as dependent on visually judging how well the current model works."
      ],
      "metadata": {
        "id": "8W3ZzSSAoKms"
      }
    },
    {
      "cell_type": "code",
      "source": [
        "def visualize_model(m, b, samples, labels):\n",
        "  m_slider = widgets.FloatSlider(description='m (slope)', min = -4, max=4)\n",
        "  m_slider.value = m\n",
        "  b_slider = widgets.FloatSlider(description='b (bias)', min=0, max=10)\n",
        "  b_slider.value = b\n",
        "  loss_label = widgets.Label(value='Loss: ')\n",
        "  def plot_model_and_data(m, b):\n",
        "    plt.figure(figsize=(6, 4))\n",
        "    plt.xlabel('Feature 1')\n",
        "    plt.ylabel('Feature 2')\n",
        "    plt.grid(True)\n",
        "    plt.xlim(np.min(samples[:,0])-1, np.max(samples[:,0])+1)\n",
        "    plt.ylim(min(-1, np.min(samples[:,1])-1), np.max(samples[:,1])+1)\n",
        "    plt.axhline(y=0, color='green', linewidth=1, alpha=0.5)\n",
        "    plt.axvline(x=0, color='green', linewidth=1, alpha=0.5)\n",
        "\n",
        "    # Draw the model line\n",
        "    x_values = np.array([np.min(samples[:,0])-1, np.max(samples[:,0])+1])\n",
        "    y_values = m*x_values + b\n",
        "    plt.plot(x_values, y_values, '-r', label=f'y = {m:.2f}x + {b:.2f}')\n",
        "\n",
        "    # Predict labels for the samples based on the current model and\n",
        "    predicted_labels = np.array([predict(m, b, sample) for sample in samples])\n",
        "    loss_label.value = f\"Loss: {loss(predicted_labels, labels): .3f}\"\n",
        "\n",
        "    # Draw the samples, colored by class\n",
        "    class0 = samples[predicted_labels == 0]\n",
        "    class1 = samples[predicted_labels == 1]\n",
        "    plt.scatter(class0[:, 0], class0[:, 1], c='blue', label='Class 0')\n",
        "    plt.scatter(class1[:, 0], class1[:, 1], c='red', label='Class 1')\n",
        "\n",
        "    plt.legend(loc='best')\n",
        "    plt.show()\n",
        "\n",
        "  out = widgets.interactive_output(plot_model_and_data, {'m': m_slider, 'b': b_slider})\n",
        "  return widgets.VBox([m_slider, b_slider, loss_label, out])\n",
        "\n",
        "visualize_model(0, 0, samples, labels)"
      ],
      "metadata": {
        "colab": {
          "base_uri": "https://localhost:8080/",
          "height": 484,
          "referenced_widgets": [
            "3c0f875bd54e4eaabc971f3b10a95a8c",
            "32888cdb4586445d8fabf6a4d4b611d0",
            "2296d0b5a7a34a2485dc282285188479",
            "0c8bc293e4ad4c86912e1fb3b1afd3ea",
            "34a19f264430484c981332a748cd5bae",
            "afe2b5be58884cd5ae1c00e4e2a647a9",
            "de4060744d0f487e88afdbc5ce415ce8",
            "b2fba0fee9d54bf89a3fb04dea939d8f",
            "e6f8a03173af41a38e7785952f029b51",
            "e4bdd798d83b40f18dea4447cbb53131",
            "0324ff6230e6471b9735a725812229a4",
            "8d9d5af59b7547d992101506a9559469",
            "5cc82fb531ad4d46909a50dcc7ab999c"
          ]
        },
        "id": "sJD6FoZNoViO",
        "outputId": "57cd2452-461b-45f2-a079-930fcfdcbc8f"
      },
      "execution_count": null,
      "outputs": [
        {
          "output_type": "display_data",
          "data": {
            "text/plain": [
              "VBox(children=(FloatSlider(value=0.0, description='m (slope)', max=4.0, min=-4.0), FloatSlider(value=0.0, desc…"
            ],
            "application/vnd.jupyter.widget-view+json": {
              "version_major": 2,
              "version_minor": 0,
              "model_id": "3c0f875bd54e4eaabc971f3b10a95a8c"
            }
          },
          "metadata": {}
        }
      ]
    },
    {
      "cell_type": "markdown",
      "source": [
        "We can now adjust the slides until the loss becomes (close to) 0, and manually optimize the model parameters.\n",
        "\n",
        "We can also write some naive model training code to do this work for us.\n",
        "\n",
        "### Training\n",
        "Our training algorithm will simulate us randomly adjusting the sliders, thus modifying `m` and `b`, for a couple of iterations. Of course, we won't have the machine interact with a UI.\n",
        "\n",
        "The training algorithm works like this:\n",
        "* **Input**:\n",
        "  * The initial `m` and `b`, we can set them to 0, or initialize them randomly\n",
        "  * The training `samples` and their `labels`\n",
        "  * The `loss_function`to calculate how well the current model parameters work\n",
        "  * The number of `epochs`, which is the number of times we adjust the parameters, and evaluate them on the full training set\n",
        "  * The `learning_rate`, which defines how much we want to adjust the parametess in each epoch\n",
        "* For `epochs` iterations\n",
        "  1. Predict labels for all training samples using these modified model parameters\n",
        "  2. Calculate the loss and store it\n",
        "  2. If the loss is smaller than the previous best loss, record the current model parameters and loss as the best parameters and loss\n",
        "  3. **\"Optimize\"** the best model parameters `m` and `b` so far, by adding a random number between `0-1`, scaled by the `learning_rate`\n",
        "* **Output**: the best model parameters and loss, along with the history of losses"
      ],
      "metadata": {
        "id": "Y1GuqJJxt8ei"
      }
    },
    {
      "cell_type": "code",
      "source": [
        "import random\n",
        "\n",
        "def train(m, b, samples, labels, loss_function, epochs, learning_rate):\n",
        "  min_loss = float('inf')\n",
        "  best_m, best_b = m, b\n",
        "  losses = []\n",
        "\n",
        "  for _ in range(epochs):\n",
        "    # Predict labels with new parameters\n",
        "    predicted_labels = [predict(m, b, sample) for sample in samples]\n",
        "\n",
        "    # Calculate loss and record it\n",
        "    current_loss = loss_function(predicted_labels, labels)\n",
        "    losses.append(current_loss)\n",
        "\n",
        "    # Update best parameters if loss improved\n",
        "    if current_loss < min_loss:\n",
        "      min_loss = current_loss\n",
        "      best_m, best_b = m, b\n",
        "\n",
        "    # Randomly adjust m and b\n",
        "    m_adjust = random.random() * learning_rate\n",
        "    b_adjust = random.random() * learning_rate\n",
        "\n",
        "    m = m + m_adjust\n",
        "    b = b + b_adjust\n",
        "\n",
        "  return best_m, best_b, min_loss, losses"
      ],
      "metadata": {
        "id": "rKHbgHaEuiHa"
      },
      "execution_count": null,
      "outputs": []
    },
    {
      "cell_type": "markdown",
      "source": [
        "We can now train a model based on our data. As is common practice, we split the data into 80% for training (training set), and 20% for evaluation (test set). This is also referred to a **train/test split** of the data.\n",
        "\n"
      ],
      "metadata": {
        "id": "-lBV2ANiuolC"
      }
    },
    {
      "cell_type": "code",
      "source": [
        "from sklearn.model_selection import train_test_split\n",
        "training_samples, test_samples, training_labels, test_labels = train_test_split(samples, labels, test_size=0.2, random_state=7)"
      ],
      "metadata": {
        "id": "vb6hd95ZvFB0"
      },
      "execution_count": null,
      "outputs": []
    },
    {
      "cell_type": "markdown",
      "source": [
        "Now let us train our model, giving it 200 epochs to find good model parameters. The inital `m` and `b`are set to zero. They could also be randomly initialized. The learning rate is set to 1, which means the parameters will be updated by a value between 0 and 1 for each epoch."
      ],
      "metadata": {
        "id": "JLT6I1UFvl-7"
      }
    },
    {
      "cell_type": "code",
      "source": [
        "m, b, best_loss, losses = train(0, 0, training_samples, training_labels, loss, 100, 1)\n",
        "visualize_model(m, b, training_samples, training_labels)"
      ],
      "metadata": {
        "colab": {
          "base_uri": "https://localhost:8080/",
          "height": 484,
          "referenced_widgets": [
            "21090c992e1b4415a00a97de2a5ac913",
            "784e744f60eb489a8bd8bebfb3bf38e9",
            "8823b6ab6f57487a9c78e4a07e5434ab",
            "e5b06ada77554850a23cc17aa0a4f2f1",
            "18492953fc074aafb9d3f281ec96cf49",
            "d2f009e9e4aa4318817b59e140f61625",
            "79b5f6ed6e7548c980f3769902b103ad",
            "4522eedf4b12455195f2087536843cc0",
            "6c01f59cc0664e219e975983a7aff3d1",
            "77b2f58370c84859ab5a3dca4a4f950a",
            "57f48d547a6a49e1987a181afc0a0a0a",
            "4971ce780d834be9a2ecadec64462234",
            "9e4462400ecd469c8f23f7f5ed5e4620"
          ]
        },
        "id": "lU96II4qvgrU",
        "outputId": "7ca19af4-e0fe-4715-fc82-8220c79fa266"
      },
      "execution_count": null,
      "outputs": [
        {
          "output_type": "display_data",
          "data": {
            "text/plain": [
              "VBox(children=(FloatSlider(value=3.5591833314538746, description='m (slope)', max=4.0, min=-4.0), FloatSlider(…"
            ],
            "application/vnd.jupyter.widget-view+json": {
              "version_major": 2,
              "version_minor": 0,
              "model_id": "21090c992e1b4415a00a97de2a5ac913"
            }
          },
          "metadata": {}
        }
      ]
    },
    {
      "cell_type": "markdown",
      "source": [
        "We can also visualize the loss during training"
      ],
      "metadata": {
        "id": "QfPVs5zAFfBn"
      }
    },
    {
      "cell_type": "code",
      "source": [
        "def visualize_loss(losses):\n",
        "  plt.figure(figsize=(10, 6))\n",
        "  plt.plot(losses, marker='o', linestyle='-', color='blue')\n",
        "  plt.title('Training Loss Over Epochs')\n",
        "  plt.xlabel('Epoch')\n",
        "  plt.ylabel('Loss')\n",
        "  plt.grid(True)\n",
        "  plt.show()\n",
        "\n",
        "visualize_loss(losses)"
      ],
      "metadata": {
        "colab": {
          "base_uri": "https://localhost:8080/",
          "height": 564
        },
        "id": "DLkVWuYfFi7G",
        "outputId": "92c08228-d8e4-4ce9-aa09-34de0477f0ab"
      },
      "execution_count": null,
      "outputs": [
        {
          "output_type": "display_data",
          "data": {
            "text/plain": [
              "<Figure size 1000x600 with 1 Axes>"
            ],
            "image/png": "[encoded data removed]"
          },
          "metadata": {}
        }
      ]
    },
    {
      "cell_type": "markdown",
      "source": [
        "The best loss was found after only 8 epochs. The model parameters for that epoch were choosen to be the final model parameters, as subsequent epochs yielded worse loss.\n"
      ],
      "metadata": {
        "id": "A9zgjgwsFr4i"
      }
    },
    {
      "cell_type": "markdown",
      "source": [
        "### Evaluation\n",
        "How does the trained model fare previously unseen data, such as the data in the test set? We can calculate the accuracy of the model for the test set:"
      ],
      "metadata": {
        "id": "J4ns03Zs4xZk"
      }
    },
    {
      "cell_type": "code",
      "source": [
        "accuracy([predict(m, b, sample) for sample in test_samples], test_labels)"
      ],
      "metadata": {
        "colab": {
          "base_uri": "https://localhost:8080/"
        },
        "id": "MR0SqFcA46MF",
        "outputId": "f0290781-f2d9-4888-b6cb-5c3dc6f7df53"
      },
      "execution_count": null,
      "outputs": [
        {
          "output_type": "execute_result",
          "data": {
            "text/plain": [
              "1.0"
            ]
          },
          "metadata": {},
          "execution_count": 45
        }
      ]
    },
    {
      "cell_type": "markdown",
      "source": [
        "A value of `1` means that the model was able to assign a correct label to each sample in the test set. We can also visualize this.\n",
        "\n"
      ],
      "metadata": {
        "id": "4WoCjVlS5Bkk"
      }
    },
    {
      "cell_type": "code",
      "source": [
        "visualize_model(m, b, test_samples, test_labels)"
      ],
      "metadata": {
        "colab": {
          "base_uri": "https://localhost:8080/",
          "height": 484,
          "referenced_widgets": [
            "e6ad6ab12db74c07b4c9448e1b60758c",
            "2d899d03a625453fbdbdcc9ba7f6010b",
            "a330516acb93422a8e87e8e0c457bde8",
            "721e72d1a07e486c967bf43cd36c42f6",
            "277e069f978d42478eff560901f7f328",
            "714781daa590430fa49a554b3153e193",
            "27f2ffd8e9cf41d2927f3dd73f35e7f7",
            "d533b24906444c5d873380e881ccfad7",
            "602cea3ecd6c44e2bbddb99a190d3a21",
            "d6ed71f619694ff5a459c9dcd75a19ce",
            "99e213f9336549a2a9e8afa3f6cb8360",
            "453bbc58f2e34620b637148f5e68a621",
            "e302a933215143a78b1d1815376cf917"
          ]
        },
        "id": "_ImcGEHc5A2H",
        "outputId": "37dd2b01-d479-4ab2-f4e8-b733e596e2cc"
      },
      "execution_count": null,
      "outputs": [
        {
          "output_type": "display_data",
          "data": {
            "text/plain": [
              "VBox(children=(FloatSlider(value=3.5591833314538746, description='m (slope)', max=4.0, min=-4.0), FloatSlider(…"
            ],
            "application/vnd.jupyter.widget-view+json": {
              "version_major": 2,
              "version_minor": 0,
              "model_id": "e6ad6ab12db74c07b4c9448e1b60758c"
            }
          },
          "metadata": {}
        }
      ]
    },
    {
      "cell_type": "markdown",
      "source": [
        "Based on this evaluation, it appears that the model generalizes well.\n",
        "\n",
        "However, as stated earlier, this model has severe deficiencies. Let us analyze them.\n",
        "\n",
        "To begin with, let us swap the labels for each sample. That is, `0` becomes `1` and `1` becomes `0`."
      ],
      "metadata": {
        "id": "R1PJY6DX59tu"
      }
    },
    {
      "cell_type": "code",
      "source": [
        "swapped_labels = np.array([1 if label == 0 else 0 for label in labels])"
      ],
      "metadata": {
        "id": "m0lbK1YRELIV"
      },
      "execution_count": null,
      "outputs": []
    },
    {
      "cell_type": "markdown",
      "source": [
        "The samples stayed the same, only the labels changed, indicated by the swapped colors of the samples in this plot:"
      ],
      "metadata": {
        "id": "4n4NuuRKEmNJ"
      }
    },
    {
      "cell_type": "code",
      "source": [
        "visualize_data(samples, swapped_labels)"
      ],
      "metadata": {
        "colab": {
          "base_uri": "https://localhost:8080/",
          "height": 410
        },
        "id": "DQsEiQGnEkpK",
        "outputId": "501d170a-bdd6-4f08-9fa2-0a1b22335ebe"
      },
      "execution_count": null,
      "outputs": [
        {
          "output_type": "display_data",
          "data": {
            "text/plain": [
              "<Figure size 600x400 with 1 Axes>"
            ],
            "image/png": "[encoded data removed]"
          },
          "metadata": {}
        }
      ]
    },
    {
      "cell_type": "markdown",
      "source": [
        "We can train a new model on this dataset. We'd expect it to arrive at the same or a similar set of model parameters."
      ],
      "metadata": {
        "id": "T1qNdT4kE5Fu"
      }
    },
    {
      "cell_type": "code",
      "source": [
        "m, b, best_loss, losses = train(0, 0, samples, swapped_labels, loss, 100, 1)\n",
        "visualize_model(m, b, training_samples, training_labels)"
      ],
      "metadata": {
        "colab": {
          "base_uri": "https://localhost:8080/",
          "height": 484,
          "referenced_widgets": [
            "439d35e4d38d4e9bbb89082fa63c74df",
            "22ebd7cee94d4a3a8d473ca7976238a9",
            "97603c31ab5443dc8d7dea5cfb64b1b3",
            "6f505b47176a42578a60556ccd37c875",
            "37a7d3e7e5a348b89a2ae32eb34f25b1",
            "5229d10021b342f591853c8b13c388c7",
            "5b6b401ab3ea4b4c9417647a2c672b48",
            "2f589a28726140ce9f85f4b523e1ae75",
            "159474f6751449c7a56b82a8d51a5d15",
            "75cdc39da6a040f5afc29828fee02f6b",
            "4352762c87254ce38717070dd3332d0a",
            "50c8c997a21d43ada3a9d1f3b629920d",
            "f22f6e1f30d940d8b06851fb5a9c0ba3"
          ]
        },
        "id": "2T8TaVIJEMuL",
        "outputId": "f76be1a3-1549-42d4-a420-bcfe3622a31a"
      },
      "execution_count": null,
      "outputs": [
        {
          "output_type": "display_data",
          "data": {
            "text/plain": [
              "VBox(children=(FloatSlider(value=0.0, description='m (slope)', max=4.0, min=-4.0), FloatSlider(value=0.0, desc…"
            ],
            "application/vnd.jupyter.widget-view+json": {
              "version_major": 2,
              "version_minor": 0,
              "model_id": "439d35e4d38d4e9bbb89082fa63c74df"
            }
          },
          "metadata": {}
        }
      ]
    },
    {
      "cell_type": "code",
      "source": [
        "visualize_loss(losses)"
      ],
      "metadata": {
        "colab": {
          "base_uri": "https://localhost:8080/",
          "height": 564
        },
        "id": "4WXe7V8AT3gO",
        "outputId": "d361c773-be95-412c-c2fc-04ade01f1dd1"
      },
      "execution_count": null,
      "outputs": [
        {
          "output_type": "display_data",
          "data": {
            "text/plain": [
              "<Figure size 1000x600 with 1 Axes>"
            ],
            "image/png": "[encoded data removed]"
          },
          "metadata": {}
        }
      ]
    },
    {
      "cell_type": "markdown",
      "source": [
        "However, it clearly fails to do so. In fact, the training loss increases.\n",
        "\n",
        "The problem lies with our simplicist `predict` function. It will always assign class `0` to points above the decision boundary, and class `1` to points below the boundary.\n",
        "\n",
        "However, in the training dataset, the classes are swapped, and the samples of class `1` are always above the decision boundary. The model will thus always assign the wrong label to those samples, and is unable to make any meaningful progress.\n",
        "\n",
        "This model this has **inherent limitations**: it can only be used for:\n",
        "1. Data that can be classified into one of two classes\n",
        "2. Data that is two dimensional\n",
        "3. Data, where the samples with label `0` are assumed to be above the model's decision boundary, and samples with label `1` are assumed to be below the decision boundary.\n",
        "\n",
        "While these limitations are extreme, similar limitations may crop up in real-world applications when using much more complex models. However, as in the case above, these limitations might not be apparent during development, as the training and test set might not allow us to identify such issues."
      ],
      "metadata": {
        "id": "VZyn0rKtIFrq"
      }
    },
    {
      "cell_type": "markdown",
      "source": [
        "## A binary linear neural network classifier\n",
        "Let's create a better, more realistic classifier. All the same principles will apply.\n",
        "\n",
        "As a model, we will use a [fully connected linear feedforward neural network](https://en.wikipedia.org/wiki/Feedforward_neural_network), with 2 input neurons (one for each input feature) and 2 output neurons (one for each class). We will train the model using a stochastic gradient descent optimizer with [cross-entropy loss function](https://ml-cheatsheet.readthedocs.io/en/latest/loss_functions.html#toc-entry-1). We do not care about the mathematical intricacies here. Instead we want to focus on the general \"workflow\" of training and evaluating a supervised machine learning model.\n",
        "\n",
        "> **Note:** In practical applications, we may often also not care much for the internals of a model and simply treat it as a parameterized black box that takes some input and generates some output. We also need to understand the limitations of a model to successfully apply it to a task. This too does not necessarily require us to understand the internals of the model either. All that said, a deeper understanding of iternal mechanics is always beneficial.\n",
        "\n",
        "We will be using [PyTorch](https://pytorch.org/), a machine learning framework, to train and evalute the model. We will reuse the training set and test set data we generated above for comparison."
      ],
      "metadata": {
        "id": "GEVec5MYVZyX"
      }
    },
    {
      "cell_type": "code",
      "source": [
        "import torch\n",
        "import torch.nn as nn\n",
        "import torch.nn.functional as F\n",
        "from torch.optim import SGD\n",
        "from torch.utils.data import DataLoader, TensorDataset"
      ],
      "metadata": {
        "id": "f78jiRR6Ivcw"
      },
      "execution_count": null,
      "outputs": []
    },
    {
      "cell_type": "markdown",
      "source": [
        "### Data\n",
        "\n",
        "As a first step, we need to convert our sample and label data to [PyTorch tensors](https://pytorch.org/tutorials/beginner/introyt/tensors_deeper_tutorial.html). These are optimized data structures to store vectors (lists of numbers), matrices (two dimensional arrays of number), or more generally tensors. They also allow us to push the data to GPUs or TPUs for faster processing.\n",
        "\n",
        "\n",
        "\n"
      ],
      "metadata": {
        "id": "nWJxJub_AR_-"
      }
    },
    {
      "cell_type": "code",
      "source": [
        "training_samples_torch = torch.tensor(training_samples, dtype=torch.float)\n",
        "training_labels_torch = torch.tensor(training_labels, dtype=torch.long)\n",
        "test_samples_torch = torch.tensor(test_samples, dtype=torch.float)"
      ],
      "metadata": {
        "id": "jy0P-yIfA7cA"
      },
      "execution_count": null,
      "outputs": []
    },
    {
      "cell_type": "markdown",
      "source": [
        "Next, we create [PyTorch data sets](https://pytorch.org/tutorials/beginner/basics/data_tutorial.html). Data sets wrap our samples and labels and make them easier to handle."
      ],
      "metadata": {
        "id": "LndVijYZONoi"
      }
    },
    {
      "cell_type": "code",
      "source": [
        "training_set_torch = TensorDataset(training_samples_torch, training_labels_torch)"
      ],
      "metadata": {
        "id": "2ZzDi0gCOOA9"
      },
      "execution_count": null,
      "outputs": []
    },
    {
      "cell_type": "markdown",
      "source": [
        "### Model\n",
        "\n",
        "Next, we define our linear feedfoward neural network using Torch's [`Linear`](https://pytorch.org/docs/stable/generated/torch.nn.Linear.html) class. The first parameter specifies the number of input features. The second parameter defines the number of classes."
      ],
      "metadata": {
        "id": "cs1WHEgRBigz"
      }
    },
    {
      "cell_type": "code",
      "source": [
        "nn_model = nn.Linear(2, 2)\n",
        "nn_model"
      ],
      "metadata": {
        "id": "9EXMXVCvPPOu",
        "colab": {
          "base_uri": "https://localhost:8080/"
        },
        "outputId": "1c1315ab-3baa-48d0-a7b6-661bb0fa178d"
      },
      "execution_count": null,
      "outputs": [
        {
          "output_type": "execute_result",
          "data": {
            "text/plain": [
              "Linear(in_features=2, out_features=2, bias=True)"
            ]
          },
          "metadata": {},
          "execution_count": 54
        }
      ]
    },
    {
      "cell_type": "markdown",
      "source": [
        "We also need a function to make predictions for a new sample. The function `predict_nn` takes a model and one or more samples, where each sample is a tensor with the same number of features that the model was configured with.\n",
        "\n",
        "It then uses the model to make a prediction. The prediction isn't the class to be assigned to the sample directly, but a list of probabilities, one for each class. We return the class with the highest probability.\n",
        "\n",
        "> **Note:** passing only a simple sample to the model for prediction is not very efficient, especially if we perform inference on a GPU or TPU. The function thus expects an array of sample tensors, and returns an array of labels"
      ],
      "metadata": {
        "id": "b0dvApDkd5E6"
      }
    },
    {
      "cell_type": "code",
      "source": [
        "def predict_nn(model, samples):\n",
        "    with torch.no_grad():  # Disable gradient computation for inference\n",
        "        logits = model(samples)\n",
        "        _, predictions = torch.max(logits, dim=1)\n",
        "    return predictions"
      ],
      "metadata": {
        "id": "xzakOm5Yd_o8"
      },
      "execution_count": null,
      "outputs": []
    },
    {
      "cell_type": "markdown",
      "source": [
        "### Training\n",
        "For training, we use Torch's [stochastic gradient descent optimizer](https://pytorch.org/docs/stable/generated/torch.optim.SGD.html), which will adjust the models parameters during training based on the gradients generated by an instance of Torch's [Cross-Entropy loss](https://pytorch.org/docs/stable/generated/torch.nn.CrossEntropyLoss.html) class. To iterate over the training set, we'll use Torch's [DataLoader](https://pytorch.org/tutorials/beginner/basics/data_tutorial.html) class. It cuts up the training data into batches of a specific size, which we then present to the model for prediction. This batching mechanism is needed by many models, be it because the full training set does not fit into working memory, because the model can only deal with a maximum number of samples at a time, or because the model will generalize better when optimized per batch, instead of the full training set.\n",
        "\n",
        "The training loop conceptually works very similar to our naive training procedure above:\n",
        "\n",
        "* For each epoch, we iterate through the training set one batch at a time (`batch_size=10`).\n",
        "  * For each batch we:\n",
        "    1. Reset the gradients in the optimizer\n",
        "    2. Get a prediction for each training sample in the batch\n",
        "    3. Calculate the loss by comparing the predicted labels with the expected labels\n",
        "    4. Perform back propagation to calculate new gradients\n",
        "    5. Use the gradients to update the parameters of the neural network via the optimizer\n",
        "\n",
        "We also keep track of the average training loss for each epoch. Let's put all this into a new training function called `train_nn`:"
      ],
      "metadata": {
        "id": "S0f-Cv56YtE5"
      }
    },
    {
      "cell_type": "code",
      "source": [
        "def train_nn(model, training_set, epochs, learning_rate=0.01):\n",
        "  optimizer = SGD(model.parameters(), lr=learning_rate)\n",
        "  loss_function = nn.CrossEntropyLoss()\n",
        "  training_loader = DataLoader(training_set, batch_size=10, shuffle=True)\n",
        "  losses = []\n",
        "\n",
        "  for epoch in range(epochs):\n",
        "    total_loss = 0.0\n",
        "\n",
        "    for samples, labels in training_loader:\n",
        "      optimizer.zero_grad()\n",
        "      outputs = model(samples)\n",
        "      loss = loss_function(outputs, labels)\n",
        "      loss.backward()\n",
        "      optimizer.step()\n",
        "      total_loss += loss.item()\n",
        "\n",
        "    average_loss = total_loss / len(training_loader)\n",
        "    losses.append(average_loss)\n",
        "\n",
        "  return losses"
      ],
      "metadata": {
        "id": "91x7125JYzeD"
      },
      "execution_count": null,
      "outputs": []
    },
    {
      "cell_type": "markdown",
      "source": [
        "Let's train the model:"
      ],
      "metadata": {
        "id": "AMdMxPLMcnxP"
      }
    },
    {
      "cell_type": "code",
      "source": [
        "losses = train_nn(nn_model, training_set_torch, 500, 0.01)\n",
        "visualize_loss(losses)"
      ],
      "metadata": {
        "colab": {
          "base_uri": "https://localhost:8080/",
          "height": 564
        },
        "id": "y2dQJmCicqAu",
        "outputId": "9e6b5281-80d8-4a84-f2fe-8da650791f70"
      },
      "execution_count": null,
      "outputs": [
        {
          "output_type": "display_data",
          "data": {
            "text/plain": [
              "<Figure size 1000x600 with 1 Axes>"
            ],
            "image/png": "[encoded data removed]"
          },
          "metadata": {}
        }
      ]
    },
    {
      "cell_type": "markdown",
      "source": [
        "The model converged more or less quickly at around epoch 50. Subsequent improvements were not big in terms of training loss. As such, we could have stopped training earlier.\n",
        "\n",
        "We can also calculate the accuracy of the model on the training set."
      ],
      "metadata": {
        "id": "V0MunxUXFP2v"
      }
    },
    {
      "cell_type": "code",
      "source": [
        "nn_model.eval()\n",
        "with torch.no_grad():\n",
        "    predicted_labels = predict_nn(nn_model, training_samples_torch)\n",
        "    print(f\"Accuracy: {accuracy(predicted_labels, training_labels)}\")"
      ],
      "metadata": {
        "colab": {
          "base_uri": "https://localhost:8080/"
        },
        "id": "GnzZAzElltQ5",
        "outputId": "47b512a5-0105-46e3-d810-553ae367ee83"
      },
      "execution_count": null,
      "outputs": [
        {
          "output_type": "stream",
          "name": "stdout",
          "text": [
            "Accuracy: 0.987500011920929\n"
          ]
        }
      ]
    },
    {
      "cell_type": "markdown",
      "source": [
        "The model could not achieve 100% accuracy on the training set, despite it being easily linearly separable. Let's investigate."
      ],
      "metadata": {
        "id": "35ogCB_nl6Sj"
      }
    },
    {
      "cell_type": "markdown",
      "source": [
        "### Evaluation\n",
        "We can now evaluate how the model behaves on unseen data and whether it generalizes.\n",
        "\n",
        "To do so, we switch the model to evaluation mode and disable the calculation of gradients, which are only necessary for training. This makes computation more efficient and reduces memory usage.\n",
        "\n",
        "We then predict the label of each test sample and calculate the accuracy accordingly.\n",
        "\n",
        "We can also calculate the model's accuracy on the training set:"
      ],
      "metadata": {
        "id": "MlwnVyx2ltm_"
      }
    },
    {
      "cell_type": "code",
      "source": [
        "nn_model.eval()\n",
        "with torch.no_grad():\n",
        "    predicted_labels = predict_nn(nn_model, test_samples_torch)\n",
        "    print(f\"Accuracy: {accuracy(predicted_labels, test_labels)}\")"
      ],
      "metadata": {
        "colab": {
          "base_uri": "https://localhost:8080/"
        },
        "id": "u_KAPFfcFZuO",
        "outputId": "4f3c9b2b-4be5-431c-818b-dac57af082a6"
      },
      "execution_count": null,
      "outputs": [
        {
          "output_type": "stream",
          "name": "stdout",
          "text": [
            "Accuracy: 1.0\n"
          ]
        }
      ]
    },
    {
      "cell_type": "markdown",
      "source": [
        "As before, we can also visualize the labels the model assigned to the test data graphically. We can also visualize the models decision boundary by generating a grid of points, predicting labels for them, and using a contour plot to color the background of the visualization."
      ],
      "metadata": {
        "id": "OZ2tdmvrjOkO"
      }
    },
    {
      "cell_type": "code",
      "source": [
        "def visualize_model_nn(model, test_samples, test_labels):\n",
        "    # Create a mesh to plot the decision boundaries\n",
        "    x_min, x_max = test_samples[:, 0].min() - 1, test_samples[:, 0].max() + 1\n",
        "    y_min, y_max = test_samples[:, 1].min() - 1, test_samples[:, 1].max() + 1\n",
        "    xx, yy = np.meshgrid(np.arange(x_min, x_max, 0.01),\n",
        "                         np.arange(y_min, y_max, 0.01))\n",
        "\n",
        "    # Predict on the mesh grid\n",
        "    mesh_samples = torch.Tensor(np.c_[xx.ravel(), yy.ravel()])\n",
        "    mesh_predictions = predict_nn(model, mesh_samples).reshape(xx.shape)\n",
        "\n",
        "    # Plot the decision boundary\n",
        "    plt.contourf(xx, yy, mesh_predictions, alpha=0.5, cmap='coolwarm')\n",
        "\n",
        "    # Scatter plot the test data\n",
        "    scatter = plt.scatter(test_samples[:, 0], test_samples[:, 1], c=test_labels, cmap='coolwarm', edgecolor='k', s=20)\n",
        "    plt.title('Test Data and Decision Boundary')\n",
        "    plt.xlabel('Feature 1')\n",
        "    plt.ylabel('Feature 2')\n",
        "    legend = plt.legend(*scatter.legend_elements(), title=\"Classes\")\n",
        "    plt.gca().add_artist(legend)\n",
        "    plt.show()\n",
        "visualize_model_nn(nn_model, test_samples, test_labels)"
      ],
      "metadata": {
        "colab": {
          "base_uri": "https://localhost:8080/",
          "height": 472
        },
        "id": "P45hkKZ3jnZb",
        "outputId": "75594f2d-4a0f-4437-c6b8-220b3c24c483"
      },
      "execution_count": null,
      "outputs": [
        {
          "output_type": "display_data",
          "data": {
            "text/plain": [
              "<Figure size 640x480 with 1 Axes>"
            ],
            "image/png": "[encoded data removed]"
          },
          "metadata": {}
        }
      ]
    },
    {
      "cell_type": "markdown",
      "source": [
        "We can now also visualize the models output for the training set a little better, and see, that it was unable to classify one sample from class `1` correctly."
      ],
      "metadata": {
        "id": "p4iO2Hkgla79"
      }
    },
    {
      "cell_type": "code",
      "source": [
        "visualize_model_nn(nn_model, training_samples, training_labels)"
      ],
      "metadata": {
        "colab": {
          "base_uri": "https://localhost:8080/",
          "height": 472
        },
        "id": "tac_Dysokbqg",
        "outputId": "216ef1a0-0106-488e-8578-4edc0ea28005"
      },
      "execution_count": null,
      "outputs": [
        {
          "output_type": "display_data",
          "data": {
            "text/plain": [
              "<Figure size 640x480 with 1 Axes>"
            ],
            "image/png": "[encoded data removed]"
          },
          "metadata": {}
        }
      ]
    },
    {
      "cell_type": "markdown",
      "source": [
        "Ideally, the decision boundary would be located such that the samples of each class are as far away from it as possible. This would yield better generalization, and also fix the one misclassified sample of class `1` in the training set.\n",
        "\n",
        "We can try to more complex neural network model."
      ],
      "metadata": {
        "id": "MtdGsO6ynx72"
      }
    },
    {
      "cell_type": "markdown",
      "source": [
        "## A (not so) deep neural network classifier\n",
        "Creating a more complex neural network is very simple with Torch. Let's create a neural network architecture that has:\n",
        "\n",
        "1. A linear layer with 2 inputs and 64 outputs\n",
        "2. Another linear layer with 64 inputs and 64 outputs\n",
        "3. A final layer with 64 inputs and 2 outputs\n",
        "\n",
        "The first layer's input size is equal to the number of features of our samples. The last layer's output size is equal to the number of classes. The additional hidden layer gives the model more \"degrees of freedom\" when it learns how the data is shaped.\n",
        "\n",
        "We also need to decide on an activation function, that is, a function that is used to calculate a value based on the weighted inputs to a neuron. A common choice is the [ReLU](https://en.wikipedia.org/wiki/Rectifier_(neural_networks)) function.\n",
        "\n",
        "Here's how we can define and instantiate this model:"
      ],
      "metadata": {
        "id": "wbhUKv_HoQEY"
      }
    },
    {
      "cell_type": "code",
      "source": [
        "class SimpleDeepNet(nn.Module):\n",
        "  def __init__(self, input_size=2, hidden_size=64, output_size=2):\n",
        "    super(SimpleDeepNet, self).__init__()\n",
        "    self.fc1 = nn.Linear(input_size, hidden_size)  # Input to hidden layer\n",
        "    self.fc2 = nn.Linear(hidden_size, output_size)  # Hidden to output layer\n",
        "\n",
        "  def forward(self, x):\n",
        "    x = F.relu(self.fc1(x))  # Activation function for hidden layer\n",
        "    x = self.fc2(x)  # No activation here if using CrossEntropyLoss\n",
        "    return x\n",
        "\n",
        "deepish_nn_model = SimpleDeepNet(2, 64, 2)"
      ],
      "metadata": {
        "id": "eiGJnDlQoxqF"
      },
      "execution_count": null,
      "outputs": []
    },
    {
      "cell_type": "markdown",
      "source": [
        "Next we can train the model as before."
      ],
      "metadata": {
        "id": "-0IeTC2kpa0s"
      }
    },
    {
      "cell_type": "code",
      "source": [
        "losses = train_nn(deepish_nn_model, training_set_torch, 500, 0.01)\n",
        "visualize_loss(losses)"
      ],
      "metadata": {
        "colab": {
          "base_uri": "https://localhost:8080/",
          "height": 564
        },
        "id": "dDhxn6UWnxnc",
        "outputId": "bde0131d-ba5e-4bdd-e0c4-acee17cd59dd"
      },
      "execution_count": null,
      "outputs": [
        {
          "output_type": "display_data",
          "data": {
            "text/plain": [
              "<Figure size 1000x600 with 1 Axes>"
            ],
            "image/png": "[encoded data removed]"
          },
          "metadata": {}
        }
      ]
    },
    {
      "cell_type": "markdown",
      "source": [
        "What is the model's accuracy on the training set?"
      ],
      "metadata": {
        "id": "RQQovh1Fp9Q5"
      }
    },
    {
      "cell_type": "code",
      "source": [
        "deepish_nn_model.eval()\n",
        "with torch.no_grad():\n",
        "    predicted_labels = predict_nn(deepish_nn_model, training_samples_torch)\n",
        "    print(f\"Accuracy: {accuracy(predicted_labels, training_labels)}\")"
      ],
      "metadata": {
        "colab": {
          "base_uri": "https://localhost:8080/"
        },
        "id": "II2KSlZnqBuO",
        "outputId": "98b35b7d-f103-41b0-ad26-569bfb6012b1"
      },
      "execution_count": null,
      "outputs": [
        {
          "output_type": "stream",
          "name": "stdout",
          "text": [
            "Accuracy: 1.0\n"
          ]
        }
      ]
    },
    {
      "cell_type": "markdown",
      "source": [
        "Looks like it got it perfectly. Let's see how it does on previously unseen samples from the test set."
      ],
      "metadata": {
        "id": "HOl0gVGuqFkI"
      }
    },
    {
      "cell_type": "code",
      "source": [
        "with torch.no_grad():\n",
        "    predicted_labels = predict_nn(deepish_nn_model, test_samples_torch)\n",
        "    print(f\"Accuracy: {accuracy(predicted_labels, test_labels)}\")"
      ],
      "metadata": {
        "colab": {
          "base_uri": "https://localhost:8080/"
        },
        "id": "cnHVSY_fqLS5",
        "outputId": "c0f808c4-6309-49f4-970e-d88298f28625"
      },
      "execution_count": null,
      "outputs": [
        {
          "output_type": "stream",
          "name": "stdout",
          "text": [
            "Accuracy: 1.0\n"
          ]
        }
      ]
    },
    {
      "cell_type": "markdown",
      "source": [
        "And finally, let's have a look at the decision boundary it learned."
      ],
      "metadata": {
        "id": "tsigZ8DGqPqf"
      }
    },
    {
      "cell_type": "code",
      "source": [
        "visualize_model_nn(deepish_nn_model, training_samples, training_labels)"
      ],
      "metadata": {
        "colab": {
          "base_uri": "https://localhost:8080/",
          "height": 472
        },
        "id": "iBetsv8DqTyA",
        "outputId": "76a62450-19ec-43a6-fdf7-ebf2956b39ac"
      },
      "execution_count": null,
      "outputs": [
        {
          "output_type": "display_data",
          "data": {
            "text/plain": [
              "<Figure size 640x480 with 1 Axes>"
            ],
            "image/png": "[encoded data removed]"
          },
          "metadata": {}
        }
      ]
    },
    {
      "cell_type": "markdown",
      "source": [
        "As we can see, the decision boundary is no longer just a straight line. Due to the model's hidden layer, it is able to learn non-linear decision boundaries, thereby better modelling the training data, and hopefully, the true data distribution.\n",
        "\n",
        "Also note, how we could re-use all our previous code for training, evaluation, and visualization. Modern machine learning is quite modular, and many concepts and mechanisms like loss function, optimizer, or evaluation metrics transfer nicely between machine learning models.\n",
        "\n",
        "It also enables us to combine multiple models to form a single model, to build even more powerful machine learning applications."
      ],
      "metadata": {
        "id": "C5esY6L5qgvs"
      }
    }
  ]
}