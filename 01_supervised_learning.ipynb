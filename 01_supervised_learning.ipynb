{
  "nbformat": 4,
  "nbformat_minor": 0,
  "metadata": {
    "colab": {
      "provenance": [],
      "toc_visible": true,
      "authorship_tag": "ABX9TyOlRHmsa1fWX3xtVzzzYc4M",
      "include_colab_link": true
    },
    "kernelspec": {
      "name": "python3",
      "display_name": "Python 3"
    },
    "language_info": {
      "name": "python"
    },
    "widgets": {
      "application/vnd.jupyter.widget-state+json": {
        "1947d7eb657c46069de4dc06be1831e2": {
          "model_module": "@jupyter-widgets/controls",
          "model_name": "VBoxModel",
          "model_module_version": "1.5.0",
          "state": {
            "_dom_classes": [],
            "_model_module": "@jupyter-widgets/controls",
            "_model_module_version": "1.5.0",
            "_model_name": "VBoxModel",
            "_view_count": null,
            "_view_module": "@jupyter-widgets/controls",
            "_view_module_version": "1.5.0",
            "_view_name": "VBoxView",
            "box_style": "",
            "children": [
              "IPY_MODEL_a7d5372baeaf40dab7f1cf5593894285",
              "IPY_MODEL_de10cad6b52a42f9b5cfd808e5ad3711",
              "IPY_MODEL_0a9823b7ecac42c2a4a9c5c7aedb0908"
            ],
            "layout": "IPY_MODEL_3bf3cabbfdbf43c69591939917c156c4"
          }
        },
        "a7d5372baeaf40dab7f1cf5593894285": {
          "model_module": "@jupyter-widgets/controls",
          "model_name": "FloatSliderModel",
          "model_module_version": "1.5.0",
          "state": {
            "_dom_classes": [],
            "_model_module": "@jupyter-widgets/controls",
            "_model_module_version": "1.5.0",
            "_model_name": "FloatSliderModel",
            "_view_count": null,
            "_view_module": "@jupyter-widgets/controls",
            "_view_module_version": "1.5.0",
            "_view_name": "FloatSliderView",
            "continuous_update": true,
            "description": "m (slope)",
            "description_tooltip": null,
            "disabled": false,
            "layout": "IPY_MODEL_0333a6b041e146e39793f21b5421fc41",
            "max": 4,
            "min": -4,
            "orientation": "horizontal",
            "readout": true,
            "readout_format": ".2f",
            "step": 0.1,
            "style": "IPY_MODEL_ec9b20419a884888bb7b876dacfa7e9a",
            "value": 0
          }
        },
        "de10cad6b52a42f9b5cfd808e5ad3711": {
          "model_module": "@jupyter-widgets/controls",
          "model_name": "FloatSliderModel",
          "model_module_version": "1.5.0",
          "state": {
            "_dom_classes": [],
            "_model_module": "@jupyter-widgets/controls",
            "_model_module_version": "1.5.0",
            "_model_name": "FloatSliderModel",
            "_view_count": null,
            "_view_module": "@jupyter-widgets/controls",
            "_view_module_version": "1.5.0",
            "_view_name": "FloatSliderView",
            "continuous_update": true,
            "description": "b (bias)",
            "description_tooltip": null,
            "disabled": false,
            "layout": "IPY_MODEL_a04938499547475dbff8a9246b095fe3",
            "max": 10,
            "min": 0,
            "orientation": "horizontal",
            "readout": true,
            "readout_format": ".2f",
            "step": 0.1,
            "style": "IPY_MODEL_d443ecf3317b458d811792bd33b8905c",
            "value": 0
          }
        },
        "0a9823b7ecac42c2a4a9c5c7aedb0908": {
          "model_module": "@jupyter-widgets/output",
          "model_name": "OutputModel",
          "model_module_version": "1.0.0",
          "state": {
            "_dom_classes": [],
            "_model_module": "@jupyter-widgets/output",
            "_model_module_version": "1.0.0",
            "_model_name": "OutputModel",
            "_view_count": null,
            "_view_module": "@jupyter-widgets/output",
            "_view_module_version": "1.0.0",
            "_view_name": "OutputView",
            "layout": "IPY_MODEL_b9d4b9fdbd7f41c9a47c1f272dbe7636",
            "msg_id": "",
            "outputs": [
              {
                "output_type": "display_data",
                "data": {
                  "text/plain": "<Figure size 600x400 with 1 Axes>",
                  "image/png": "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\n"
                },
                "metadata": {}
              }
            ]
          }
        },
        "3bf3cabbfdbf43c69591939917c156c4": {
          "model_module": "@jupyter-widgets/base",
          "model_name": "LayoutModel",
          "model_module_version": "1.2.0",
          "state": {
            "_model_module": "@jupyter-widgets/base",
            "_model_module_version": "1.2.0",
            "_model_name": "LayoutModel",
            "_view_count": null,
            "_view_module": "@jupyter-widgets/base",
            "_view_module_version": "1.2.0",
            "_view_name": "LayoutView",
            "align_content": null,
            "align_items": null,
            "align_self": null,
            "border": null,
            "bottom": null,
            "display": null,
            "flex": null,
            "flex_flow": null,
            "grid_area": null,
            "grid_auto_columns": null,
            "grid_auto_flow": null,
            "grid_auto_rows": null,
            "grid_column": null,
            "grid_gap": null,
            "grid_row": null,
            "grid_template_areas": null,
            "grid_template_columns": null,
            "grid_template_rows": null,
            "height": null,
            "justify_content": null,
            "justify_items": null,
            "left": null,
            "margin": null,
            "max_height": null,
            "max_width": null,
            "min_height": null,
            "min_width": null,
            "object_fit": null,
            "object_position": null,
            "order": null,
            "overflow": null,
            "overflow_x": null,
            "overflow_y": null,
            "padding": null,
            "right": null,
            "top": null,
            "visibility": null,
            "width": null
          }
        },
        "0333a6b041e146e39793f21b5421fc41": {
          "model_module": "@jupyter-widgets/base",
          "model_name": "LayoutModel",
          "model_module_version": "1.2.0",
          "state": {
            "_model_module": "@jupyter-widgets/base",
            "_model_module_version": "1.2.0",
            "_model_name": "LayoutModel",
            "_view_count": null,
            "_view_module": "@jupyter-widgets/base",
            "_view_module_version": "1.2.0",
            "_view_name": "LayoutView",
            "align_content": null,
            "align_items": null,
            "align_self": null,
            "border": null,
            "bottom": null,
            "display": null,
            "flex": null,
            "flex_flow": null,
            "grid_area": null,
            "grid_auto_columns": null,
            "grid_auto_flow": null,
            "grid_auto_rows": null,
            "grid_column": null,
            "grid_gap": null,
            "grid_row": null,
            "grid_template_areas": null,
            "grid_template_columns": null,
            "grid_template_rows": null,
            "height": null,
            "justify_content": null,
            "justify_items": null,
            "left": null,
            "margin": null,
            "max_height": null,
            "max_width": null,
            "min_height": null,
            "min_width": null,
            "object_fit": null,
            "object_position": null,
            "order": null,
            "overflow": null,
            "overflow_x": null,
            "overflow_y": null,
            "padding": null,
            "right": null,
            "top": null,
            "visibility": null,
            "width": null
          }
        },
        "ec9b20419a884888bb7b876dacfa7e9a": {
          "model_module": "@jupyter-widgets/controls",
          "model_name": "SliderStyleModel",
          "model_module_version": "1.5.0",
          "state": {
            "_model_module": "@jupyter-widgets/controls",
            "_model_module_version": "1.5.0",
            "_model_name": "SliderStyleModel",
            "_view_count": null,
            "_view_module": "@jupyter-widgets/base",
            "_view_module_version": "1.2.0",
            "_view_name": "StyleView",
            "description_width": "",
            "handle_color": null
          }
        },
        "a04938499547475dbff8a9246b095fe3": {
          "model_module": "@jupyter-widgets/base",
          "model_name": "LayoutModel",
          "model_module_version": "1.2.0",
          "state": {
            "_model_module": "@jupyter-widgets/base",
            "_model_module_version": "1.2.0",
            "_model_name": "LayoutModel",
            "_view_count": null,
            "_view_module": "@jupyter-widgets/base",
            "_view_module_version": "1.2.0",
            "_view_name": "LayoutView",
            "align_content": null,
            "align_items": null,
            "align_self": null,
            "border": null,
            "bottom": null,
            "display": null,
            "flex": null,
            "flex_flow": null,
            "grid_area": null,
            "grid_auto_columns": null,
            "grid_auto_flow": null,
            "grid_auto_rows": null,
            "grid_column": null,
            "grid_gap": null,
            "grid_row": null,
            "grid_template_areas": null,
            "grid_template_columns": null,
            "grid_template_rows": null,
            "height": null,
            "justify_content": null,
            "justify_items": null,
            "left": null,
            "margin": null,
            "max_height": null,
            "max_width": null,
            "min_height": null,
            "min_width": null,
            "object_fit": null,
            "object_position": null,
            "order": null,
            "overflow": null,
            "overflow_x": null,
            "overflow_y": null,
            "padding": null,
            "right": null,
            "top": null,
            "visibility": null,
            "width": null
          }
        },
        "d443ecf3317b458d811792bd33b8905c": {
          "model_module": "@jupyter-widgets/controls",
          "model_name": "SliderStyleModel",
          "model_module_version": "1.5.0",
          "state": {
            "_model_module": "@jupyter-widgets/controls",
            "_model_module_version": "1.5.0",
            "_model_name": "SliderStyleModel",
            "_view_count": null,
            "_view_module": "@jupyter-widgets/base",
            "_view_module_version": "1.2.0",
            "_view_name": "StyleView",
            "description_width": "",
            "handle_color": null
          }
        },
        "b9d4b9fdbd7f41c9a47c1f272dbe7636": {
          "model_module": "@jupyter-widgets/base",
          "model_name": "LayoutModel",
          "model_module_version": "1.2.0",
          "state": {
            "_model_module": "@jupyter-widgets/base",
            "_model_module_version": "1.2.0",
            "_model_name": "LayoutModel",
            "_view_count": null,
            "_view_module": "@jupyter-widgets/base",
            "_view_module_version": "1.2.0",
            "_view_name": "LayoutView",
            "align_content": null,
            "align_items": null,
            "align_self": null,
            "border": null,
            "bottom": null,
            "display": null,
            "flex": null,
            "flex_flow": null,
            "grid_area": null,
            "grid_auto_columns": null,
            "grid_auto_flow": null,
            "grid_auto_rows": null,
            "grid_column": null,
            "grid_gap": null,
            "grid_row": null,
            "grid_template_areas": null,
            "grid_template_columns": null,
            "grid_template_rows": null,
            "height": null,
            "justify_content": null,
            "justify_items": null,
            "left": null,
            "margin": null,
            "max_height": null,
            "max_width": null,
            "min_height": null,
            "min_width": null,
            "object_fit": null,
            "object_position": null,
            "order": null,
            "overflow": null,
            "overflow_x": null,
            "overflow_y": null,
            "padding": null,
            "right": null,
            "top": null,
            "visibility": null,
            "width": null
          }
        },
        "bd03d1819b204ff19e4f986d7ea5b334": {
          "model_module": "@jupyter-widgets/controls",
          "model_name": "VBoxModel",
          "model_module_version": "1.5.0",
          "state": {
            "_dom_classes": [],
            "_model_module": "@jupyter-widgets/controls",
            "_model_module_version": "1.5.0",
            "_model_name": "VBoxModel",
            "_view_count": null,
            "_view_module": "@jupyter-widgets/controls",
            "_view_module_version": "1.5.0",
            "_view_name": "VBoxView",
            "box_style": "",
            "children": [
              "IPY_MODEL_afb9cdde6f62442fad6bebec70bd82f7",
              "IPY_MODEL_4ecd7292a4d7482b8ac92ac3577a8f0b",
              "IPY_MODEL_a14e30a539384f878c48de53fc12ab2f",
              "IPY_MODEL_90146d0d7dee4d3ca88694ce8077d098"
            ],
            "layout": "IPY_MODEL_14614f86909a4455a2fda637b18cbe31"
          }
        },
        "afb9cdde6f62442fad6bebec70bd82f7": {
          "model_module": "@jupyter-widgets/controls",
          "model_name": "FloatSliderModel",
          "model_module_version": "1.5.0",
          "state": {
            "_dom_classes": [],
            "_model_module": "@jupyter-widgets/controls",
            "_model_module_version": "1.5.0",
            "_model_name": "FloatSliderModel",
            "_view_count": null,
            "_view_module": "@jupyter-widgets/controls",
            "_view_module_version": "1.5.0",
            "_view_name": "FloatSliderView",
            "continuous_update": true,
            "description": "m (slope)",
            "description_tooltip": null,
            "disabled": false,
            "layout": "IPY_MODEL_aa6f600726ce4e2ea2152d30177ad76e",
            "max": 4,
            "min": -4,
            "orientation": "horizontal",
            "readout": true,
            "readout_format": ".2f",
            "step": 0.1,
            "style": "IPY_MODEL_c3d475023ebe44568fe39373ce8b02c0",
            "value": 0
          }
        },
        "4ecd7292a4d7482b8ac92ac3577a8f0b": {
          "model_module": "@jupyter-widgets/controls",
          "model_name": "FloatSliderModel",
          "model_module_version": "1.5.0",
          "state": {
            "_dom_classes": [],
            "_model_module": "@jupyter-widgets/controls",
            "_model_module_version": "1.5.0",
            "_model_name": "FloatSliderModel",
            "_view_count": null,
            "_view_module": "@jupyter-widgets/controls",
            "_view_module_version": "1.5.0",
            "_view_name": "FloatSliderView",
            "continuous_update": true,
            "description": "b (bias)",
            "description_tooltip": null,
            "disabled": false,
            "layout": "IPY_MODEL_c18cd0ad03d64a2e816f97248657772f",
            "max": 10,
            "min": 0,
            "orientation": "horizontal",
            "readout": true,
            "readout_format": ".2f",
            "step": 0.1,
            "style": "IPY_MODEL_73d3bf3275e3469bbb8f4927e1ad11c0",
            "value": 0
          }
        },
        "a14e30a539384f878c48de53fc12ab2f": {
          "model_module": "@jupyter-widgets/controls",
          "model_name": "LabelModel",
          "model_module_version": "1.5.0",
          "state": {
            "_dom_classes": [],
            "_model_module": "@jupyter-widgets/controls",
            "_model_module_version": "1.5.0",
            "_model_name": "LabelModel",
            "_view_count": null,
            "_view_module": "@jupyter-widgets/controls",
            "_view_module_version": "1.5.0",
            "_view_name": "LabelView",
            "description": "",
            "description_tooltip": null,
            "layout": "IPY_MODEL_5cc91b9611d24421bee5793bdaf196e1",
            "placeholder": "​",
            "style": "IPY_MODEL_70706ab1ea854960a5223143f0b154ed",
            "value": "Loss:  0.390"
          }
        },
        "90146d0d7dee4d3ca88694ce8077d098": {
          "model_module": "@jupyter-widgets/output",
          "model_name": "OutputModel",
          "model_module_version": "1.0.0",
          "state": {
            "_dom_classes": [],
            "_model_module": "@jupyter-widgets/output",
            "_model_module_version": "1.0.0",
            "_model_name": "OutputModel",
            "_view_count": null,
            "_view_module": "@jupyter-widgets/output",
            "_view_module_version": "1.0.0",
            "_view_name": "OutputView",
            "layout": "IPY_MODEL_ee1bf73e921f46e4ac2eb655f2de932e",
            "msg_id": "",
            "outputs": [
              {
                "output_type": "display_data",
                "data": {
                  "text/plain": "<Figure size 600x400 with 1 Axes>",
                  "image/png": "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\n"
                },
                "metadata": {}
              }
            ]
          }
        },
        "14614f86909a4455a2fda637b18cbe31": {
          "model_module": "@jupyter-widgets/base",
          "model_name": "LayoutModel",
          "model_module_version": "1.2.0",
          "state": {
            "_model_module": "@jupyter-widgets/base",
            "_model_module_version": "1.2.0",
            "_model_name": "LayoutModel",
            "_view_count": null,
            "_view_module": "@jupyter-widgets/base",
            "_view_module_version": "1.2.0",
            "_view_name": "LayoutView",
            "align_content": null,
            "align_items": null,
            "align_self": null,
            "border": null,
            "bottom": null,
            "display": null,
            "flex": null,
            "flex_flow": null,
            "grid_area": null,
            "grid_auto_columns": null,
            "grid_auto_flow": null,
            "grid_auto_rows": null,
            "grid_column": null,
            "grid_gap": null,
            "grid_row": null,
            "grid_template_areas": null,
            "grid_template_columns": null,
            "grid_template_rows": null,
            "height": null,
            "justify_content": null,
            "justify_items": null,
            "left": null,
            "margin": null,
            "max_height": null,
            "max_width": null,
            "min_height": null,
            "min_width": null,
            "object_fit": null,
            "object_position": null,
            "order": null,
            "overflow": null,
            "overflow_x": null,
            "overflow_y": null,
            "padding": null,
            "right": null,
            "top": null,
            "visibility": null,
            "width": null
          }
        },
        "aa6f600726ce4e2ea2152d30177ad76e": {
          "model_module": "@jupyter-widgets/base",
          "model_name": "LayoutModel",
          "model_module_version": "1.2.0",
          "state": {
            "_model_module": "@jupyter-widgets/base",
            "_model_module_version": "1.2.0",
            "_model_name": "LayoutModel",
            "_view_count": null,
            "_view_module": "@jupyter-widgets/base",
            "_view_module_version": "1.2.0",
            "_view_name": "LayoutView",
            "align_content": null,
            "align_items": null,
            "align_self": null,
            "border": null,
            "bottom": null,
            "display": null,
            "flex": null,
            "flex_flow": null,
            "grid_area": null,
            "grid_auto_columns": null,
            "grid_auto_flow": null,
            "grid_auto_rows": null,
            "grid_column": null,
            "grid_gap": null,
            "grid_row": null,
            "grid_template_areas": null,
            "grid_template_columns": null,
            "grid_template_rows": null,
            "height": null,
            "justify_content": null,
            "justify_items": null,
            "left": null,
            "margin": null,
            "max_height": null,
            "max_width": null,
            "min_height": null,
            "min_width": null,
            "object_fit": null,
            "object_position": null,
            "order": null,
            "overflow": null,
            "overflow_x": null,
            "overflow_y": null,
            "padding": null,
            "right": null,
            "top": null,
            "visibility": null,
            "width": null
          }
        },
        "c3d475023ebe44568fe39373ce8b02c0": {
          "model_module": "@jupyter-widgets/controls",
          "model_name": "SliderStyleModel",
          "model_module_version": "1.5.0",
          "state": {
            "_model_module": "@jupyter-widgets/controls",
            "_model_module_version": "1.5.0",
            "_model_name": "SliderStyleModel",
            "_view_count": null,
            "_view_module": "@jupyter-widgets/base",
            "_view_module_version": "1.2.0",
            "_view_name": "StyleView",
            "description_width": "",
            "handle_color": null
          }
        },
        "c18cd0ad03d64a2e816f97248657772f": {
          "model_module": "@jupyter-widgets/base",
          "model_name": "LayoutModel",
          "model_module_version": "1.2.0",
          "state": {
            "_model_module": "@jupyter-widgets/base",
            "_model_module_version": "1.2.0",
            "_model_name": "LayoutModel",
            "_view_count": null,
            "_view_module": "@jupyter-widgets/base",
            "_view_module_version": "1.2.0",
            "_view_name": "LayoutView",
            "align_content": null,
            "align_items": null,
            "align_self": null,
            "border": null,
            "bottom": null,
            "display": null,
            "flex": null,
            "flex_flow": null,
            "grid_area": null,
            "grid_auto_columns": null,
            "grid_auto_flow": null,
            "grid_auto_rows": null,
            "grid_column": null,
            "grid_gap": null,
            "grid_row": null,
            "grid_template_areas": null,
            "grid_template_columns": null,
            "grid_template_rows": null,
            "height": null,
            "justify_content": null,
            "justify_items": null,
            "left": null,
            "margin": null,
            "max_height": null,
            "max_width": null,
            "min_height": null,
            "min_width": null,
            "object_fit": null,
            "object_position": null,
            "order": null,
            "overflow": null,
            "overflow_x": null,
            "overflow_y": null,
            "padding": null,
            "right": null,
            "top": null,
            "visibility": null,
            "width": null
          }
        },
        "73d3bf3275e3469bbb8f4927e1ad11c0": {
          "model_module": "@jupyter-widgets/controls",
          "model_name": "SliderStyleModel",
          "model_module_version": "1.5.0",
          "state": {
            "_model_module": "@jupyter-widgets/controls",
            "_model_module_version": "1.5.0",
            "_model_name": "SliderStyleModel",
            "_view_count": null,
            "_view_module": "@jupyter-widgets/base",
            "_view_module_version": "1.2.0",
            "_view_name": "StyleView",
            "description_width": "",
            "handle_color": null
          }
        },
        "5cc91b9611d24421bee5793bdaf196e1": {
          "model_module": "@jupyter-widgets/base",
          "model_name": "LayoutModel",
          "model_module_version": "1.2.0",
          "state": {
            "_model_module": "@jupyter-widgets/base",
            "_model_module_version": "1.2.0",
            "_model_name": "LayoutModel",
            "_view_count": null,
            "_view_module": "@jupyter-widgets/base",
            "_view_module_version": "1.2.0",
            "_view_name": "LayoutView",
            "align_content": null,
            "align_items": null,
            "align_self": null,
            "border": null,
            "bottom": null,
            "display": null,
            "flex": null,
            "flex_flow": null,
            "grid_area": null,
            "grid_auto_columns": null,
            "grid_auto_flow": null,
            "grid_auto_rows": null,
            "grid_column": null,
            "grid_gap": null,
            "grid_row": null,
            "grid_template_areas": null,
            "grid_template_columns": null,
            "grid_template_rows": null,
            "height": null,
            "justify_content": null,
            "justify_items": null,
            "left": null,
            "margin": null,
            "max_height": null,
            "max_width": null,
            "min_height": null,
            "min_width": null,
            "object_fit": null,
            "object_position": null,
            "order": null,
            "overflow": null,
            "overflow_x": null,
            "overflow_y": null,
            "padding": null,
            "right": null,
            "top": null,
            "visibility": null,
            "width": null
          }
        },
        "70706ab1ea854960a5223143f0b154ed": {
          "model_module": "@jupyter-widgets/controls",
          "model_name": "DescriptionStyleModel",
          "model_module_version": "1.5.0",
          "state": {
            "_model_module": "@jupyter-widgets/controls",
            "_model_module_version": "1.5.0",
            "_model_name": "DescriptionStyleModel",
            "_view_count": null,
            "_view_module": "@jupyter-widgets/base",
            "_view_module_version": "1.2.0",
            "_view_name": "StyleView",
            "description_width": ""
          }
        },
        "ee1bf73e921f46e4ac2eb655f2de932e": {
          "model_module": "@jupyter-widgets/base",
          "model_name": "LayoutModel",
          "model_module_version": "1.2.0",
          "state": {
            "_model_module": "@jupyter-widgets/base",
            "_model_module_version": "1.2.0",
            "_model_name": "LayoutModel",
            "_view_count": null,
            "_view_module": "@jupyter-widgets/base",
            "_view_module_version": "1.2.0",
            "_view_name": "LayoutView",
            "align_content": null,
            "align_items": null,
            "align_self": null,
            "border": null,
            "bottom": null,
            "display": null,
            "flex": null,
            "flex_flow": null,
            "grid_area": null,
            "grid_auto_columns": null,
            "grid_auto_flow": null,
            "grid_auto_rows": null,
            "grid_column": null,
            "grid_gap": null,
            "grid_row": null,
            "grid_template_areas": null,
            "grid_template_columns": null,
            "grid_template_rows": null,
            "height": null,
            "justify_content": null,
            "justify_items": null,
            "left": null,
            "margin": null,
            "max_height": null,
            "max_width": null,
            "min_height": null,
            "min_width": null,
            "object_fit": null,
            "object_position": null,
            "order": null,
            "overflow": null,
            "overflow_x": null,
            "overflow_y": null,
            "padding": null,
            "right": null,
            "top": null,
            "visibility": null,
            "width": null
          }
        },
        "a52a0aaa955d4e78b1c9e442bbbbe8a7": {
          "model_module": "@jupyter-widgets/controls",
          "model_name": "VBoxModel",
          "model_module_version": "1.5.0",
          "state": {
            "_dom_classes": [],
            "_model_module": "@jupyter-widgets/controls",
            "_model_module_version": "1.5.0",
            "_model_name": "VBoxModel",
            "_view_count": null,
            "_view_module": "@jupyter-widgets/controls",
            "_view_module_version": "1.5.0",
            "_view_name": "VBoxView",
            "box_style": "",
            "children": [
              "IPY_MODEL_84c92edf85d84db4a8e9ffa683a2ca04",
              "IPY_MODEL_9b9594aa18574b6d888f39d659965b4b",
              "IPY_MODEL_91d2855378054fd597e35fa417146e97",
              "IPY_MODEL_e5a04dea2dfd462695db49a40e32a013"
            ],
            "layout": "IPY_MODEL_59c91b6b03b54af79ea47c6be44c7a65"
          }
        },
        "84c92edf85d84db4a8e9ffa683a2ca04": {
          "model_module": "@jupyter-widgets/controls",
          "model_name": "FloatSliderModel",
          "model_module_version": "1.5.0",
          "state": {
            "_dom_classes": [],
            "_model_module": "@jupyter-widgets/controls",
            "_model_module_version": "1.5.0",
            "_model_name": "FloatSliderModel",
            "_view_count": null,
            "_view_module": "@jupyter-widgets/controls",
            "_view_module_version": "1.5.0",
            "_view_name": "FloatSliderView",
            "continuous_update": true,
            "description": "m (slope)",
            "description_tooltip": null,
            "disabled": false,
            "layout": "IPY_MODEL_1cd52681c7654c08a9a80de3cd970c03",
            "max": 4,
            "min": -4,
            "orientation": "horizontal",
            "readout": true,
            "readout_format": ".2f",
            "step": 0.1,
            "style": "IPY_MODEL_d4098e46a1b2423f893e261c93644978",
            "value": 2.146063437271159
          }
        },
        "9b9594aa18574b6d888f39d659965b4b": {
          "model_module": "@jupyter-widgets/controls",
          "model_name": "FloatSliderModel",
          "model_module_version": "1.5.0",
          "state": {
            "_dom_classes": [],
            "_model_module": "@jupyter-widgets/controls",
            "_model_module_version": "1.5.0",
            "_model_name": "FloatSliderModel",
            "_view_count": null,
            "_view_module": "@jupyter-widgets/controls",
            "_view_module_version": "1.5.0",
            "_view_name": "FloatSliderView",
            "continuous_update": true,
            "description": "b (bias)",
            "description_tooltip": null,
            "disabled": false,
            "layout": "IPY_MODEL_94d5272c806b493f89b4590f32e0f539",
            "max": 10,
            "min": 0,
            "orientation": "horizontal",
            "readout": true,
            "readout_format": ".2f",
            "step": 0.1,
            "style": "IPY_MODEL_c1c9139449a74abb833f2f091ed467c9",
            "value": 2.884389191043244
          }
        },
        "91d2855378054fd597e35fa417146e97": {
          "model_module": "@jupyter-widgets/controls",
          "model_name": "LabelModel",
          "model_module_version": "1.5.0",
          "state": {
            "_dom_classes": [],
            "_model_module": "@jupyter-widgets/controls",
            "_model_module_version": "1.5.0",
            "_model_name": "LabelModel",
            "_view_count": null,
            "_view_module": "@jupyter-widgets/controls",
            "_view_module_version": "1.5.0",
            "_view_name": "LabelView",
            "description": "",
            "description_tooltip": null,
            "layout": "IPY_MODEL_e5901e7770e8416da67c54a5fa56837b",
            "placeholder": "​",
            "style": "IPY_MODEL_8d90d91fabec422b97888d6a0bd39dff",
            "value": "Loss:  0.000"
          }
        },
        "e5a04dea2dfd462695db49a40e32a013": {
          "model_module": "@jupyter-widgets/output",
          "model_name": "OutputModel",
          "model_module_version": "1.0.0",
          "state": {
            "_dom_classes": [],
            "_model_module": "@jupyter-widgets/output",
            "_model_module_version": "1.0.0",
            "_model_name": "OutputModel",
            "_view_count": null,
            "_view_module": "@jupyter-widgets/output",
            "_view_module_version": "1.0.0",
            "_view_name": "OutputView",
            "layout": "IPY_MODEL_84a19365421441dc883a42b9d4be7705",
            "msg_id": "",
            "outputs": [
              {
                "output_type": "display_data",
                "data": {
                  "text/plain": "<Figure size 600x400 with 1 Axes>",
                  "image/png": "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\n"
                },
                "metadata": {}
              }
            ]
          }
        },
        "59c91b6b03b54af79ea47c6be44c7a65": {
          "model_module": "@jupyter-widgets/base",
          "model_name": "LayoutModel",
          "model_module_version": "1.2.0",
          "state": {
            "_model_module": "@jupyter-widgets/base",
            "_model_module_version": "1.2.0",
            "_model_name": "LayoutModel",
            "_view_count": null,
            "_view_module": "@jupyter-widgets/base",
            "_view_module_version": "1.2.0",
            "_view_name": "LayoutView",
            "align_content": null,
            "align_items": null,
            "align_self": null,
            "border": null,
            "bottom": null,
            "display": null,
            "flex": null,
            "flex_flow": null,
            "grid_area": null,
            "grid_auto_columns": null,
            "grid_auto_flow": null,
            "grid_auto_rows": null,
            "grid_column": null,
            "grid_gap": null,
            "grid_row": null,
            "grid_template_areas": null,
            "grid_template_columns": null,
            "grid_template_rows": null,
            "height": null,
            "justify_content": null,
            "justify_items": null,
            "left": null,
            "margin": null,
            "max_height": null,
            "max_width": null,
            "min_height": null,
            "min_width": null,
            "object_fit": null,
            "object_position": null,
            "order": null,
            "overflow": null,
            "overflow_x": null,
            "overflow_y": null,
            "padding": null,
            "right": null,
            "top": null,
            "visibility": null,
            "width": null
          }
        },
        "1cd52681c7654c08a9a80de3cd970c03": {
          "model_module": "@jupyter-widgets/base",
          "model_name": "LayoutModel",
          "model_module_version": "1.2.0",
          "state": {
            "_model_module": "@jupyter-widgets/base",
            "_model_module_version": "1.2.0",
            "_model_name": "LayoutModel",
            "_view_count": null,
            "_view_module": "@jupyter-widgets/base",
            "_view_module_version": "1.2.0",
            "_view_name": "LayoutView",
            "align_content": null,
            "align_items": null,
            "align_self": null,
            "border": null,
            "bottom": null,
            "display": null,
            "flex": null,
            "flex_flow": null,
            "grid_area": null,
            "grid_auto_columns": null,
            "grid_auto_flow": null,
            "grid_auto_rows": null,
            "grid_column": null,
            "grid_gap": null,
            "grid_row": null,
            "grid_template_areas": null,
            "grid_template_columns": null,
            "grid_template_rows": null,
            "height": null,
            "justify_content": null,
            "justify_items": null,
            "left": null,
            "margin": null,
            "max_height": null,
            "max_width": null,
            "min_height": null,
            "min_width": null,
            "object_fit": null,
            "object_position": null,
            "order": null,
            "overflow": null,
            "overflow_x": null,
            "overflow_y": null,
            "padding": null,
            "right": null,
            "top": null,
            "visibility": null,
            "width": null
          }
        },
        "d4098e46a1b2423f893e261c93644978": {
          "model_module": "@jupyter-widgets/controls",
          "model_name": "SliderStyleModel",
          "model_module_version": "1.5.0",
          "state": {
            "_model_module": "@jupyter-widgets/controls",
            "_model_module_version": "1.5.0",
            "_model_name": "SliderStyleModel",
            "_view_count": null,
            "_view_module": "@jupyter-widgets/base",
            "_view_module_version": "1.2.0",
            "_view_name": "StyleView",
            "description_width": "",
            "handle_color": null
          }
        },
        "94d5272c806b493f89b4590f32e0f539": {
          "model_module": "@jupyter-widgets/base",
          "model_name": "LayoutModel",
          "model_module_version": "1.2.0",
          "state": {
            "_model_module": "@jupyter-widgets/base",
            "_model_module_version": "1.2.0",
            "_model_name": "LayoutModel",
            "_view_count": null,
            "_view_module": "@jupyter-widgets/base",
            "_view_module_version": "1.2.0",
            "_view_name": "LayoutView",
            "align_content": null,
            "align_items": null,
            "align_self": null,
            "border": null,
            "bottom": null,
            "display": null,
            "flex": null,
            "flex_flow": null,
            "grid_area": null,
            "grid_auto_columns": null,
            "grid_auto_flow": null,
            "grid_auto_rows": null,
            "grid_column": null,
            "grid_gap": null,
            "grid_row": null,
            "grid_template_areas": null,
            "grid_template_columns": null,
            "grid_template_rows": null,
            "height": null,
            "justify_content": null,
            "justify_items": null,
            "left": null,
            "margin": null,
            "max_height": null,
            "max_width": null,
            "min_height": null,
            "min_width": null,
            "object_fit": null,
            "object_position": null,
            "order": null,
            "overflow": null,
            "overflow_x": null,
            "overflow_y": null,
            "padding": null,
            "right": null,
            "top": null,
            "visibility": null,
            "width": null
          }
        },
        "c1c9139449a74abb833f2f091ed467c9": {
          "model_module": "@jupyter-widgets/controls",
          "model_name": "SliderStyleModel",
          "model_module_version": "1.5.0",
          "state": {
            "_model_module": "@jupyter-widgets/controls",
            "_model_module_version": "1.5.0",
            "_model_name": "SliderStyleModel",
            "_view_count": null,
            "_view_module": "@jupyter-widgets/base",
            "_view_module_version": "1.2.0",
            "_view_name": "StyleView",
            "description_width": "",
            "handle_color": null
          }
        },
        "e5901e7770e8416da67c54a5fa56837b": {
          "model_module": "@jupyter-widgets/base",
          "model_name": "LayoutModel",
          "model_module_version": "1.2.0",
          "state": {
            "_model_module": "@jupyter-widgets/base",
            "_model_module_version": "1.2.0",
            "_model_name": "LayoutModel",
            "_view_count": null,
            "_view_module": "@jupyter-widgets/base",
            "_view_module_version": "1.2.0",
            "_view_name": "LayoutView",
            "align_content": null,
            "align_items": null,
            "align_self": null,
            "border": null,
            "bottom": null,
            "display": null,
            "flex": null,
            "flex_flow": null,
            "grid_area": null,
            "grid_auto_columns": null,
            "grid_auto_flow": null,
            "grid_auto_rows": null,
            "grid_column": null,
            "grid_gap": null,
            "grid_row": null,
            "grid_template_areas": null,
            "grid_template_columns": null,
            "grid_template_rows": null,
            "height": null,
            "justify_content": null,
            "justify_items": null,
            "left": null,
            "margin": null,
            "max_height": null,
            "max_width": null,
            "min_height": null,
            "min_width": null,
            "object_fit": null,
            "object_position": null,
            "order": null,
            "overflow": null,
            "overflow_x": null,
            "overflow_y": null,
            "padding": null,
            "right": null,
            "top": null,
            "visibility": null,
            "width": null
          }
        },
        "8d90d91fabec422b97888d6a0bd39dff": {
          "model_module": "@jupyter-widgets/controls",
          "model_name": "DescriptionStyleModel",
          "model_module_version": "1.5.0",
          "state": {
            "_model_module": "@jupyter-widgets/controls",
            "_model_module_version": "1.5.0",
            "_model_name": "DescriptionStyleModel",
            "_view_count": null,
            "_view_module": "@jupyter-widgets/base",
            "_view_module_version": "1.2.0",
            "_view_name": "StyleView",
            "description_width": ""
          }
        },
        "84a19365421441dc883a42b9d4be7705": {
          "model_module": "@jupyter-widgets/base",
          "model_name": "LayoutModel",
          "model_module_version": "1.2.0",
          "state": {
            "_model_module": "@jupyter-widgets/base",
            "_model_module_version": "1.2.0",
            "_model_name": "LayoutModel",
            "_view_count": null,
            "_view_module": "@jupyter-widgets/base",
            "_view_module_version": "1.2.0",
            "_view_name": "LayoutView",
            "align_content": null,
            "align_items": null,
            "align_self": null,
            "border": null,
            "bottom": null,
            "display": null,
            "flex": null,
            "flex_flow": null,
            "grid_area": null,
            "grid_auto_columns": null,
            "grid_auto_flow": null,
            "grid_auto_rows": null,
            "grid_column": null,
            "grid_gap": null,
            "grid_row": null,
            "grid_template_areas": null,
            "grid_template_columns": null,
            "grid_template_rows": null,
            "height": null,
            "justify_content": null,
            "justify_items": null,
            "left": null,
            "margin": null,
            "max_height": null,
            "max_width": null,
            "min_height": null,
            "min_width": null,
            "object_fit": null,
            "object_position": null,
            "order": null,
            "overflow": null,
            "overflow_x": null,
            "overflow_y": null,
            "padding": null,
            "right": null,
            "top": null,
            "visibility": null,
            "width": null
          }
        },
        "ffcb57c19c974e0da6af7a10f4fc4720": {
          "model_module": "@jupyter-widgets/controls",
          "model_name": "VBoxModel",
          "model_module_version": "1.5.0",
          "state": {
            "_dom_classes": [],
            "_model_module": "@jupyter-widgets/controls",
            "_model_module_version": "1.5.0",
            "_model_name": "VBoxModel",
            "_view_count": null,
            "_view_module": "@jupyter-widgets/controls",
            "_view_module_version": "1.5.0",
            "_view_name": "VBoxView",
            "box_style": "",
            "children": [
              "IPY_MODEL_28954bc5a61543ec9f3446a6bec87522",
              "IPY_MODEL_b585aa3608144badb76bbf926e5910a7",
              "IPY_MODEL_577488c7b2ee4523b1534f2686392e81",
              "IPY_MODEL_7e65c45f7f904cd2ad86150de1913e58"
            ],
            "layout": "IPY_MODEL_dc51da7d039c4f3b97aeb9be1afdd77a"
          }
        },
        "28954bc5a61543ec9f3446a6bec87522": {
          "model_module": "@jupyter-widgets/controls",
          "model_name": "FloatSliderModel",
          "model_module_version": "1.5.0",
          "state": {
            "_dom_classes": [],
            "_model_module": "@jupyter-widgets/controls",
            "_model_module_version": "1.5.0",
            "_model_name": "FloatSliderModel",
            "_view_count": null,
            "_view_module": "@jupyter-widgets/controls",
            "_view_module_version": "1.5.0",
            "_view_name": "FloatSliderView",
            "continuous_update": true,
            "description": "m (slope)",
            "description_tooltip": null,
            "disabled": false,
            "layout": "IPY_MODEL_a78421c2ce6d453f8b57dc5d02cbd59a",
            "max": 4,
            "min": -4,
            "orientation": "horizontal",
            "readout": true,
            "readout_format": ".2f",
            "step": 0.1,
            "style": "IPY_MODEL_9d02cc9791584e3e8dbdb32cdf340770",
            "value": 2.146063437271159
          }
        },
        "b585aa3608144badb76bbf926e5910a7": {
          "model_module": "@jupyter-widgets/controls",
          "model_name": "FloatSliderModel",
          "model_module_version": "1.5.0",
          "state": {
            "_dom_classes": [],
            "_model_module": "@jupyter-widgets/controls",
            "_model_module_version": "1.5.0",
            "_model_name": "FloatSliderModel",
            "_view_count": null,
            "_view_module": "@jupyter-widgets/controls",
            "_view_module_version": "1.5.0",
            "_view_name": "FloatSliderView",
            "continuous_update": true,
            "description": "b (bias)",
            "description_tooltip": null,
            "disabled": false,
            "layout": "IPY_MODEL_51942879e78045828011936d5ba6a581",
            "max": 10,
            "min": 0,
            "orientation": "horizontal",
            "readout": true,
            "readout_format": ".2f",
            "step": 0.1,
            "style": "IPY_MODEL_398cbe275735424cb1a5dfa6ff413057",
            "value": 2.884389191043244
          }
        },
        "577488c7b2ee4523b1534f2686392e81": {
          "model_module": "@jupyter-widgets/controls",
          "model_name": "LabelModel",
          "model_module_version": "1.5.0",
          "state": {
            "_dom_classes": [],
            "_model_module": "@jupyter-widgets/controls",
            "_model_module_version": "1.5.0",
            "_model_name": "LabelModel",
            "_view_count": null,
            "_view_module": "@jupyter-widgets/controls",
            "_view_module_version": "1.5.0",
            "_view_name": "LabelView",
            "description": "",
            "description_tooltip": null,
            "layout": "IPY_MODEL_4cb85321e8994738b4e7d1a4ed2b05bb",
            "placeholder": "​",
            "style": "IPY_MODEL_0ebad411e4d2491da7e0a337320e8b60",
            "value": "Loss:  0.000"
          }
        },
        "7e65c45f7f904cd2ad86150de1913e58": {
          "model_module": "@jupyter-widgets/output",
          "model_name": "OutputModel",
          "model_module_version": "1.0.0",
          "state": {
            "_dom_classes": [],
            "_model_module": "@jupyter-widgets/output",
            "_model_module_version": "1.0.0",
            "_model_name": "OutputModel",
            "_view_count": null,
            "_view_module": "@jupyter-widgets/output",
            "_view_module_version": "1.0.0",
            "_view_name": "OutputView",
            "layout": "IPY_MODEL_43c6441ffd544f989a87e9b7d3a4abda",
            "msg_id": "",
            "outputs": [
              {
                "output_type": "display_data",
                "data": {
                  "text/plain": "<Figure size 600x400 with 1 Axes>",
                  "image/png": "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\n"
                },
                "metadata": {}
              }
            ]
          }
        },
        "dc51da7d039c4f3b97aeb9be1afdd77a": {
          "model_module": "@jupyter-widgets/base",
          "model_name": "LayoutModel",
          "model_module_version": "1.2.0",
          "state": {
            "_model_module": "@jupyter-widgets/base",
            "_model_module_version": "1.2.0",
            "_model_name": "LayoutModel",
            "_view_count": null,
            "_view_module": "@jupyter-widgets/base",
            "_view_module_version": "1.2.0",
            "_view_name": "LayoutView",
            "align_content": null,
            "align_items": null,
            "align_self": null,
            "border": null,
            "bottom": null,
            "display": null,
            "flex": null,
            "flex_flow": null,
            "grid_area": null,
            "grid_auto_columns": null,
            "grid_auto_flow": null,
            "grid_auto_rows": null,
            "grid_column": null,
            "grid_gap": null,
            "grid_row": null,
            "grid_template_areas": null,
            "grid_template_columns": null,
            "grid_template_rows": null,
            "height": null,
            "justify_content": null,
            "justify_items": null,
            "left": null,
            "margin": null,
            "max_height": null,
            "max_width": null,
            "min_height": null,
            "min_width": null,
            "object_fit": null,
            "object_position": null,
            "order": null,
            "overflow": null,
            "overflow_x": null,
            "overflow_y": null,
            "padding": null,
            "right": null,
            "top": null,
            "visibility": null,
            "width": null
          }
        },
        "a78421c2ce6d453f8b57dc5d02cbd59a": {
          "model_module": "@jupyter-widgets/base",
          "model_name": "LayoutModel",
          "model_module_version": "1.2.0",
          "state": {
            "_model_module": "@jupyter-widgets/base",
            "_model_module_version": "1.2.0",
            "_model_name": "LayoutModel",
            "_view_count": null,
            "_view_module": "@jupyter-widgets/base",
            "_view_module_version": "1.2.0",
            "_view_name": "LayoutView",
            "align_content": null,
            "align_items": null,
            "align_self": null,
            "border": null,
            "bottom": null,
            "display": null,
            "flex": null,
            "flex_flow": null,
            "grid_area": null,
            "grid_auto_columns": null,
            "grid_auto_flow": null,
            "grid_auto_rows": null,
            "grid_column": null,
            "grid_gap": null,
            "grid_row": null,
            "grid_template_areas": null,
            "grid_template_columns": null,
            "grid_template_rows": null,
            "height": null,
            "justify_content": null,
            "justify_items": null,
            "left": null,
            "margin": null,
            "max_height": null,
            "max_width": null,
            "min_height": null,
            "min_width": null,
            "object_fit": null,
            "object_position": null,
            "order": null,
            "overflow": null,
            "overflow_x": null,
            "overflow_y": null,
            "padding": null,
            "right": null,
            "top": null,
            "visibility": null,
            "width": null
          }
        },
        "9d02cc9791584e3e8dbdb32cdf340770": {
          "model_module": "@jupyter-widgets/controls",
          "model_name": "SliderStyleModel",
          "model_module_version": "1.5.0",
          "state": {
            "_model_module": "@jupyter-widgets/controls",
            "_model_module_version": "1.5.0",
            "_model_name": "SliderStyleModel",
            "_view_count": null,
            "_view_module": "@jupyter-widgets/base",
            "_view_module_version": "1.2.0",
            "_view_name": "StyleView",
            "description_width": "",
            "handle_color": null
          }
        },
        "51942879e78045828011936d5ba6a581": {
          "model_module": "@jupyter-widgets/base",
          "model_name": "LayoutModel",
          "model_module_version": "1.2.0",
          "state": {
            "_model_module": "@jupyter-widgets/base",
            "_model_module_version": "1.2.0",
            "_model_name": "LayoutModel",
            "_view_count": null,
            "_view_module": "@jupyter-widgets/base",
            "_view_module_version": "1.2.0",
            "_view_name": "LayoutView",
            "align_content": null,
            "align_items": null,
            "align_self": null,
            "border": null,
            "bottom": null,
            "display": null,
            "flex": null,
            "flex_flow": null,
            "grid_area": null,
            "grid_auto_columns": null,
            "grid_auto_flow": null,
            "grid_auto_rows": null,
            "grid_column": null,
            "grid_gap": null,
            "grid_row": null,
            "grid_template_areas": null,
            "grid_template_columns": null,
            "grid_template_rows": null,
            "height": null,
            "justify_content": null,
            "justify_items": null,
            "left": null,
            "margin": null,
            "max_height": null,
            "max_width": null,
            "min_height": null,
            "min_width": null,
            "object_fit": null,
            "object_position": null,
            "order": null,
            "overflow": null,
            "overflow_x": null,
            "overflow_y": null,
            "padding": null,
            "right": null,
            "top": null,
            "visibility": null,
            "width": null
          }
        },
        "398cbe275735424cb1a5dfa6ff413057": {
          "model_module": "@jupyter-widgets/controls",
          "model_name": "SliderStyleModel",
          "model_module_version": "1.5.0",
          "state": {
            "_model_module": "@jupyter-widgets/controls",
            "_model_module_version": "1.5.0",
            "_model_name": "SliderStyleModel",
            "_view_count": null,
            "_view_module": "@jupyter-widgets/base",
            "_view_module_version": "1.2.0",
            "_view_name": "StyleView",
            "description_width": "",
            "handle_color": null
          }
        },
        "4cb85321e8994738b4e7d1a4ed2b05bb": {
          "model_module": "@jupyter-widgets/base",
          "model_name": "LayoutModel",
          "model_module_version": "1.2.0",
          "state": {
            "_model_module": "@jupyter-widgets/base",
            "_model_module_version": "1.2.0",
            "_model_name": "LayoutModel",
            "_view_count": null,
            "_view_module": "@jupyter-widgets/base",
            "_view_module_version": "1.2.0",
            "_view_name": "LayoutView",
            "align_content": null,
            "align_items": null,
            "align_self": null,
            "border": null,
            "bottom": null,
            "display": null,
            "flex": null,
            "flex_flow": null,
            "grid_area": null,
            "grid_auto_columns": null,
            "grid_auto_flow": null,
            "grid_auto_rows": null,
            "grid_column": null,
            "grid_gap": null,
            "grid_row": null,
            "grid_template_areas": null,
            "grid_template_columns": null,
            "grid_template_rows": null,
            "height": null,
            "justify_content": null,
            "justify_items": null,
            "left": null,
            "margin": null,
            "max_height": null,
            "max_width": null,
            "min_height": null,
            "min_width": null,
            "object_fit": null,
            "object_position": null,
            "order": null,
            "overflow": null,
            "overflow_x": null,
            "overflow_y": null,
            "padding": null,
            "right": null,
            "top": null,
            "visibility": null,
            "width": null
          }
        },
        "0ebad411e4d2491da7e0a337320e8b60": {
          "model_module": "@jupyter-widgets/controls",
          "model_name": "DescriptionStyleModel",
          "model_module_version": "1.5.0",
          "state": {
            "_model_module": "@jupyter-widgets/controls",
            "_model_module_version": "1.5.0",
            "_model_name": "DescriptionStyleModel",
            "_view_count": null,
            "_view_module": "@jupyter-widgets/base",
            "_view_module_version": "1.2.0",
            "_view_name": "StyleView",
            "description_width": ""
          }
        },
        "43c6441ffd544f989a87e9b7d3a4abda": {
          "model_module": "@jupyter-widgets/base",
          "model_name": "LayoutModel",
          "model_module_version": "1.2.0",
          "state": {
            "_model_module": "@jupyter-widgets/base",
            "_model_module_version": "1.2.0",
            "_model_name": "LayoutModel",
            "_view_count": null,
            "_view_module": "@jupyter-widgets/base",
            "_view_module_version": "1.2.0",
            "_view_name": "LayoutView",
            "align_content": null,
            "align_items": null,
            "align_self": null,
            "border": null,
            "bottom": null,
            "display": null,
            "flex": null,
            "flex_flow": null,
            "grid_area": null,
            "grid_auto_columns": null,
            "grid_auto_flow": null,
            "grid_auto_rows": null,
            "grid_column": null,
            "grid_gap": null,
            "grid_row": null,
            "grid_template_areas": null,
            "grid_template_columns": null,
            "grid_template_rows": null,
            "height": null,
            "justify_content": null,
            "justify_items": null,
            "left": null,
            "margin": null,
            "max_height": null,
            "max_width": null,
            "min_height": null,
            "min_width": null,
            "object_fit": null,
            "object_position": null,
            "order": null,
            "overflow": null,
            "overflow_x": null,
            "overflow_y": null,
            "padding": null,
            "right": null,
            "top": null,
            "visibility": null,
            "width": null
          }
        },
        "1b00cf713fba44e8bcafe89946f13b5e": {
          "model_module": "@jupyter-widgets/controls",
          "model_name": "VBoxModel",
          "model_module_version": "1.5.0",
          "state": {
            "_dom_classes": [],
            "_model_module": "@jupyter-widgets/controls",
            "_model_module_version": "1.5.0",
            "_model_name": "VBoxModel",
            "_view_count": null,
            "_view_module": "@jupyter-widgets/controls",
            "_view_module_version": "1.5.0",
            "_view_name": "VBoxView",
            "box_style": "",
            "children": [
              "IPY_MODEL_8b5e88e693c245589d24af8b5866d72d",
              "IPY_MODEL_106d83fa054e4d45a2448dbdeec0fa16",
              "IPY_MODEL_d9c9136dc44943c792fc9eee32dcf6a6",
              "IPY_MODEL_cda3553b2b3348359e2cd486053d0f87"
            ],
            "layout": "IPY_MODEL_a63898b0128941d4a0f4638de29a8911"
          }
        },
        "8b5e88e693c245589d24af8b5866d72d": {
          "model_module": "@jupyter-widgets/controls",
          "model_name": "FloatSliderModel",
          "model_module_version": "1.5.0",
          "state": {
            "_dom_classes": [],
            "_model_module": "@jupyter-widgets/controls",
            "_model_module_version": "1.5.0",
            "_model_name": "FloatSliderModel",
            "_view_count": null,
            "_view_module": "@jupyter-widgets/controls",
            "_view_module_version": "1.5.0",
            "_view_name": "FloatSliderView",
            "continuous_update": true,
            "description": "m (slope)",
            "description_tooltip": null,
            "disabled": false,
            "layout": "IPY_MODEL_9d373251a1f841018a06d932a01ae0b0",
            "max": 4,
            "min": -4,
            "orientation": "horizontal",
            "readout": true,
            "readout_format": ".2f",
            "step": 0.1,
            "style": "IPY_MODEL_a8877c0da1f248ab9d346ecb93f8955b",
            "value": 0
          }
        },
        "106d83fa054e4d45a2448dbdeec0fa16": {
          "model_module": "@jupyter-widgets/controls",
          "model_name": "FloatSliderModel",
          "model_module_version": "1.5.0",
          "state": {
            "_dom_classes": [],
            "_model_module": "@jupyter-widgets/controls",
            "_model_module_version": "1.5.0",
            "_model_name": "FloatSliderModel",
            "_view_count": null,
            "_view_module": "@jupyter-widgets/controls",
            "_view_module_version": "1.5.0",
            "_view_name": "FloatSliderView",
            "continuous_update": true,
            "description": "b (bias)",
            "description_tooltip": null,
            "disabled": false,
            "layout": "IPY_MODEL_548075a9814a49b5b4b1690202478da2",
            "max": 10,
            "min": 0,
            "orientation": "horizontal",
            "readout": true,
            "readout_format": ".2f",
            "step": 0.1,
            "style": "IPY_MODEL_5049ab70fb144f19b56c14aef33daabe",
            "value": 0
          }
        },
        "d9c9136dc44943c792fc9eee32dcf6a6": {
          "model_module": "@jupyter-widgets/controls",
          "model_name": "LabelModel",
          "model_module_version": "1.5.0",
          "state": {
            "_dom_classes": [],
            "_model_module": "@jupyter-widgets/controls",
            "_model_module_version": "1.5.0",
            "_model_name": "LabelModel",
            "_view_count": null,
            "_view_module": "@jupyter-widgets/controls",
            "_view_module_version": "1.5.0",
            "_view_name": "LabelView",
            "description": "",
            "description_tooltip": null,
            "layout": "IPY_MODEL_5215e4657ca2426ab9a467ed661bb7d1",
            "placeholder": "​",
            "style": "IPY_MODEL_cb3fbcd36eb8409c8f9939ddba840b8c",
            "value": "Loss:  0.412"
          }
        },
        "cda3553b2b3348359e2cd486053d0f87": {
          "model_module": "@jupyter-widgets/output",
          "model_name": "OutputModel",
          "model_module_version": "1.0.0",
          "state": {
            "_dom_classes": [],
            "_model_module": "@jupyter-widgets/output",
            "_model_module_version": "1.0.0",
            "_model_name": "OutputModel",
            "_view_count": null,
            "_view_module": "@jupyter-widgets/output",
            "_view_module_version": "1.0.0",
            "_view_name": "OutputView",
            "layout": "IPY_MODEL_508706394f604d86837ecb758b832c2e",
            "msg_id": "",
            "outputs": [
              {
                "output_type": "display_data",
                "data": {
                  "text/plain": "<Figure size 600x400 with 1 Axes>",
                  "image/png": "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\n"
                },
                "metadata": {}
              }
            ]
          }
        },
        "a63898b0128941d4a0f4638de29a8911": {
          "model_module": "@jupyter-widgets/base",
          "model_name": "LayoutModel",
          "model_module_version": "1.2.0",
          "state": {
            "_model_module": "@jupyter-widgets/base",
            "_model_module_version": "1.2.0",
            "_model_name": "LayoutModel",
            "_view_count": null,
            "_view_module": "@jupyter-widgets/base",
            "_view_module_version": "1.2.0",
            "_view_name": "LayoutView",
            "align_content": null,
            "align_items": null,
            "align_self": null,
            "border": null,
            "bottom": null,
            "display": null,
            "flex": null,
            "flex_flow": null,
            "grid_area": null,
            "grid_auto_columns": null,
            "grid_auto_flow": null,
            "grid_auto_rows": null,
            "grid_column": null,
            "grid_gap": null,
            "grid_row": null,
            "grid_template_areas": null,
            "grid_template_columns": null,
            "grid_template_rows": null,
            "height": null,
            "justify_content": null,
            "justify_items": null,
            "left": null,
            "margin": null,
            "max_height": null,
            "max_width": null,
            "min_height": null,
            "min_width": null,
            "object_fit": null,
            "object_position": null,
            "order": null,
            "overflow": null,
            "overflow_x": null,
            "overflow_y": null,
            "padding": null,
            "right": null,
            "top": null,
            "visibility": null,
            "width": null
          }
        },
        "9d373251a1f841018a06d932a01ae0b0": {
          "model_module": "@jupyter-widgets/base",
          "model_name": "LayoutModel",
          "model_module_version": "1.2.0",
          "state": {
            "_model_module": "@jupyter-widgets/base",
            "_model_module_version": "1.2.0",
            "_model_name": "LayoutModel",
            "_view_count": null,
            "_view_module": "@jupyter-widgets/base",
            "_view_module_version": "1.2.0",
            "_view_name": "LayoutView",
            "align_content": null,
            "align_items": null,
            "align_self": null,
            "border": null,
            "bottom": null,
            "display": null,
            "flex": null,
            "flex_flow": null,
            "grid_area": null,
            "grid_auto_columns": null,
            "grid_auto_flow": null,
            "grid_auto_rows": null,
            "grid_column": null,
            "grid_gap": null,
            "grid_row": null,
            "grid_template_areas": null,
            "grid_template_columns": null,
            "grid_template_rows": null,
            "height": null,
            "justify_content": null,
            "justify_items": null,
            "left": null,
            "margin": null,
            "max_height": null,
            "max_width": null,
            "min_height": null,
            "min_width": null,
            "object_fit": null,
            "object_position": null,
            "order": null,
            "overflow": null,
            "overflow_x": null,
            "overflow_y": null,
            "padding": null,
            "right": null,
            "top": null,
            "visibility": null,
            "width": null
          }
        },
        "a8877c0da1f248ab9d346ecb93f8955b": {
          "model_module": "@jupyter-widgets/controls",
          "model_name": "SliderStyleModel",
          "model_module_version": "1.5.0",
          "state": {
            "_model_module": "@jupyter-widgets/controls",
            "_model_module_version": "1.5.0",
            "_model_name": "SliderStyleModel",
            "_view_count": null,
            "_view_module": "@jupyter-widgets/base",
            "_view_module_version": "1.2.0",
            "_view_name": "StyleView",
            "description_width": "",
            "handle_color": null
          }
        },
        "548075a9814a49b5b4b1690202478da2": {
          "model_module": "@jupyter-widgets/base",
          "model_name": "LayoutModel",
          "model_module_version": "1.2.0",
          "state": {
            "_model_module": "@jupyter-widgets/base",
            "_model_module_version": "1.2.0",
            "_model_name": "LayoutModel",
            "_view_count": null,
            "_view_module": "@jupyter-widgets/base",
            "_view_module_version": "1.2.0",
            "_view_name": "LayoutView",
            "align_content": null,
            "align_items": null,
            "align_self": null,
            "border": null,
            "bottom": null,
            "display": null,
            "flex": null,
            "flex_flow": null,
            "grid_area": null,
            "grid_auto_columns": null,
            "grid_auto_flow": null,
            "grid_auto_rows": null,
            "grid_column": null,
            "grid_gap": null,
            "grid_row": null,
            "grid_template_areas": null,
            "grid_template_columns": null,
            "grid_template_rows": null,
            "height": null,
            "justify_content": null,
            "justify_items": null,
            "left": null,
            "margin": null,
            "max_height": null,
            "max_width": null,
            "min_height": null,
            "min_width": null,
            "object_fit": null,
            "object_position": null,
            "order": null,
            "overflow": null,
            "overflow_x": null,
            "overflow_y": null,
            "padding": null,
            "right": null,
            "top": null,
            "visibility": null,
            "width": null
          }
        },
        "5049ab70fb144f19b56c14aef33daabe": {
          "model_module": "@jupyter-widgets/controls",
          "model_name": "SliderStyleModel",
          "model_module_version": "1.5.0",
          "state": {
            "_model_module": "@jupyter-widgets/controls",
            "_model_module_version": "1.5.0",
            "_model_name": "SliderStyleModel",
            "_view_count": null,
            "_view_module": "@jupyter-widgets/base",
            "_view_module_version": "1.2.0",
            "_view_name": "StyleView",
            "description_width": "",
            "handle_color": null
          }
        },
        "5215e4657ca2426ab9a467ed661bb7d1": {
          "model_module": "@jupyter-widgets/base",
          "model_name": "LayoutModel",
          "model_module_version": "1.2.0",
          "state": {
            "_model_module": "@jupyter-widgets/base",
            "_model_module_version": "1.2.0",
            "_model_name": "LayoutModel",
            "_view_count": null,
            "_view_module": "@jupyter-widgets/base",
            "_view_module_version": "1.2.0",
            "_view_name": "LayoutView",
            "align_content": null,
            "align_items": null,
            "align_self": null,
            "border": null,
            "bottom": null,
            "display": null,
            "flex": null,
            "flex_flow": null,
            "grid_area": null,
            "grid_auto_columns": null,
            "grid_auto_flow": null,
            "grid_auto_rows": null,
            "grid_column": null,
            "grid_gap": null,
            "grid_row": null,
            "grid_template_areas": null,
            "grid_template_columns": null,
            "grid_template_rows": null,
            "height": null,
            "justify_content": null,
            "justify_items": null,
            "left": null,
            "margin": null,
            "max_height": null,
            "max_width": null,
            "min_height": null,
            "min_width": null,
            "object_fit": null,
            "object_position": null,
            "order": null,
            "overflow": null,
            "overflow_x": null,
            "overflow_y": null,
            "padding": null,
            "right": null,
            "top": null,
            "visibility": null,
            "width": null
          }
        },
        "cb3fbcd36eb8409c8f9939ddba840b8c": {
          "model_module": "@jupyter-widgets/controls",
          "model_name": "DescriptionStyleModel",
          "model_module_version": "1.5.0",
          "state": {
            "_model_module": "@jupyter-widgets/controls",
            "_model_module_version": "1.5.0",
            "_model_name": "DescriptionStyleModel",
            "_view_count": null,
            "_view_module": "@jupyter-widgets/base",
            "_view_module_version": "1.2.0",
            "_view_name": "StyleView",
            "description_width": ""
          }
        },
        "508706394f604d86837ecb758b832c2e": {
          "model_module": "@jupyter-widgets/base",
          "model_name": "LayoutModel",
          "model_module_version": "1.2.0",
          "state": {
            "_model_module": "@jupyter-widgets/base",
            "_model_module_version": "1.2.0",
            "_model_name": "LayoutModel",
            "_view_count": null,
            "_view_module": "@jupyter-widgets/base",
            "_view_module_version": "1.2.0",
            "_view_name": "LayoutView",
            "align_content": null,
            "align_items": null,
            "align_self": null,
            "border": null,
            "bottom": null,
            "display": null,
            "flex": null,
            "flex_flow": null,
            "grid_area": null,
            "grid_auto_columns": null,
            "grid_auto_flow": null,
            "grid_auto_rows": null,
            "grid_column": null,
            "grid_gap": null,
            "grid_row": null,
            "grid_template_areas": null,
            "grid_template_columns": null,
            "grid_template_rows": null,
            "height": null,
            "justify_content": null,
            "justify_items": null,
            "left": null,
            "margin": null,
            "max_height": null,
            "max_width": null,
            "min_height": null,
            "min_width": null,
            "object_fit": null,
            "object_position": null,
            "order": null,
            "overflow": null,
            "overflow_x": null,
            "overflow_y": null,
            "padding": null,
            "right": null,
            "top": null,
            "visibility": null,
            "width": null
          }
        }
      }
    }
  },
  "cells": [
    {
      "cell_type": "markdown",
      "metadata": {
        "id": "view-in-github",
        "colab_type": "text"
      },
      "source": [
        "<a href=\"https://colab.research.google.com/github/badlogic/genai-workshop/blob/main/01_supervised_learning.ipynb\" target=\"_parent\"><img src=\"https://colab.research.google.com/assets/colab-badge.svg\" alt=\"Open In Colab\"/></a>"
      ]
    },
    {
      "cell_type": "markdown",
      "source": [
        "# Supervised learning\n",
        "In supervised learning, our goal is to create a model that learns how to map inputs to outputs, based on examples of input-output pairs.\n",
        "\n",
        "The output values can be limited to a fixed set of categories, or **classes**. For example, in spam detection, we learn to map from an email text to the two possible output values `spam` or `not spam`. This type of task is called **classification**.\n",
        "\n",
        "We can also learn a mapping from an input value to a continuous output value. For example, we can learn to map from the number of cylinders, maker, and age of a car to its fuel efficiency given in liters per 100 kilometers. This type of task is called **regression**.\n",
        "\n",
        "We can use supervised **machine learning models** for both of these tasks."
      ],
      "metadata": {
        "id": "Cq-oa4l__Zlx"
      }
    },
    {
      "cell_type": "markdown",
      "source": [
        "\n",
        "## Data\n",
        "\n",
        "Before any learning can happen, we need to identify and collect data we want to learn from. Data is abundant and can be sourced from various platforms such as the internet, personal devices, or enterprise databases. However, not all data is immediately suitable for learning. For example, text data may be stored in binary formats like PDF, or markup formats like HTML; image or video data may be too big to handle or simply have the wrong aspect ratio; time series data may have missing values or outliers; or the data is \"polluted\" in some way, which all makes learning hard or impossible."
      ],
      "metadata": {
        "id": "_7L_rT3KzSfJ"
      }
    },
    {
      "cell_type": "markdown",
      "source": [
        "\n",
        "### Data Preprocessing\n",
        "Generally, we need to apply **data preprocessing** in some way, to bring it into a format and onto a quality level so it can serve as input to a machine learning model. For example, for learning how to detect spam, we'd collect thousands or hundreds of thousands of emails and extract the raw text by stripping any markup or formatting. Each resulting raw email text could possibly then be used as a direct input to the machine learning model. One such input is then generally referred to as a **sample**, as in: a sample from the set of all possible emails. However, usually, raw text (or audio, or images) can seldomly be passed to a model.\n",
        "\n",
        "Instead, raw data often has to be transformed to a numerical representation, such as **feature** vectors, or more generally, tensors. Each entry in such a vector represents a feature or attribute of the original raw data. For example, a simple raw data entry like {\"color\": \"red\", \"weight\": 150, \"type\": \"apple\"} can be converted into a numerical vector. If we encode \"color\" as red=1, green=2, yellow=3; and \"type\" as apple=1, banana=2, the raw data entry could be represented as a vector [1, 150, 1], where the first entry represents the color, the second the weight in grams, and the third the type of fruit. Deciding which information to choose from the raw data and how to convert it to a vectorial or other numeric representation is called **feature engineering**. Some machine learning models can be very sensitive to how the data is represented numerically, while other models like deep neural networks require much less care or no feature engineering at all."
      ],
      "metadata": {
        "id": "n3Ilz0g2zWA5"
      }
    },
    {
      "cell_type": "markdown",
      "source": [
        "\n",
        "### Data Labeling\n",
        "For supervised learning, we not only need clean samples, but also expected outputs. For example, we can collect millions of emails, but without the information which email is spam and which email is not, the model will not be able to learn to differentiate between the two classes. We need to also assign a class (or expected output value) to each collected sample. This process is called **data labeling**, and is most often done manually by humans. The class (or expected output value) assigned to a sample is called the sample's **label** or **target**.\n",
        "\n",
        "Depending on the task, it may not be necessary to create one's own data set. Practitioners have collected, preprocessed, and labeled a lot of datasets over the decades and made them available through public repositories. For example, you can find tens of thousands of data sets for different machine learning tasks on [Hugging Face](https://huggingface.co/datasets) or [Kaggle](https://www.kaggle.com/datasets).\n",
        "\n",
        "If you indeed need to create your data set based on your own data, you can use tools like [Label Studio](https://labelstud.io/). If you don't have the human resources for labeling, you can use services like [Google AI Platform Data Labeling Service](https://cloud.google.com/ai-platform/data-labeling/pricing), or [Amazon SageMaker Ground Truth](https://docs.aws.amazon.com/sagemaker/latest/dg/sms.html)."
      ],
      "metadata": {
        "id": "P2FLqswszZQQ"
      }
    },
    {
      "cell_type": "markdown",
      "source": [
        "\n",
        "## Models\n",
        "A machine learning model consists of two parts:\n",
        "\n",
        "1. An **architecture** for learning and applying the mapping from input values to expected output values.\n",
        "2. A set of **parameters** that encode the learned mapping, and which can be stored for later use.\n",
        "\n",
        "There is a plethora of different supervised machine learning models for classification and regression tasks. They differ in what types of input and output values they can handle, what types of mappings they can create, their computational complexity, and the amount and quality of data they need to successfully learn the mapping.\n",
        "\n",
        "Examples of supervised machine learning models are [k-NN](https://en.wikipedia.org/wiki/K-nearest_neighbors_algorithm), [Naive Bayes classifier](https://en.wikipedia.org/wiki/Naive_Bayes_classifier), [Support Vector Machines (SVM)](https://en.wikipedia.org/wiki/Support_vector_machine), [Decision Trees](https://en.wikipedia.org/wiki/Decision_tree), [Random Forests](https://en.wikipedia.org/wiki/Random_forest), [Logistic Regression](https://en.wikipedia.org/wiki/Logistic_regression), and [(Deep) Neural Networks](https://en.wikipedia.org/wiki/Deep_learning).\n",
        "\n",
        "Within the machine learning community, sharing models is standard to advance the state of the art. Scientific descriptions of models can be found in papers, e.g., on [arXiv](https://arxiv.org/list/cs.LG/recent), [Google Scholar](https://scholar.google.com/), or [Papers with Code](https://paperswithcode.com/sota). Implementations of models, including data preprocessing, model parameter layout and plumbing, and training and inference algorithms, are often derived from these scientific papers and contributed to open-source machine learning frameworks like [PyTorch](https://pytorch.org/),  [TensorFlow](https://www.tensorflow.org/), [scikit-learn](https://scikit-learn.org/stable/), or higher-level frameworks like [Hugging Face Transformers](https://huggingface.co/docs/transformers/en/index). A more recent development is the sharing of trained models. Pre-trained models for a wide range of machine learning tasks can be found on platforms like [Hugging Face](https://huggingface.co/models)."
      ],
      "metadata": {
        "id": "ni4s_Sc1zcYb"
      }
    },
    {
      "cell_type": "markdown",
      "source": [
        "\n",
        "## Training\n",
        "For a supervised machine learning model to learn a mapping from input values to expected output values, we need to present it with labeled samples. The model will then (usually iteratively) learn the underlying patterns in the data, from which it can construct the input/output mapping. It encodes its learned \"knowledge\" in its parameters. This process is called **training**.\n",
        "\n",
        "For example, to train a sentiment detection model for product reviews, we need to present it with a set of product review texts (samples) and their corresponding sentiment like `positive`, `neutral`, and `negative` (labels).\n",
        "\n",
        "The data set consisting of samples and labels we present to the model for training is called the **training set**.\n",
        "\n",
        "To help decide which machine learning model to use for a task, and how to configure its **hyper-parameters**, that is, parameters that are not learned but specified as part of the model configuration, another labeled data set called a **validation set** is sometimes used.\n",
        "\n",
        "Most training algorithms are iterative. First, the parameters of the model are initialized in some way, for example, randomly. Of course, this \"random\" model is unlikely to give any meaningful or correct outputs.\n",
        "\n",
        "Next, the training data (or a subset thereof called a **batch**) are presented to the model. For each sample, the model uses its current parameters to map it to a label. These labels are then compared to the expected labels found in the training set. The result of the comparison is then used to adjust the parameters of the model in such a way, that it will (hopefully) generate more correct labels in the next iteration. This process repeats until some stopping criterion has been reached, for example, after a fixed number of iterations over the entire training set, often referred to as **epochs**, or if the model parameters do not change significantly anymore, in which case the model is said to have **converged**.\n",
        "\n",
        "How the adjustment of model parameters is done exactly depends on the type of model. For example, for many model types such as neural networks, a **loss function** is used, which models how well the labels generated by the model correspond to the true labels for the samples in the training set.\n",
        "\n",
        "The training objective then becomes minimizing the loss function by adjusting the model parameters such that the difference between the model outputs and the expected outputs is as small as possible.\n",
        "\n",
        "This class of problem is called an **optimization problem**, which, depending on the model type, can be solved in various ways. For example, for neural networks, the optimization problem is solved via [backpropagation](https://en.wikipedia.org/wiki/Backpropagation) through [stochastic gradient descent](https://en.wikipedia.org/wiki/Stochastic_gradient_descent).\n",
        "\n",
        "We can observe if and how well the model is improving during training, by logging or visualizing the losses of each training iteration."
      ],
      "metadata": {
        "id": "RKZNQwV1zgOf"
      }
    },
    {
      "cell_type": "markdown",
      "source": [
        "\n",
        "## Evaluation\n",
        "Once model training is complete, we want to evaluate its quality. For this, we need another labeled data set called **test set**.\n",
        "\n",
        "The evaluation is done by asking the model to assign labels to previously unseen samples. This is called **prediction** or **inference**.\n",
        "\n",
        "We can then compare the model output to the expected labels of each sample in the test set.\n",
        "\n",
        "The comparison between expected labels and labels predicted by the model can be done via different evaluation metrics and scoring functions. Commonly used metrics in supervised learning are [accuracy, precision, recall, F1 score](https://en.wikipedia.org/wiki/Precision_and_recall) for classification tasks, and [mean squared error (MSE)](https://en.wikipedia.org/wiki/Mean_squared_error), [mean absolute error (MAE)](https://en.wikipedia.org/wiki/Mean_absolute_error), or [R-squared](https://en.wikipedia.org/wiki/Coefficient_of_determination) for regression tasks.\n",
        "\n",
        "The result of the evaluation metric tells us how well the model can predict labels for samples it has not seen during training. This gives us an indication of whether the model **generalizes** well to unseen data, or wether it has **overfitted** on the training data, meaning it may have learned to predict labels for the training data very well, but fails to predict correct labels for novel data.\n",
        "\n",
        "We can also compare different models for the same task by comparing their evaluation results on the same training and test set.\n",
        "\n",
        "[scikit-learn](https://scikit-learn.org/stable/modules/model_evaluation.html) and [Hugging Face](https://huggingface.co/docs/evaluate/en/index) both provide frameworks for evaluation."
      ],
      "metadata": {
        "id": "6ITH3fVAzi_g"
      }
    },
    {
      "cell_type": "markdown",
      "source": [
        "## A simple linear binary classifier\n",
        "Let us illustrate the above concepts by building a simple linear binary classifier. \"Binary\" in this context means, that we have two classes or categories we want the model to be able to discern. \"Linear\" means, that the samples of the two different classes can be separated from each other by a line (or hyper-plane in higher dimensional spaces)."
      ],
      "metadata": {
        "id": "HjJ8ARubzud-"
      }
    },
    {
      "cell_type": "markdown",
      "source": [
        "### Data\n",
        "For illustrative purposes, we'll genereate a synthetic dataset instead of using real-world data. The synthetic data samples will have 2 features. Each sample can thus be represented as a two dimensional vector. You can think of them as the properties of a real world object, like a car's maximum speed and weight. The reason we only use 2 features is that such data is very easy to visualize.\n",
        "\n",
        "Let's use [scikit-learn](https://scikit-learn.org/stable/) to generate the data and a [Pandas DataFrame](https://pandas.pydata.org/) to inspect it:"
      ],
      "metadata": {
        "id": "hB-o8T96zw_l"
      }
    },
    {
      "cell_type": "code",
      "source": [
        "# Generate 100 samples, split into 2 clusters, with 2 features each. Each cluster has a center point (centroid)\n",
        "# around which samples are randomly generated with a standard deviation of 1. We also fix the random seed to\n",
        "# make things reproducible.\n",
        "from sklearn.datasets import make_blobs\n",
        "samples, labels = make_blobs(n_samples=100, centers=2, n_features=2, cluster_std=2.5, random_state=42)\n",
        "\n",
        "# Use Pandas DataFrame to display the data in a table inside the notebook\n",
        "import pandas as pd\n",
        "df = pd.DataFrame(samples, columns=[\"Feature 1\", \" Feature 2\"])\n",
        "df[\"labels\"] = labels\n",
        "df"
      ],
      "metadata": {
        "colab": {
          "base_uri": "https://localhost:8080/",
          "height": 424
        },
        "id": "7uHmouCuZxPA",
        "outputId": "75b6e40f-14d2-419b-b435-f5ad5cba9ae5"
      },
      "execution_count": null,
      "outputs": [
        {
          "output_type": "execute_result",
          "data": {
            "text/plain": [
              "    Feature 1   Feature 2  labels\n",
              "0   -3.707133    8.550139       0\n",
              "1    7.347507    4.607675       1\n",
              "2   -3.870154    9.291593       0\n",
              "3    6.695029    6.715152       1\n",
              "4    5.208529    5.241027       1\n",
              "..        ...         ...     ...\n",
              "95   0.068301   11.342486       0\n",
              "96  -0.220692    9.836164       0\n",
              "97   2.522895   -1.813948       1\n",
              "98  -3.058377    9.907068       0\n",
              "99  -2.496414    8.427818       0\n",
              "\n",
              "[100 rows x 3 columns]"
            ],
            "text/html": [
              "\n",
              "  <div id=\"df-ce8ebf41-19e5-4571-b613-50f51c308048\" class=\"colab-df-container\">\n",
              "    <div>\n",
              "<style scoped>\n",
              "    .dataframe tbody tr th:only-of-type {\n",
              "        vertical-align: middle;\n",
              "    }\n",
              "\n",
              "    .dataframe tbody tr th {\n",
              "        vertical-align: top;\n",
              "    }\n",
              "\n",
              "    .dataframe thead th {\n",
              "        text-align: right;\n",
              "    }\n",
              "</style>\n",
              "<table border=\"1\" class=\"dataframe\">\n",
              "  <thead>\n",
              "    <tr style=\"text-align: right;\">\n",
              "      <th></th>\n",
              "      <th>Feature 1</th>\n",
              "      <th>Feature 2</th>\n",
              "      <th>labels</th>\n",
              "    </tr>\n",
              "  </thead>\n",
              "  <tbody>\n",
              "    <tr>\n",
              "      <th>0</th>\n",
              "      <td>-3.707133</td>\n",
              "      <td>8.550139</td>\n",
              "      <td>0</td>\n",
              "    </tr>\n",
              "    <tr>\n",
              "      <th>1</th>\n",
              "      <td>7.347507</td>\n",
              "      <td>4.607675</td>\n",
              "      <td>1</td>\n",
              "    </tr>\n",
              "    <tr>\n",
              "      <th>2</th>\n",
              "      <td>-3.870154</td>\n",
              "      <td>9.291593</td>\n",
              "      <td>0</td>\n",
              "    </tr>\n",
              "    <tr>\n",
              "      <th>3</th>\n",
              "      <td>6.695029</td>\n",
              "      <td>6.715152</td>\n",
              "      <td>1</td>\n",
              "    </tr>\n",
              "    <tr>\n",
              "      <th>4</th>\n",
              "      <td>5.208529</td>\n",
              "      <td>5.241027</td>\n",
              "      <td>1</td>\n",
              "    </tr>\n",
              "    <tr>\n",
              "      <th>...</th>\n",
              "      <td>...</td>\n",
              "      <td>...</td>\n",
              "      <td>...</td>\n",
              "    </tr>\n",
              "    <tr>\n",
              "      <th>95</th>\n",
              "      <td>0.068301</td>\n",
              "      <td>11.342486</td>\n",
              "      <td>0</td>\n",
              "    </tr>\n",
              "    <tr>\n",
              "      <th>96</th>\n",
              "      <td>-0.220692</td>\n",
              "      <td>9.836164</td>\n",
              "      <td>0</td>\n",
              "    </tr>\n",
              "    <tr>\n",
              "      <th>97</th>\n",
              "      <td>2.522895</td>\n",
              "      <td>-1.813948</td>\n",
              "      <td>1</td>\n",
              "    </tr>\n",
              "    <tr>\n",
              "      <th>98</th>\n",
              "      <td>-3.058377</td>\n",
              "      <td>9.907068</td>\n",
              "      <td>0</td>\n",
              "    </tr>\n",
              "    <tr>\n",
              "      <th>99</th>\n",
              "      <td>-2.496414</td>\n",
              "      <td>8.427818</td>\n",
              "      <td>0</td>\n",
              "    </tr>\n",
              "  </tbody>\n",
              "</table>\n",
              "<p>100 rows × 3 columns</p>\n",
              "</div>\n",
              "    <div class=\"colab-df-buttons\">\n",
              "\n",
              "  <div class=\"colab-df-container\">\n",
              "    <button class=\"colab-df-convert\" onclick=\"convertToInteractive('df-ce8ebf41-19e5-4571-b613-50f51c308048')\"\n",
              "            title=\"Convert this dataframe to an interactive table.\"\n",
              "            style=\"display:none;\">\n",
              "\n",
              "  <svg xmlns=\"http://www.w3.org/2000/svg\" height=\"24px\" viewBox=\"0 -960 960 960\">\n",
              "    <path d=\"M120-120v-720h720v720H120Zm60-500h600v-160H180v160Zm220 220h160v-160H400v160Zm0 220h160v-160H400v160ZM180-400h160v-160H180v160Zm440 0h160v-160H620v160ZM180-180h160v-160H180v160Zm440 0h160v-160H620v160Z\"/>\n",
              "  </svg>\n",
              "    </button>\n",
              "\n",
              "  <style>\n",
              "    .colab-df-container {\n",
              "      display:flex;\n",
              "      gap: 12px;\n",
              "    }\n",
              "\n",
              "    .colab-df-convert {\n",
              "      background-color: #E8F0FE;\n",
              "      border: none;\n",
              "      border-radius: 50%;\n",
              "      cursor: pointer;\n",
              "      display: none;\n",
              "      fill: #1967D2;\n",
              "      height: 32px;\n",
              "      padding: 0 0 0 0;\n",
              "      width: 32px;\n",
              "    }\n",
              "\n",
              "    .colab-df-convert:hover {\n",
              "      background-color: #E2EBFA;\n",
              "      box-shadow: 0px 1px 2px rgba(60, 64, 67, 0.3), 0px 1px 3px 1px rgba(60, 64, 67, 0.15);\n",
              "      fill: #174EA6;\n",
              "    }\n",
              "\n",
              "    .colab-df-buttons div {\n",
              "      margin-bottom: 4px;\n",
              "    }\n",
              "\n",
              "    [theme=dark] .colab-df-convert {\n",
              "      background-color: #3B4455;\n",
              "      fill: #D2E3FC;\n",
              "    }\n",
              "\n",
              "    [theme=dark] .colab-df-convert:hover {\n",
              "      background-color: #434B5C;\n",
              "      box-shadow: 0px 1px 3px 1px rgba(0, 0, 0, 0.15);\n",
              "      filter: drop-shadow(0px 1px 2px rgba(0, 0, 0, 0.3));\n",
              "      fill: #FFFFFF;\n",
              "    }\n",
              "  </style>\n",
              "\n",
              "    <script>\n",
              "      const buttonEl =\n",
              "        document.querySelector('#df-ce8ebf41-19e5-4571-b613-50f51c308048 button.colab-df-convert');\n",
              "      buttonEl.style.display =\n",
              "        google.colab.kernel.accessAllowed ? 'block' : 'none';\n",
              "\n",
              "      async function convertToInteractive(key) {\n",
              "        const element = document.querySelector('#df-ce8ebf41-19e5-4571-b613-50f51c308048');\n",
              "        const dataTable =\n",
              "          await google.colab.kernel.invokeFunction('convertToInteractive',\n",
              "                                                    [key], {});\n",
              "        if (!dataTable) return;\n",
              "\n",
              "        const docLinkHtml = 'Like what you see? Visit the ' +\n",
              "          '<a target=\"_blank\" href=https://colab.research.google.com/notebooks/data_table.ipynb>data table notebook</a>'\n",
              "          + ' to learn more about interactive tables.';\n",
              "        element.innerHTML = '';\n",
              "        dataTable['output_type'] = 'display_data';\n",
              "        await google.colab.output.renderOutput(dataTable, element);\n",
              "        const docLink = document.createElement('div');\n",
              "        docLink.innerHTML = docLinkHtml;\n",
              "        element.appendChild(docLink);\n",
              "      }\n",
              "    </script>\n",
              "  </div>\n",
              "\n",
              "\n",
              "<div id=\"df-f10aea1d-6581-4f7b-8f9d-90009fd8739b\">\n",
              "  <button class=\"colab-df-quickchart\" onclick=\"quickchart('df-f10aea1d-6581-4f7b-8f9d-90009fd8739b')\"\n",
              "            title=\"Suggest charts\"\n",
              "            style=\"display:none;\">\n",
              "\n",
              "<svg xmlns=\"http://www.w3.org/2000/svg\" height=\"24px\"viewBox=\"0 0 24 24\"\n",
              "     width=\"24px\">\n",
              "    <g>\n",
              "        <path d=\"M19 3H5c-1.1 0-2 .9-2 2v14c0 1.1.9 2 2 2h14c1.1 0 2-.9 2-2V5c0-1.1-.9-2-2-2zM9 17H7v-7h2v7zm4 0h-2V7h2v10zm4 0h-2v-4h2v4z\"/>\n",
              "    </g>\n",
              "</svg>\n",
              "  </button>\n",
              "\n",
              "<style>\n",
              "  .colab-df-quickchart {\n",
              "      --bg-color: #E8F0FE;\n",
              "      --fill-color: #1967D2;\n",
              "      --hover-bg-color: #E2EBFA;\n",
              "      --hover-fill-color: #174EA6;\n",
              "      --disabled-fill-color: #AAA;\n",
              "      --disabled-bg-color: #DDD;\n",
              "  }\n",
              "\n",
              "  [theme=dark] .colab-df-quickchart {\n",
              "      --bg-color: #3B4455;\n",
              "      --fill-color: #D2E3FC;\n",
              "      --hover-bg-color: #434B5C;\n",
              "      --hover-fill-color: #FFFFFF;\n",
              "      --disabled-bg-color: #3B4455;\n",
              "      --disabled-fill-color: #666;\n",
              "  }\n",
              "\n",
              "  .colab-df-quickchart {\n",
              "    background-color: var(--bg-color);\n",
              "    border: none;\n",
              "    border-radius: 50%;\n",
              "    cursor: pointer;\n",
              "    display: none;\n",
              "    fill: var(--fill-color);\n",
              "    height: 32px;\n",
              "    padding: 0;\n",
              "    width: 32px;\n",
              "  }\n",
              "\n",
              "  .colab-df-quickchart:hover {\n",
              "    background-color: var(--hover-bg-color);\n",
              "    box-shadow: 0 1px 2px rgba(60, 64, 67, 0.3), 0 1px 3px 1px rgba(60, 64, 67, 0.15);\n",
              "    fill: var(--button-hover-fill-color);\n",
              "  }\n",
              "\n",
              "  .colab-df-quickchart-complete:disabled,\n",
              "  .colab-df-quickchart-complete:disabled:hover {\n",
              "    background-color: var(--disabled-bg-color);\n",
              "    fill: var(--disabled-fill-color);\n",
              "    box-shadow: none;\n",
              "  }\n",
              "\n",
              "  .colab-df-spinner {\n",
              "    border: 2px solid var(--fill-color);\n",
              "    border-color: transparent;\n",
              "    border-bottom-color: var(--fill-color);\n",
              "    animation:\n",
              "      spin 1s steps(1) infinite;\n",
              "  }\n",
              "\n",
              "  @keyframes spin {\n",
              "    0% {\n",
              "      border-color: transparent;\n",
              "      border-bottom-color: var(--fill-color);\n",
              "      border-left-color: var(--fill-color);\n",
              "    }\n",
              "    20% {\n",
              "      border-color: transparent;\n",
              "      border-left-color: var(--fill-color);\n",
              "      border-top-color: var(--fill-color);\n",
              "    }\n",
              "    30% {\n",
              "      border-color: transparent;\n",
              "      border-left-color: var(--fill-color);\n",
              "      border-top-color: var(--fill-color);\n",
              "      border-right-color: var(--fill-color);\n",
              "    }\n",
              "    40% {\n",
              "      border-color: transparent;\n",
              "      border-right-color: var(--fill-color);\n",
              "      border-top-color: var(--fill-color);\n",
              "    }\n",
              "    60% {\n",
              "      border-color: transparent;\n",
              "      border-right-color: var(--fill-color);\n",
              "    }\n",
              "    80% {\n",
              "      border-color: transparent;\n",
              "      border-right-color: var(--fill-color);\n",
              "      border-bottom-color: var(--fill-color);\n",
              "    }\n",
              "    90% {\n",
              "      border-color: transparent;\n",
              "      border-bottom-color: var(--fill-color);\n",
              "    }\n",
              "  }\n",
              "</style>\n",
              "\n",
              "  <script>\n",
              "    async function quickchart(key) {\n",
              "      const quickchartButtonEl =\n",
              "        document.querySelector('#' + key + ' button');\n",
              "      quickchartButtonEl.disabled = true;  // To prevent multiple clicks.\n",
              "      quickchartButtonEl.classList.add('colab-df-spinner');\n",
              "      try {\n",
              "        const charts = await google.colab.kernel.invokeFunction(\n",
              "            'suggestCharts', [key], {});\n",
              "      } catch (error) {\n",
              "        console.error('Error during call to suggestCharts:', error);\n",
              "      }\n",
              "      quickchartButtonEl.classList.remove('colab-df-spinner');\n",
              "      quickchartButtonEl.classList.add('colab-df-quickchart-complete');\n",
              "    }\n",
              "    (() => {\n",
              "      let quickchartButtonEl =\n",
              "        document.querySelector('#df-f10aea1d-6581-4f7b-8f9d-90009fd8739b button');\n",
              "      quickchartButtonEl.style.display =\n",
              "        google.colab.kernel.accessAllowed ? 'block' : 'none';\n",
              "    })();\n",
              "  </script>\n",
              "</div>\n",
              "    </div>\n",
              "  </div>\n"
            ],
            "application/vnd.google.colaboratory.intrinsic+json": {
              "type": "dataframe",
              "variable_name": "df",
              "summary": "{\n  \"name\": \"df\",\n  \"rows\": 100,\n  \"fields\": [\n    {\n      \"column\": \"Feature 1\",\n      \"properties\": {\n        \"dtype\": \"number\",\n        \"std\": 4.358699452966607,\n        \"min\": -9.058560383277111,\n        \"max\": 9.355343589254428,\n        \"num_unique_values\": 100,\n        \"samples\": [\n          -4.779257811855778,\n          5.534347237098809,\n          -3.660794550452219\n        ],\n        \"semantic_type\": \"\",\n        \"description\": \"\"\n      }\n    },\n    {\n      \"column\": \" Feature 2\",\n      \"properties\": {\n        \"dtype\": \"number\",\n        \"std\": 3.9803165555521995,\n        \"min\": -1.8139483777739294,\n        \"max\": 13.644981589470666,\n        \"num_unique_values\": 100,\n        \"samples\": [\n          5.483526874860093,\n          3.3751309998613177,\n          11.65709169374561\n        ],\n        \"semantic_type\": \"\",\n        \"description\": \"\"\n      }\n    },\n    {\n      \"column\": \"labels\",\n      \"properties\": {\n        \"dtype\": \"number\",\n        \"std\": 0,\n        \"min\": 0,\n        \"max\": 1,\n        \"num_unique_values\": 2,\n        \"samples\": [\n          1,\n          0\n        ],\n        \"semantic_type\": \"\",\n        \"description\": \"\"\n      }\n    }\n  ]\n}"
            }
          },
          "metadata": {},
          "execution_count": 1
        }
      ]
    },
    {
      "cell_type": "markdown",
      "source": [
        "We can use [Matplotlib](https://matplotlib.org/) to visualize the generated data (and [NumPy](https://numpy.org/) to help wrangle the data for visualization a little):"
      ],
      "metadata": {
        "id": "pdzOZ2gzazuz"
      }
    },
    {
      "cell_type": "code",
      "source": [
        "import matplotlib.pyplot as plt\n",
        "import numpy as np\n",
        "\n",
        "def visualize_data(samples, labels):\n",
        "  plt.figure(figsize=(6, 4))\n",
        "  class0 = samples[labels == 0]\n",
        "  class1 = samples[labels == 1]\n",
        "  plt.scatter(class0[:, 0], class0[:, 1], c='blue', label='Class 0')\n",
        "  plt.scatter(class1[:, 0], class1[:, 1], c='red', label='Class 1')\n",
        "  plt.title('Data')\n",
        "  plt.xlabel('Feature 1')\n",
        "  plt.ylabel('Feature 2')\n",
        "  plt.legend()\n",
        "  plt.grid(True)\n",
        "  plt.xlim(np.min(samples[:,0])-1, np.max(samples[:,0])+1)\n",
        "  plt.ylim(min(-1, np.min(samples[:,1])-1), np.max(samples[:,1])+1)\n",
        "  plt.axhline(y=0, color='green', linewidth=1, alpha=0.5)\n",
        "  plt.axvline(x=0, color='green', linewidth=1, alpha=0.5)\n",
        "\n",
        "  plt.show()\n",
        "\n",
        "visualize_data(samples, labels)"
      ],
      "metadata": {
        "colab": {
          "base_uri": "https://localhost:8080/",
          "height": 410
        },
        "id": "7qvxX8T-bE2j",
        "outputId": "068be9bc-f57b-4264-ed6d-864f14ffc820"
      },
      "execution_count": null,
      "outputs": [
        {
          "output_type": "display_data",
          "data": {
            "text/plain": [
              "<Figure size 600x400 with 1 Axes>"
            ],
            "image/png": "[encoded data removed]"
          },
          "metadata": {}
        }
      ]
    },
    {
      "cell_type": "markdown",
      "source": [
        "### Model\n",
        "If we look at the visualization above, it's very easy to draw a line that separates the samples of the two classes from each other. This is what we mean by \"linearly separable\".\n",
        "\n",
        "While not a great model, we can use a parametric line equation to create a binary linear classifier:\n",
        "\n",
        "$y = mx + b$\n",
        "\n",
        "The parameters of the model are `m`, the line's slope, and `b`, the bias.\n",
        "\n",
        "To make predictions using this model, we take a sample and plug in its `x` coordinate. The model then generates a `y` coordinate for us, based on the line slope and bias. If the sample's actual `y` coordinate is above the predicted `y` coordinate, then we assign the label `0` to the line, otherwise `0`. The line is called a **decision boundary**, as we use it to decide which class a sample belongs to.\n",
        "\n",
        "This model has some (severe) deficiencies, which we'll explore later. For now, let us put the above model architecture into a simple function to predict the label of a sample given the model's parameters `m` and `b`."
      ],
      "metadata": {
        "id": "VPAPu26ZbZMq"
      }
    },
    {
      "cell_type": "code",
      "source": [
        "def predict(m, b, sample):\n",
        "  x, y = sample\n",
        "  line_y = m * x + b\n",
        "  return 0 if y > line_y else 1"
      ],
      "metadata": {
        "id": "yVEZHV-dioUf"
      },
      "execution_count": null,
      "outputs": []
    },
    {
      "cell_type": "markdown",
      "source": [
        "We can then use the `ipywidgets` package to create an interactive visualization to explore such a model's parameters `m` and `b` and their effect on prediciting the label of one or more samples.\n",
        "\n",
        "The visualization lets us manually set `m` and `b`, uses the `predict` function to generate labels for all our samples, and then visualizes the result, including the line modelled by the"
      ],
      "metadata": {
        "id": "zcushJ62lkbU"
      }
    },
    {
      "cell_type": "code",
      "source": [
        "import ipywidgets as widgets\n",
        "\n",
        "def visualize_model(m, b, samples, labels):\n",
        "  m_slider = widgets.FloatSlider(description='m (slope)', min = -4, max=4)\n",
        "  m_slider.value = m\n",
        "  b_slider = widgets.FloatSlider(description='b (bias)', min=0, max=10)\n",
        "  b_slider.value = b\n",
        "\n",
        "  def plot_model_and_data(m, b):\n",
        "    plt.figure(figsize=(6, 4))\n",
        "    plt.xlabel('Feature 1')\n",
        "    plt.ylabel('Feature 2')\n",
        "    plt.grid(True)\n",
        "    plt.xlim(np.min(samples[:,0])-1, np.max(samples[:,0])+1)\n",
        "    plt.ylim(min(-1, np.min(samples[:,1])-1), np.max(samples[:,1])+1)\n",
        "    plt.axhline(y=0, color='green', linewidth=1, alpha=0.5)\n",
        "    plt.axvline(x=0, color='green', linewidth=1, alpha=0.5)\n",
        "\n",
        "    # Draw the model line\n",
        "    x_values = np.array([np.min(samples[:,0])-1, np.max(samples[:,0])+1])\n",
        "    y_values = m*x_values + b\n",
        "    plt.plot(x_values, y_values, '-r', label=f'y = {m:.2f}x + {b:.2f}')\n",
        "\n",
        "    # Predict labels for the samples based on the current model and\n",
        "    predicted_labels = np.array([predict(m, b, sample) for sample in samples])\n",
        "\n",
        "    # Draw the samples, colored by class\n",
        "    class0 = samples[predicted_labels == 0]\n",
        "    class1 = samples[predicted_labels == 1]\n",
        "    plt.scatter(class0[:, 0], class0[:, 1], c='blue', label='Class 0')\n",
        "    plt.scatter(class1[:, 0], class1[:, 1], c='red', label='Class 1')\n",
        "\n",
        "    plt.legend(loc='best')\n",
        "    plt.show()\n",
        "\n",
        "  out = widgets.interactive_output(plot_model_and_data, {'m': m_slider, 'b': b_slider})\n",
        "  return widgets.VBox([m_slider, b_slider, out])\n",
        "\n",
        "visualize_model(0, 0, samples, labels)"
      ],
      "metadata": {
        "colab": {
          "base_uri": "https://localhost:8080/",
          "height": 452,
          "referenced_widgets": [
            "1947d7eb657c46069de4dc06be1831e2",
            "a7d5372baeaf40dab7f1cf5593894285",
            "de10cad6b52a42f9b5cfd808e5ad3711",
            "0a9823b7ecac42c2a4a9c5c7aedb0908",
            "3bf3cabbfdbf43c69591939917c156c4",
            "0333a6b041e146e39793f21b5421fc41",
            "ec9b20419a884888bb7b876dacfa7e9a",
            "a04938499547475dbff8a9246b095fe3",
            "d443ecf3317b458d811792bd33b8905c",
            "b9d4b9fdbd7f41c9a47c1f272dbe7636"
          ]
        },
        "id": "MO3Knxfvfaaw",
        "outputId": "e3966a78-5124-4663-cce7-76680a4d954d"
      },
      "execution_count": null,
      "outputs": [
        {
          "output_type": "display_data",
          "data": {
            "text/plain": [
              "VBox(children=(FloatSlider(value=0.0, description='m (slope)', max=4.0, min=-4.0), FloatSlider(value=0.0, desc…"
            ],
            "application/vnd.jupyter.widget-view+json": {
              "version_major": 2,
              "version_minor": 0,
              "model_id": "1947d7eb657c46069de4dc06be1831e2"
            }
          },
          "metadata": {}
        }
      ]
    },
    {
      "cell_type": "markdown",
      "source": [
        "We can manually play with the slope and bias slider, until we find values for our model parameters `m` and `b` that we think produce a line that separates the samples of the 2 classes well, just based on visual inspection.\n",
        "\n",
        "But that's not very precise, nor efficient, nor will we be able to do it for more complex or higher dimensional datasets.\n",
        "\n",
        "Instead, we need an objective measure that tells us how well the model can separate the samples of the two classes via its decision boundary. That is what we use loss functions for.\n",
        "\n",
        "The most naive loss function in this case would be to count the number of samples the current model predicts the labels for correctly, divided by the total number of samples. This is the accuracy metric mentioned in the evaluation section above."
      ],
      "metadata": {
        "id": "JMXEKCtbh26u"
      }
    },
    {
      "cell_type": "code",
      "source": [
        "def accuracy(predicted_labels, labels):\n",
        "    correct_predictions = sum(p == l for p, l in zip(predicted_labels, labels))\n",
        "    accuracy = correct_predictions / len(labels)\n",
        "    return accuracy"
      ],
      "metadata": {
        "id": "GKcKvjn3v28W"
      },
      "execution_count": null,
      "outputs": []
    },
    {
      "cell_type": "markdown",
      "source": [
        "To turn it into a loss function, that goes down as more samples are labeled correctly, we need to invert it, that is, subtract the accuracy from 1."
      ],
      "metadata": {
        "id": "cJvHC0Xcv3LM"
      }
    },
    {
      "cell_type": "code",
      "source": [
        "def loss(predicted_labels, labels):\n",
        "    return 1 - accuracy(predicted_labels, labels)"
      ],
      "metadata": {
        "id": "Zg18ywAdppg7"
      },
      "execution_count": null,
      "outputs": []
    },
    {
      "cell_type": "markdown",
      "source": [
        "We can modify our visualization above, to also output the loss each time we change a parameter. This way, we are no longer as dependent on visually judging how well the current model works."
      ],
      "metadata": {
        "id": "8W3ZzSSAoKms"
      }
    },
    {
      "cell_type": "code",
      "source": [
        "def visualize_model(m, b, samples, labels):\n",
        "  m_slider = widgets.FloatSlider(description='m (slope)', min = -4, max=4)\n",
        "  m_slider.value = m\n",
        "  b_slider = widgets.FloatSlider(description='b (bias)', min=0, max=10)\n",
        "  b_slider.value = b\n",
        "  loss_label = widgets.Label(value='Loss: ')\n",
        "  def plot_model_and_data(m, b):\n",
        "    plt.figure(figsize=(6, 4))\n",
        "    plt.xlabel('Feature 1')\n",
        "    plt.ylabel('Feature 2')\n",
        "    plt.grid(True)\n",
        "    plt.xlim(np.min(samples[:,0])-1, np.max(samples[:,0])+1)\n",
        "    plt.ylim(min(-1, np.min(samples[:,1])-1), np.max(samples[:,1])+1)\n",
        "    plt.axhline(y=0, color='green', linewidth=1, alpha=0.5)\n",
        "    plt.axvline(x=0, color='green', linewidth=1, alpha=0.5)\n",
        "\n",
        "    # Draw the model line\n",
        "    x_values = np.array([np.min(samples[:,0])-1, np.max(samples[:,0])+1])\n",
        "    y_values = m*x_values + b\n",
        "    plt.plot(x_values, y_values, '-r', label=f'y = {m:.2f}x + {b:.2f}')\n",
        "\n",
        "    # Predict labels for the samples based on the current model and\n",
        "    predicted_labels = np.array([predict(m, b, sample) for sample in samples])\n",
        "    loss_label.value = f\"Loss: {loss(predicted_labels, labels): .3f}\"\n",
        "\n",
        "    # Draw the samples, colored by class\n",
        "    class0 = samples[predicted_labels == 0]\n",
        "    class1 = samples[predicted_labels == 1]\n",
        "    plt.scatter(class0[:, 0], class0[:, 1], c='blue', label='Class 0')\n",
        "    plt.scatter(class1[:, 0], class1[:, 1], c='red', label='Class 1')\n",
        "\n",
        "    plt.legend(loc='best')\n",
        "    plt.show()\n",
        "\n",
        "  out = widgets.interactive_output(plot_model_and_data, {'m': m_slider, 'b': b_slider})\n",
        "  return widgets.VBox([m_slider, b_slider, loss_label, out])\n",
        "\n",
        "visualize_model(0, 0, samples, labels)"
      ],
      "metadata": {
        "colab": {
          "base_uri": "https://localhost:8080/",
          "height": 484,
          "referenced_widgets": [
            "bd03d1819b204ff19e4f986d7ea5b334",
            "afb9cdde6f62442fad6bebec70bd82f7",
            "4ecd7292a4d7482b8ac92ac3577a8f0b",
            "a14e30a539384f878c48de53fc12ab2f",
            "90146d0d7dee4d3ca88694ce8077d098",
            "14614f86909a4455a2fda637b18cbe31",
            "aa6f600726ce4e2ea2152d30177ad76e",
            "c3d475023ebe44568fe39373ce8b02c0",
            "c18cd0ad03d64a2e816f97248657772f",
            "73d3bf3275e3469bbb8f4927e1ad11c0",
            "5cc91b9611d24421bee5793bdaf196e1",
            "70706ab1ea854960a5223143f0b154ed",
            "ee1bf73e921f46e4ac2eb655f2de932e"
          ]
        },
        "id": "sJD6FoZNoViO",
        "outputId": "c3ba551b-3f5e-41b0-a8ff-ff2f7a04eb0c"
      },
      "execution_count": null,
      "outputs": [
        {
          "output_type": "display_data",
          "data": {
            "text/plain": [
              "VBox(children=(FloatSlider(value=0.0, description='m (slope)', max=4.0, min=-4.0), FloatSlider(value=0.0, desc…"
            ],
            "application/vnd.jupyter.widget-view+json": {
              "version_major": 2,
              "version_minor": 0,
              "model_id": "bd03d1819b204ff19e4f986d7ea5b334"
            }
          },
          "metadata": {}
        }
      ]
    },
    {
      "cell_type": "markdown",
      "source": [
        "We can now adjust the slides until the loss becomes (close to) 0, and manually optimize the model parameters.\n",
        "\n",
        "We can also write some naive model training code to do this work for us.\n",
        "\n",
        "### Training\n",
        "Our training algorithm will simulate us randomly adjusting the sliders, thus modifying `m` and `b`, for a couple of iterations. Of course, we won't have the machine interact with a UI.\n",
        "\n",
        "The training algorithm works like this:\n",
        "* **Input**:\n",
        "  * The initial `m` and `b`, we can set them to 0, or initialize them randomly\n",
        "  * The training `samples` and their `labels`\n",
        "  * The `loss_function`to calculate how well the current model parameters work\n",
        "  * The number of `epochs`, which is the number of times we adjust the parameters, and evaluate them on the full training set\n",
        "  * The `learning_rate`, which defines how much we want to adjust the parametess in each epoch\n",
        "* For `epochs` iterations\n",
        "  1. Predict labels for all training samples using these modified model parameters\n",
        "  2. Calculate the loss and store it\n",
        "  2. If the loss is smaller than the previous best loss, record the current model parameters and loss as the best parameters and loss\n",
        "  3. **\"Optimize\"** the best model parameters `m` and `b` so far, by adding a random number between `0-1`, scaled by the `learning_rate`\n",
        "* **Output**: the best model parameters and loss, along with the history of losses"
      ],
      "metadata": {
        "id": "Y1GuqJJxt8ei"
      }
    },
    {
      "cell_type": "code",
      "source": [
        "import random\n",
        "\n",
        "def train(m, b, samples, labels, loss_function, epochs, learning_rate):\n",
        "  min_loss = float('inf')\n",
        "  best_m, best_b = m, b\n",
        "  losses = []\n",
        "\n",
        "  for _ in range(epochs):\n",
        "    # Predict labels with new parameters\n",
        "    predicted_labels = [predict(m, b, sample) for sample in samples]\n",
        "\n",
        "    # Calculate loss and record it\n",
        "    current_loss = loss_function(predicted_labels, labels)\n",
        "    losses.append(current_loss)\n",
        "\n",
        "    # Update best parameters if loss improved\n",
        "    if current_loss < min_loss:\n",
        "      min_loss = current_loss\n",
        "      best_m, best_b = m, b\n",
        "\n",
        "    # Randomly adjust m and b\n",
        "    m_adjust = random.random() * learning_rate\n",
        "    b_adjust = random.random() * learning_rate\n",
        "\n",
        "    m = m + m_adjust\n",
        "    b = b + b_adjust\n",
        "\n",
        "  return best_m, best_b, min_loss, losses"
      ],
      "metadata": {
        "id": "rKHbgHaEuiHa"
      },
      "execution_count": null,
      "outputs": []
    },
    {
      "cell_type": "markdown",
      "source": [
        "We can now train a model based on our data. As is common practice, we split the data into 80% for training (training set), and 20% for evaluation (test set). This is also referred to a **train/test split** of the data.\n",
        "\n"
      ],
      "metadata": {
        "id": "-lBV2ANiuolC"
      }
    },
    {
      "cell_type": "code",
      "source": [
        "from sklearn.model_selection import train_test_split\n",
        "training_samples, test_samples, training_labels, test_labels = train_test_split(samples, labels, test_size=0.2, random_state=7)"
      ],
      "metadata": {
        "id": "vb6hd95ZvFB0"
      },
      "execution_count": null,
      "outputs": []
    },
    {
      "cell_type": "markdown",
      "source": [
        "Now let us train our model, giving it 200 epochs to find good model parameters. The inital `m` and `b`are set to zero. They could also be randomly initialized. The learning rate is set to 1, which means the parameters will be updated by a value between 0 and 1 for each epoch."
      ],
      "metadata": {
        "id": "JLT6I1UFvl-7"
      }
    },
    {
      "cell_type": "code",
      "source": [
        "m, b, best_loss, losses = train(0, 0, training_samples, training_labels, loss, 100, 1)\n",
        "visualize_model(m, b, training_samples, training_labels)"
      ],
      "metadata": {
        "colab": {
          "base_uri": "https://localhost:8080/",
          "height": 484,
          "referenced_widgets": [
            "a52a0aaa955d4e78b1c9e442bbbbe8a7",
            "84c92edf85d84db4a8e9ffa683a2ca04",
            "9b9594aa18574b6d888f39d659965b4b",
            "91d2855378054fd597e35fa417146e97",
            "e5a04dea2dfd462695db49a40e32a013",
            "59c91b6b03b54af79ea47c6be44c7a65",
            "1cd52681c7654c08a9a80de3cd970c03",
            "d4098e46a1b2423f893e261c93644978",
            "94d5272c806b493f89b4590f32e0f539",
            "c1c9139449a74abb833f2f091ed467c9",
            "e5901e7770e8416da67c54a5fa56837b",
            "8d90d91fabec422b97888d6a0bd39dff",
            "84a19365421441dc883a42b9d4be7705"
          ]
        },
        "id": "lU96II4qvgrU",
        "outputId": "5c72ba3c-187c-4907-9e41-4e74b5afefb5"
      },
      "execution_count": null,
      "outputs": [
        {
          "output_type": "display_data",
          "data": {
            "text/plain": [
              "VBox(children=(FloatSlider(value=2.146063437271159, description='m (slope)', max=4.0, min=-4.0), FloatSlider(v…"
            ],
            "application/vnd.jupyter.widget-view+json": {
              "version_major": 2,
              "version_minor": 0,
              "model_id": "a52a0aaa955d4e78b1c9e442bbbbe8a7"
            }
          },
          "metadata": {}
        }
      ]
    },
    {
      "cell_type": "markdown",
      "source": [
        "We can also visualize the loss during training"
      ],
      "metadata": {
        "id": "QfPVs5zAFfBn"
      }
    },
    {
      "cell_type": "code",
      "source": [
        "def visualize_loss(losses):\n",
        "  plt.figure(figsize=(10, 6))\n",
        "  plt.plot(losses, marker='o', linestyle='-', color='blue')\n",
        "  plt.title('Training Loss Over Epochs')\n",
        "  plt.xlabel('Epoch')\n",
        "  plt.ylabel('Loss')\n",
        "  plt.grid(True)\n",
        "  plt.show()\n",
        "\n",
        "visualize_loss(losses)"
      ],
      "metadata": {
        "colab": {
          "base_uri": "https://localhost:8080/",
          "height": 564
        },
        "id": "DLkVWuYfFi7G",
        "outputId": "090bd6eb-8244-4624-94b3-246d75b173a0"
      },
      "execution_count": null,
      "outputs": [
        {
          "output_type": "display_data",
          "data": {
            "text/plain": [
              "<Figure size 1000x600 with 1 Axes>"
            ],
            "image/png": "[encoded data removed]"
          },
          "metadata": {}
        }
      ]
    },
    {
      "cell_type": "markdown",
      "source": [
        "The best loss was found after only 8 epochs. The model parameters for that epoch were choosen to be the final model parameters, as subsequent epochs yielded worse loss.\n"
      ],
      "metadata": {
        "id": "A9zgjgwsFr4i"
      }
    },
    {
      "cell_type": "markdown",
      "source": [
        "### Evaluation\n",
        "How does the trained model fare previously unseen data, such as the data in the test set? We can calculate the accuracy of the model for the test set:"
      ],
      "metadata": {
        "id": "J4ns03Zs4xZk"
      }
    },
    {
      "cell_type": "code",
      "source": [
        "accuracy([predict(m, b, sample) for sample in test_samples], test_labels)"
      ],
      "metadata": {
        "colab": {
          "base_uri": "https://localhost:8080/"
        },
        "id": "MR0SqFcA46MF",
        "outputId": "57a20791-b076-4e8b-c81e-8ac29b10b608"
      },
      "execution_count": null,
      "outputs": [
        {
          "output_type": "execute_result",
          "data": {
            "text/plain": [
              "1.0"
            ]
          },
          "metadata": {},
          "execution_count": 12
        }
      ]
    },
    {
      "cell_type": "markdown",
      "source": [
        "A value of `1` means that the model was able to assign a correct label to each sample in the test set. We can also visualize this.\n",
        "\n"
      ],
      "metadata": {
        "id": "4WoCjVlS5Bkk"
      }
    },
    {
      "cell_type": "code",
      "source": [
        "visualize_model(m, b, test_samples, test_labels)"
      ],
      "metadata": {
        "colab": {
          "base_uri": "https://localhost:8080/",
          "height": 484,
          "referenced_widgets": [
            "ffcb57c19c974e0da6af7a10f4fc4720",
            "28954bc5a61543ec9f3446a6bec87522",
            "b585aa3608144badb76bbf926e5910a7",
            "577488c7b2ee4523b1534f2686392e81",
            "7e65c45f7f904cd2ad86150de1913e58",
            "dc51da7d039c4f3b97aeb9be1afdd77a",
            "a78421c2ce6d453f8b57dc5d02cbd59a",
            "9d02cc9791584e3e8dbdb32cdf340770",
            "51942879e78045828011936d5ba6a581",
            "398cbe275735424cb1a5dfa6ff413057",
            "4cb85321e8994738b4e7d1a4ed2b05bb",
            "0ebad411e4d2491da7e0a337320e8b60",
            "43c6441ffd544f989a87e9b7d3a4abda"
          ]
        },
        "id": "_ImcGEHc5A2H",
        "outputId": "19bcced3-de89-467a-c2b3-dd35ea78d673"
      },
      "execution_count": null,
      "outputs": [
        {
          "output_type": "display_data",
          "data": {
            "text/plain": [
              "VBox(children=(FloatSlider(value=2.146063437271159, description='m (slope)', max=4.0, min=-4.0), FloatSlider(v…"
            ],
            "application/vnd.jupyter.widget-view+json": {
              "version_major": 2,
              "version_minor": 0,
              "model_id": "ffcb57c19c974e0da6af7a10f4fc4720"
            }
          },
          "metadata": {}
        }
      ]
    },
    {
      "cell_type": "markdown",
      "source": [
        "Based on this evaluation, it appears that the model generalizes well.\n",
        "\n",
        "However, as stated earlier, this model has severe deficiencies. Let us analyze them.\n",
        "\n",
        "To begin with, let us swap the labels for each sample. That is, `0` becomes `1` and `1` becomes `0`."
      ],
      "metadata": {
        "id": "R1PJY6DX59tu"
      }
    },
    {
      "cell_type": "code",
      "source": [
        "swapped_labels = np.array([1 if label == 0 else 0 for label in labels])"
      ],
      "metadata": {
        "id": "m0lbK1YRELIV"
      },
      "execution_count": null,
      "outputs": []
    },
    {
      "cell_type": "markdown",
      "source": [
        "The samples stayed the same, only the labels changed, indicated by the swapped colors of the samples in this plot:"
      ],
      "metadata": {
        "id": "4n4NuuRKEmNJ"
      }
    },
    {
      "cell_type": "code",
      "source": [
        "visualize_data(samples, swapped_labels)"
      ],
      "metadata": {
        "colab": {
          "base_uri": "https://localhost:8080/",
          "height": 410
        },
        "id": "DQsEiQGnEkpK",
        "outputId": "e5a94c3f-5f79-41f4-d7cc-5c19124c0b83"
      },
      "execution_count": null,
      "outputs": [
        {
          "output_type": "display_data",
          "data": {
            "text/plain": [
              "<Figure size 600x400 with 1 Axes>"
            ],
            "image/png": "[encoded data removed]"
          },
          "metadata": {}
        }
      ]
    },
    {
      "cell_type": "markdown",
      "source": [
        "We can train a new model on this dataset. We'd expect it to arrive at the same or a similar set of model parameters."
      ],
      "metadata": {
        "id": "T1qNdT4kE5Fu"
      }
    },
    {
      "cell_type": "code",
      "source": [
        "m, b, best_loss, losses = train(0, 0, samples, swapped_labels, loss, 100, 1)\n",
        "visualize_model(m, b, training_samples, training_labels)"
      ],
      "metadata": {
        "colab": {
          "base_uri": "https://localhost:8080/",
          "height": 484,
          "referenced_widgets": [
            "1b00cf713fba44e8bcafe89946f13b5e",
            "8b5e88e693c245589d24af8b5866d72d",
            "106d83fa054e4d45a2448dbdeec0fa16",
            "d9c9136dc44943c792fc9eee32dcf6a6",
            "cda3553b2b3348359e2cd486053d0f87",
            "a63898b0128941d4a0f4638de29a8911",
            "9d373251a1f841018a06d932a01ae0b0",
            "a8877c0da1f248ab9d346ecb93f8955b",
            "548075a9814a49b5b4b1690202478da2",
            "5049ab70fb144f19b56c14aef33daabe",
            "5215e4657ca2426ab9a467ed661bb7d1",
            "cb3fbcd36eb8409c8f9939ddba840b8c",
            "508706394f604d86837ecb758b832c2e"
          ]
        },
        "id": "2T8TaVIJEMuL",
        "outputId": "9a1dca79-00e3-4257-eb93-ed4bf5f68864"
      },
      "execution_count": null,
      "outputs": [
        {
          "output_type": "display_data",
          "data": {
            "text/plain": [
              "VBox(children=(FloatSlider(value=0.0, description='m (slope)', max=4.0, min=-4.0), FloatSlider(value=0.0, desc…"
            ],
            "application/vnd.jupyter.widget-view+json": {
              "version_major": 2,
              "version_minor": 0,
              "model_id": "1b00cf713fba44e8bcafe89946f13b5e"
            }
          },
          "metadata": {}
        }
      ]
    },
    {
      "cell_type": "code",
      "source": [
        "visualize_loss(losses)"
      ],
      "metadata": {
        "colab": {
          "base_uri": "https://localhost:8080/",
          "height": 564
        },
        "id": "4WXe7V8AT3gO",
        "outputId": "7d5c602d-f218-49a8-a551-de522f962c7c"
      },
      "execution_count": null,
      "outputs": [
        {
          "output_type": "display_data",
          "data": {
            "text/plain": [
              "<Figure size 1000x600 with 1 Axes>"
            ],
            "image/png": "[encoded data removed]"
          },
          "metadata": {}
        }
      ]
    },
    {
      "cell_type": "markdown",
      "source": [
        "However, it clearly fails to do so. In fact, the training loss increases.\n",
        "\n",
        "The problem lies with our simplicist `predict` function. It will always assign class `0` to points above the decision boundary, and class `1` to points below the boundary.\n",
        "\n",
        "However, in the training dataset, the classes are swapped, and the samples of class `1` are always above the decision boundary. The model will thus always assign the wrong label to those samples, and is unable to make any meaningful progress.\n",
        "\n",
        "This model this has **inherent limitations**: it can only be used for:\n",
        "1. Data that can be classified into one of two classes\n",
        "2. Data that is two dimensional\n",
        "3. Data, where the samples with label `0` are assumed to be above the model's decision boundary, and samples with label `1` are assumed to be below the decision boundary.\n",
        "\n",
        "While these limitations are extreme, similar limitations may crop up in real-world applications when using much more complex models. However, as in the case above, these limitations might not be apparent during development, as the training and test set might not allow us to identify such issues."
      ],
      "metadata": {
        "id": "VZyn0rKtIFrq"
      }
    },
    {
      "cell_type": "markdown",
      "source": [
        "## A binary linear neural network classifier\n",
        "Let's create a better, more realistic classifier. All the same principles will apply.\n",
        "\n",
        "As a model, we will use a [fully connected linear feedforward neural network](https://en.wikipedia.org/wiki/Feedforward_neural_network), with 2 input neurons (one for each input feature) and 2 output neurons (one for each class). We will train the model using a stochastic gradient descent optimizer with [cross-entropy loss function](https://ml-cheatsheet.readthedocs.io/en/latest/loss_functions.html#toc-entry-1). We do not care about the mathematical intricacies here. Instead we want to focus on the general \"workflow\" of training and evaluating a supervised machine learning model.\n",
        "\n",
        "> **Note:** In practical applications, we may often also not care much for the internals of a model and simply treat it as a parameterized black box that takes some input and generates some output. We also need to understand the limitations of a model to successfully apply it to a task. This too does not necessarily require us to understand the internals of the model either. All that said, a deeper understanding of iternal mechanics is always beneficial.\n",
        "\n",
        "We will be using [PyTorch](https://pytorch.org/), a machine learning framework, to train and evalute the model. We will reuse the training set and test set data we generated above for comparison."
      ],
      "metadata": {
        "id": "GEVec5MYVZyX"
      }
    },
    {
      "cell_type": "code",
      "source": [
        "import torch\n",
        "import torch.nn as nn\n",
        "import torch.nn.functional as F\n",
        "from torch.optim import SGD\n",
        "from torch.utils.data import DataLoader, TensorDataset"
      ],
      "metadata": {
        "id": "f78jiRR6Ivcw"
      },
      "execution_count": null,
      "outputs": []
    },
    {
      "cell_type": "markdown",
      "source": [
        "### Data\n",
        "\n",
        "As a first step, we need to convert our sample and label data to [PyTorch tensors](https://pytorch.org/tutorials/beginner/introyt/tensors_deeper_tutorial.html). These are optimized data structures to store vectors (lists of numbers), matrices (two dimensional arrays of number), or more generally tensors. They also allow us to push the data to GPUs or TPUs for faster processing.\n",
        "\n",
        "\n",
        "\n"
      ],
      "metadata": {
        "id": "nWJxJub_AR_-"
      }
    },
    {
      "cell_type": "code",
      "source": [
        "training_samples_torch = torch.tensor(training_samples, dtype=torch.float)\n",
        "training_labels_torch = torch.tensor(training_labels, dtype=torch.long)\n",
        "test_samples_torch = torch.tensor(test_samples, dtype=torch.float)"
      ],
      "metadata": {
        "id": "jy0P-yIfA7cA"
      },
      "execution_count": null,
      "outputs": []
    },
    {
      "cell_type": "markdown",
      "source": [
        "Next, we create [PyTorch data sets](https://pytorch.org/tutorials/beginner/basics/data_tutorial.html). Data sets wrap our samples and labels and make them easier to handle."
      ],
      "metadata": {
        "id": "LndVijYZONoi"
      }
    },
    {
      "cell_type": "code",
      "source": [
        "training_set_torch = TensorDataset(training_samples_torch, training_labels_torch)"
      ],
      "metadata": {
        "id": "2ZzDi0gCOOA9"
      },
      "execution_count": null,
      "outputs": []
    },
    {
      "cell_type": "markdown",
      "source": [
        "### Model\n",
        "\n",
        "Next, we define our linear feedfoward neural network using Torch's [`Linear`](https://pytorch.org/docs/stable/generated/torch.nn.Linear.html) class. The first parameter specifies the number of input features. The second parameter defines the number of classes."
      ],
      "metadata": {
        "id": "cs1WHEgRBigz"
      }
    },
    {
      "cell_type": "code",
      "source": [
        "nn_model = nn.Linear(2, 2)\n",
        "nn_model"
      ],
      "metadata": {
        "id": "9EXMXVCvPPOu",
        "colab": {
          "base_uri": "https://localhost:8080/"
        },
        "outputId": "76b56dfe-eec7-42e3-d684-89a3e26acd52"
      },
      "execution_count": null,
      "outputs": [
        {
          "output_type": "execute_result",
          "data": {
            "text/plain": [
              "Linear(in_features=2, out_features=2, bias=True)"
            ]
          },
          "metadata": {},
          "execution_count": 21
        }
      ]
    },
    {
      "cell_type": "markdown",
      "source": [
        "We also need a function to make predictions for a new sample. The function `predict_nn` takes a model and one or more samples, where each sample is a tensor with the same number of features that the model was configured with.\n",
        "\n",
        "It then uses the model to make a prediction. The prediction isn't the class to be assigned to the sample directly, but a list of probabilities, one for each class. We return the class with the highest probability.\n",
        "\n",
        "> **Note:** passing only a simple sample to the model for prediction is not very efficient, especially if we perform inference on a GPU or TPU. The function thus expects an array of sample tensors, and returns an array of labels"
      ],
      "metadata": {
        "id": "b0dvApDkd5E6"
      }
    },
    {
      "cell_type": "code",
      "source": [
        "def predict_nn(model, samples):\n",
        "    with torch.no_grad():  # Disable gradient computation for inference\n",
        "        logits = model(samples)\n",
        "        _, predictions = torch.max(logits, dim=1)\n",
        "    return predictions"
      ],
      "metadata": {
        "id": "xzakOm5Yd_o8"
      },
      "execution_count": null,
      "outputs": []
    },
    {
      "cell_type": "markdown",
      "source": [
        "### Training\n",
        "For training, we use Torch's [stochastic gradient descent optimizer](https://pytorch.org/docs/stable/generated/torch.optim.SGD.html), which will adjust the models parameters during training based on the gradients generated by an instance of Torch's [Cross-Entropy loss](https://pytorch.org/docs/stable/generated/torch.nn.CrossEntropyLoss.html) class. To iterate over the training set, we'll use Torch's [DataLoader](https://pytorch.org/tutorials/beginner/basics/data_tutorial.html) class. It cuts up the training data into batches of a specific size, which we then present to the model for prediction. This batching mechanism is needed by many models, be it because the full training set does not fit into working memory, because the model can only deal with a maximum number of samples at a time, or because the model will generalize better when optimized per batch, instead of the full training set.\n",
        "\n",
        "The training loop conceptually works very similar to our naive training procedure above:\n",
        "\n",
        "* For each epoch, we iterate through the training set one batch at a time (`batch_size=10`).\n",
        "  * For each batch we:\n",
        "    1. Reset the gradients in the optimizer\n",
        "    2. Get a prediction for each training sample in the batch\n",
        "    3. Calculate the loss by comparing the predicted labels with the expected labels\n",
        "    4. Perform back propagation to calculate new gradients\n",
        "    5. Use the gradients to update the parameters of the neural network via the optimizer\n",
        "\n",
        "We also keep track of the average training loss for each epoch. Let's put all this into a new training function called `train_nn`:"
      ],
      "metadata": {
        "id": "S0f-Cv56YtE5"
      }
    },
    {
      "cell_type": "code",
      "source": [
        "def train_nn(model, training_set, epochs, learning_rate=0.01):\n",
        "  optimizer = SGD(model.parameters(), lr=learning_rate)\n",
        "  loss_function = nn.CrossEntropyLoss()\n",
        "  training_loader = DataLoader(training_set, batch_size=10, shuffle=True)\n",
        "  losses = []\n",
        "\n",
        "  for epoch in range(epochs):\n",
        "    total_loss = 0.0\n",
        "\n",
        "    for samples, labels in training_loader:\n",
        "      optimizer.zero_grad()\n",
        "      outputs = model(samples)\n",
        "      loss = loss_function(outputs, labels)\n",
        "      loss.backward()\n",
        "      optimizer.step()\n",
        "      total_loss += loss.item()\n",
        "\n",
        "    average_loss = total_loss / len(training_loader)\n",
        "    losses.append(average_loss)\n",
        "\n",
        "  return losses"
      ],
      "metadata": {
        "id": "91x7125JYzeD"
      },
      "execution_count": null,
      "outputs": []
    },
    {
      "cell_type": "markdown",
      "source": [
        "Let's train the model:"
      ],
      "metadata": {
        "id": "AMdMxPLMcnxP"
      }
    },
    {
      "cell_type": "code",
      "source": [
        "losses = train_nn(nn_model, training_set_torch, 500, 0.01)\n",
        "visualize_loss(losses)"
      ],
      "metadata": {
        "colab": {
          "base_uri": "https://localhost:8080/",
          "height": 564
        },
        "id": "y2dQJmCicqAu",
        "outputId": "e1e490f5-e24a-4e8e-e14a-24479e0b4bac"
      },
      "execution_count": null,
      "outputs": [
        {
          "output_type": "display_data",
          "data": {
            "text/plain": [
              "<Figure size 1000x600 with 1 Axes>"
            ],
            "image/png": "[encoded data removed]"
          },
          "metadata": {}
        }
      ]
    },
    {
      "cell_type": "markdown",
      "source": [
        "The model converged more or less quickly at around epoch 50. Subsequent improvements were not big in terms of training loss. As such, we could have stopped training earlier.\n",
        "\n",
        "We can also calculate the accuracy of the model on the training set."
      ],
      "metadata": {
        "id": "V0MunxUXFP2v"
      }
    },
    {
      "cell_type": "code",
      "source": [
        "nn_model.eval()\n",
        "with torch.no_grad():\n",
        "    predicted_labels = predict_nn(nn_model, training_samples_torch)\n",
        "    print(f\"Accuracy: {accuracy(predicted_labels, training_labels)}\")"
      ],
      "metadata": {
        "colab": {
          "base_uri": "https://localhost:8080/"
        },
        "id": "GnzZAzElltQ5",
        "outputId": "8a4d4051-b26f-4aef-cb02-48ea533d037c"
      },
      "execution_count": null,
      "outputs": [
        {
          "output_type": "stream",
          "name": "stdout",
          "text": [
            "Accuracy: 0.987500011920929\n"
          ]
        }
      ]
    },
    {
      "cell_type": "markdown",
      "source": [
        "The model could not achieve 100% accuracy on the training set, despite it being easily linearly separable. Let's investigate."
      ],
      "metadata": {
        "id": "35ogCB_nl6Sj"
      }
    },
    {
      "cell_type": "markdown",
      "source": [
        "### Evaluation\n",
        "We can now evaluate how the model behaves on unseen data and whether it generalizes.\n",
        "\n",
        "To do so, we switch the model to evaluation mode and disable the calculation of gradients, which are only necessary for training. This makes computation more efficient and reduces memory usage.\n",
        "\n",
        "We then predict the label of each test sample and calculate the accuracy accordingly.\n",
        "\n",
        "We can also calculate the model's accuracy on the training set:"
      ],
      "metadata": {
        "id": "MlwnVyx2ltm_"
      }
    },
    {
      "cell_type": "code",
      "source": [
        "nn_model.eval()\n",
        "with torch.no_grad():\n",
        "    predicted_labels = predict_nn(nn_model, test_samples_torch)\n",
        "    print(f\"Accuracy: {accuracy(predicted_labels, test_labels)}\")"
      ],
      "metadata": {
        "colab": {
          "base_uri": "https://localhost:8080/"
        },
        "id": "u_KAPFfcFZuO",
        "outputId": "9e4b41c7-2f84-4ffc-9aa4-8ed8aff24c6f"
      },
      "execution_count": null,
      "outputs": [
        {
          "output_type": "stream",
          "name": "stdout",
          "text": [
            "Accuracy: 1.0\n"
          ]
        }
      ]
    },
    {
      "cell_type": "markdown",
      "source": [
        "As before, we can also visualize the labels the model assigned to the test data graphically. We can also visualize the models decision boundary by generating a grid of points, predicting labels for them, and using a contour plot to color the background of the visualization."
      ],
      "metadata": {
        "id": "OZ2tdmvrjOkO"
      }
    },
    {
      "cell_type": "code",
      "source": [
        "def visualize_model_nn(model, test_samples, test_labels):\n",
        "    # Create a mesh to plot the decision boundaries\n",
        "    x_min, x_max = test_samples[:, 0].min() - 1, test_samples[:, 0].max() + 1\n",
        "    y_min, y_max = test_samples[:, 1].min() - 1, test_samples[:, 1].max() + 1\n",
        "    xx, yy = np.meshgrid(np.arange(x_min, x_max, 0.01),\n",
        "                         np.arange(y_min, y_max, 0.01))\n",
        "\n",
        "    # Predict on the mesh grid\n",
        "    mesh_samples = torch.Tensor(np.c_[xx.ravel(), yy.ravel()])\n",
        "    mesh_predictions = predict_nn(model, mesh_samples).reshape(xx.shape)\n",
        "\n",
        "    # Plot the decision boundary\n",
        "    plt.contourf(xx, yy, mesh_predictions, alpha=0.5, cmap='coolwarm')\n",
        "\n",
        "    # Scatter plot the test data\n",
        "    scatter = plt.scatter(test_samples[:, 0], test_samples[:, 1], c=test_labels, cmap='coolwarm', edgecolor='k', s=20)\n",
        "    plt.title('Test Data and Decision Boundary')\n",
        "    plt.xlabel('Feature 1')\n",
        "    plt.ylabel('Feature 2')\n",
        "    legend = plt.legend(*scatter.legend_elements(), title=\"Classes\")\n",
        "    plt.gca().add_artist(legend)\n",
        "    plt.show()\n",
        "visualize_model_nn(nn_model, test_samples, test_labels)"
      ],
      "metadata": {
        "colab": {
          "base_uri": "https://localhost:8080/",
          "height": 472
        },
        "id": "P45hkKZ3jnZb",
        "outputId": "600dda20-2370-460d-a8ad-82781da13b2d"
      },
      "execution_count": null,
      "outputs": [
        {
          "output_type": "display_data",
          "data": {
            "text/plain": [
              "<Figure size 640x480 with 1 Axes>"
            ],
            "image/png": "[encoded data removed]"
          },
          "metadata": {}
        }
      ]
    },
    {
      "cell_type": "markdown",
      "source": [
        "We can now also visualize the models output for the training set a little better, and see, that it was unable to classify one sample from class `1` correctly."
      ],
      "metadata": {
        "id": "p4iO2Hkgla79"
      }
    },
    {
      "cell_type": "code",
      "source": [
        "visualize_model_nn(nn_model, training_samples, training_labels)"
      ],
      "metadata": {
        "colab": {
          "base_uri": "https://localhost:8080/",
          "height": 472
        },
        "id": "tac_Dysokbqg",
        "outputId": "7023ce44-8270-4e16-c39d-ab35cb46bbeb"
      },
      "execution_count": null,
      "outputs": [
        {
          "output_type": "display_data",
          "data": {
            "text/plain": [
              "<Figure size 640x480 with 1 Axes>"
            ],
            "image/png": "[encoded data removed]"
          },
          "metadata": {}
        }
      ]
    },
    {
      "cell_type": "markdown",
      "source": [
        "Ideally, the decision boundary would be located such that the samples of each class are as far away from it as possible. This would yield better generalization, and also fix the one misclassified sample of class `1` in the training set.\n",
        "\n",
        "We can try to more complex neural network model."
      ],
      "metadata": {
        "id": "MtdGsO6ynx72"
      }
    },
    {
      "cell_type": "markdown",
      "source": [
        "## A (not so) deep neural network classifier\n",
        "Creating a more complex neural network is very simple with Torch. Let's create a neural network architecture that has:\n",
        "\n",
        "1. A linear layer with 2 inputs and 64 outputs\n",
        "2. Another linear layer with 64 inputs and 64 outputs\n",
        "3. A final layer with 64 inputs and 2 outputs\n",
        "\n",
        "The first layer's input size is equal to the number of features of our samples. The last layer's output size is equal to the number of classes. The additional hidden layer gives the model more \"degrees of freedom\" when it learns how the data is shaped.\n",
        "\n",
        "We also need to decide on an activation function, that is, a function that is used to calculate a value based on the weighted inputs to a neuron. A common choice is the [ReLU](https://en.wikipedia.org/wiki/Rectifier_(neural_networks)) function.\n",
        "\n",
        "Here's how we can define and instantiate this model:"
      ],
      "metadata": {
        "id": "wbhUKv_HoQEY"
      }
    },
    {
      "cell_type": "code",
      "source": [
        "class SimpleDeepNet(nn.Module):\n",
        "  def __init__(self, input_size=2, hidden_size=64, output_size=2):\n",
        "    super(SimpleDeepNet, self).__init__()\n",
        "    self.fc1 = nn.Linear(input_size, hidden_size)  # Input to hidden layer\n",
        "    self.fc2 = nn.Linear(hidden_size, output_size)  # Hidden to output layer\n",
        "\n",
        "  def forward(self, x):\n",
        "    x = F.relu(self.fc1(x))  # Activation function for hidden layer\n",
        "    x = self.fc2(x)  # No activation here if using CrossEntropyLoss\n",
        "    return x\n",
        "\n",
        "deepish_nn_model = SimpleDeepNet(2, 64, 2)"
      ],
      "metadata": {
        "id": "eiGJnDlQoxqF"
      },
      "execution_count": null,
      "outputs": []
    },
    {
      "cell_type": "markdown",
      "source": [
        "Next we can train the model as before."
      ],
      "metadata": {
        "id": "-0IeTC2kpa0s"
      }
    },
    {
      "cell_type": "code",
      "source": [
        "losses = train_nn(deepish_nn_model, training_set_torch, 500, 0.01)\n",
        "visualize_loss(losses)"
      ],
      "metadata": {
        "colab": {
          "base_uri": "https://localhost:8080/",
          "height": 564
        },
        "id": "dDhxn6UWnxnc",
        "outputId": "5c68e093-829f-48b7-845c-b74b8888e894"
      },
      "execution_count": null,
      "outputs": [
        {
          "output_type": "display_data",
          "data": {
            "text/plain": [
              "<Figure size 1000x600 with 1 Axes>"
            ],
            "image/png": "[encoded data removed]"
          },
          "metadata": {}
        }
      ]
    },
    {
      "cell_type": "markdown",
      "source": [
        "What is the model's accuracy on the training set?"
      ],
      "metadata": {
        "id": "RQQovh1Fp9Q5"
      }
    },
    {
      "cell_type": "code",
      "source": [
        "deepish_nn_model.eval()\n",
        "with torch.no_grad():\n",
        "    predicted_labels = predict_nn(deepish_nn_model, training_samples_torch)\n",
        "    print(f\"Accuracy: {accuracy(predicted_labels, training_labels)}\")"
      ],
      "metadata": {
        "colab": {
          "base_uri": "https://localhost:8080/"
        },
        "id": "II2KSlZnqBuO",
        "outputId": "261e5d4f-050e-45e7-c4b2-bbceae0ee68c"
      },
      "execution_count": null,
      "outputs": [
        {
          "output_type": "stream",
          "name": "stdout",
          "text": [
            "Accuracy: 1.0\n"
          ]
        }
      ]
    },
    {
      "cell_type": "markdown",
      "source": [
        "Looks like it got it perfectly. Let's see how it does on previously unseen samples from the test set."
      ],
      "metadata": {
        "id": "HOl0gVGuqFkI"
      }
    },
    {
      "cell_type": "code",
      "source": [
        "with torch.no_grad():\n",
        "    predicted_labels = predict_nn(deepish_nn_model, test_samples_torch)\n",
        "    print(f\"Accuracy: {accuracy(predicted_labels, test_labels)}\")"
      ],
      "metadata": {
        "colab": {
          "base_uri": "https://localhost:8080/"
        },
        "id": "cnHVSY_fqLS5",
        "outputId": "47187c97-5954-4f87-89b8-285296c10125"
      },
      "execution_count": null,
      "outputs": [
        {
          "output_type": "stream",
          "name": "stdout",
          "text": [
            "Accuracy: 1.0\n"
          ]
        }
      ]
    },
    {
      "cell_type": "markdown",
      "source": [
        "And finally, let's have a look at the decision boundary it learned."
      ],
      "metadata": {
        "id": "tsigZ8DGqPqf"
      }
    },
    {
      "cell_type": "code",
      "source": [
        "visualize_model_nn(deepish_nn_model, training_samples, training_labels)"
      ],
      "metadata": {
        "colab": {
          "base_uri": "https://localhost:8080/",
          "height": 472
        },
        "id": "iBetsv8DqTyA",
        "outputId": "da71c059-57ef-43f3-fe96-25ad872cf288"
      },
      "execution_count": null,
      "outputs": [
        {
          "output_type": "display_data",
          "data": {
            "text/plain": [
              "<Figure size 640x480 with 1 Axes>"
            ],
            "image/png": "[encoded data removed]"
          },
          "metadata": {}
        }
      ]
    },
    {
      "cell_type": "markdown",
      "source": [
        "As we can see, the decision boundary is no longer just a straight line. Due to the model's hidden layer, it is able to learn non-linear decision boundaries, thereby better modelling the training data, and hopefully, the true data distribution.\n",
        "\n",
        "Also note, how we could re-use all our previous code for training, evaluation, and visualization. Modern machine learning is quite modular, and many concepts and mechanisms like loss function, optimizer, or evaluation metrics transfer nicely between machine learning models.\n",
        "\n",
        "It also enables us to combine multiple models to form a single model, to build even more powerful machine learning applications."
      ],
      "metadata": {
        "id": "C5esY6L5qgvs"
      }
    }
  ]
}