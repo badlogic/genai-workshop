{
  "nbformat": 4,
  "nbformat_minor": 0,
  "metadata": {
    "colab": {
      "provenance": [],
      "toc_visible": true,
      "authorship_tag": "ABX9TyMBBAS4lOIgDEFolB7VI/03",
      "include_colab_link": true
    },
    "kernelspec": {
      "name": "python3",
      "display_name": "Python 3"
    },
    "language_info": {
      "name": "python"
    },
    "widgets": {
      "application/vnd.jupyter.widget-state+json": {
        "f8f3289fd1774be183af995afda6c71a": {
          "model_module": "@jupyter-widgets/controls",
          "model_name": "VBoxModel",
          "model_module_version": "1.5.0",
          "state": {
            "_dom_classes": [],
            "_model_module": "@jupyter-widgets/controls",
            "_model_module_version": "1.5.0",
            "_model_name": "VBoxModel",
            "_view_count": null,
            "_view_module": "@jupyter-widgets/controls",
            "_view_module_version": "1.5.0",
            "_view_name": "VBoxView",
            "box_style": "",
            "children": [
              "IPY_MODEL_e48e460551db4baf95f752c55950fb14",
              "IPY_MODEL_fd3b75cd916a415ab4acbb7749213ed9",
              "IPY_MODEL_31428cf144fb4ae384e3a72c31b67600",
              "IPY_MODEL_fa3e3c209e024cc58acdbdea38da1e20"
            ],
            "layout": "IPY_MODEL_29a5b28c022c4eaf8f72fa48a8fc42c6"
          }
        },
        "07f3197de5084773b1e6815edb6dbb28": {
          "model_module": "@jupyter-widgets/controls",
          "model_name": "HTMLModel",
          "model_module_version": "1.5.0",
          "state": {
            "_dom_classes": [],
            "_model_module": "@jupyter-widgets/controls",
            "_model_module_version": "1.5.0",
            "_model_name": "HTMLModel",
            "_view_count": null,
            "_view_module": "@jupyter-widgets/controls",
            "_view_module_version": "1.5.0",
            "_view_name": "HTMLView",
            "description": "",
            "description_tooltip": null,
            "layout": "IPY_MODEL_32294f637d8a4d3e80e6c38d93505a0d",
            "placeholder": "​",
            "style": "IPY_MODEL_a1cce15d82074108ab0f2b6b4cc0a580",
            "value": "<center> <img\nsrc=https://huggingface.co/front/assets/huggingface_logo-noborder.svg\nalt='Hugging Face'> <br> Copy a token from <a\nhref=\"https://huggingface.co/settings/tokens\" target=\"_blank\">your Hugging Face\ntokens page</a> and paste it below. <br> Immediately click login after copying\nyour token or it might be stored in plain text in this notebook file. </center>"
          }
        },
        "39f6add6664c4f258850463df53804a6": {
          "model_module": "@jupyter-widgets/controls",
          "model_name": "PasswordModel",
          "model_module_version": "1.5.0",
          "state": {
            "_dom_classes": [],
            "_model_module": "@jupyter-widgets/controls",
            "_model_module_version": "1.5.0",
            "_model_name": "PasswordModel",
            "_view_count": null,
            "_view_module": "@jupyter-widgets/controls",
            "_view_module_version": "1.5.0",
            "_view_name": "PasswordView",
            "continuous_update": true,
            "description": "Token:",
            "description_tooltip": null,
            "disabled": false,
            "layout": "IPY_MODEL_c46d18d3b31447ceb5a15cb01ef2929e",
            "placeholder": "​",
            "style": "IPY_MODEL_de51c619b4884ac79ff05dcda93191f4",
            "value": ""
          }
        },
        "fb2a5df9465a4f85885d80f8a82316e1": {
          "model_module": "@jupyter-widgets/controls",
          "model_name": "CheckboxModel",
          "model_module_version": "1.5.0",
          "state": {
            "_dom_classes": [],
            "_model_module": "@jupyter-widgets/controls",
            "_model_module_version": "1.5.0",
            "_model_name": "CheckboxModel",
            "_view_count": null,
            "_view_module": "@jupyter-widgets/controls",
            "_view_module_version": "1.5.0",
            "_view_name": "CheckboxView",
            "description": "Add token as git credential?",
            "description_tooltip": null,
            "disabled": false,
            "indent": true,
            "layout": "IPY_MODEL_f431b978579a49f9a78cd9c49981459c",
            "style": "IPY_MODEL_5e9bbb76a1664441acc9ba25b1f6f289",
            "value": true
          }
        },
        "cf233acab45e49bfbf9782c547c01436": {
          "model_module": "@jupyter-widgets/controls",
          "model_name": "ButtonModel",
          "model_module_version": "1.5.0",
          "state": {
            "_dom_classes": [],
            "_model_module": "@jupyter-widgets/controls",
            "_model_module_version": "1.5.0",
            "_model_name": "ButtonModel",
            "_view_count": null,
            "_view_module": "@jupyter-widgets/controls",
            "_view_module_version": "1.5.0",
            "_view_name": "ButtonView",
            "button_style": "",
            "description": "Login",
            "disabled": false,
            "icon": "",
            "layout": "IPY_MODEL_2b96dc6e23574080842c862c8674b5df",
            "style": "IPY_MODEL_c48ecde78d46428395009b128d777dc6",
            "tooltip": ""
          }
        },
        "43855c7edf1d4b7a82c7a7ba013fdc8b": {
          "model_module": "@jupyter-widgets/controls",
          "model_name": "HTMLModel",
          "model_module_version": "1.5.0",
          "state": {
            "_dom_classes": [],
            "_model_module": "@jupyter-widgets/controls",
            "_model_module_version": "1.5.0",
            "_model_name": "HTMLModel",
            "_view_count": null,
            "_view_module": "@jupyter-widgets/controls",
            "_view_module_version": "1.5.0",
            "_view_name": "HTMLView",
            "description": "",
            "description_tooltip": null,
            "layout": "IPY_MODEL_28df3b779f1544c4acc9f41f65e86890",
            "placeholder": "​",
            "style": "IPY_MODEL_cf06b1dc2440434aa3e07c1c38a0a783",
            "value": "\n<b>Pro Tip:</b> If you don't already have one, you can create a dedicated\n'notebooks' token with 'write' access, that you can then easily reuse for all\nnotebooks. </center>"
          }
        },
        "29a5b28c022c4eaf8f72fa48a8fc42c6": {
          "model_module": "@jupyter-widgets/base",
          "model_name": "LayoutModel",
          "model_module_version": "1.2.0",
          "state": {
            "_model_module": "@jupyter-widgets/base",
            "_model_module_version": "1.2.0",
            "_model_name": "LayoutModel",
            "_view_count": null,
            "_view_module": "@jupyter-widgets/base",
            "_view_module_version": "1.2.0",
            "_view_name": "LayoutView",
            "align_content": null,
            "align_items": "center",
            "align_self": null,
            "border": null,
            "bottom": null,
            "display": "flex",
            "flex": null,
            "flex_flow": "column",
            "grid_area": null,
            "grid_auto_columns": null,
            "grid_auto_flow": null,
            "grid_auto_rows": null,
            "grid_column": null,
            "grid_gap": null,
            "grid_row": null,
            "grid_template_areas": null,
            "grid_template_columns": null,
            "grid_template_rows": null,
            "height": null,
            "justify_content": null,
            "justify_items": null,
            "left": null,
            "margin": null,
            "max_height": null,
            "max_width": null,
            "min_height": null,
            "min_width": null,
            "object_fit": null,
            "object_position": null,
            "order": null,
            "overflow": null,
            "overflow_x": null,
            "overflow_y": null,
            "padding": null,
            "right": null,
            "top": null,
            "visibility": null,
            "width": "50%"
          }
        },
        "32294f637d8a4d3e80e6c38d93505a0d": {
          "model_module": "@jupyter-widgets/base",
          "model_name": "LayoutModel",
          "model_module_version": "1.2.0",
          "state": {
            "_model_module": "@jupyter-widgets/base",
            "_model_module_version": "1.2.0",
            "_model_name": "LayoutModel",
            "_view_count": null,
            "_view_module": "@jupyter-widgets/base",
            "_view_module_version": "1.2.0",
            "_view_name": "LayoutView",
            "align_content": null,
            "align_items": null,
            "align_self": null,
            "border": null,
            "bottom": null,
            "display": null,
            "flex": null,
            "flex_flow": null,
            "grid_area": null,
            "grid_auto_columns": null,
            "grid_auto_flow": null,
            "grid_auto_rows": null,
            "grid_column": null,
            "grid_gap": null,
            "grid_row": null,
            "grid_template_areas": null,
            "grid_template_columns": null,
            "grid_template_rows": null,
            "height": null,
            "justify_content": null,
            "justify_items": null,
            "left": null,
            "margin": null,
            "max_height": null,
            "max_width": null,
            "min_height": null,
            "min_width": null,
            "object_fit": null,
            "object_position": null,
            "order": null,
            "overflow": null,
            "overflow_x": null,
            "overflow_y": null,
            "padding": null,
            "right": null,
            "top": null,
            "visibility": null,
            "width": null
          }
        },
        "a1cce15d82074108ab0f2b6b4cc0a580": {
          "model_module": "@jupyter-widgets/controls",
          "model_name": "DescriptionStyleModel",
          "model_module_version": "1.5.0",
          "state": {
            "_model_module": "@jupyter-widgets/controls",
            "_model_module_version": "1.5.0",
            "_model_name": "DescriptionStyleModel",
            "_view_count": null,
            "_view_module": "@jupyter-widgets/base",
            "_view_module_version": "1.2.0",
            "_view_name": "StyleView",
            "description_width": ""
          }
        },
        "c46d18d3b31447ceb5a15cb01ef2929e": {
          "model_module": "@jupyter-widgets/base",
          "model_name": "LayoutModel",
          "model_module_version": "1.2.0",
          "state": {
            "_model_module": "@jupyter-widgets/base",
            "_model_module_version": "1.2.0",
            "_model_name": "LayoutModel",
            "_view_count": null,
            "_view_module": "@jupyter-widgets/base",
            "_view_module_version": "1.2.0",
            "_view_name": "LayoutView",
            "align_content": null,
            "align_items": null,
            "align_self": null,
            "border": null,
            "bottom": null,
            "display": null,
            "flex": null,
            "flex_flow": null,
            "grid_area": null,
            "grid_auto_columns": null,
            "grid_auto_flow": null,
            "grid_auto_rows": null,
            "grid_column": null,
            "grid_gap": null,
            "grid_row": null,
            "grid_template_areas": null,
            "grid_template_columns": null,
            "grid_template_rows": null,
            "height": null,
            "justify_content": null,
            "justify_items": null,
            "left": null,
            "margin": null,
            "max_height": null,
            "max_width": null,
            "min_height": null,
            "min_width": null,
            "object_fit": null,
            "object_position": null,
            "order": null,
            "overflow": null,
            "overflow_x": null,
            "overflow_y": null,
            "padding": null,
            "right": null,
            "top": null,
            "visibility": null,
            "width": null
          }
        },
        "de51c619b4884ac79ff05dcda93191f4": {
          "model_module": "@jupyter-widgets/controls",
          "model_name": "DescriptionStyleModel",
          "model_module_version": "1.5.0",
          "state": {
            "_model_module": "@jupyter-widgets/controls",
            "_model_module_version": "1.5.0",
            "_model_name": "DescriptionStyleModel",
            "_view_count": null,
            "_view_module": "@jupyter-widgets/base",
            "_view_module_version": "1.2.0",
            "_view_name": "StyleView",
            "description_width": ""
          }
        },
        "f431b978579a49f9a78cd9c49981459c": {
          "model_module": "@jupyter-widgets/base",
          "model_name": "LayoutModel",
          "model_module_version": "1.2.0",
          "state": {
            "_model_module": "@jupyter-widgets/base",
            "_model_module_version": "1.2.0",
            "_model_name": "LayoutModel",
            "_view_count": null,
            "_view_module": "@jupyter-widgets/base",
            "_view_module_version": "1.2.0",
            "_view_name": "LayoutView",
            "align_content": null,
            "align_items": null,
            "align_self": null,
            "border": null,
            "bottom": null,
            "display": null,
            "flex": null,
            "flex_flow": null,
            "grid_area": null,
            "grid_auto_columns": null,
            "grid_auto_flow": null,
            "grid_auto_rows": null,
            "grid_column": null,
            "grid_gap": null,
            "grid_row": null,
            "grid_template_areas": null,
            "grid_template_columns": null,
            "grid_template_rows": null,
            "height": null,
            "justify_content": null,
            "justify_items": null,
            "left": null,
            "margin": null,
            "max_height": null,
            "max_width": null,
            "min_height": null,
            "min_width": null,
            "object_fit": null,
            "object_position": null,
            "order": null,
            "overflow": null,
            "overflow_x": null,
            "overflow_y": null,
            "padding": null,
            "right": null,
            "top": null,
            "visibility": null,
            "width": null
          }
        },
        "5e9bbb76a1664441acc9ba25b1f6f289": {
          "model_module": "@jupyter-widgets/controls",
          "model_name": "DescriptionStyleModel",
          "model_module_version": "1.5.0",
          "state": {
            "_model_module": "@jupyter-widgets/controls",
            "_model_module_version": "1.5.0",
            "_model_name": "DescriptionStyleModel",
            "_view_count": null,
            "_view_module": "@jupyter-widgets/base",
            "_view_module_version": "1.2.0",
            "_view_name": "StyleView",
            "description_width": ""
          }
        },
        "2b96dc6e23574080842c862c8674b5df": {
          "model_module": "@jupyter-widgets/base",
          "model_name": "LayoutModel",
          "model_module_version": "1.2.0",
          "state": {
            "_model_module": "@jupyter-widgets/base",
            "_model_module_version": "1.2.0",
            "_model_name": "LayoutModel",
            "_view_count": null,
            "_view_module": "@jupyter-widgets/base",
            "_view_module_version": "1.2.0",
            "_view_name": "LayoutView",
            "align_content": null,
            "align_items": null,
            "align_self": null,
            "border": null,
            "bottom": null,
            "display": null,
            "flex": null,
            "flex_flow": null,
            "grid_area": null,
            "grid_auto_columns": null,
            "grid_auto_flow": null,
            "grid_auto_rows": null,
            "grid_column": null,
            "grid_gap": null,
            "grid_row": null,
            "grid_template_areas": null,
            "grid_template_columns": null,
            "grid_template_rows": null,
            "height": null,
            "justify_content": null,
            "justify_items": null,
            "left": null,
            "margin": null,
            "max_height": null,
            "max_width": null,
            "min_height": null,
            "min_width": null,
            "object_fit": null,
            "object_position": null,
            "order": null,
            "overflow": null,
            "overflow_x": null,
            "overflow_y": null,
            "padding": null,
            "right": null,
            "top": null,
            "visibility": null,
            "width": null
          }
        },
        "c48ecde78d46428395009b128d777dc6": {
          "model_module": "@jupyter-widgets/controls",
          "model_name": "ButtonStyleModel",
          "model_module_version": "1.5.0",
          "state": {
            "_model_module": "@jupyter-widgets/controls",
            "_model_module_version": "1.5.0",
            "_model_name": "ButtonStyleModel",
            "_view_count": null,
            "_view_module": "@jupyter-widgets/base",
            "_view_module_version": "1.2.0",
            "_view_name": "StyleView",
            "button_color": null,
            "font_weight": ""
          }
        },
        "28df3b779f1544c4acc9f41f65e86890": {
          "model_module": "@jupyter-widgets/base",
          "model_name": "LayoutModel",
          "model_module_version": "1.2.0",
          "state": {
            "_model_module": "@jupyter-widgets/base",
            "_model_module_version": "1.2.0",
            "_model_name": "LayoutModel",
            "_view_count": null,
            "_view_module": "@jupyter-widgets/base",
            "_view_module_version": "1.2.0",
            "_view_name": "LayoutView",
            "align_content": null,
            "align_items": null,
            "align_self": null,
            "border": null,
            "bottom": null,
            "display": null,
            "flex": null,
            "flex_flow": null,
            "grid_area": null,
            "grid_auto_columns": null,
            "grid_auto_flow": null,
            "grid_auto_rows": null,
            "grid_column": null,
            "grid_gap": null,
            "grid_row": null,
            "grid_template_areas": null,
            "grid_template_columns": null,
            "grid_template_rows": null,
            "height": null,
            "justify_content": null,
            "justify_items": null,
            "left": null,
            "margin": null,
            "max_height": null,
            "max_width": null,
            "min_height": null,
            "min_width": null,
            "object_fit": null,
            "object_position": null,
            "order": null,
            "overflow": null,
            "overflow_x": null,
            "overflow_y": null,
            "padding": null,
            "right": null,
            "top": null,
            "visibility": null,
            "width": null
          }
        },
        "cf06b1dc2440434aa3e07c1c38a0a783": {
          "model_module": "@jupyter-widgets/controls",
          "model_name": "DescriptionStyleModel",
          "model_module_version": "1.5.0",
          "state": {
            "_model_module": "@jupyter-widgets/controls",
            "_model_module_version": "1.5.0",
            "_model_name": "DescriptionStyleModel",
            "_view_count": null,
            "_view_module": "@jupyter-widgets/base",
            "_view_module_version": "1.2.0",
            "_view_name": "StyleView",
            "description_width": ""
          }
        },
        "da3dc6b954104901a91dfb61a2d1b356": {
          "model_module": "@jupyter-widgets/controls",
          "model_name": "LabelModel",
          "model_module_version": "1.5.0",
          "state": {
            "_dom_classes": [],
            "_model_module": "@jupyter-widgets/controls",
            "_model_module_version": "1.5.0",
            "_model_name": "LabelModel",
            "_view_count": null,
            "_view_module": "@jupyter-widgets/controls",
            "_view_module_version": "1.5.0",
            "_view_name": "LabelView",
            "description": "",
            "description_tooltip": null,
            "layout": "IPY_MODEL_46740a7fb2784d45935b387a849286cb",
            "placeholder": "​",
            "style": "IPY_MODEL_04bb3d5badac418fb0edb2ea042015fe",
            "value": "Connecting..."
          }
        },
        "46740a7fb2784d45935b387a849286cb": {
          "model_module": "@jupyter-widgets/base",
          "model_name": "LayoutModel",
          "model_module_version": "1.2.0",
          "state": {
            "_model_module": "@jupyter-widgets/base",
            "_model_module_version": "1.2.0",
            "_model_name": "LayoutModel",
            "_view_count": null,
            "_view_module": "@jupyter-widgets/base",
            "_view_module_version": "1.2.0",
            "_view_name": "LayoutView",
            "align_content": null,
            "align_items": null,
            "align_self": null,
            "border": null,
            "bottom": null,
            "display": null,
            "flex": null,
            "flex_flow": null,
            "grid_area": null,
            "grid_auto_columns": null,
            "grid_auto_flow": null,
            "grid_auto_rows": null,
            "grid_column": null,
            "grid_gap": null,
            "grid_row": null,
            "grid_template_areas": null,
            "grid_template_columns": null,
            "grid_template_rows": null,
            "height": null,
            "justify_content": null,
            "justify_items": null,
            "left": null,
            "margin": null,
            "max_height": null,
            "max_width": null,
            "min_height": null,
            "min_width": null,
            "object_fit": null,
            "object_position": null,
            "order": null,
            "overflow": null,
            "overflow_x": null,
            "overflow_y": null,
            "padding": null,
            "right": null,
            "top": null,
            "visibility": null,
            "width": null
          }
        },
        "04bb3d5badac418fb0edb2ea042015fe": {
          "model_module": "@jupyter-widgets/controls",
          "model_name": "DescriptionStyleModel",
          "model_module_version": "1.5.0",
          "state": {
            "_model_module": "@jupyter-widgets/controls",
            "_model_module_version": "1.5.0",
            "_model_name": "DescriptionStyleModel",
            "_view_count": null,
            "_view_module": "@jupyter-widgets/base",
            "_view_module_version": "1.2.0",
            "_view_name": "StyleView",
            "description_width": ""
          }
        },
        "e48e460551db4baf95f752c55950fb14": {
          "model_module": "@jupyter-widgets/controls",
          "model_name": "LabelModel",
          "model_module_version": "1.5.0",
          "state": {
            "_dom_classes": [],
            "_model_module": "@jupyter-widgets/controls",
            "_model_module_version": "1.5.0",
            "_model_name": "LabelModel",
            "_view_count": null,
            "_view_module": "@jupyter-widgets/controls",
            "_view_module_version": "1.5.0",
            "_view_name": "LabelView",
            "description": "",
            "description_tooltip": null,
            "layout": "IPY_MODEL_5983ce47fbc34b689c3a8f44896b896b",
            "placeholder": "​",
            "style": "IPY_MODEL_7fdceb7416804268aeb56271fdd360e8",
            "value": "Token is valid (permission: write)."
          }
        },
        "fd3b75cd916a415ab4acbb7749213ed9": {
          "model_module": "@jupyter-widgets/controls",
          "model_name": "LabelModel",
          "model_module_version": "1.5.0",
          "state": {
            "_dom_classes": [],
            "_model_module": "@jupyter-widgets/controls",
            "_model_module_version": "1.5.0",
            "_model_name": "LabelModel",
            "_view_count": null,
            "_view_module": "@jupyter-widgets/controls",
            "_view_module_version": "1.5.0",
            "_view_name": "LabelView",
            "description": "",
            "description_tooltip": null,
            "layout": "IPY_MODEL_150cb6ae1ab54e2da13ee7c96cc7b0b0",
            "placeholder": "​",
            "style": "IPY_MODEL_1cb6ae1f54cc49e185525e22aa52ae53",
            "value": "Your token has been saved in your configured git credential helpers (store)."
          }
        },
        "31428cf144fb4ae384e3a72c31b67600": {
          "model_module": "@jupyter-widgets/controls",
          "model_name": "LabelModel",
          "model_module_version": "1.5.0",
          "state": {
            "_dom_classes": [],
            "_model_module": "@jupyter-widgets/controls",
            "_model_module_version": "1.5.0",
            "_model_name": "LabelModel",
            "_view_count": null,
            "_view_module": "@jupyter-widgets/controls",
            "_view_module_version": "1.5.0",
            "_view_name": "LabelView",
            "description": "",
            "description_tooltip": null,
            "layout": "IPY_MODEL_2730dc4a01e447dca0fb6829ce4a37c7",
            "placeholder": "​",
            "style": "IPY_MODEL_65cc313143a34d58acc66bd15b0d7ab0",
            "value": "Your token has been saved to /root/.cache/huggingface/token"
          }
        },
        "fa3e3c209e024cc58acdbdea38da1e20": {
          "model_module": "@jupyter-widgets/controls",
          "model_name": "LabelModel",
          "model_module_version": "1.5.0",
          "state": {
            "_dom_classes": [],
            "_model_module": "@jupyter-widgets/controls",
            "_model_module_version": "1.5.0",
            "_model_name": "LabelModel",
            "_view_count": null,
            "_view_module": "@jupyter-widgets/controls",
            "_view_module_version": "1.5.0",
            "_view_name": "LabelView",
            "description": "",
            "description_tooltip": null,
            "layout": "IPY_MODEL_87e8afe829b64028b65525a39a3b0294",
            "placeholder": "​",
            "style": "IPY_MODEL_70551bff417a4ea18b41432bd9baf55f",
            "value": "Login successful"
          }
        },
        "5983ce47fbc34b689c3a8f44896b896b": {
          "model_module": "@jupyter-widgets/base",
          "model_name": "LayoutModel",
          "model_module_version": "1.2.0",
          "state": {
            "_model_module": "@jupyter-widgets/base",
            "_model_module_version": "1.2.0",
            "_model_name": "LayoutModel",
            "_view_count": null,
            "_view_module": "@jupyter-widgets/base",
            "_view_module_version": "1.2.0",
            "_view_name": "LayoutView",
            "align_content": null,
            "align_items": null,
            "align_self": null,
            "border": null,
            "bottom": null,
            "display": null,
            "flex": null,
            "flex_flow": null,
            "grid_area": null,
            "grid_auto_columns": null,
            "grid_auto_flow": null,
            "grid_auto_rows": null,
            "grid_column": null,
            "grid_gap": null,
            "grid_row": null,
            "grid_template_areas": null,
            "grid_template_columns": null,
            "grid_template_rows": null,
            "height": null,
            "justify_content": null,
            "justify_items": null,
            "left": null,
            "margin": null,
            "max_height": null,
            "max_width": null,
            "min_height": null,
            "min_width": null,
            "object_fit": null,
            "object_position": null,
            "order": null,
            "overflow": null,
            "overflow_x": null,
            "overflow_y": null,
            "padding": null,
            "right": null,
            "top": null,
            "visibility": null,
            "width": null
          }
        },
        "7fdceb7416804268aeb56271fdd360e8": {
          "model_module": "@jupyter-widgets/controls",
          "model_name": "DescriptionStyleModel",
          "model_module_version": "1.5.0",
          "state": {
            "_model_module": "@jupyter-widgets/controls",
            "_model_module_version": "1.5.0",
            "_model_name": "DescriptionStyleModel",
            "_view_count": null,
            "_view_module": "@jupyter-widgets/base",
            "_view_module_version": "1.2.0",
            "_view_name": "StyleView",
            "description_width": ""
          }
        },
        "150cb6ae1ab54e2da13ee7c96cc7b0b0": {
          "model_module": "@jupyter-widgets/base",
          "model_name": "LayoutModel",
          "model_module_version": "1.2.0",
          "state": {
            "_model_module": "@jupyter-widgets/base",
            "_model_module_version": "1.2.0",
            "_model_name": "LayoutModel",
            "_view_count": null,
            "_view_module": "@jupyter-widgets/base",
            "_view_module_version": "1.2.0",
            "_view_name": "LayoutView",
            "align_content": null,
            "align_items": null,
            "align_self": null,
            "border": null,
            "bottom": null,
            "display": null,
            "flex": null,
            "flex_flow": null,
            "grid_area": null,
            "grid_auto_columns": null,
            "grid_auto_flow": null,
            "grid_auto_rows": null,
            "grid_column": null,
            "grid_gap": null,
            "grid_row": null,
            "grid_template_areas": null,
            "grid_template_columns": null,
            "grid_template_rows": null,
            "height": null,
            "justify_content": null,
            "justify_items": null,
            "left": null,
            "margin": null,
            "max_height": null,
            "max_width": null,
            "min_height": null,
            "min_width": null,
            "object_fit": null,
            "object_position": null,
            "order": null,
            "overflow": null,
            "overflow_x": null,
            "overflow_y": null,
            "padding": null,
            "right": null,
            "top": null,
            "visibility": null,
            "width": null
          }
        },
        "1cb6ae1f54cc49e185525e22aa52ae53": {
          "model_module": "@jupyter-widgets/controls",
          "model_name": "DescriptionStyleModel",
          "model_module_version": "1.5.0",
          "state": {
            "_model_module": "@jupyter-widgets/controls",
            "_model_module_version": "1.5.0",
            "_model_name": "DescriptionStyleModel",
            "_view_count": null,
            "_view_module": "@jupyter-widgets/base",
            "_view_module_version": "1.2.0",
            "_view_name": "StyleView",
            "description_width": ""
          }
        },
        "2730dc4a01e447dca0fb6829ce4a37c7": {
          "model_module": "@jupyter-widgets/base",
          "model_name": "LayoutModel",
          "model_module_version": "1.2.0",
          "state": {
            "_model_module": "@jupyter-widgets/base",
            "_model_module_version": "1.2.0",
            "_model_name": "LayoutModel",
            "_view_count": null,
            "_view_module": "@jupyter-widgets/base",
            "_view_module_version": "1.2.0",
            "_view_name": "LayoutView",
            "align_content": null,
            "align_items": null,
            "align_self": null,
            "border": null,
            "bottom": null,
            "display": null,
            "flex": null,
            "flex_flow": null,
            "grid_area": null,
            "grid_auto_columns": null,
            "grid_auto_flow": null,
            "grid_auto_rows": null,
            "grid_column": null,
            "grid_gap": null,
            "grid_row": null,
            "grid_template_areas": null,
            "grid_template_columns": null,
            "grid_template_rows": null,
            "height": null,
            "justify_content": null,
            "justify_items": null,
            "left": null,
            "margin": null,
            "max_height": null,
            "max_width": null,
            "min_height": null,
            "min_width": null,
            "object_fit": null,
            "object_position": null,
            "order": null,
            "overflow": null,
            "overflow_x": null,
            "overflow_y": null,
            "padding": null,
            "right": null,
            "top": null,
            "visibility": null,
            "width": null
          }
        },
        "65cc313143a34d58acc66bd15b0d7ab0": {
          "model_module": "@jupyter-widgets/controls",
          "model_name": "DescriptionStyleModel",
          "model_module_version": "1.5.0",
          "state": {
            "_model_module": "@jupyter-widgets/controls",
            "_model_module_version": "1.5.0",
            "_model_name": "DescriptionStyleModel",
            "_view_count": null,
            "_view_module": "@jupyter-widgets/base",
            "_view_module_version": "1.2.0",
            "_view_name": "StyleView",
            "description_width": ""
          }
        },
        "87e8afe829b64028b65525a39a3b0294": {
          "model_module": "@jupyter-widgets/base",
          "model_name": "LayoutModel",
          "model_module_version": "1.2.0",
          "state": {
            "_model_module": "@jupyter-widgets/base",
            "_model_module_version": "1.2.0",
            "_model_name": "LayoutModel",
            "_view_count": null,
            "_view_module": "@jupyter-widgets/base",
            "_view_module_version": "1.2.0",
            "_view_name": "LayoutView",
            "align_content": null,
            "align_items": null,
            "align_self": null,
            "border": null,
            "bottom": null,
            "display": null,
            "flex": null,
            "flex_flow": null,
            "grid_area": null,
            "grid_auto_columns": null,
            "grid_auto_flow": null,
            "grid_auto_rows": null,
            "grid_column": null,
            "grid_gap": null,
            "grid_row": null,
            "grid_template_areas": null,
            "grid_template_columns": null,
            "grid_template_rows": null,
            "height": null,
            "justify_content": null,
            "justify_items": null,
            "left": null,
            "margin": null,
            "max_height": null,
            "max_width": null,
            "min_height": null,
            "min_width": null,
            "object_fit": null,
            "object_position": null,
            "order": null,
            "overflow": null,
            "overflow_x": null,
            "overflow_y": null,
            "padding": null,
            "right": null,
            "top": null,
            "visibility": null,
            "width": null
          }
        },
        "70551bff417a4ea18b41432bd9baf55f": {
          "model_module": "@jupyter-widgets/controls",
          "model_name": "DescriptionStyleModel",
          "model_module_version": "1.5.0",
          "state": {
            "_model_module": "@jupyter-widgets/controls",
            "_model_module_version": "1.5.0",
            "_model_name": "DescriptionStyleModel",
            "_view_count": null,
            "_view_module": "@jupyter-widgets/base",
            "_view_module_version": "1.2.0",
            "_view_name": "StyleView",
            "description_width": ""
          }
        }
      }
    }
  },
  "cells": [
    {
      "cell_type": "markdown",
      "metadata": {
        "id": "view-in-github",
        "colab_type": "text"
      },
      "source": [
        "<a href=\"https://colab.research.google.com/github/badlogic/genai-workshop/blob/main/03_unsupervised_learning_embeddings.ipynb\" target=\"_parent\"><img src=\"https://colab.research.google.com/assets/colab-badge.svg\" alt=\"Open In Colab\"/></a>"
      ]
    },
    {
      "cell_type": "markdown",
      "source": [
        "## Text Embeddings\n",
        "Text embedding models are a type of unsupervised machine learning model. They learn how to take a piece of text and transform it into a vector in what's called a latent space. This process is commonly referred to as (text) embedding.\n",
        "\n",
        "By transforming texts into vectors, we can measure their similarity mathematically, by calculating their distances to each other in the latent space using some distance metric or similarity measure. The beauty of this approach is, that this transformation implicitely captures the meanings and semantic relations of the texts' contents. It thereby does away with many of the problems old natural language processing systems had.\n",
        "\n",
        "This has an enormous amount of applications, both directly, and indirectly as part of bigger systems (including LLMs!).\n",
        "\n",
        "To illustrate the power of embeddings, we are going to use a pre-trained text embedding model called `jina-embeddings-v2-base-de` from Hugging Face. The specific model can handle both English and German language texts. In fact, multi-linguality is a property of many popular text embedding models.\n",
        "\n",
        "We will embed textual information about movies (title and description) and implement to popular \"downstream\" tasks for embeddings;:\n",
        "\n",
        "1. Finding similar movies (naive recommender)\n",
        "2. Finding movies that are match a user query (naive dense retrieval)\n",
        "\n",
        "## Setup and Hugging Face login\n",
        "This specific model requires granted access from the model creators. Visit [https://huggingface.co/jinaai/jina-embeddings-v2-base-de](https://huggingface.co/jinaai/jina-embeddings-v2-base-de) the model page while logged into Hugging Face, and ask for access. Once approved, we can use the `huggingface_hub` modules `notebook_login` function to log into Hugging Face from within this notebook to download and use the model."
      ],
      "metadata": {
        "id": "OkUSt_ITETDo"
      }
    },
    {
      "cell_type": "code",
      "source": [
        "!pip install huggingface_hub\n",
        "from huggingface_hub import notebook_login\n",
        "import torch\n",
        "import numpy as np\n",
        "import requests\n",
        "from transformers import AutoModel\n",
        "from numpy.linalg import norm\n",
        "\n",
        "notebook_login()"
      ],
      "metadata": {
        "colab": {
          "base_uri": "https://localhost:8080/",
          "height": 359,
          "referenced_widgets": [
            "f8f3289fd1774be183af995afda6c71a",
            "07f3197de5084773b1e6815edb6dbb28",
            "39f6add6664c4f258850463df53804a6",
            "fb2a5df9465a4f85885d80f8a82316e1",
            "cf233acab45e49bfbf9782c547c01436",
            "43855c7edf1d4b7a82c7a7ba013fdc8b",
            "29a5b28c022c4eaf8f72fa48a8fc42c6",
            "32294f637d8a4d3e80e6c38d93505a0d",
            "a1cce15d82074108ab0f2b6b4cc0a580",
            "c46d18d3b31447ceb5a15cb01ef2929e",
            "de51c619b4884ac79ff05dcda93191f4",
            "f431b978579a49f9a78cd9c49981459c",
            "5e9bbb76a1664441acc9ba25b1f6f289",
            "2b96dc6e23574080842c862c8674b5df",
            "c48ecde78d46428395009b128d777dc6",
            "28df3b779f1544c4acc9f41f65e86890",
            "cf06b1dc2440434aa3e07c1c38a0a783",
            "da3dc6b954104901a91dfb61a2d1b356",
            "46740a7fb2784d45935b387a849286cb",
            "04bb3d5badac418fb0edb2ea042015fe",
            "e48e460551db4baf95f752c55950fb14",
            "fd3b75cd916a415ab4acbb7749213ed9",
            "31428cf144fb4ae384e3a72c31b67600",
            "fa3e3c209e024cc58acdbdea38da1e20",
            "5983ce47fbc34b689c3a8f44896b896b",
            "7fdceb7416804268aeb56271fdd360e8",
            "150cb6ae1ab54e2da13ee7c96cc7b0b0",
            "1cb6ae1f54cc49e185525e22aa52ae53",
            "2730dc4a01e447dca0fb6829ce4a37c7",
            "65cc313143a34d58acc66bd15b0d7ab0",
            "87e8afe829b64028b65525a39a3b0294",
            "70551bff417a4ea18b41432bd9baf55f"
          ]
        },
        "id": "m68raIvCQ6fd",
        "outputId": "5a340ffa-de3a-401e-88e8-1c0af01ee6e7"
      },
      "execution_count": 1,
      "outputs": [
        {
          "output_type": "stream",
          "name": "stdout",
          "text": [
            "Requirement already satisfied: huggingface_hub in /usr/local/lib/python3.10/dist-packages (0.20.3)\n",
            "Requirement already satisfied: filelock in /usr/local/lib/python3.10/dist-packages (from huggingface_hub) (3.13.1)\n",
            "Requirement already satisfied: fsspec>=2023.5.0 in /usr/local/lib/python3.10/dist-packages (from huggingface_hub) (2023.6.0)\n",
            "Requirement already satisfied: requests in /usr/local/lib/python3.10/dist-packages (from huggingface_hub) (2.31.0)\n",
            "Requirement already satisfied: tqdm>=4.42.1 in /usr/local/lib/python3.10/dist-packages (from huggingface_hub) (4.66.2)\n",
            "Requirement already satisfied: pyyaml>=5.1 in /usr/local/lib/python3.10/dist-packages (from huggingface_hub) (6.0.1)\n",
            "Requirement already satisfied: typing-extensions>=3.7.4.3 in /usr/local/lib/python3.10/dist-packages (from huggingface_hub) (4.9.0)\n",
            "Requirement already satisfied: packaging>=20.9 in /usr/local/lib/python3.10/dist-packages (from huggingface_hub) (23.2)\n",
            "Requirement already satisfied: charset-normalizer<4,>=2 in /usr/local/lib/python3.10/dist-packages (from requests->huggingface_hub) (3.3.2)\n",
            "Requirement already satisfied: idna<4,>=2.5 in /usr/local/lib/python3.10/dist-packages (from requests->huggingface_hub) (3.6)\n",
            "Requirement already satisfied: urllib3<3,>=1.21.1 in /usr/local/lib/python3.10/dist-packages (from requests->huggingface_hub) (2.0.7)\n",
            "Requirement already satisfied: certifi>=2017.4.17 in /usr/local/lib/python3.10/dist-packages (from requests->huggingface_hub) (2024.2.2)\n"
          ]
        },
        {
          "output_type": "display_data",
          "data": {
            "text/plain": [
              "VBox(children=(HTML(value='<center> <img\\nsrc=https://huggingface.co/front/assets/huggingface_logo-noborder.sv…"
            ],
            "application/vnd.jupyter.widget-view+json": {
              "version_major": 2,
              "version_minor": 0,
              "model_id": "f8f3289fd1774be183af995afda6c71a"
            }
          },
          "metadata": {}
        }
      ]
    },
    {
      "cell_type": "markdown",
      "source": [
        "## Loading the embedding model\n",
        "\n",
        "Now that we are logged in, we can use the Hugging Face `AutoModel` class download and load the model. We refer to the model via its id, which is composed of the author name and model name, e.g. `jinaai/jina-embeddings-v2-base-de`.\n",
        "\n",
        "Alternatively, we can also point the `AutoModel` class to a local directory that contains an already downloaded model."
      ],
      "metadata": {
        "id": "lvbetxC_FII5"
      }
    },
    {
      "cell_type": "code",
      "source": [
        "model = AutoModel.from_pretrained('jinaai/jina-embeddings-v2-base-de', trust_remote_code=True)"
      ],
      "metadata": {
        "colab": {
          "base_uri": "https://localhost:8080/"
        },
        "id": "bkpqVdaCSAv4",
        "outputId": "24c31116-cb6c-4fc7-94eb-fb6c5849dade"
      },
      "execution_count": 2,
      "outputs": [
        {
          "output_type": "stream",
          "name": "stderr",
          "text": [
            "/usr/local/lib/python3.10/dist-packages/huggingface_hub/utils/_token.py:88: UserWarning: \n",
            "The secret `HF_TOKEN` does not exist in your Colab secrets.\n",
            "To authenticate with the Hugging Face Hub, create a token in your settings tab (https://huggingface.co/settings/tokens), set it as secret in your Google Colab and restart your session.\n",
            "You will be able to reuse this secret in all of your notebooks.\n",
            "Please note that authentication is recommended but still optional to access public models or datasets.\n",
            "  warnings.warn(\n"
          ]
        }
      ]
    },
    {
      "cell_type": "markdown",
      "source": [
        "## Convenience functions\n",
        "\n",
        "Next, we defined a few convenience functions.\n",
        "\n",
        "We need a way to calculate the similarity between two vectors. The `cos_sim` function allows us to do just that by calculating the [cosine similarity](https://en.wikipedia.org/wiki/Cosine_similarity) between two vectors. A similarity of `1` means the vectors are equal, while a similiarty of `0` means they are unequal. Usually, we'll get a value between `0` and `1`."
      ],
      "metadata": {
        "id": "MZfdvyS8FWVb"
      }
    },
    {
      "cell_type": "code",
      "source": [
        "cos_sim = lambda a,b: (a @ b.T) / (norm(a)*norm(b))"
      ],
      "metadata": {
        "id": "r3nm0cxEIdi3"
      },
      "execution_count": 3,
      "outputs": []
    },
    {
      "cell_type": "markdown",
      "source": [
        "We also create a function called `embed_local`, which uses the locally loaded jina model to embed texts provided as parameters. You can pass a single string, or a list of strings, and will get a Numpy array, or a list of Numpy arrays back, that work with `cos_sim`.\n",
        "\n",
        "We also have a global variable `embed` which points to the currently \"active\" embedding function we want to use. We can assign another function to this variable, to swap out the embedding function globally. This will come in handy later."
      ],
      "metadata": {
        "id": "VZh8K62VIfwF"
      }
    },
    {
      "cell_type": "code",
      "source": [
        "def embed_local(texts):\n",
        "  return model.encode(texts)\n",
        "\n",
        "embed = embed_local"
      ],
      "metadata": {
        "id": "beRadmIIR9dn"
      },
      "execution_count": 4,
      "outputs": []
    },
    {
      "cell_type": "markdown",
      "source": [
        "## Movie dataset\n",
        "\n",
        "We defined a simple dataset inline. It consists of 6 movies, each composed of the movie title and plot. These have been manually fetched from IMDB. We could of course also load such a dataset from a file or via an API. We keep things simple here."
      ],
      "metadata": {
        "id": "1728bFcXI6je"
      }
    },
    {
      "cell_type": "code",
      "source": [
        "movies = [\n",
        "  {\"title\": \"Star Trek: Generations\", \"plot\": \"With the help of long presumed dead Captain Kirk, Captain Picard must stop a deranged scientist willing to murder on a planetary scale in order to enter a space matrix.\"},\n",
        "  {\"title\": \"Star Wars: Episode V - The Empire Strikes Back\", \"plot\": \"After the Rebels are overpowered by the Empire, Luke Skywalker begins his Jedi training with Yoda, while his friends are pursued across the galaxy by Darth Vader and bounty hunter Boba Fett.\"},\n",
        "  {\"title\": \"Pulp Fiction\", \"plot\": \"The lives of two mob hitmen, a boxer, a gangster and his wife, and a pair of diner bandits intertwine in four tales of violence and redemption.\"},\n",
        "  {\"title\": \"Fight Club\", \"plot\": \"An insomniac office worker and a devil-may-care soap maker form an underground fight club that evolves into much more.\"},\n",
        "  {\"title\": \"Ghostbusters\", \"plot\": \"Three parapsychologists forced out of their university funding set up shop as a unique ghost removal service in New York City, attracting frightened yet skeptical customers.\"},\n",
        "  {\"title\": \"Ghostbusters II\", \"plot\": \"The discovery of a massive river of ectoplasm and a resurgence of spectral activity allows the staff of Ghostbusters to revive the business.\"}\n",
        "]"
      ],
      "metadata": {
        "id": "3YAQ5ugdSUN-"
      },
      "execution_count": 5,
      "outputs": []
    },
    {
      "cell_type": "markdown",
      "source": [
        "## Creating embedding vectors for each movie\n",
        "We embed both the title and plot as a single string for each movie, using the function pointed to be `embed` (which is `embed_local`).\n",
        "\n",
        "Each vector generated by the model has a fixed length of 768 dimensions. This is a property of the jina model. Other embedding models might generate more or less dimensions."
      ],
      "metadata": {
        "id": "6gtrOZAhJPjE"
      }
    },
    {
      "cell_type": "code",
      "source": [
        "embeddings = embed([movie[\"title\"] + \" \" + movie[\"plot\"] for movie in movies])\n",
        "print(\"Dimensions of first vector: \" + str(embeddings[0].shape[0]))\n",
        "print(\"First 10 dimensions of the first vector:\\n\" + str(embeddings[0][:10]))\n",
        "print(\"Dimensions of second vector: \" + str(embeddings[1].shape[0]))\n",
        "print(\"First 10 dimensions of the second vector:\\n\" + str(embeddings[1][:10]))"
      ],
      "metadata": {
        "colab": {
          "base_uri": "https://localhost:8080/"
        },
        "id": "xOFwiKUcJTGx",
        "outputId": "af0f5140-fb8b-4390-83a9-c1c86e14362e"
      },
      "execution_count": 12,
      "outputs": [
        {
          "output_type": "stream",
          "name": "stdout",
          "text": [
            "Dimensions of first vector: 768\n",
            "First 10 dimensions of the first vector:\n",
            "[-0.15949857 -0.2693168   0.12828872  0.03978242 -0.00434926 -0.18323022\n",
            " -0.05444287  0.08139315 -0.20358722 -0.19820127]\n",
            "Dimensions of second vector: 768\n",
            "First 10 dimensions of the second vector:\n",
            "[-0.18870565  0.13675256 -0.12258591  0.03999804  0.00593293 -0.11011664\n",
            " -0.34029493  0.23738301 -0.23080073 -0.03576482]\n"
          ]
        }
      ]
    },
    {
      "cell_type": "markdown",
      "source": [
        "Again, we can not precisely say, what each value/dimension in these vectors mean. We do however know, that they encode the meaning and semantic relationships of the original text."
      ],
      "metadata": {
        "id": "BqNj-bbxZR9g"
      }
    },
    {
      "cell_type": "markdown",
      "source": [
        "## Similarity search\n",
        "We can now use those embeddings to find movies that are similar to a query. The query could be anything, like a user query, or the title and plot of another movie.\n",
        "\n",
        "We can wrap this idea up in a function called `similarity_search`. Its parameters are as follows:\n",
        "\n",
        "* `query`: a string or vector to find similar movies for\n",
        "* `movies`: the list of movies\n",
        "* `embeddings`: the list of vectors for each movie\n",
        "\n",
        "The function first embeds the query text, if it isn't already an vector. It then calculates the cosine similarity between the query text vector and the movie vectors and stores the resulting similarity and corresponding movie in a list. Finally, the similarity list is sorted in descending order by similarity, and returned to the caller."
      ],
      "metadata": {
        "id": "pV98mqItKYtP"
      }
    },
    {
      "cell_type": "code",
      "source": [
        "def similarity_search(query, movies, embeddings):\n",
        "  query_embedding = embed(query) if isinstance(query, str) else query\n",
        "  similarities = []\n",
        "  for i in range(len(movies)):\n",
        "    similarity = cos_sim(query_embedding, embeddings[i])\n",
        "    similarities.append((movies[i], similarity))\n",
        "\n",
        "  similarities.sort(key=lambda x: x[1], reverse=True)\n",
        "  return similarities"
      ],
      "metadata": {
        "id": "x_pZFRE5KoWN"
      },
      "execution_count": 7,
      "outputs": []
    },
    {
      "cell_type": "markdown",
      "source": [
        "## Naive movie recommender\n",
        "Let's implement a movie recommender function. It takes as input:\n",
        "\n",
        "* `movie`: the movie for which we want to get recommendations\n",
        "* `movies`: the full list of movies (including the `movie`)\n",
        "* `embeddings`: the embeddings of each movie\n",
        "\n",
        "The function returns a list of tuples, each consisting of a movie and its similarity with the input `movie`. The list is sorted by similarity in descending order.\n",
        "\n"
      ],
      "metadata": {
        "id": "TnVg27pVLkgr"
      }
    },
    {
      "cell_type": "code",
      "source": [
        "def recommend_movies(movie, movies, embeddings):\n",
        "  movie_index = movies.index(movie)\n",
        "  embedding = embeddings[movies.index(movie)]\n",
        "  movies_to_search = [movies[i] for i in range(len(movies)) if i != movie_index]\n",
        "  embeddings_to_search = [embeddings[i] for i in range(len(embeddings)) if i != movie_index]\n",
        "  return similarity_search(embedding, movies_to_search, embeddings_to_search)"
      ],
      "metadata": {
        "id": "sk88YNaQdH77"
      },
      "execution_count": 13,
      "outputs": []
    },
    {
      "cell_type": "markdown",
      "source": [
        "We can now output the list of most similar movies, for each movie"
      ],
      "metadata": {
        "id": "Y2zHHAqeQ7Ei"
      }
    },
    {
      "cell_type": "code",
      "source": [
        "for i in range(len(movies)):\n",
        "  print(\"Recommended movies for \" + movies[i][\"title\"])\n",
        "  recommended = recommend_movies(movies[i], movies, embeddings)\n",
        "  for j in range(len(recommended)):\n",
        "    print(\"\\t\" + recommended[j][0][\"title\"] + \": \" + str(recommended[j][1]))\n",
        "  print()"
      ],
      "metadata": {
        "colab": {
          "base_uri": "https://localhost:8080/"
        },
        "id": "zCwF8iWdQ-rE",
        "outputId": "821d6da8-77b2-4178-be7a-ac85dc1f4f0d"
      },
      "execution_count": 14,
      "outputs": [
        {
          "output_type": "stream",
          "name": "stdout",
          "text": [
            "Recommended movies for Star Trek: Generations\n",
            "\tStar Wars: Episode V - The Empire Strikes Back: 0.25328436\n",
            "\tPulp Fiction: 0.14811614\n",
            "\tFight Club: 0.114247344\n",
            "\tGhostbusters II: 0.10307089\n",
            "\tGhostbusters: 0.05439057\n",
            "\n",
            "Recommended movies for Star Wars: Episode V - The Empire Strikes Back\n",
            "\tStar Trek: Generations: 0.25328436\n",
            "\tFight Club: 0.12428885\n",
            "\tGhostbusters II: 0.05385293\n",
            "\tPulp Fiction: 0.04211531\n",
            "\tGhostbusters: -0.02177306\n",
            "\n",
            "Recommended movies for Pulp Fiction\n",
            "\tFight Club: 0.3838614\n",
            "\tGhostbusters II: 0.1724575\n",
            "\tGhostbusters: 0.16229264\n",
            "\tStar Trek: Generations: 0.14811614\n",
            "\tStar Wars: Episode V - The Empire Strikes Back: 0.04211531\n",
            "\n",
            "Recommended movies for Fight Club\n",
            "\tPulp Fiction: 0.3838614\n",
            "\tGhostbusters: 0.17885996\n",
            "\tStar Wars: Episode V - The Empire Strikes Back: 0.12428885\n",
            "\tStar Trek: Generations: 0.114247344\n",
            "\tGhostbusters II: 0.058754705\n",
            "\n",
            "Recommended movies for Ghostbusters\n",
            "\tGhostbusters II: 0.35342678\n",
            "\tFight Club: 0.17885996\n",
            "\tPulp Fiction: 0.16229264\n",
            "\tStar Trek: Generations: 0.05439057\n",
            "\tStar Wars: Episode V - The Empire Strikes Back: -0.02177306\n",
            "\n",
            "Recommended movies for Ghostbusters II\n",
            "\tGhostbusters: 0.35342678\n",
            "\tPulp Fiction: 0.1724575\n",
            "\tStar Trek: Generations: 0.10307089\n",
            "\tFight Club: 0.058754705\n",
            "\tStar Wars: Episode V - The Empire Strikes Back: 0.05385293\n",
            "\n"
          ]
        }
      ]
    },
    {
      "cell_type": "markdown",
      "source": [
        "## Naive dense retrieval\n",
        "Retrieval is generally defined as finding relevant information like text, image, or audio documents for a given query. There are multiple ways to implement such retrieval systems, which are also known as \"search engines\". Here we'll focus on text retrieval.\n",
        "\n",
        "Previously, a search engine had to first split up a user query into words (tokens), lower case them (normalization) and remove endings (stemming). To capture synonyms, the query terms were also expanded, in the simplest case via a synonym dictionary, so that more relevant documents could be found.\n",
        "\n",
        "The resulting expanded query terms were then matched against an [inverted index](https://en.wikipedia.org/wiki/Inverted_index) of documents. To build the index, the documents' texts also had to go through this processing pipeline.\n",
        "\n",
        "To find documents matching the query, similarity measures like [TF-IDF](https://en.wikipedia.org/wiki/Tf%E2%80%93idf) or [BM25](https://en.wikipedia.org/wiki/Okapi_BM25) were used. These measures are actually related to the cosine similarity measure discussed above. Document representations in the invertex index are equivalent to sparse vectors, where a vector may not have an entry for each dimension of the vector space. E.g. the vector for the text \"The dog is brown\" only has entries for \"the\", \"dog\", \"is\", and \"brown\", but not for \"house\", or \"car\".\n",
        "\n",
        "These sparse retrieval systems faced many challenges, with the biggest being, that they work on a word level, instead of a meaning and semantic relatedness level. They were also exceptionally hard to get working in multi-lingual settings.\n",
        "\n",
        "\"Dense retrieval\" is based on vectors generated for texts by embedding models. The \"dense\" part stems from the fact, that the transformation does away entirely with words, and instead maps the text to semantic (albeit unobservable) concepts. We do no longer have to care for things like stemming or synonyms. These issues are automagically solved by the embedding model. These models also lend themselves well to handle multi-lingual retrieval, as semantic concepts transfer well between languages, as opposed to lexical words.\n",
        "\n",
        "Our `similarity_search` function does just that for movie titles and plots! We've already seen how we can use dense retrieval to find similar movies for a given movie.\n",
        "\n",
        "We can use the exact same principle to find movies that best match a user query, like those entered in a search engine. Dense retrieval simplifies implementing search engines tremendously. Let's try it out.\n",
        "\n",
        "In the code below, we use the `similarity_search` function to find movies matching a user query, and print out the results."
      ],
      "metadata": {
        "id": "lqd7qI57RCSC"
      }
    },
    {
      "cell_type": "code",
      "source": [
        "def retrieve(query, movies, embeddings):\n",
        "  results = similarity_search(query, movies, embeddings)\n",
        "  print(\">>> \" + query)\n",
        "  for i in range(len(results)):\n",
        "    result = results[i]\n",
        "    print(f'{result[0][\"title\"]}: {result[1]}')\n",
        "  print()\n",
        "\n",
        "\n",
        "retrieve(\"I want a movie with space ships\", movies, embeddings)\n",
        "retrieve(\"Give me cerebral sci-fi movies\", movies, embeddings)\n",
        "retrieve(\"I want to be scared!\", movies, embeddings)"
      ],
      "metadata": {
        "colab": {
          "base_uri": "https://localhost:8080/"
        },
        "id": "q9M6ZhxpcziL",
        "outputId": "df14e006-f4cf-4c5d-a940-e2d553145cf5"
      },
      "execution_count": 19,
      "outputs": [
        {
          "output_type": "stream",
          "name": "stdout",
          "text": [
            ">>> I want a movie with space ships\n",
            "Star Trek: Generations: 0.2362593412399292\n",
            "Star Wars: Episode V - The Empire Strikes Back: 0.13309141993522644\n",
            "Ghostbusters II: 0.10731838643550873\n",
            "Ghostbusters: 0.05222714692354202\n",
            "Pulp Fiction: 0.052068136632442474\n",
            "Fight Club: 0.0020262785255908966\n",
            "\n",
            ">>> Give me cerebral sci-fi movies\n",
            "Star Trek: Generations: 0.2368042767047882\n",
            "Ghostbusters II: 0.2060040682554245\n",
            "Ghostbusters: 0.17845042049884796\n",
            "Star Wars: Episode V - The Empire Strikes Back: 0.1370648890733719\n",
            "Pulp Fiction: 0.12603998184204102\n",
            "Fight Club: -0.019208833575248718\n",
            "\n",
            ">>> I want to be scared!\n",
            "Ghostbusters: 0.21073882281780243\n",
            "Fight Club: 0.12972189486026764\n",
            "Ghostbusters II: 0.10533657670021057\n",
            "Star Trek: Generations: 0.08501248061656952\n",
            "Pulp Fiction: 0.05737336724996567\n",
            "Star Wars: Episode V - The Empire Strikes Back: 0.04409937933087349\n",
            "\n"
          ]
        }
      ]
    },
    {
      "cell_type": "markdown",
      "source": [
        "I've also deployed the jina model via [Hugging Face inference endpoints](https://huggingface.co/inference-endpoints/dedicated). This frees us from any local hardware constraints, and runs the model in the cloud on some beefy, GPU equipped hardware. We can use this remotely executed model via a simple `POST` request. The API endpoint expects a JSON object of the form:\n",
        "\n",
        "```\n",
        "{\"inputs\": [first_text, second_text, ..., n_th_text], \"params\": {}}\n",
        "```\n",
        "\n",
        "It will return a list of lists of numbers.\n",
        "\n",
        "We wrap all of this up in a nice little function called `embed_remote`, which behaves like `embed_local`, so we can swap it out in our code."
      ],
      "metadata": {
        "id": "7ZBkJPRKF-jz"
      }
    },
    {
      "cell_type": "code",
      "source": [],
      "metadata": {
        "id": "ljYhFmv4GfTq"
      },
      "execution_count": null,
      "outputs": []
    }
  ]
}