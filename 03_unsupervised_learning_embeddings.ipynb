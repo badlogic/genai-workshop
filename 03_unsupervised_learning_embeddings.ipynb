{
  "nbformat": 4,
  "nbformat_minor": 0,
  "metadata": {
    "colab": {
      "provenance": [],
      "gpuType": "T4",
      "authorship_tag": "ABX9TyN0ld2WdpasWUqxXoCjxCxc",
      "include_colab_link": true
    },
    "kernelspec": {
      "name": "python3",
      "display_name": "Python 3"
    },
    "language_info": {
      "name": "python"
    },
    "accelerator": "GPU",
    "widgets": {
      "application/vnd.jupyter.widget-state+json": {
        "4369cf25061d45a993bc0724e2c1e381": {
          "model_module": "@jupyter-widgets/controls",
          "model_name": "VBoxModel",
          "model_module_version": "1.5.0",
          "state": {
            "_dom_classes": [],
            "_model_module": "@jupyter-widgets/controls",
            "_model_module_version": "1.5.0",
            "_model_name": "VBoxModel",
            "_view_count": null,
            "_view_module": "@jupyter-widgets/controls",
            "_view_module_version": "1.5.0",
            "_view_name": "VBoxView",
            "box_style": "",
            "children": [
              "IPY_MODEL_0dd9f04ee0b140b7aa84125b78226937",
              "IPY_MODEL_829a6c864212400ab0e3632021afb8b2",
              "IPY_MODEL_24b0a7cb14874b0aac4ce5b566135116",
              "IPY_MODEL_aa8b5ff40a28463d88f9f437aa01f813"
            ],
            "layout": "IPY_MODEL_b0b3a0d2ceec4d3580f2d0a756d87a1f"
          }
        },
        "6698d21538454ad79069a5540b2de9d1": {
          "model_module": "@jupyter-widgets/controls",
          "model_name": "HTMLModel",
          "model_module_version": "1.5.0",
          "state": {
            "_dom_classes": [],
            "_model_module": "@jupyter-widgets/controls",
            "_model_module_version": "1.5.0",
            "_model_name": "HTMLModel",
            "_view_count": null,
            "_view_module": "@jupyter-widgets/controls",
            "_view_module_version": "1.5.0",
            "_view_name": "HTMLView",
            "description": "",
            "description_tooltip": null,
            "layout": "IPY_MODEL_be94422fbd5c43e7892648a6df69d416",
            "placeholder": "​",
            "style": "IPY_MODEL_ee22797785b249a78877915cc9bca7de",
            "value": "<center> <img\nsrc=https://huggingface.co/front/assets/huggingface_logo-noborder.svg\nalt='Hugging Face'> <br> Copy a token from <a\nhref=\"https://huggingface.co/settings/tokens\" target=\"_blank\">your Hugging Face\ntokens page</a> and paste it below. <br> Immediately click login after copying\nyour token or it might be stored in plain text in this notebook file. </center>"
          }
        },
        "722b7f4e83bb4e20af0b12bccd7b95b2": {
          "model_module": "@jupyter-widgets/controls",
          "model_name": "PasswordModel",
          "model_module_version": "1.5.0",
          "state": {
            "_dom_classes": [],
            "_model_module": "@jupyter-widgets/controls",
            "_model_module_version": "1.5.0",
            "_model_name": "PasswordModel",
            "_view_count": null,
            "_view_module": "@jupyter-widgets/controls",
            "_view_module_version": "1.5.0",
            "_view_name": "PasswordView",
            "continuous_update": true,
            "description": "Token:",
            "description_tooltip": null,
            "disabled": false,
            "layout": "IPY_MODEL_c8fbd13640314f7e859867a19fe4d4aa",
            "placeholder": "​",
            "style": "IPY_MODEL_5ec51a7610444ef19fd1c232cbbb9126",
            "value": ""
          }
        },
        "d7e7de99a0d548f397e40d884b3eb8fe": {
          "model_module": "@jupyter-widgets/controls",
          "model_name": "CheckboxModel",
          "model_module_version": "1.5.0",
          "state": {
            "_dom_classes": [],
            "_model_module": "@jupyter-widgets/controls",
            "_model_module_version": "1.5.0",
            "_model_name": "CheckboxModel",
            "_view_count": null,
            "_view_module": "@jupyter-widgets/controls",
            "_view_module_version": "1.5.0",
            "_view_name": "CheckboxView",
            "description": "Add token as git credential?",
            "description_tooltip": null,
            "disabled": false,
            "indent": true,
            "layout": "IPY_MODEL_79407215d379425d8c6e9af5be2784ce",
            "style": "IPY_MODEL_b46f1f33fa4b4c289228668ea717aa1c",
            "value": true
          }
        },
        "7f5699b71d3646e2911e9f240cc83d99": {
          "model_module": "@jupyter-widgets/controls",
          "model_name": "ButtonModel",
          "model_module_version": "1.5.0",
          "state": {
            "_dom_classes": [],
            "_model_module": "@jupyter-widgets/controls",
            "_model_module_version": "1.5.0",
            "_model_name": "ButtonModel",
            "_view_count": null,
            "_view_module": "@jupyter-widgets/controls",
            "_view_module_version": "1.5.0",
            "_view_name": "ButtonView",
            "button_style": "",
            "description": "Login",
            "disabled": false,
            "icon": "",
            "layout": "IPY_MODEL_705677d4066542d7bc4b59c7512b1404",
            "style": "IPY_MODEL_fd33e95c9dce4c92b5b8af913cb88308",
            "tooltip": ""
          }
        },
        "2b72579e4f984382a3db0d30adadbee8": {
          "model_module": "@jupyter-widgets/controls",
          "model_name": "HTMLModel",
          "model_module_version": "1.5.0",
          "state": {
            "_dom_classes": [],
            "_model_module": "@jupyter-widgets/controls",
            "_model_module_version": "1.5.0",
            "_model_name": "HTMLModel",
            "_view_count": null,
            "_view_module": "@jupyter-widgets/controls",
            "_view_module_version": "1.5.0",
            "_view_name": "HTMLView",
            "description": "",
            "description_tooltip": null,
            "layout": "IPY_MODEL_bfaf078c62ad4b1689bf51ca0342ba48",
            "placeholder": "​",
            "style": "IPY_MODEL_510a1659c8884cda8b0dd8bbf9abc406",
            "value": "\n<b>Pro Tip:</b> If you don't already have one, you can create a dedicated\n'notebooks' token with 'write' access, that you can then easily reuse for all\nnotebooks. </center>"
          }
        },
        "b0b3a0d2ceec4d3580f2d0a756d87a1f": {
          "model_module": "@jupyter-widgets/base",
          "model_name": "LayoutModel",
          "model_module_version": "1.2.0",
          "state": {
            "_model_module": "@jupyter-widgets/base",
            "_model_module_version": "1.2.0",
            "_model_name": "LayoutModel",
            "_view_count": null,
            "_view_module": "@jupyter-widgets/base",
            "_view_module_version": "1.2.0",
            "_view_name": "LayoutView",
            "align_content": null,
            "align_items": "center",
            "align_self": null,
            "border": null,
            "bottom": null,
            "display": "flex",
            "flex": null,
            "flex_flow": "column",
            "grid_area": null,
            "grid_auto_columns": null,
            "grid_auto_flow": null,
            "grid_auto_rows": null,
            "grid_column": null,
            "grid_gap": null,
            "grid_row": null,
            "grid_template_areas": null,
            "grid_template_columns": null,
            "grid_template_rows": null,
            "height": null,
            "justify_content": null,
            "justify_items": null,
            "left": null,
            "margin": null,
            "max_height": null,
            "max_width": null,
            "min_height": null,
            "min_width": null,
            "object_fit": null,
            "object_position": null,
            "order": null,
            "overflow": null,
            "overflow_x": null,
            "overflow_y": null,
            "padding": null,
            "right": null,
            "top": null,
            "visibility": null,
            "width": "50%"
          }
        },
        "be94422fbd5c43e7892648a6df69d416": {
          "model_module": "@jupyter-widgets/base",
          "model_name": "LayoutModel",
          "model_module_version": "1.2.0",
          "state": {
            "_model_module": "@jupyter-widgets/base",
            "_model_module_version": "1.2.0",
            "_model_name": "LayoutModel",
            "_view_count": null,
            "_view_module": "@jupyter-widgets/base",
            "_view_module_version": "1.2.0",
            "_view_name": "LayoutView",
            "align_content": null,
            "align_items": null,
            "align_self": null,
            "border": null,
            "bottom": null,
            "display": null,
            "flex": null,
            "flex_flow": null,
            "grid_area": null,
            "grid_auto_columns": null,
            "grid_auto_flow": null,
            "grid_auto_rows": null,
            "grid_column": null,
            "grid_gap": null,
            "grid_row": null,
            "grid_template_areas": null,
            "grid_template_columns": null,
            "grid_template_rows": null,
            "height": null,
            "justify_content": null,
            "justify_items": null,
            "left": null,
            "margin": null,
            "max_height": null,
            "max_width": null,
            "min_height": null,
            "min_width": null,
            "object_fit": null,
            "object_position": null,
            "order": null,
            "overflow": null,
            "overflow_x": null,
            "overflow_y": null,
            "padding": null,
            "right": null,
            "top": null,
            "visibility": null,
            "width": null
          }
        },
        "ee22797785b249a78877915cc9bca7de": {
          "model_module": "@jupyter-widgets/controls",
          "model_name": "DescriptionStyleModel",
          "model_module_version": "1.5.0",
          "state": {
            "_model_module": "@jupyter-widgets/controls",
            "_model_module_version": "1.5.0",
            "_model_name": "DescriptionStyleModel",
            "_view_count": null,
            "_view_module": "@jupyter-widgets/base",
            "_view_module_version": "1.2.0",
            "_view_name": "StyleView",
            "description_width": ""
          }
        },
        "c8fbd13640314f7e859867a19fe4d4aa": {
          "model_module": "@jupyter-widgets/base",
          "model_name": "LayoutModel",
          "model_module_version": "1.2.0",
          "state": {
            "_model_module": "@jupyter-widgets/base",
            "_model_module_version": "1.2.0",
            "_model_name": "LayoutModel",
            "_view_count": null,
            "_view_module": "@jupyter-widgets/base",
            "_view_module_version": "1.2.0",
            "_view_name": "LayoutView",
            "align_content": null,
            "align_items": null,
            "align_self": null,
            "border": null,
            "bottom": null,
            "display": null,
            "flex": null,
            "flex_flow": null,
            "grid_area": null,
            "grid_auto_columns": null,
            "grid_auto_flow": null,
            "grid_auto_rows": null,
            "grid_column": null,
            "grid_gap": null,
            "grid_row": null,
            "grid_template_areas": null,
            "grid_template_columns": null,
            "grid_template_rows": null,
            "height": null,
            "justify_content": null,
            "justify_items": null,
            "left": null,
            "margin": null,
            "max_height": null,
            "max_width": null,
            "min_height": null,
            "min_width": null,
            "object_fit": null,
            "object_position": null,
            "order": null,
            "overflow": null,
            "overflow_x": null,
            "overflow_y": null,
            "padding": null,
            "right": null,
            "top": null,
            "visibility": null,
            "width": null
          }
        },
        "5ec51a7610444ef19fd1c232cbbb9126": {
          "model_module": "@jupyter-widgets/controls",
          "model_name": "DescriptionStyleModel",
          "model_module_version": "1.5.0",
          "state": {
            "_model_module": "@jupyter-widgets/controls",
            "_model_module_version": "1.5.0",
            "_model_name": "DescriptionStyleModel",
            "_view_count": null,
            "_view_module": "@jupyter-widgets/base",
            "_view_module_version": "1.2.0",
            "_view_name": "StyleView",
            "description_width": ""
          }
        },
        "79407215d379425d8c6e9af5be2784ce": {
          "model_module": "@jupyter-widgets/base",
          "model_name": "LayoutModel",
          "model_module_version": "1.2.0",
          "state": {
            "_model_module": "@jupyter-widgets/base",
            "_model_module_version": "1.2.0",
            "_model_name": "LayoutModel",
            "_view_count": null,
            "_view_module": "@jupyter-widgets/base",
            "_view_module_version": "1.2.0",
            "_view_name": "LayoutView",
            "align_content": null,
            "align_items": null,
            "align_self": null,
            "border": null,
            "bottom": null,
            "display": null,
            "flex": null,
            "flex_flow": null,
            "grid_area": null,
            "grid_auto_columns": null,
            "grid_auto_flow": null,
            "grid_auto_rows": null,
            "grid_column": null,
            "grid_gap": null,
            "grid_row": null,
            "grid_template_areas": null,
            "grid_template_columns": null,
            "grid_template_rows": null,
            "height": null,
            "justify_content": null,
            "justify_items": null,
            "left": null,
            "margin": null,
            "max_height": null,
            "max_width": null,
            "min_height": null,
            "min_width": null,
            "object_fit": null,
            "object_position": null,
            "order": null,
            "overflow": null,
            "overflow_x": null,
            "overflow_y": null,
            "padding": null,
            "right": null,
            "top": null,
            "visibility": null,
            "width": null
          }
        },
        "b46f1f33fa4b4c289228668ea717aa1c": {
          "model_module": "@jupyter-widgets/controls",
          "model_name": "DescriptionStyleModel",
          "model_module_version": "1.5.0",
          "state": {
            "_model_module": "@jupyter-widgets/controls",
            "_model_module_version": "1.5.0",
            "_model_name": "DescriptionStyleModel",
            "_view_count": null,
            "_view_module": "@jupyter-widgets/base",
            "_view_module_version": "1.2.0",
            "_view_name": "StyleView",
            "description_width": ""
          }
        },
        "705677d4066542d7bc4b59c7512b1404": {
          "model_module": "@jupyter-widgets/base",
          "model_name": "LayoutModel",
          "model_module_version": "1.2.0",
          "state": {
            "_model_module": "@jupyter-widgets/base",
            "_model_module_version": "1.2.0",
            "_model_name": "LayoutModel",
            "_view_count": null,
            "_view_module": "@jupyter-widgets/base",
            "_view_module_version": "1.2.0",
            "_view_name": "LayoutView",
            "align_content": null,
            "align_items": null,
            "align_self": null,
            "border": null,
            "bottom": null,
            "display": null,
            "flex": null,
            "flex_flow": null,
            "grid_area": null,
            "grid_auto_columns": null,
            "grid_auto_flow": null,
            "grid_auto_rows": null,
            "grid_column": null,
            "grid_gap": null,
            "grid_row": null,
            "grid_template_areas": null,
            "grid_template_columns": null,
            "grid_template_rows": null,
            "height": null,
            "justify_content": null,
            "justify_items": null,
            "left": null,
            "margin": null,
            "max_height": null,
            "max_width": null,
            "min_height": null,
            "min_width": null,
            "object_fit": null,
            "object_position": null,
            "order": null,
            "overflow": null,
            "overflow_x": null,
            "overflow_y": null,
            "padding": null,
            "right": null,
            "top": null,
            "visibility": null,
            "width": null
          }
        },
        "fd33e95c9dce4c92b5b8af913cb88308": {
          "model_module": "@jupyter-widgets/controls",
          "model_name": "ButtonStyleModel",
          "model_module_version": "1.5.0",
          "state": {
            "_model_module": "@jupyter-widgets/controls",
            "_model_module_version": "1.5.0",
            "_model_name": "ButtonStyleModel",
            "_view_count": null,
            "_view_module": "@jupyter-widgets/base",
            "_view_module_version": "1.2.0",
            "_view_name": "StyleView",
            "button_color": null,
            "font_weight": ""
          }
        },
        "bfaf078c62ad4b1689bf51ca0342ba48": {
          "model_module": "@jupyter-widgets/base",
          "model_name": "LayoutModel",
          "model_module_version": "1.2.0",
          "state": {
            "_model_module": "@jupyter-widgets/base",
            "_model_module_version": "1.2.0",
            "_model_name": "LayoutModel",
            "_view_count": null,
            "_view_module": "@jupyter-widgets/base",
            "_view_module_version": "1.2.0",
            "_view_name": "LayoutView",
            "align_content": null,
            "align_items": null,
            "align_self": null,
            "border": null,
            "bottom": null,
            "display": null,
            "flex": null,
            "flex_flow": null,
            "grid_area": null,
            "grid_auto_columns": null,
            "grid_auto_flow": null,
            "grid_auto_rows": null,
            "grid_column": null,
            "grid_gap": null,
            "grid_row": null,
            "grid_template_areas": null,
            "grid_template_columns": null,
            "grid_template_rows": null,
            "height": null,
            "justify_content": null,
            "justify_items": null,
            "left": null,
            "margin": null,
            "max_height": null,
            "max_width": null,
            "min_height": null,
            "min_width": null,
            "object_fit": null,
            "object_position": null,
            "order": null,
            "overflow": null,
            "overflow_x": null,
            "overflow_y": null,
            "padding": null,
            "right": null,
            "top": null,
            "visibility": null,
            "width": null
          }
        },
        "510a1659c8884cda8b0dd8bbf9abc406": {
          "model_module": "@jupyter-widgets/controls",
          "model_name": "DescriptionStyleModel",
          "model_module_version": "1.5.0",
          "state": {
            "_model_module": "@jupyter-widgets/controls",
            "_model_module_version": "1.5.0",
            "_model_name": "DescriptionStyleModel",
            "_view_count": null,
            "_view_module": "@jupyter-widgets/base",
            "_view_module_version": "1.2.0",
            "_view_name": "StyleView",
            "description_width": ""
          }
        },
        "3981fa12961c40de97a0bdc053d5f693": {
          "model_module": "@jupyter-widgets/controls",
          "model_name": "LabelModel",
          "model_module_version": "1.5.0",
          "state": {
            "_dom_classes": [],
            "_model_module": "@jupyter-widgets/controls",
            "_model_module_version": "1.5.0",
            "_model_name": "LabelModel",
            "_view_count": null,
            "_view_module": "@jupyter-widgets/controls",
            "_view_module_version": "1.5.0",
            "_view_name": "LabelView",
            "description": "",
            "description_tooltip": null,
            "layout": "IPY_MODEL_9f5dae13912c44c480a04f24619fa310",
            "placeholder": "​",
            "style": "IPY_MODEL_15c7a210342947fca1f12b7df43051f7",
            "value": "Connecting..."
          }
        },
        "9f5dae13912c44c480a04f24619fa310": {
          "model_module": "@jupyter-widgets/base",
          "model_name": "LayoutModel",
          "model_module_version": "1.2.0",
          "state": {
            "_model_module": "@jupyter-widgets/base",
            "_model_module_version": "1.2.0",
            "_model_name": "LayoutModel",
            "_view_count": null,
            "_view_module": "@jupyter-widgets/base",
            "_view_module_version": "1.2.0",
            "_view_name": "LayoutView",
            "align_content": null,
            "align_items": null,
            "align_self": null,
            "border": null,
            "bottom": null,
            "display": null,
            "flex": null,
            "flex_flow": null,
            "grid_area": null,
            "grid_auto_columns": null,
            "grid_auto_flow": null,
            "grid_auto_rows": null,
            "grid_column": null,
            "grid_gap": null,
            "grid_row": null,
            "grid_template_areas": null,
            "grid_template_columns": null,
            "grid_template_rows": null,
            "height": null,
            "justify_content": null,
            "justify_items": null,
            "left": null,
            "margin": null,
            "max_height": null,
            "max_width": null,
            "min_height": null,
            "min_width": null,
            "object_fit": null,
            "object_position": null,
            "order": null,
            "overflow": null,
            "overflow_x": null,
            "overflow_y": null,
            "padding": null,
            "right": null,
            "top": null,
            "visibility": null,
            "width": null
          }
        },
        "15c7a210342947fca1f12b7df43051f7": {
          "model_module": "@jupyter-widgets/controls",
          "model_name": "DescriptionStyleModel",
          "model_module_version": "1.5.0",
          "state": {
            "_model_module": "@jupyter-widgets/controls",
            "_model_module_version": "1.5.0",
            "_model_name": "DescriptionStyleModel",
            "_view_count": null,
            "_view_module": "@jupyter-widgets/base",
            "_view_module_version": "1.2.0",
            "_view_name": "StyleView",
            "description_width": ""
          }
        },
        "0dd9f04ee0b140b7aa84125b78226937": {
          "model_module": "@jupyter-widgets/controls",
          "model_name": "LabelModel",
          "model_module_version": "1.5.0",
          "state": {
            "_dom_classes": [],
            "_model_module": "@jupyter-widgets/controls",
            "_model_module_version": "1.5.0",
            "_model_name": "LabelModel",
            "_view_count": null,
            "_view_module": "@jupyter-widgets/controls",
            "_view_module_version": "1.5.0",
            "_view_name": "LabelView",
            "description": "",
            "description_tooltip": null,
            "layout": "IPY_MODEL_01f09b8d95534f8a86e5e10262aa014f",
            "placeholder": "​",
            "style": "IPY_MODEL_6d98af39498e48f5bbdfc6c676230664",
            "value": "Token is valid (permission: write)."
          }
        },
        "829a6c864212400ab0e3632021afb8b2": {
          "model_module": "@jupyter-widgets/controls",
          "model_name": "LabelModel",
          "model_module_version": "1.5.0",
          "state": {
            "_dom_classes": [],
            "_model_module": "@jupyter-widgets/controls",
            "_model_module_version": "1.5.0",
            "_model_name": "LabelModel",
            "_view_count": null,
            "_view_module": "@jupyter-widgets/controls",
            "_view_module_version": "1.5.0",
            "_view_name": "LabelView",
            "description": "",
            "description_tooltip": null,
            "layout": "IPY_MODEL_319afe7d33b843fda9d05808d94af4d6",
            "placeholder": "​",
            "style": "IPY_MODEL_8470160f452f44ed87ddbc557b7ece52",
            "value": "Your token has been saved in your configured git credential helpers (store)."
          }
        },
        "24b0a7cb14874b0aac4ce5b566135116": {
          "model_module": "@jupyter-widgets/controls",
          "model_name": "LabelModel",
          "model_module_version": "1.5.0",
          "state": {
            "_dom_classes": [],
            "_model_module": "@jupyter-widgets/controls",
            "_model_module_version": "1.5.0",
            "_model_name": "LabelModel",
            "_view_count": null,
            "_view_module": "@jupyter-widgets/controls",
            "_view_module_version": "1.5.0",
            "_view_name": "LabelView",
            "description": "",
            "description_tooltip": null,
            "layout": "IPY_MODEL_802f45beb42047c0ab70e3892f318260",
            "placeholder": "​",
            "style": "IPY_MODEL_25123e9e821042d79351f571fda512be",
            "value": "Your token has been saved to /root/.cache/huggingface/token"
          }
        },
        "aa8b5ff40a28463d88f9f437aa01f813": {
          "model_module": "@jupyter-widgets/controls",
          "model_name": "LabelModel",
          "model_module_version": "1.5.0",
          "state": {
            "_dom_classes": [],
            "_model_module": "@jupyter-widgets/controls",
            "_model_module_version": "1.5.0",
            "_model_name": "LabelModel",
            "_view_count": null,
            "_view_module": "@jupyter-widgets/controls",
            "_view_module_version": "1.5.0",
            "_view_name": "LabelView",
            "description": "",
            "description_tooltip": null,
            "layout": "IPY_MODEL_7686c5a0f1d54f91a2b8ab3fb8746785",
            "placeholder": "​",
            "style": "IPY_MODEL_80560b902f5f4cd1ad95f8cf38725714",
            "value": "Login successful"
          }
        },
        "01f09b8d95534f8a86e5e10262aa014f": {
          "model_module": "@jupyter-widgets/base",
          "model_name": "LayoutModel",
          "model_module_version": "1.2.0",
          "state": {
            "_model_module": "@jupyter-widgets/base",
            "_model_module_version": "1.2.0",
            "_model_name": "LayoutModel",
            "_view_count": null,
            "_view_module": "@jupyter-widgets/base",
            "_view_module_version": "1.2.0",
            "_view_name": "LayoutView",
            "align_content": null,
            "align_items": null,
            "align_self": null,
            "border": null,
            "bottom": null,
            "display": null,
            "flex": null,
            "flex_flow": null,
            "grid_area": null,
            "grid_auto_columns": null,
            "grid_auto_flow": null,
            "grid_auto_rows": null,
            "grid_column": null,
            "grid_gap": null,
            "grid_row": null,
            "grid_template_areas": null,
            "grid_template_columns": null,
            "grid_template_rows": null,
            "height": null,
            "justify_content": null,
            "justify_items": null,
            "left": null,
            "margin": null,
            "max_height": null,
            "max_width": null,
            "min_height": null,
            "min_width": null,
            "object_fit": null,
            "object_position": null,
            "order": null,
            "overflow": null,
            "overflow_x": null,
            "overflow_y": null,
            "padding": null,
            "right": null,
            "top": null,
            "visibility": null,
            "width": null
          }
        },
        "6d98af39498e48f5bbdfc6c676230664": {
          "model_module": "@jupyter-widgets/controls",
          "model_name": "DescriptionStyleModel",
          "model_module_version": "1.5.0",
          "state": {
            "_model_module": "@jupyter-widgets/controls",
            "_model_module_version": "1.5.0",
            "_model_name": "DescriptionStyleModel",
            "_view_count": null,
            "_view_module": "@jupyter-widgets/base",
            "_view_module_version": "1.2.0",
            "_view_name": "StyleView",
            "description_width": ""
          }
        },
        "319afe7d33b843fda9d05808d94af4d6": {
          "model_module": "@jupyter-widgets/base",
          "model_name": "LayoutModel",
          "model_module_version": "1.2.0",
          "state": {
            "_model_module": "@jupyter-widgets/base",
            "_model_module_version": "1.2.0",
            "_model_name": "LayoutModel",
            "_view_count": null,
            "_view_module": "@jupyter-widgets/base",
            "_view_module_version": "1.2.0",
            "_view_name": "LayoutView",
            "align_content": null,
            "align_items": null,
            "align_self": null,
            "border": null,
            "bottom": null,
            "display": null,
            "flex": null,
            "flex_flow": null,
            "grid_area": null,
            "grid_auto_columns": null,
            "grid_auto_flow": null,
            "grid_auto_rows": null,
            "grid_column": null,
            "grid_gap": null,
            "grid_row": null,
            "grid_template_areas": null,
            "grid_template_columns": null,
            "grid_template_rows": null,
            "height": null,
            "justify_content": null,
            "justify_items": null,
            "left": null,
            "margin": null,
            "max_height": null,
            "max_width": null,
            "min_height": null,
            "min_width": null,
            "object_fit": null,
            "object_position": null,
            "order": null,
            "overflow": null,
            "overflow_x": null,
            "overflow_y": null,
            "padding": null,
            "right": null,
            "top": null,
            "visibility": null,
            "width": null
          }
        },
        "8470160f452f44ed87ddbc557b7ece52": {
          "model_module": "@jupyter-widgets/controls",
          "model_name": "DescriptionStyleModel",
          "model_module_version": "1.5.0",
          "state": {
            "_model_module": "@jupyter-widgets/controls",
            "_model_module_version": "1.5.0",
            "_model_name": "DescriptionStyleModel",
            "_view_count": null,
            "_view_module": "@jupyter-widgets/base",
            "_view_module_version": "1.2.0",
            "_view_name": "StyleView",
            "description_width": ""
          }
        },
        "802f45beb42047c0ab70e3892f318260": {
          "model_module": "@jupyter-widgets/base",
          "model_name": "LayoutModel",
          "model_module_version": "1.2.0",
          "state": {
            "_model_module": "@jupyter-widgets/base",
            "_model_module_version": "1.2.0",
            "_model_name": "LayoutModel",
            "_view_count": null,
            "_view_module": "@jupyter-widgets/base",
            "_view_module_version": "1.2.0",
            "_view_name": "LayoutView",
            "align_content": null,
            "align_items": null,
            "align_self": null,
            "border": null,
            "bottom": null,
            "display": null,
            "flex": null,
            "flex_flow": null,
            "grid_area": null,
            "grid_auto_columns": null,
            "grid_auto_flow": null,
            "grid_auto_rows": null,
            "grid_column": null,
            "grid_gap": null,
            "grid_row": null,
            "grid_template_areas": null,
            "grid_template_columns": null,
            "grid_template_rows": null,
            "height": null,
            "justify_content": null,
            "justify_items": null,
            "left": null,
            "margin": null,
            "max_height": null,
            "max_width": null,
            "min_height": null,
            "min_width": null,
            "object_fit": null,
            "object_position": null,
            "order": null,
            "overflow": null,
            "overflow_x": null,
            "overflow_y": null,
            "padding": null,
            "right": null,
            "top": null,
            "visibility": null,
            "width": null
          }
        },
        "25123e9e821042d79351f571fda512be": {
          "model_module": "@jupyter-widgets/controls",
          "model_name": "DescriptionStyleModel",
          "model_module_version": "1.5.0",
          "state": {
            "_model_module": "@jupyter-widgets/controls",
            "_model_module_version": "1.5.0",
            "_model_name": "DescriptionStyleModel",
            "_view_count": null,
            "_view_module": "@jupyter-widgets/base",
            "_view_module_version": "1.2.0",
            "_view_name": "StyleView",
            "description_width": ""
          }
        },
        "7686c5a0f1d54f91a2b8ab3fb8746785": {
          "model_module": "@jupyter-widgets/base",
          "model_name": "LayoutModel",
          "model_module_version": "1.2.0",
          "state": {
            "_model_module": "@jupyter-widgets/base",
            "_model_module_version": "1.2.0",
            "_model_name": "LayoutModel",
            "_view_count": null,
            "_view_module": "@jupyter-widgets/base",
            "_view_module_version": "1.2.0",
            "_view_name": "LayoutView",
            "align_content": null,
            "align_items": null,
            "align_self": null,
            "border": null,
            "bottom": null,
            "display": null,
            "flex": null,
            "flex_flow": null,
            "grid_area": null,
            "grid_auto_columns": null,
            "grid_auto_flow": null,
            "grid_auto_rows": null,
            "grid_column": null,
            "grid_gap": null,
            "grid_row": null,
            "grid_template_areas": null,
            "grid_template_columns": null,
            "grid_template_rows": null,
            "height": null,
            "justify_content": null,
            "justify_items": null,
            "left": null,
            "margin": null,
            "max_height": null,
            "max_width": null,
            "min_height": null,
            "min_width": null,
            "object_fit": null,
            "object_position": null,
            "order": null,
            "overflow": null,
            "overflow_x": null,
            "overflow_y": null,
            "padding": null,
            "right": null,
            "top": null,
            "visibility": null,
            "width": null
          }
        },
        "80560b902f5f4cd1ad95f8cf38725714": {
          "model_module": "@jupyter-widgets/controls",
          "model_name": "DescriptionStyleModel",
          "model_module_version": "1.5.0",
          "state": {
            "_model_module": "@jupyter-widgets/controls",
            "_model_module_version": "1.5.0",
            "_model_name": "DescriptionStyleModel",
            "_view_count": null,
            "_view_module": "@jupyter-widgets/base",
            "_view_module_version": "1.2.0",
            "_view_name": "StyleView",
            "description_width": ""
          }
        }
      }
    }
  },
  "cells": [
    {
      "cell_type": "markdown",
      "metadata": {
        "id": "view-in-github",
        "colab_type": "text"
      },
      "source": [
        "<a href=\"https://colab.research.google.com/github/badlogic/genai-workshop/blob/main/03_unsupervised_learning_embeddings.ipynb\" target=\"_parent\"><img src=\"https://colab.research.google.com/assets/colab-badge.svg\" alt=\"Open In Colab\"/></a>"
      ]
    },
    {
      "cell_type": "markdown",
      "source": [
        "## Text Embeddings\n",
        "Text embedding models are a type of unsupervised machine learning model. They learn how to take a piece of text and transform it into a vector in what's called a latent space. This process is commonly referred to as (text) embedding.\n",
        "\n",
        "By transforming texts into vectors, we can measure their similarity mathematically, by calculating their distances to each other in the latent space using some distance metric or similarity measure. The beauty of this approach is, that this transformation implicitely captures the meanings and semantic relations of the texts' contents. It thereby does away with many of the problems old natural language processing systems had.\n",
        "\n",
        "This has an enormous amount of applications, both directly, and indirectly as part of bigger systems (including LLMs!).\n",
        "\n",
        "To illustrate the power of embeddings, we are going to use a pre-trained text embedding model called `jina-embeddings-v2-base-de` from Hugging Face. The specific model can handle both English and German language texts. In fact, multi-linguality is a property of many popular text embedding models.\n",
        "\n",
        "We will embed textual information about movies (title and description) and implement to popular \"downstream\" tasks for embeddings;:\n",
        "\n",
        "1. Finding similar movies (naive recommender)\n",
        "2. Finding movies that are match a user query (naive dense retrieval)\n",
        "\n",
        "## Setup and Hugging Face login\n",
        "To use the jina model, you have to:\n",
        "1. Create a [Hugging Face account](https://huggingface.co/join)\n",
        "2. Create an [access token](https://huggingface.co/settings/tokens)\n",
        "3. Visit the [model page](https://huggingface.co/jinaai/jina-embeddings-v2-base-de) and request access.\n",
        "\n",
        "If you run the code on your own machine, set the `HF_TOKEN` environment variable to your access token.\n",
        "\n",
        "If you run the code here on collab, you will be prompted for your token each time you run this cell."
      ],
      "metadata": {
        "id": "OkUSt_ITETDo"
      }
    },
    {
      "cell_type": "code",
      "source": [
        "import torch\n",
        "import numpy as np\n",
        "from numpy.linalg import norm\n",
        "from transformers import AutoModel\n",
        "import umap\n",
        "import matplotlib.pyplot as plt\n",
        "import os\n",
        "\n",
        "# Check if HF_TOKEN exists in the environment, otherwise fetch it from the colab\n",
        "# secrets\n",
        "if 'HF_TOKEN' in os.environ:\n",
        "  print(\"Using 🤗 access token from HF_TOKEN environment variable\")\n",
        "else:\n",
        "  from huggingface_hub import notebook_login\n",
        "  notebook_login()"
      ],
      "metadata": {
        "colab": {
          "base_uri": "https://localhost:8080/",
          "height": 145,
          "referenced_widgets": [
            "4369cf25061d45a993bc0724e2c1e381",
            "6698d21538454ad79069a5540b2de9d1",
            "722b7f4e83bb4e20af0b12bccd7b95b2",
            "d7e7de99a0d548f397e40d884b3eb8fe",
            "7f5699b71d3646e2911e9f240cc83d99",
            "2b72579e4f984382a3db0d30adadbee8",
            "b0b3a0d2ceec4d3580f2d0a756d87a1f",
            "be94422fbd5c43e7892648a6df69d416",
            "ee22797785b249a78877915cc9bca7de",
            "c8fbd13640314f7e859867a19fe4d4aa",
            "5ec51a7610444ef19fd1c232cbbb9126",
            "79407215d379425d8c6e9af5be2784ce",
            "b46f1f33fa4b4c289228668ea717aa1c",
            "705677d4066542d7bc4b59c7512b1404",
            "fd33e95c9dce4c92b5b8af913cb88308",
            "bfaf078c62ad4b1689bf51ca0342ba48",
            "510a1659c8884cda8b0dd8bbf9abc406",
            "3981fa12961c40de97a0bdc053d5f693",
            "9f5dae13912c44c480a04f24619fa310",
            "15c7a210342947fca1f12b7df43051f7",
            "0dd9f04ee0b140b7aa84125b78226937",
            "829a6c864212400ab0e3632021afb8b2",
            "24b0a7cb14874b0aac4ce5b566135116",
            "aa8b5ff40a28463d88f9f437aa01f813",
            "01f09b8d95534f8a86e5e10262aa014f",
            "6d98af39498e48f5bbdfc6c676230664",
            "319afe7d33b843fda9d05808d94af4d6",
            "8470160f452f44ed87ddbc557b7ece52",
            "802f45beb42047c0ab70e3892f318260",
            "25123e9e821042d79351f571fda512be",
            "7686c5a0f1d54f91a2b8ab3fb8746785",
            "80560b902f5f4cd1ad95f8cf38725714"
          ]
        },
        "id": "m68raIvCQ6fd",
        "outputId": "9f0fb845-605e-4c24-d787-25260a6008f0"
      },
      "execution_count": 1,
      "outputs": [
        {
          "output_type": "display_data",
          "data": {
            "text/plain": [
              "VBox(children=(HTML(value='<center> <img\\nsrc=https://huggingface.co/front/assets/huggingface_logo-noborder.sv…"
            ],
            "application/vnd.jupyter.widget-view+json": {
              "version_major": 2,
              "version_minor": 0,
              "model_id": "4369cf25061d45a993bc0724e2c1e381"
            }
          },
          "metadata": {}
        }
      ]
    },
    {
      "cell_type": "markdown",
      "source": [
        "## Loading the embedding model\n",
        "\n",
        "Now that we are logged in, we can use the Hugging Face `AutoModel` class download and load the model. We refer to the model via its id, which is composed of the author name and model name, e.g. `jinaai/jina-embeddings-v2-base-de`.\n",
        "\n",
        "Alternatively, we can also point the `AutoModel` class to a local directory that contains an already downloaded model."
      ],
      "metadata": {
        "id": "lvbetxC_FII5"
      }
    },
    {
      "cell_type": "code",
      "source": [
        "model = AutoModel.from_pretrained('jinaai/jina-embeddings-v2-base-de', trust_remote_code=True)"
      ],
      "metadata": {
        "colab": {
          "base_uri": "https://localhost:8080/"
        },
        "id": "bkpqVdaCSAv4",
        "outputId": "8758d4bc-10fa-4cc5-8927-06a5df77bd4f"
      },
      "execution_count": 2,
      "outputs": [
        {
          "output_type": "stream",
          "name": "stderr",
          "text": [
            "/usr/local/lib/python3.10/dist-packages/huggingface_hub/utils/_token.py:88: UserWarning: \n",
            "The secret `HF_TOKEN` does not exist in your Colab secrets.\n",
            "To authenticate with the Hugging Face Hub, create a token in your settings tab (https://huggingface.co/settings/tokens), set it as secret in your Google Colab and restart your session.\n",
            "You will be able to reuse this secret in all of your notebooks.\n",
            "Please note that authentication is recommended but still optional to access public models or datasets.\n",
            "  warnings.warn(\n"
          ]
        }
      ]
    },
    {
      "cell_type": "markdown",
      "source": [
        "## Convenience functions\n",
        "\n",
        "Next, we defined a few convenience functions.\n",
        "\n",
        "We need a way to calculate the similarity between two vectors. The `cos_sim` function allows us to do just that by calculating the [cosine similarity](https://en.wikipedia.org/wiki/Cosine_similarity) between two vectors. A similarity of `1` means the vectors are equal, while a similiarty of `0` means they are unequal. Usually, we'll get a value between `0` and `1`."
      ],
      "metadata": {
        "id": "MZfdvyS8FWVb"
      }
    },
    {
      "cell_type": "code",
      "source": [
        "cos_sim = lambda a,b: (a @ b.T) / (norm(a)*norm(b))"
      ],
      "metadata": {
        "id": "r3nm0cxEIdi3"
      },
      "execution_count": 3,
      "outputs": []
    },
    {
      "cell_type": "markdown",
      "source": [
        "We also create a function called `embed_local`, which uses the locally loaded jina model to embed texts provided as parameters. You can pass a single string, or a list of strings, and will get a Numpy array, or a list of Numpy arrays back, that work with `cos_sim`.\n",
        "\n",
        "We also have a global variable `embed` which points to the currently \"active\" embedding function we want to use. We can assign another function to this variable, to swap out the embedding function globally. This will come in handy later."
      ],
      "metadata": {
        "id": "VZh8K62VIfwF"
      }
    },
    {
      "cell_type": "code",
      "source": [
        "def embed_local(texts):\n",
        "  return model.encode(texts)\n",
        "\n",
        "embed = embed_local"
      ],
      "metadata": {
        "id": "beRadmIIR9dn"
      },
      "execution_count": 4,
      "outputs": []
    },
    {
      "cell_type": "markdown",
      "source": [
        "## Movie dataset\n",
        "\n",
        "We defined a simple dataset inline. It consists of 6 movies, each composed of the movie title and plot. These have been manually fetched from IMDB. We could of course also load such a dataset from a file or via an API. We keep things simple here."
      ],
      "metadata": {
        "id": "1728bFcXI6je"
      }
    },
    {
      "cell_type": "code",
      "source": [
        "movies = [\n",
        "  {\"title\": \"Star Trek: Generations\", \"plot\": \"With the help of long presumed dead Captain Kirk, Captain Picard must stop a deranged scientist willing to murder on a planetary scale in order to enter a space matrix.\"},\n",
        "  {\"title\": \"Star Wars: Episode V - The Empire Strikes Back\", \"plot\": \"After the Rebels are overpowered by the Empire, Luke Skywalker begins his Jedi training with Yoda, while his friends are pursued across the galaxy by Darth Vader and bounty hunter Boba Fett.\"},\n",
        "  {\"title\": \"Pulp Fiction\", \"plot\": \"The lives of two mob hitmen, a boxer, a gangster and his wife, and a pair of diner bandits intertwine in four tales of violence and redemption.\"},\n",
        "  {\"title\": \"Fight Club\", \"plot\": \"An insomniac office worker and a devil-may-care soap maker form an underground fight club that evolves into much more.\"},\n",
        "  {\"title\": \"Ghostbusters\", \"plot\": \"Three parapsychologists forced out of their university funding set up shop as a unique ghost removal service in New York City, attracting frightened yet skeptical customers.\"},\n",
        "  {\"title\": \"Ghostbusters II\", \"plot\": \"The discovery of a massive river of ectoplasm and a resurgence of spectral activity allows the staff of Ghostbusters to revive the business.\"},\n",
        "  {\"title\": \"The Silence of the Lambs\", \"plot\": \"In this thriller, a young F.B.I. cadet must receive the help of an incarcerated and manipulative cannibal killer to help catch another serial killer, a madman who skins his victims.\"},\n",
        "  {\"title\": \"Seven\", \"plot\": \"Two detectives, a rookie and a veteran, hunt a serial killer who uses the seven deadly sins as his motives.\"},\n",
        "  {\"title\": \"The Lord of the Rings\", \"plot\": \"A meek Hobbit from the Shire and eight companions set out on a journey to destroy the powerful One Ring and save Middle-earth from the Dark Lord Sauron.\"},\n",
        "  {\"title\": \"The Hobbit\", \"plot\": \"A reluctant Hobbit, Bilbo Baggins, sets out to the Lonely Mountain with a spirited group of dwarves to reclaim their mountain home, and the gold within it from the dragon Smaug.\"},\n",
        "  {\"title\": \"The Jungle Book\", \"plot\": \"In this classic Disney movie, Bagheera the Panther and Baloo the Bear have a difficult time trying to convince a boy to leave the jungle for human civilization.\"},\n",
        "  {\"title\": \"Peter Pan\", \"plot\": \"In this beautifully drawn animation film, Wendy and her brothers are whisked away to the magical world of Neverland with the hero of their stories, Peter Pan.\"}\n",
        "]"
      ],
      "metadata": {
        "id": "3YAQ5ugdSUN-"
      },
      "execution_count": 5,
      "outputs": []
    },
    {
      "cell_type": "markdown",
      "source": [
        "## Creating embedding vectors for each movie\n",
        "We embed both the title and plot as a single string for each movie, using the function pointed to be `embed` (which is `embed_local`).\n",
        "\n",
        "Each vector generated by the model has a fixed length of 768 dimensions. This is a property of the jina model. Other embedding models might generate more or less dimensions."
      ],
      "metadata": {
        "id": "6gtrOZAhJPjE"
      }
    },
    {
      "cell_type": "code",
      "source": [
        "embeddings = embed([movie[\"title\"] + \" \" + movie[\"plot\"] for movie in movies])\n",
        "print(\"Dimensions of first vector: \" + str(embeddings[0].shape[0]))\n",
        "print(\"First 10 dimensions of the first vector:\\n\" + str(embeddings[0][:10]))\n",
        "print(\"Dimensions of second vector: \" + str(embeddings[1].shape[0]))\n",
        "print(\"First 10 dimensions of the second vector:\\n\" + str(embeddings[1][:10]))"
      ],
      "metadata": {
        "colab": {
          "base_uri": "https://localhost:8080/"
        },
        "id": "xOFwiKUcJTGx",
        "outputId": "8c0fde9a-15c2-4317-da4c-78034b453aed"
      },
      "execution_count": 6,
      "outputs": [
        {
          "output_type": "stream",
          "name": "stdout",
          "text": [
            "Dimensions of first vector: 768\n",
            "First 10 dimensions of the first vector:\n",
            "[-0.15949857 -0.2693168   0.12828872  0.03978242 -0.00434926 -0.18323022\n",
            " -0.05444287  0.08139315 -0.20358722 -0.19820127]\n",
            "Dimensions of second vector: 768\n",
            "First 10 dimensions of the second vector:\n",
            "[-0.18870565  0.13675256 -0.12258591  0.03999804  0.00593293 -0.11011664\n",
            " -0.34029493  0.23738301 -0.23080073 -0.03576482]\n"
          ]
        }
      ]
    },
    {
      "cell_type": "markdown",
      "source": [
        "Again, we can not precisely say, what each value/dimension in these vectors mean. We do however know, that they encode the meaning and semantic relationships of the original text."
      ],
      "metadata": {
        "id": "BqNj-bbxZR9g"
      }
    },
    {
      "cell_type": "markdown",
      "source": [
        "## Visualizing the embeddings with UMAP\n",
        "As we've seen, the jina model generates vectors with 768 dimensions. It is hard to visualize such high dimensional vector spaces in our heads.\n",
        "\n",
        "To get a better feeling for how these vectors relate to each other, we can use another embedding model, that will reduce the dimensionality down to 2 or 3 dimensions, while trying to retain the distances between the vectors as best as possible.\n",
        "\n",
        "One popular such model is [UMAP](https://pair-code.github.io/understanding-umap/).\n",
        "\n",
        "Let's visualize our embedded movies in 2D and see if we can identify clusters. The `visualize_embeddings` function takes as input the embedding vectors and a label for each vector. It will embed these vectors in 2D via UMAP and plot them.\n"
      ],
      "metadata": {
        "id": "pokJt7x876gF"
      }
    },
    {
      "cell_type": "code",
      "source": [
        "def visualize_embeddings(embeddings, labels):\n",
        "  reducer = umap.UMAP(n_neighbors=max(15, len(embeddings) // 4), n_components=2, metric='cosine',  random_state=42)\n",
        "  embeddings_2d = np.array(reducer.fit_transform(embeddings))\n",
        "\n",
        "  plt.figure(figsize=(6, 4))\n",
        "  plt.scatter(embeddings_2d[:, 0], embeddings_2d[:, 1], alpha=0.5)\n",
        "\n",
        "  for i, label in enumerate(labels):\n",
        "      plt.text(embeddings_2d[i, 0], embeddings_2d[i, 1], label, fontsize=9)\n",
        "\n",
        "  plt.title('2D Projection of Embeddings')\n",
        "  plt.xlabel('x')\n",
        "  plt.ylabel('y')\n",
        "  plt.show()\n",
        "\n",
        "visualize_embeddings(embeddings, [movie[\"title\"] for movie in movies])"
      ],
      "metadata": {
        "colab": {
          "base_uri": "https://localhost:8080/",
          "height": 481
        },
        "id": "-gdmUSAp8VvY",
        "outputId": "4565b482-19e5-496e-c384-c05d6443f2a2"
      },
      "execution_count": 7,
      "outputs": [
        {
          "output_type": "stream",
          "name": "stderr",
          "text": [
            "/usr/local/lib/python3.10/dist-packages/umap/umap_.py:1943: UserWarning: n_jobs value -1 overridden to 1 by setting random_state. Use no seed for parallelism.\n",
            "  warn(f\"n_jobs value {self.n_jobs} overridden to 1 by setting random_state. Use no seed for parallelism.\")\n",
            "/usr/local/lib/python3.10/dist-packages/umap/umap_.py:2433: UserWarning: n_neighbors is larger than the dataset size; truncating to X.shape[0] - 1\n",
            "  warn(\n"
          ]
        },
        {
          "output_type": "display_data",
          "data": {
            "text/plain": [
              "<Figure size 600x400 with 1 Axes>"
            ],
            "image/png": "[encoded data removed]"
          },
          "metadata": {}
        }
      ]
    },
    {
      "cell_type": "markdown",
      "source": [
        "## Similarity search\n",
        "We can now use those embeddings to find movies that are similar to a query. The query could be anything, like a user query, or the title and plot of another movie.\n",
        "\n",
        "We can wrap this idea up in a function called `similarity_search`. Its parameters are as follows:\n",
        "\n",
        "* `query`: a string or vector to find similar movies for\n",
        "* `movies`: the list of movies\n",
        "* `embeddings`: the list of vectors for each movie\n",
        "\n",
        "The function first embeds the query text, if it isn't already an vector. It then calculates the cosine similarity between the query text vector and the movie vectors and stores the resulting similarity and corresponding movie in a list. Finally, the similarity list is sorted in descending order by similarity, and returned to the caller."
      ],
      "metadata": {
        "id": "pV98mqItKYtP"
      }
    },
    {
      "cell_type": "code",
      "source": [
        "def similarity_search(query, movies, embeddings):\n",
        "  query_embedding = embed(query) if isinstance(query, str) else query\n",
        "  similarities = []\n",
        "  for i in range(len(movies)):\n",
        "    similarity = cos_sim(query_embedding, embeddings[i])\n",
        "    similarities.append((movies[i], similarity))\n",
        "\n",
        "  similarities.sort(key=lambda x: x[1], reverse=True)\n",
        "  return similarities"
      ],
      "metadata": {
        "id": "x_pZFRE5KoWN"
      },
      "execution_count": 8,
      "outputs": []
    },
    {
      "cell_type": "markdown",
      "source": [
        "## Naive movie recommender\n",
        "Let's implement a movie recommender function. It takes as input:\n",
        "\n",
        "* `movie`: the movie for which we want to get recommendations\n",
        "* `movies`: the full list of movies (including the `movie`)\n",
        "* `embeddings`: the embeddings of each movie\n",
        "\n",
        "The function returns a list of tuples, each consisting of a movie and its similarity with the input `movie`. The list is sorted by similarity in descending order.\n",
        "\n"
      ],
      "metadata": {
        "id": "TnVg27pVLkgr"
      }
    },
    {
      "cell_type": "code",
      "source": [
        "def recommend_movies(movie, movies, embeddings):\n",
        "  movie_index = movies.index(movie)\n",
        "  embedding = embeddings[movies.index(movie)]\n",
        "  movies_to_search = [movies[i] for i in range(len(movies)) if i != movie_index]\n",
        "  embeddings_to_search = [embeddings[i] for i in range(len(embeddings)) if i != movie_index]\n",
        "  return similarity_search(embedding, movies_to_search, embeddings_to_search)"
      ],
      "metadata": {
        "id": "sk88YNaQdH77"
      },
      "execution_count": 9,
      "outputs": []
    },
    {
      "cell_type": "markdown",
      "source": [
        "We can now output the list of most similar movies, for each movie"
      ],
      "metadata": {
        "id": "Y2zHHAqeQ7Ei"
      }
    },
    {
      "cell_type": "code",
      "source": [
        "for i in range(len(movies)):\n",
        "  print(\"Recommended movies for \" + movies[i][\"title\"])\n",
        "  recommended = recommend_movies(movies[i], movies, embeddings)\n",
        "  for j in range(len(recommended)):\n",
        "    print(\"\\t\" + recommended[j][0][\"title\"] + \": \" + str(recommended[j][1]))\n",
        "  print()"
      ],
      "metadata": {
        "colab": {
          "base_uri": "https://localhost:8080/"
        },
        "id": "zCwF8iWdQ-rE",
        "outputId": "373efca9-c7a7-4710-ff62-9e4ccc8af9c3"
      },
      "execution_count": 10,
      "outputs": [
        {
          "output_type": "stream",
          "name": "stdout",
          "text": [
            "Recommended movies for Star Trek: Generations\n",
            "\tStar Wars: Episode V - The Empire Strikes Back: 0.25328436\n",
            "\tSeven: 0.2442699\n",
            "\tThe Lord of the Rings: 0.1945294\n",
            "\tThe Hobbit: 0.15281063\n",
            "\tPulp Fiction: 0.14811614\n",
            "\tThe Silence of the Lambs: 0.13234916\n",
            "\tFight Club: 0.114247344\n",
            "\tGhostbusters II: 0.10307089\n",
            "\tPeter Pan: 0.09382008\n",
            "\tGhostbusters: 0.05439057\n",
            "\tThe Jungle Book: 0.025979081\n",
            "\n",
            "Recommended movies for Star Wars: Episode V - The Empire Strikes Back\n",
            "\tStar Trek: Generations: 0.25328436\n",
            "\tThe Lord of the Rings: 0.20509371\n",
            "\tThe Jungle Book: 0.13153738\n",
            "\tFight Club: 0.12428885\n",
            "\tPeter Pan: 0.10717969\n",
            "\tGhostbusters II: 0.05385293\n",
            "\tPulp Fiction: 0.04211531\n",
            "\tThe Hobbit: 0.042055022\n",
            "\tSeven: 0.024876125\n",
            "\tThe Silence of the Lambs: 0.019422647\n",
            "\tGhostbusters: -0.02177306\n",
            "\n",
            "Recommended movies for Pulp Fiction\n",
            "\tFight Club: 0.3838614\n",
            "\tThe Silence of the Lambs: 0.35206327\n",
            "\tSeven: 0.32619292\n",
            "\tPeter Pan: 0.3029605\n",
            "\tThe Jungle Book: 0.27794236\n",
            "\tThe Hobbit: 0.19268872\n",
            "\tGhostbusters II: 0.1724575\n",
            "\tGhostbusters: 0.16229264\n",
            "\tStar Trek: Generations: 0.14811614\n",
            "\tThe Lord of the Rings: 0.13456734\n",
            "\tStar Wars: Episode V - The Empire Strikes Back: 0.04211531\n",
            "\n",
            "Recommended movies for Fight Club\n",
            "\tPulp Fiction: 0.3838614\n",
            "\tSeven: 0.18905933\n",
            "\tGhostbusters: 0.17885996\n",
            "\tStar Wars: Episode V - The Empire Strikes Back: 0.12428885\n",
            "\tThe Silence of the Lambs: 0.114284895\n",
            "\tStar Trek: Generations: 0.114247344\n",
            "\tPeter Pan: 0.088111594\n",
            "\tThe Lord of the Rings: 0.07858808\n",
            "\tGhostbusters II: 0.058754705\n",
            "\tThe Jungle Book: 0.022303514\n",
            "\tThe Hobbit: 0.02168941\n",
            "\n",
            "Recommended movies for Ghostbusters\n",
            "\tGhostbusters II: 0.35342678\n",
            "\tSeven: 0.2037864\n",
            "\tFight Club: 0.17885996\n",
            "\tPulp Fiction: 0.16229264\n",
            "\tThe Silence of the Lambs: 0.13269424\n",
            "\tPeter Pan: 0.12431727\n",
            "\tStar Trek: Generations: 0.05439057\n",
            "\tThe Lord of the Rings: -0.0018476149\n",
            "\tThe Hobbit: -0.0053996425\n",
            "\tThe Jungle Book: -0.00801077\n",
            "\tStar Wars: Episode V - The Empire Strikes Back: -0.02177306\n",
            "\n",
            "Recommended movies for Ghostbusters II\n",
            "\tGhostbusters: 0.35342678\n",
            "\tSeven: 0.20532146\n",
            "\tPulp Fiction: 0.1724575\n",
            "\tStar Trek: Generations: 0.10307089\n",
            "\tThe Hobbit: 0.072032504\n",
            "\tThe Silence of the Lambs: 0.0645742\n",
            "\tFight Club: 0.058754705\n",
            "\tStar Wars: Episode V - The Empire Strikes Back: 0.05385293\n",
            "\tPeter Pan: 0.053751364\n",
            "\tThe Lord of the Rings: 0.04993066\n",
            "\tThe Jungle Book: -0.0036003988\n",
            "\n",
            "Recommended movies for The Silence of the Lambs\n",
            "\tThe Jungle Book: 0.3533116\n",
            "\tPulp Fiction: 0.35206327\n",
            "\tThe Hobbit: 0.2906854\n",
            "\tSeven: 0.27999854\n",
            "\tPeter Pan: 0.17648897\n",
            "\tGhostbusters: 0.13269424\n",
            "\tStar Trek: Generations: 0.13234916\n",
            "\tFight Club: 0.114284895\n",
            "\tGhostbusters II: 0.0645742\n",
            "\tStar Wars: Episode V - The Empire Strikes Back: 0.019422647\n",
            "\tThe Lord of the Rings: 0.0052893367\n",
            "\n",
            "Recommended movies for Seven\n",
            "\tPulp Fiction: 0.32619292\n",
            "\tThe Silence of the Lambs: 0.27999854\n",
            "\tStar Trek: Generations: 0.2442699\n",
            "\tGhostbusters II: 0.20532146\n",
            "\tGhostbusters: 0.2037864\n",
            "\tFight Club: 0.18905933\n",
            "\tThe Lord of the Rings: 0.114286356\n",
            "\tPeter Pan: 0.07529317\n",
            "\tThe Hobbit: 0.06415133\n",
            "\tThe Jungle Book: 0.039030284\n",
            "\tStar Wars: Episode V - The Empire Strikes Back: 0.024876125\n",
            "\n",
            "Recommended movies for The Lord of the Rings\n",
            "\tThe Hobbit: 0.4376534\n",
            "\tStar Wars: Episode V - The Empire Strikes Back: 0.20509371\n",
            "\tStar Trek: Generations: 0.1945294\n",
            "\tThe Jungle Book: 0.18055129\n",
            "\tPulp Fiction: 0.13456734\n",
            "\tPeter Pan: 0.1183591\n",
            "\tSeven: 0.114286356\n",
            "\tFight Club: 0.07858808\n",
            "\tGhostbusters II: 0.04993066\n",
            "\tThe Silence of the Lambs: 0.0052893367\n",
            "\tGhostbusters: -0.0018476149\n",
            "\n",
            "Recommended movies for The Hobbit\n",
            "\tThe Lord of the Rings: 0.4376534\n",
            "\tThe Jungle Book: 0.3053\n",
            "\tThe Silence of the Lambs: 0.2906854\n",
            "\tPeter Pan: 0.2205955\n",
            "\tPulp Fiction: 0.19268872\n",
            "\tStar Trek: Generations: 0.15281063\n",
            "\tGhostbusters II: 0.072032504\n",
            "\tSeven: 0.06415133\n",
            "\tStar Wars: Episode V - The Empire Strikes Back: 0.042055022\n",
            "\tFight Club: 0.02168941\n",
            "\tGhostbusters: -0.0053996425\n",
            "\n",
            "Recommended movies for The Jungle Book\n",
            "\tThe Silence of the Lambs: 0.3533116\n",
            "\tPeter Pan: 0.3362158\n",
            "\tThe Hobbit: 0.3053\n",
            "\tPulp Fiction: 0.27794236\n",
            "\tThe Lord of the Rings: 0.18055129\n",
            "\tStar Wars: Episode V - The Empire Strikes Back: 0.13153738\n",
            "\tSeven: 0.039030284\n",
            "\tStar Trek: Generations: 0.025979081\n",
            "\tFight Club: 0.022303514\n",
            "\tGhostbusters II: -0.0036003988\n",
            "\tGhostbusters: -0.00801077\n",
            "\n",
            "Recommended movies for Peter Pan\n",
            "\tThe Jungle Book: 0.3362158\n",
            "\tPulp Fiction: 0.3029605\n",
            "\tThe Hobbit: 0.2205955\n",
            "\tThe Silence of the Lambs: 0.17648897\n",
            "\tGhostbusters: 0.12431727\n",
            "\tThe Lord of the Rings: 0.1183591\n",
            "\tStar Wars: Episode V - The Empire Strikes Back: 0.10717969\n",
            "\tStar Trek: Generations: 0.09382008\n",
            "\tFight Club: 0.088111594\n",
            "\tSeven: 0.07529317\n",
            "\tGhostbusters II: 0.053751364\n",
            "\n"
          ]
        }
      ]
    },
    {
      "cell_type": "markdown",
      "source": [
        "## Naive dense retrieval\n",
        "Retrieval is generally defined as finding relevant information like text, image, or audio documents for a given query. There are multiple ways to implement such retrieval systems, which are also known as \"search engines\". Here we'll focus on text retrieval.\n",
        "\n",
        "Previously, a search engine had to first split up a user query into words (tokens), lower case them (normalization) and remove endings (stemming). To capture synonyms, the query terms were also expanded, in the simplest case via a synonym dictionary, so that more relevant documents could be found.\n",
        "\n",
        "The resulting expanded query terms were then matched against an [inverted index](https://en.wikipedia.org/wiki/Inverted_index) of documents. To build the index, the documents' texts also had to go through this processing pipeline. Word positions and their resulting relationships also get entirely lost during this process. The curse of the [bag of words model](https://en.wikipedia.org/wiki/Bag-of-words_model)\n",
        "\n",
        "To find documents matching the query, similarity measures like [TF-IDF](https://en.wikipedia.org/wiki/Tf%E2%80%93idf) or [BM25](https://en.wikipedia.org/wiki/Okapi_BM25) were used. These measures are actually related to the cosine similarity measure discussed above. Document representations in the invertex index are equivalent to sparse vectors, where a vector may not have an entry for each dimension of the vector space. E.g. the vector for the text \"The dog is brown\" only has entries for \"the\", \"dog\", \"is\", and \"brown\", but not for \"house\", or \"car\".\n",
        "\n",
        "These sparse retrieval systems faced many challenges, with the biggest being, that they work on a word level, instead of a meaning and semantic relatedness level. They were also exceptionally hard to get working in multi-lingual settings.\n",
        "\n",
        "\"Dense retrieval\" is based on vectors generated for texts by embedding models. The \"dense\" part stems from the fact, that the transformation does away entirely with words, and instead maps the text to semantic (albeit unobservable) concepts. We do no longer have to care for things like stemming or synonyms. These issues are automagically solved by the embedding model. These models also lend themselves well to handle multi-lingual retrieval, as semantic concepts transfer well between languages, as opposed to lexical words. The downside of dense retrieval is that exact phrase matches are not really possible. In production, sparse and dense retrieval systems are often combined, to get the best of both worlds.\n",
        "\n",
        "Our `similarity_search` function performs dense retrieval for movie titles and plots! We've already seen how we can use dense retrieval to find similar movies for a given movie.\n",
        "\n",
        "We can use the exact same principle to find movies that best match a user query, like those entered in a search engine. Dense retrieval simplifies implementing search engines tremendously. Let's try it out.\n",
        "\n",
        "In the code below, we use the `similarity_search` function to find movies matching a user query, and print out the results."
      ],
      "metadata": {
        "id": "lqd7qI57RCSC"
      }
    },
    {
      "cell_type": "code",
      "source": [
        "def retrieve(query, movies, embeddings):\n",
        "  results = similarity_search(query, movies, embeddings)\n",
        "  print(\">>> \" + query)\n",
        "  for i in range(len(results)):\n",
        "    result = results[i]\n",
        "    print(f'{result[0][\"title\"]}: {result[1]}')\n",
        "  print()\n",
        "\n",
        "\n",
        "retrieve(\"I want a sci-fi movie in space\", movies, embeddings)\n",
        "retrieve(\"I need a movie for children\", movies, embeddings)\n",
        "retrieve(\"I want to be scared!\", movies, embeddings)"
      ],
      "metadata": {
        "colab": {
          "base_uri": "https://localhost:8080/"
        },
        "id": "q9M6ZhxpcziL",
        "outputId": "f46e0f3c-c570-4b99-adb6-b89c493a39a2"
      },
      "execution_count": 11,
      "outputs": [
        {
          "output_type": "stream",
          "name": "stdout",
          "text": [
            ">>> I want a sci-fi movie in space\n",
            "Star Trek: Generations: 0.22226382791996002\n",
            "Peter Pan: 0.14958500862121582\n",
            "Star Wars: Episode V - The Empire Strikes Back: 0.13036510348320007\n",
            "The Jungle Book: 0.10451296716928482\n",
            "The Hobbit: 0.1011020839214325\n",
            "The Silence of the Lambs: 0.07244217395782471\n",
            "Ghostbusters II: 0.07142180949449539\n",
            "Seven: 0.03210486099123955\n",
            "Ghostbusters: 0.025982193648815155\n",
            "The Lord of the Rings: 0.0054916334338486195\n",
            "Fight Club: 0.00512206694111228\n",
            "Pulp Fiction: -0.0038630827330052853\n",
            "\n",
            ">>> I need a movie for children\n",
            "The Jungle Book: 0.3480773866176605\n",
            "Peter Pan: 0.33821117877960205\n",
            "The Silence of the Lambs: 0.21802964806556702\n",
            "Pulp Fiction: 0.18686054646968842\n",
            "Seven: 0.06618308275938034\n",
            "The Hobbit: 0.06579607725143433\n",
            "Star Trek: Generations: 0.045628271996974945\n",
            "Ghostbusters: 0.04260002076625824\n",
            "The Lord of the Rings: 0.030715836212038994\n",
            "Fight Club: 0.029393216595053673\n",
            "Ghostbusters II: 0.023982400074601173\n",
            "Star Wars: Episode V - The Empire Strikes Back: 0.007590730674564838\n",
            "\n",
            ">>> I want to be scared!\n",
            "Ghostbusters: 0.21073882281780243\n",
            "The Silence of the Lambs: 0.17536386847496033\n",
            "The Jungle Book: 0.14985418319702148\n",
            "Fight Club: 0.12972189486026764\n",
            "Peter Pan: 0.10804522782564163\n",
            "Ghostbusters II: 0.10533657670021057\n",
            "Star Trek: Generations: 0.08501248061656952\n",
            "The Hobbit: 0.08197574317455292\n",
            "Seven: 0.07068908959627151\n",
            "Pulp Fiction: 0.05737336724996567\n",
            "Star Wars: Episode V - The Empire Strikes Back: 0.04409937933087349\n",
            "The Lord of the Rings: 0.02901589125394821\n",
            "\n"
          ]
        }
      ]
    },
    {
      "cell_type": "markdown",
      "source": [
        "## Deploying a model to the cloud (Hugging Face Inference Endpoints)\n",
        "\n",
        "Running a model in a Google Colab or Jupyter notebook is fine for engineering things. Ultimately, we want to serve models for production use. This way, we do not have to provision our own (costly) hardware, such as GPU clusters, and we let someone else care about (auto-)scaling the service based on demand.\n",
        "\n",
        "One simple way to do this is to use [Hugging Face Inference Endpoints](https://huggingface.co/inference-endpoints/dedicated).\n",
        "\n",
        "I've deployed the jina model via Hugging Face Inference Endpoints. Once deployed, we can use this remotely running model via a simple `POST` request from anywhere. The API endpoint expects a JSON object of the form:\n",
        "\n",
        "```\n",
        "{\"inputs\": [first_text, second_text, ..., n_th_text], \"params\": {}}\n",
        "```\n",
        "\n",
        "The API endpoint returns a JSON array, where each element is an array of numbers representing the embedding vector of the corresponding input text.\n",
        "\n",
        "We wrap this in a function called `embed_remote`, which behaves like `embed_local`, so we can swap it out in our code."
      ],
      "metadata": {
        "id": "7ZBkJPRKF-jz"
      }
    },
    {
      "cell_type": "code",
      "source": [
        "import requests\n",
        "\n",
        "def embed_remote(texts):\n",
        "  API_URL = \"https://bkr7g18qndixix0y.eu-west-1.aws.endpoints.huggingface.cloud\"\n",
        "  headers = {\n",
        "\t  \"Accept\" : \"application/json\",\n",
        "\t  \"Content-Type\": \"application/json\"\n",
        "  }\n",
        "  if not isinstance(texts, list):\n",
        "      texts = [texts]\n",
        "\n",
        "  response = requests.post(API_URL, headers=headers, json={\"inputs\": texts, \"payload\": {}})\n",
        "  response_json = response.json()\n",
        "  response_np = np.array(response_json)\n",
        "\n",
        "  if response_np.shape[0] == 1:\n",
        "      return response_np[0]\n",
        "  else:\n",
        "      return response_np"
      ],
      "metadata": {
        "id": "ljYhFmv4GfTq"
      },
      "execution_count": 14,
      "outputs": []
    },
    {
      "cell_type": "markdown",
      "source": [
        "Now let us try our dense retrieval using the remote embedding model."
      ],
      "metadata": {
        "id": "PWuZunOFDSZW"
      }
    },
    {
      "cell_type": "code",
      "source": [
        "embed = embed_remote\n",
        "\n",
        "retrieve(\"I want a sci-fi movie in space\", movies, embeddings)\n",
        "retrieve(\"I need a movie for children\", movies, embeddings)\n",
        "retrieve(\"I want to be scared!\", movies, embeddings)"
      ],
      "metadata": {
        "colab": {
          "base_uri": "https://localhost:8080/"
        },
        "id": "8xn2uymuDdfY",
        "outputId": "b5f20c67-b671-4737-fc04-ad16c0d4a2ab"
      },
      "execution_count": 15,
      "outputs": [
        {
          "output_type": "stream",
          "name": "stdout",
          "text": [
            ">>> I want a sci-fi movie in space\n",
            "Star Trek: Generations: 0.2221683184868855\n",
            "Peter Pan: 0.1492910920658883\n",
            "Star Wars: Episode V - The Empire Strikes Back: 0.13009043789302413\n",
            "The Jungle Book: 0.10460892514139176\n",
            "The Hobbit: 0.10134861517873282\n",
            "The Silence of the Lambs: 0.07164378543254674\n",
            "Ghostbusters II: 0.07101691939289406\n",
            "Seven: 0.03154479420968159\n",
            "Ghostbusters: 0.02626154969196028\n",
            "The Lord of the Rings: 0.0054341832190696925\n",
            "Fight Club: 0.005018772486957594\n",
            "Pulp Fiction: -0.004303801535594148\n",
            "\n",
            ">>> I need a movie for children\n",
            "The Jungle Book: 0.34809647074531597\n",
            "Peter Pan: 0.33795221605132575\n",
            "The Silence of the Lambs: 0.21818881394095896\n",
            "Pulp Fiction: 0.1865550377467876\n",
            "Seven: 0.0662471193002756\n",
            "The Hobbit: 0.06601047648030393\n",
            "Star Trek: Generations: 0.04573471197802257\n",
            "Ghostbusters: 0.0424232867991649\n",
            "The Lord of the Rings: 0.030877109399548276\n",
            "Fight Club: 0.02947681470862986\n",
            "Ghostbusters II: 0.023750075602370187\n",
            "Star Wars: Episode V - The Empire Strikes Back: 0.007402260364054646\n",
            "\n",
            ">>> I want to be scared!\n",
            "Ghostbusters: 0.21092986955923634\n",
            "The Silence of the Lambs: 0.17606778452322133\n",
            "The Jungle Book: 0.15039376347249797\n",
            "Fight Club: 0.1296374710516727\n",
            "Peter Pan: 0.10799293062206738\n",
            "Ghostbusters II: 0.10529128303599643\n",
            "Star Trek: Generations: 0.08493075918894932\n",
            "The Hobbit: 0.08230911230066228\n",
            "Seven: 0.0705479940565863\n",
            "Pulp Fiction: 0.057729909506214\n",
            "Star Wars: Episode V - The Empire Strikes Back: 0.04399321329596271\n",
            "The Lord of the Rings: 0.02901017031044997\n",
            "\n"
          ]
        }
      ]
    }
  ]
}