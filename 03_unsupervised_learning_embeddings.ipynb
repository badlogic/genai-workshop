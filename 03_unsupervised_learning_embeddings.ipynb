{
  "nbformat": 4,
  "nbformat_minor": 0,
  "metadata": {
    "colab": {
      "provenance": [],
      "toc_visible": true,
      "authorship_tag": "ABX9TyMzhvIgCQPiPMOopKAzakhE",
      "include_colab_link": true
    },
    "kernelspec": {
      "name": "python3",
      "display_name": "Python 3"
    },
    "language_info": {
      "name": "python"
    },
    "widgets": {
      "application/vnd.jupyter.widget-state+json": {
        "aedb352145d34a16b012c011c2e24308": {
          "model_module": "@jupyter-widgets/controls",
          "model_name": "VBoxModel",
          "model_module_version": "1.5.0",
          "state": {
            "_dom_classes": [],
            "_model_module": "@jupyter-widgets/controls",
            "_model_module_version": "1.5.0",
            "_model_name": "VBoxModel",
            "_view_count": null,
            "_view_module": "@jupyter-widgets/controls",
            "_view_module_version": "1.5.0",
            "_view_name": "VBoxView",
            "box_style": "",
            "children": [
              "IPY_MODEL_ab686d00c5ef4056a1e9e67eb544e76f",
              "IPY_MODEL_cc79544655c54c839a5e7e21e9a5fc6a",
              "IPY_MODEL_1412860c68894baa894498a121f7fd79",
              "IPY_MODEL_cc238bf4c1c94c5fb3c110bd012ddcc1",
              "IPY_MODEL_f78934e31039424e971e32f809f4b7dd"
            ],
            "layout": "IPY_MODEL_601b04d497e340b3854c8e968df400f0"
          }
        },
        "ab686d00c5ef4056a1e9e67eb544e76f": {
          "model_module": "@jupyter-widgets/controls",
          "model_name": "HTMLModel",
          "model_module_version": "1.5.0",
          "state": {
            "_dom_classes": [],
            "_model_module": "@jupyter-widgets/controls",
            "_model_module_version": "1.5.0",
            "_model_name": "HTMLModel",
            "_view_count": null,
            "_view_module": "@jupyter-widgets/controls",
            "_view_module_version": "1.5.0",
            "_view_name": "HTMLView",
            "description": "",
            "description_tooltip": null,
            "layout": "IPY_MODEL_b35b513c1c4743aba1862b849f601992",
            "placeholder": "​",
            "style": "IPY_MODEL_34b6ea3dfec64a4cbc79dda0ee32218d",
            "value": "<center> <img\nsrc=https://huggingface.co/front/assets/huggingface_logo-noborder.svg\nalt='Hugging Face'> <br> Copy a token from <a\nhref=\"https://huggingface.co/settings/tokens\" target=\"_blank\">your Hugging Face\ntokens page</a> and paste it below. <br> Immediately click login after copying\nyour token or it might be stored in plain text in this notebook file. </center>"
          }
        },
        "cc79544655c54c839a5e7e21e9a5fc6a": {
          "model_module": "@jupyter-widgets/controls",
          "model_name": "PasswordModel",
          "model_module_version": "1.5.0",
          "state": {
            "_dom_classes": [],
            "_model_module": "@jupyter-widgets/controls",
            "_model_module_version": "1.5.0",
            "_model_name": "PasswordModel",
            "_view_count": null,
            "_view_module": "@jupyter-widgets/controls",
            "_view_module_version": "1.5.0",
            "_view_name": "PasswordView",
            "continuous_update": true,
            "description": "Token:",
            "description_tooltip": null,
            "disabled": false,
            "layout": "IPY_MODEL_8624604661f14b108203d14b849e9683",
            "placeholder": "​",
            "style": "IPY_MODEL_c2dcd128af2a47ef86b3e44b7cc953a4",
            "value": ""
          }
        },
        "1412860c68894baa894498a121f7fd79": {
          "model_module": "@jupyter-widgets/controls",
          "model_name": "CheckboxModel",
          "model_module_version": "1.5.0",
          "state": {
            "_dom_classes": [],
            "_model_module": "@jupyter-widgets/controls",
            "_model_module_version": "1.5.0",
            "_model_name": "CheckboxModel",
            "_view_count": null,
            "_view_module": "@jupyter-widgets/controls",
            "_view_module_version": "1.5.0",
            "_view_name": "CheckboxView",
            "description": "Add token as git credential?",
            "description_tooltip": null,
            "disabled": false,
            "indent": true,
            "layout": "IPY_MODEL_dcf910ce95df47289b71f37a028f9d90",
            "style": "IPY_MODEL_ff8923314e4744ef8c70519bb26b8dc6",
            "value": true
          }
        },
        "cc238bf4c1c94c5fb3c110bd012ddcc1": {
          "model_module": "@jupyter-widgets/controls",
          "model_name": "ButtonModel",
          "model_module_version": "1.5.0",
          "state": {
            "_dom_classes": [],
            "_model_module": "@jupyter-widgets/controls",
            "_model_module_version": "1.5.0",
            "_model_name": "ButtonModel",
            "_view_count": null,
            "_view_module": "@jupyter-widgets/controls",
            "_view_module_version": "1.5.0",
            "_view_name": "ButtonView",
            "button_style": "",
            "description": "Login",
            "disabled": false,
            "icon": "",
            "layout": "IPY_MODEL_ffafe66bfc2d4d0a9fb15e2f636363bd",
            "style": "IPY_MODEL_94d975112b544d97a6de102994840481",
            "tooltip": ""
          }
        },
        "f78934e31039424e971e32f809f4b7dd": {
          "model_module": "@jupyter-widgets/controls",
          "model_name": "HTMLModel",
          "model_module_version": "1.5.0",
          "state": {
            "_dom_classes": [],
            "_model_module": "@jupyter-widgets/controls",
            "_model_module_version": "1.5.0",
            "_model_name": "HTMLModel",
            "_view_count": null,
            "_view_module": "@jupyter-widgets/controls",
            "_view_module_version": "1.5.0",
            "_view_name": "HTMLView",
            "description": "",
            "description_tooltip": null,
            "layout": "IPY_MODEL_151fc450d1c74476bbc0ad2e1076494a",
            "placeholder": "​",
            "style": "IPY_MODEL_32e4be7516b1481e80f389e1cc200236",
            "value": "\n<b>Pro Tip:</b> If you don't already have one, you can create a dedicated\n'notebooks' token with 'write' access, that you can then easily reuse for all\nnotebooks. </center>"
          }
        },
        "601b04d497e340b3854c8e968df400f0": {
          "model_module": "@jupyter-widgets/base",
          "model_name": "LayoutModel",
          "model_module_version": "1.2.0",
          "state": {
            "_model_module": "@jupyter-widgets/base",
            "_model_module_version": "1.2.0",
            "_model_name": "LayoutModel",
            "_view_count": null,
            "_view_module": "@jupyter-widgets/base",
            "_view_module_version": "1.2.0",
            "_view_name": "LayoutView",
            "align_content": null,
            "align_items": "center",
            "align_self": null,
            "border": null,
            "bottom": null,
            "display": "flex",
            "flex": null,
            "flex_flow": "column",
            "grid_area": null,
            "grid_auto_columns": null,
            "grid_auto_flow": null,
            "grid_auto_rows": null,
            "grid_column": null,
            "grid_gap": null,
            "grid_row": null,
            "grid_template_areas": null,
            "grid_template_columns": null,
            "grid_template_rows": null,
            "height": null,
            "justify_content": null,
            "justify_items": null,
            "left": null,
            "margin": null,
            "max_height": null,
            "max_width": null,
            "min_height": null,
            "min_width": null,
            "object_fit": null,
            "object_position": null,
            "order": null,
            "overflow": null,
            "overflow_x": null,
            "overflow_y": null,
            "padding": null,
            "right": null,
            "top": null,
            "visibility": null,
            "width": "50%"
          }
        },
        "b35b513c1c4743aba1862b849f601992": {
          "model_module": "@jupyter-widgets/base",
          "model_name": "LayoutModel",
          "model_module_version": "1.2.0",
          "state": {
            "_model_module": "@jupyter-widgets/base",
            "_model_module_version": "1.2.0",
            "_model_name": "LayoutModel",
            "_view_count": null,
            "_view_module": "@jupyter-widgets/base",
            "_view_module_version": "1.2.0",
            "_view_name": "LayoutView",
            "align_content": null,
            "align_items": null,
            "align_self": null,
            "border": null,
            "bottom": null,
            "display": null,
            "flex": null,
            "flex_flow": null,
            "grid_area": null,
            "grid_auto_columns": null,
            "grid_auto_flow": null,
            "grid_auto_rows": null,
            "grid_column": null,
            "grid_gap": null,
            "grid_row": null,
            "grid_template_areas": null,
            "grid_template_columns": null,
            "grid_template_rows": null,
            "height": null,
            "justify_content": null,
            "justify_items": null,
            "left": null,
            "margin": null,
            "max_height": null,
            "max_width": null,
            "min_height": null,
            "min_width": null,
            "object_fit": null,
            "object_position": null,
            "order": null,
            "overflow": null,
            "overflow_x": null,
            "overflow_y": null,
            "padding": null,
            "right": null,
            "top": null,
            "visibility": null,
            "width": null
          }
        },
        "34b6ea3dfec64a4cbc79dda0ee32218d": {
          "model_module": "@jupyter-widgets/controls",
          "model_name": "DescriptionStyleModel",
          "model_module_version": "1.5.0",
          "state": {
            "_model_module": "@jupyter-widgets/controls",
            "_model_module_version": "1.5.0",
            "_model_name": "DescriptionStyleModel",
            "_view_count": null,
            "_view_module": "@jupyter-widgets/base",
            "_view_module_version": "1.2.0",
            "_view_name": "StyleView",
            "description_width": ""
          }
        },
        "8624604661f14b108203d14b849e9683": {
          "model_module": "@jupyter-widgets/base",
          "model_name": "LayoutModel",
          "model_module_version": "1.2.0",
          "state": {
            "_model_module": "@jupyter-widgets/base",
            "_model_module_version": "1.2.0",
            "_model_name": "LayoutModel",
            "_view_count": null,
            "_view_module": "@jupyter-widgets/base",
            "_view_module_version": "1.2.0",
            "_view_name": "LayoutView",
            "align_content": null,
            "align_items": null,
            "align_self": null,
            "border": null,
            "bottom": null,
            "display": null,
            "flex": null,
            "flex_flow": null,
            "grid_area": null,
            "grid_auto_columns": null,
            "grid_auto_flow": null,
            "grid_auto_rows": null,
            "grid_column": null,
            "grid_gap": null,
            "grid_row": null,
            "grid_template_areas": null,
            "grid_template_columns": null,
            "grid_template_rows": null,
            "height": null,
            "justify_content": null,
            "justify_items": null,
            "left": null,
            "margin": null,
            "max_height": null,
            "max_width": null,
            "min_height": null,
            "min_width": null,
            "object_fit": null,
            "object_position": null,
            "order": null,
            "overflow": null,
            "overflow_x": null,
            "overflow_y": null,
            "padding": null,
            "right": null,
            "top": null,
            "visibility": null,
            "width": null
          }
        },
        "c2dcd128af2a47ef86b3e44b7cc953a4": {
          "model_module": "@jupyter-widgets/controls",
          "model_name": "DescriptionStyleModel",
          "model_module_version": "1.5.0",
          "state": {
            "_model_module": "@jupyter-widgets/controls",
            "_model_module_version": "1.5.0",
            "_model_name": "DescriptionStyleModel",
            "_view_count": null,
            "_view_module": "@jupyter-widgets/base",
            "_view_module_version": "1.2.0",
            "_view_name": "StyleView",
            "description_width": ""
          }
        },
        "dcf910ce95df47289b71f37a028f9d90": {
          "model_module": "@jupyter-widgets/base",
          "model_name": "LayoutModel",
          "model_module_version": "1.2.0",
          "state": {
            "_model_module": "@jupyter-widgets/base",
            "_model_module_version": "1.2.0",
            "_model_name": "LayoutModel",
            "_view_count": null,
            "_view_module": "@jupyter-widgets/base",
            "_view_module_version": "1.2.0",
            "_view_name": "LayoutView",
            "align_content": null,
            "align_items": null,
            "align_self": null,
            "border": null,
            "bottom": null,
            "display": null,
            "flex": null,
            "flex_flow": null,
            "grid_area": null,
            "grid_auto_columns": null,
            "grid_auto_flow": null,
            "grid_auto_rows": null,
            "grid_column": null,
            "grid_gap": null,
            "grid_row": null,
            "grid_template_areas": null,
            "grid_template_columns": null,
            "grid_template_rows": null,
            "height": null,
            "justify_content": null,
            "justify_items": null,
            "left": null,
            "margin": null,
            "max_height": null,
            "max_width": null,
            "min_height": null,
            "min_width": null,
            "object_fit": null,
            "object_position": null,
            "order": null,
            "overflow": null,
            "overflow_x": null,
            "overflow_y": null,
            "padding": null,
            "right": null,
            "top": null,
            "visibility": null,
            "width": null
          }
        },
        "ff8923314e4744ef8c70519bb26b8dc6": {
          "model_module": "@jupyter-widgets/controls",
          "model_name": "DescriptionStyleModel",
          "model_module_version": "1.5.0",
          "state": {
            "_model_module": "@jupyter-widgets/controls",
            "_model_module_version": "1.5.0",
            "_model_name": "DescriptionStyleModel",
            "_view_count": null,
            "_view_module": "@jupyter-widgets/base",
            "_view_module_version": "1.2.0",
            "_view_name": "StyleView",
            "description_width": ""
          }
        },
        "ffafe66bfc2d4d0a9fb15e2f636363bd": {
          "model_module": "@jupyter-widgets/base",
          "model_name": "LayoutModel",
          "model_module_version": "1.2.0",
          "state": {
            "_model_module": "@jupyter-widgets/base",
            "_model_module_version": "1.2.0",
            "_model_name": "LayoutModel",
            "_view_count": null,
            "_view_module": "@jupyter-widgets/base",
            "_view_module_version": "1.2.0",
            "_view_name": "LayoutView",
            "align_content": null,
            "align_items": null,
            "align_self": null,
            "border": null,
            "bottom": null,
            "display": null,
            "flex": null,
            "flex_flow": null,
            "grid_area": null,
            "grid_auto_columns": null,
            "grid_auto_flow": null,
            "grid_auto_rows": null,
            "grid_column": null,
            "grid_gap": null,
            "grid_row": null,
            "grid_template_areas": null,
            "grid_template_columns": null,
            "grid_template_rows": null,
            "height": null,
            "justify_content": null,
            "justify_items": null,
            "left": null,
            "margin": null,
            "max_height": null,
            "max_width": null,
            "min_height": null,
            "min_width": null,
            "object_fit": null,
            "object_position": null,
            "order": null,
            "overflow": null,
            "overflow_x": null,
            "overflow_y": null,
            "padding": null,
            "right": null,
            "top": null,
            "visibility": null,
            "width": null
          }
        },
        "94d975112b544d97a6de102994840481": {
          "model_module": "@jupyter-widgets/controls",
          "model_name": "ButtonStyleModel",
          "model_module_version": "1.5.0",
          "state": {
            "_model_module": "@jupyter-widgets/controls",
            "_model_module_version": "1.5.0",
            "_model_name": "ButtonStyleModel",
            "_view_count": null,
            "_view_module": "@jupyter-widgets/base",
            "_view_module_version": "1.2.0",
            "_view_name": "StyleView",
            "button_color": null,
            "font_weight": ""
          }
        },
        "151fc450d1c74476bbc0ad2e1076494a": {
          "model_module": "@jupyter-widgets/base",
          "model_name": "LayoutModel",
          "model_module_version": "1.2.0",
          "state": {
            "_model_module": "@jupyter-widgets/base",
            "_model_module_version": "1.2.0",
            "_model_name": "LayoutModel",
            "_view_count": null,
            "_view_module": "@jupyter-widgets/base",
            "_view_module_version": "1.2.0",
            "_view_name": "LayoutView",
            "align_content": null,
            "align_items": null,
            "align_self": null,
            "border": null,
            "bottom": null,
            "display": null,
            "flex": null,
            "flex_flow": null,
            "grid_area": null,
            "grid_auto_columns": null,
            "grid_auto_flow": null,
            "grid_auto_rows": null,
            "grid_column": null,
            "grid_gap": null,
            "grid_row": null,
            "grid_template_areas": null,
            "grid_template_columns": null,
            "grid_template_rows": null,
            "height": null,
            "justify_content": null,
            "justify_items": null,
            "left": null,
            "margin": null,
            "max_height": null,
            "max_width": null,
            "min_height": null,
            "min_width": null,
            "object_fit": null,
            "object_position": null,
            "order": null,
            "overflow": null,
            "overflow_x": null,
            "overflow_y": null,
            "padding": null,
            "right": null,
            "top": null,
            "visibility": null,
            "width": null
          }
        },
        "32e4be7516b1481e80f389e1cc200236": {
          "model_module": "@jupyter-widgets/controls",
          "model_name": "DescriptionStyleModel",
          "model_module_version": "1.5.0",
          "state": {
            "_model_module": "@jupyter-widgets/controls",
            "_model_module_version": "1.5.0",
            "_model_name": "DescriptionStyleModel",
            "_view_count": null,
            "_view_module": "@jupyter-widgets/base",
            "_view_module_version": "1.2.0",
            "_view_name": "StyleView",
            "description_width": ""
          }
        }
      }
    }
  },
  "cells": [
    {
      "cell_type": "markdown",
      "metadata": {
        "id": "view-in-github",
        "colab_type": "text"
      },
      "source": [
        "<a href=\"https://colab.research.google.com/github/badlogic/genai-workshop/blob/main/03_unsupervised_learning_embeddings.ipynb\" target=\"_parent\"><img src=\"https://colab.research.google.com/assets/colab-badge.svg\" alt=\"Open In Colab\"/></a>"
      ]
    },
    {
      "cell_type": "markdown",
      "source": [
        "# Embeddings\n",
        "Embedding models are a type of unsupervised machine learning model. They learn how to take text, images, or audio and transform it into a vector in what's called a **latent (vector) space**. This process is commonly referred to as embedding.\n",
        "\n",
        "This process is different than just taking measurements like a car's number of cylinders, top speed, or tank capacity, and giving each of those features its own dimension in a vector.\n",
        "\n",
        "Instead, embedding models take such \"plain\" feature vectors as input and find what's called **latent variables** in them. These may or may not have a correlate in the real world. E.g. when embedding images of faces, one such latent variable could be the orientation of the face, e.g. left or right, or the skin tone, or whether the eyes are open or closed. Some latent variables may also have no real-world correlate, but still encode something semantically meaningful. A single dimension in the resulting vector space (or element in a resulting embedding vector) therefore usually doesn't correlate with a single real-world property, like a face's direction. Instead, a latent variable may make up an area within that high-dimensional space.\n",
        "\n",
        "Ultimately, what meaning the individual dimensions in a latent space have, is often not explainable.\n",
        "\n",
        "The benefit of embedding data into a latent space is that we can then use simple mathematical tools to compare the (semantic) similarity between two data, e.g. two sentences, or two images. It also serves as a form of automatic feature engineering, where the embedding model figures out discriminating properties in the data, by which dissimilar items can be discerned.\n",
        "\n",
        "This has an enormous amount of applications, both directly, and indirectly as part of bigger systems (including large language models!).\n",
        "\n",
        "> **Note:** while we are discussing embeddings for full texts, there are also [word embeddings](https://en.wikipedia.org/wiki/Word_embedding), which play an important role in large language models."
      ],
      "metadata": {
        "id": "OkUSt_ITETDo"
      }
    },
    {
      "cell_type": "markdown",
      "source": [
        "\n",
        "# Playing with embeddings\n",
        "To illustrate the power of embeddings, we are going to use a pre-trained text embedding model called `jina-embeddings-v2-base-de` from Hugging Face. The specific model can handle both English and German language texts. In fact, multi-linguality is a property of many popular text embedding models.\n",
        "\n",
        "We will embed textual information about movies (title and description) and implement two popular \"downstream\" tasks for embeddings:\n",
        "\n",
        "1. Finding similar movies (recommender)\n",
        "2. Finding movies that are match a user query (retrieval)"
      ],
      "metadata": {
        "id": "Ade-Jh8VSr6l"
      }
    },
    {
      "cell_type": "markdown",
      "source": [
        "## Setup and Hugging Face login\n",
        "To use the jina model, you have to:\n",
        "1. Create a [Hugging Face account](https://huggingface.co/join)\n",
        "2. Create an [access token](https://huggingface.co/settings/tokens)\n",
        "3. Visit the [model page](https://huggingface.co/jinaai/jina-embeddings-v2-base-de) and request access.\n",
        "\n",
        "If you run the code on your own machine, set the `HF_TOKEN` environment variable to your access token.\n",
        "\n",
        "If you run the code here on collab, you will be prompted for your token each time you run this cell."
      ],
      "metadata": {
        "id": "S8YXsbFfSuRr"
      }
    },
    {
      "cell_type": "code",
      "source": [
        "!pip install umap-learn\n",
        "import numpy as np\n",
        "from numpy.linalg import norm\n",
        "from transformers import AutoModel\n",
        "import umap\n",
        "import matplotlib.pyplot as plt\n",
        "import os\n",
        "\n",
        "# Check if HF_TOKEN exists in the environment, otherwise fetch it from the colab\n",
        "# secrets\n",
        "if 'HF_TOKEN' in os.environ:\n",
        "  print(\"Using 🤗 access token from HF_TOKEN environment variable\")\n",
        "else:\n",
        "  from huggingface_hub import notebook_login\n",
        "  notebook_login()"
      ],
      "metadata": {
        "colab": {
          "base_uri": "https://localhost:8080/",
          "height": 509,
          "referenced_widgets": [
            "aedb352145d34a16b012c011c2e24308",
            "ab686d00c5ef4056a1e9e67eb544e76f",
            "cc79544655c54c839a5e7e21e9a5fc6a",
            "1412860c68894baa894498a121f7fd79",
            "cc238bf4c1c94c5fb3c110bd012ddcc1",
            "f78934e31039424e971e32f809f4b7dd",
            "601b04d497e340b3854c8e968df400f0",
            "b35b513c1c4743aba1862b849f601992",
            "34b6ea3dfec64a4cbc79dda0ee32218d",
            "8624604661f14b108203d14b849e9683",
            "c2dcd128af2a47ef86b3e44b7cc953a4",
            "dcf910ce95df47289b71f37a028f9d90",
            "ff8923314e4744ef8c70519bb26b8dc6",
            "ffafe66bfc2d4d0a9fb15e2f636363bd",
            "94d975112b544d97a6de102994840481",
            "151fc450d1c74476bbc0ad2e1076494a",
            "32e4be7516b1481e80f389e1cc200236"
          ]
        },
        "id": "m68raIvCQ6fd",
        "outputId": "4d3706af-80eb-42db-b00c-1273a251da79"
      },
      "execution_count": null,
      "outputs": [
        {
          "output_type": "stream",
          "name": "stdout",
          "text": [
            "Requirement already satisfied: umap-learn in /usr/local/lib/python3.10/dist-packages (0.5.5)\n",
            "Requirement already satisfied: numpy>=1.17 in /usr/local/lib/python3.10/dist-packages (from umap-learn) (1.25.2)\n",
            "Requirement already satisfied: scipy>=1.3.1 in /usr/local/lib/python3.10/dist-packages (from umap-learn) (1.11.4)\n",
            "Requirement already satisfied: scikit-learn>=0.22 in /usr/local/lib/python3.10/dist-packages (from umap-learn) (1.2.2)\n",
            "Requirement already satisfied: numba>=0.51.2 in /usr/local/lib/python3.10/dist-packages (from umap-learn) (0.58.1)\n",
            "Requirement already satisfied: pynndescent>=0.5 in /usr/local/lib/python3.10/dist-packages (from umap-learn) (0.5.11)\n",
            "Requirement already satisfied: tqdm in /usr/local/lib/python3.10/dist-packages (from umap-learn) (4.66.2)\n",
            "Requirement already satisfied: llvmlite<0.42,>=0.41.0dev0 in /usr/local/lib/python3.10/dist-packages (from numba>=0.51.2->umap-learn) (0.41.1)\n",
            "Requirement already satisfied: joblib>=0.11 in /usr/local/lib/python3.10/dist-packages (from pynndescent>=0.5->umap-learn) (1.3.2)\n",
            "Requirement already satisfied: threadpoolctl>=2.0.0 in /usr/local/lib/python3.10/dist-packages (from scikit-learn>=0.22->umap-learn) (3.3.0)\n"
          ]
        },
        {
          "output_type": "display_data",
          "data": {
            "text/plain": [
              "VBox(children=(HTML(value='<center> <img\\nsrc=https://huggingface.co/front/assets/huggingface_logo-noborder.sv…"
            ],
            "application/vnd.jupyter.widget-view+json": {
              "version_major": 2,
              "version_minor": 0,
              "model_id": "aedb352145d34a16b012c011c2e24308"
            }
          },
          "metadata": {}
        }
      ]
    },
    {
      "cell_type": "markdown",
      "source": [
        "## Loading the embedding model\n",
        "\n",
        "Now that we are logged in, we can use the Hugging Face `AutoModel` class download and load the model. We refer to the model via its id, which is composed of the author name and model name, e.g. `jinaai/jina-embeddings-v2-base-de`.\n",
        "\n",
        "Alternatively, we can also point the `AutoModel` class to a local directory that contains an already downloaded model."
      ],
      "metadata": {
        "id": "lvbetxC_FII5"
      }
    },
    {
      "cell_type": "code",
      "source": [
        "model = AutoModel.from_pretrained('jinaai/jina-embeddings-v2-base-de', trust_remote_code=True)"
      ],
      "metadata": {
        "colab": {
          "base_uri": "https://localhost:8080/"
        },
        "id": "bkpqVdaCSAv4",
        "outputId": "c91dc38d-e097-4b87-fe6c-99ad32404df9"
      },
      "execution_count": null,
      "outputs": [
        {
          "output_type": "stream",
          "name": "stderr",
          "text": [
            "/usr/local/lib/python3.10/dist-packages/huggingface_hub/utils/_token.py:88: UserWarning: \n",
            "The secret `HF_TOKEN` does not exist in your Colab secrets.\n",
            "To authenticate with the Hugging Face Hub, create a token in your settings tab (https://huggingface.co/settings/tokens), set it as secret in your Google Colab and restart your session.\n",
            "You will be able to reuse this secret in all of your notebooks.\n",
            "Please note that authentication is recommended but still optional to access public models or datasets.\n",
            "  warnings.warn(\n"
          ]
        }
      ]
    },
    {
      "cell_type": "markdown",
      "source": [
        "We can generate an embedding vector for a text like this:"
      ],
      "metadata": {
        "id": "AEtioAUAPUSp"
      }
    },
    {
      "cell_type": "code",
      "source": [
        "import pandas as pd\n",
        "embedding_vector = model.encode(\"Peach is in another castle\")\n",
        "pd.DataFrame(embedding_vector, columns=[\"Value for dimension\"])"
      ],
      "metadata": {
        "colab": {
          "base_uri": "https://localhost:8080/",
          "height": 424
        },
        "id": "LCy3JvU4PW0M",
        "outputId": "f53aae38-8111-4c00-cfa4-d9113165ed24"
      },
      "execution_count": null,
      "outputs": [
        {
          "output_type": "execute_result",
          "data": {
            "text/plain": [
              "     Value for dimension\n",
              "0               0.180843\n",
              "1               0.151644\n",
              "2               0.013982\n",
              "3               0.006152\n",
              "4              -0.416204\n",
              "..                   ...\n",
              "763             0.092240\n",
              "764            -0.013817\n",
              "765             0.085648\n",
              "766            -0.073061\n",
              "767             0.236628\n",
              "\n",
              "[768 rows x 1 columns]"
            ],
            "text/html": [
              "\n",
              "  <div id=\"df-126dfc3b-1964-4fa5-99c7-fed25c89e908\" class=\"colab-df-container\">\n",
              "    <div>\n",
              "<style scoped>\n",
              "    .dataframe tbody tr th:only-of-type {\n",
              "        vertical-align: middle;\n",
              "    }\n",
              "\n",
              "    .dataframe tbody tr th {\n",
              "        vertical-align: top;\n",
              "    }\n",
              "\n",
              "    .dataframe thead th {\n",
              "        text-align: right;\n",
              "    }\n",
              "</style>\n",
              "<table border=\"1\" class=\"dataframe\">\n",
              "  <thead>\n",
              "    <tr style=\"text-align: right;\">\n",
              "      <th></th>\n",
              "      <th>Value for dimension</th>\n",
              "    </tr>\n",
              "  </thead>\n",
              "  <tbody>\n",
              "    <tr>\n",
              "      <th>0</th>\n",
              "      <td>0.180843</td>\n",
              "    </tr>\n",
              "    <tr>\n",
              "      <th>1</th>\n",
              "      <td>0.151644</td>\n",
              "    </tr>\n",
              "    <tr>\n",
              "      <th>2</th>\n",
              "      <td>0.013982</td>\n",
              "    </tr>\n",
              "    <tr>\n",
              "      <th>3</th>\n",
              "      <td>0.006152</td>\n",
              "    </tr>\n",
              "    <tr>\n",
              "      <th>4</th>\n",
              "      <td>-0.416204</td>\n",
              "    </tr>\n",
              "    <tr>\n",
              "      <th>...</th>\n",
              "      <td>...</td>\n",
              "    </tr>\n",
              "    <tr>\n",
              "      <th>763</th>\n",
              "      <td>0.092240</td>\n",
              "    </tr>\n",
              "    <tr>\n",
              "      <th>764</th>\n",
              "      <td>-0.013817</td>\n",
              "    </tr>\n",
              "    <tr>\n",
              "      <th>765</th>\n",
              "      <td>0.085648</td>\n",
              "    </tr>\n",
              "    <tr>\n",
              "      <th>766</th>\n",
              "      <td>-0.073061</td>\n",
              "    </tr>\n",
              "    <tr>\n",
              "      <th>767</th>\n",
              "      <td>0.236628</td>\n",
              "    </tr>\n",
              "  </tbody>\n",
              "</table>\n",
              "<p>768 rows × 1 columns</p>\n",
              "</div>\n",
              "    <div class=\"colab-df-buttons\">\n",
              "\n",
              "  <div class=\"colab-df-container\">\n",
              "    <button class=\"colab-df-convert\" onclick=\"convertToInteractive('df-126dfc3b-1964-4fa5-99c7-fed25c89e908')\"\n",
              "            title=\"Convert this dataframe to an interactive table.\"\n",
              "            style=\"display:none;\">\n",
              "\n",
              "  <svg xmlns=\"http://www.w3.org/2000/svg\" height=\"24px\" viewBox=\"0 -960 960 960\">\n",
              "    <path d=\"M120-120v-720h720v720H120Zm60-500h600v-160H180v160Zm220 220h160v-160H400v160Zm0 220h160v-160H400v160ZM180-400h160v-160H180v160Zm440 0h160v-160H620v160ZM180-180h160v-160H180v160Zm440 0h160v-160H620v160Z\"/>\n",
              "  </svg>\n",
              "    </button>\n",
              "\n",
              "  <style>\n",
              "    .colab-df-container {\n",
              "      display:flex;\n",
              "      gap: 12px;\n",
              "    }\n",
              "\n",
              "    .colab-df-convert {\n",
              "      background-color: #E8F0FE;\n",
              "      border: none;\n",
              "      border-radius: 50%;\n",
              "      cursor: pointer;\n",
              "      display: none;\n",
              "      fill: #1967D2;\n",
              "      height: 32px;\n",
              "      padding: 0 0 0 0;\n",
              "      width: 32px;\n",
              "    }\n",
              "\n",
              "    .colab-df-convert:hover {\n",
              "      background-color: #E2EBFA;\n",
              "      box-shadow: 0px 1px 2px rgba(60, 64, 67, 0.3), 0px 1px 3px 1px rgba(60, 64, 67, 0.15);\n",
              "      fill: #174EA6;\n",
              "    }\n",
              "\n",
              "    .colab-df-buttons div {\n",
              "      margin-bottom: 4px;\n",
              "    }\n",
              "\n",
              "    [theme=dark] .colab-df-convert {\n",
              "      background-color: #3B4455;\n",
              "      fill: #D2E3FC;\n",
              "    }\n",
              "\n",
              "    [theme=dark] .colab-df-convert:hover {\n",
              "      background-color: #434B5C;\n",
              "      box-shadow: 0px 1px 3px 1px rgba(0, 0, 0, 0.15);\n",
              "      filter: drop-shadow(0px 1px 2px rgba(0, 0, 0, 0.3));\n",
              "      fill: #FFFFFF;\n",
              "    }\n",
              "  </style>\n",
              "\n",
              "    <script>\n",
              "      const buttonEl =\n",
              "        document.querySelector('#df-126dfc3b-1964-4fa5-99c7-fed25c89e908 button.colab-df-convert');\n",
              "      buttonEl.style.display =\n",
              "        google.colab.kernel.accessAllowed ? 'block' : 'none';\n",
              "\n",
              "      async function convertToInteractive(key) {\n",
              "        const element = document.querySelector('#df-126dfc3b-1964-4fa5-99c7-fed25c89e908');\n",
              "        const dataTable =\n",
              "          await google.colab.kernel.invokeFunction('convertToInteractive',\n",
              "                                                    [key], {});\n",
              "        if (!dataTable) return;\n",
              "\n",
              "        const docLinkHtml = 'Like what you see? Visit the ' +\n",
              "          '<a target=\"_blank\" href=https://colab.research.google.com/notebooks/data_table.ipynb>data table notebook</a>'\n",
              "          + ' to learn more about interactive tables.';\n",
              "        element.innerHTML = '';\n",
              "        dataTable['output_type'] = 'display_data';\n",
              "        await google.colab.output.renderOutput(dataTable, element);\n",
              "        const docLink = document.createElement('div');\n",
              "        docLink.innerHTML = docLinkHtml;\n",
              "        element.appendChild(docLink);\n",
              "      }\n",
              "    </script>\n",
              "  </div>\n",
              "\n",
              "\n",
              "<div id=\"df-b8a80704-52c2-488f-8b27-631f596570fc\">\n",
              "  <button class=\"colab-df-quickchart\" onclick=\"quickchart('df-b8a80704-52c2-488f-8b27-631f596570fc')\"\n",
              "            title=\"Suggest charts\"\n",
              "            style=\"display:none;\">\n",
              "\n",
              "<svg xmlns=\"http://www.w3.org/2000/svg\" height=\"24px\"viewBox=\"0 0 24 24\"\n",
              "     width=\"24px\">\n",
              "    <g>\n",
              "        <path d=\"M19 3H5c-1.1 0-2 .9-2 2v14c0 1.1.9 2 2 2h14c1.1 0 2-.9 2-2V5c0-1.1-.9-2-2-2zM9 17H7v-7h2v7zm4 0h-2V7h2v10zm4 0h-2v-4h2v4z\"/>\n",
              "    </g>\n",
              "</svg>\n",
              "  </button>\n",
              "\n",
              "<style>\n",
              "  .colab-df-quickchart {\n",
              "      --bg-color: #E8F0FE;\n",
              "      --fill-color: #1967D2;\n",
              "      --hover-bg-color: #E2EBFA;\n",
              "      --hover-fill-color: #174EA6;\n",
              "      --disabled-fill-color: #AAA;\n",
              "      --disabled-bg-color: #DDD;\n",
              "  }\n",
              "\n",
              "  [theme=dark] .colab-df-quickchart {\n",
              "      --bg-color: #3B4455;\n",
              "      --fill-color: #D2E3FC;\n",
              "      --hover-bg-color: #434B5C;\n",
              "      --hover-fill-color: #FFFFFF;\n",
              "      --disabled-bg-color: #3B4455;\n",
              "      --disabled-fill-color: #666;\n",
              "  }\n",
              "\n",
              "  .colab-df-quickchart {\n",
              "    background-color: var(--bg-color);\n",
              "    border: none;\n",
              "    border-radius: 50%;\n",
              "    cursor: pointer;\n",
              "    display: none;\n",
              "    fill: var(--fill-color);\n",
              "    height: 32px;\n",
              "    padding: 0;\n",
              "    width: 32px;\n",
              "  }\n",
              "\n",
              "  .colab-df-quickchart:hover {\n",
              "    background-color: var(--hover-bg-color);\n",
              "    box-shadow: 0 1px 2px rgba(60, 64, 67, 0.3), 0 1px 3px 1px rgba(60, 64, 67, 0.15);\n",
              "    fill: var(--button-hover-fill-color);\n",
              "  }\n",
              "\n",
              "  .colab-df-quickchart-complete:disabled,\n",
              "  .colab-df-quickchart-complete:disabled:hover {\n",
              "    background-color: var(--disabled-bg-color);\n",
              "    fill: var(--disabled-fill-color);\n",
              "    box-shadow: none;\n",
              "  }\n",
              "\n",
              "  .colab-df-spinner {\n",
              "    border: 2px solid var(--fill-color);\n",
              "    border-color: transparent;\n",
              "    border-bottom-color: var(--fill-color);\n",
              "    animation:\n",
              "      spin 1s steps(1) infinite;\n",
              "  }\n",
              "\n",
              "  @keyframes spin {\n",
              "    0% {\n",
              "      border-color: transparent;\n",
              "      border-bottom-color: var(--fill-color);\n",
              "      border-left-color: var(--fill-color);\n",
              "    }\n",
              "    20% {\n",
              "      border-color: transparent;\n",
              "      border-left-color: var(--fill-color);\n",
              "      border-top-color: var(--fill-color);\n",
              "    }\n",
              "    30% {\n",
              "      border-color: transparent;\n",
              "      border-left-color: var(--fill-color);\n",
              "      border-top-color: var(--fill-color);\n",
              "      border-right-color: var(--fill-color);\n",
              "    }\n",
              "    40% {\n",
              "      border-color: transparent;\n",
              "      border-right-color: var(--fill-color);\n",
              "      border-top-color: var(--fill-color);\n",
              "    }\n",
              "    60% {\n",
              "      border-color: transparent;\n",
              "      border-right-color: var(--fill-color);\n",
              "    }\n",
              "    80% {\n",
              "      border-color: transparent;\n",
              "      border-right-color: var(--fill-color);\n",
              "      border-bottom-color: var(--fill-color);\n",
              "    }\n",
              "    90% {\n",
              "      border-color: transparent;\n",
              "      border-bottom-color: var(--fill-color);\n",
              "    }\n",
              "  }\n",
              "</style>\n",
              "\n",
              "  <script>\n",
              "    async function quickchart(key) {\n",
              "      const quickchartButtonEl =\n",
              "        document.querySelector('#' + key + ' button');\n",
              "      quickchartButtonEl.disabled = true;  // To prevent multiple clicks.\n",
              "      quickchartButtonEl.classList.add('colab-df-spinner');\n",
              "      try {\n",
              "        const charts = await google.colab.kernel.invokeFunction(\n",
              "            'suggestCharts', [key], {});\n",
              "      } catch (error) {\n",
              "        console.error('Error during call to suggestCharts:', error);\n",
              "      }\n",
              "      quickchartButtonEl.classList.remove('colab-df-spinner');\n",
              "      quickchartButtonEl.classList.add('colab-df-quickchart-complete');\n",
              "    }\n",
              "    (() => {\n",
              "      let quickchartButtonEl =\n",
              "        document.querySelector('#df-b8a80704-52c2-488f-8b27-631f596570fc button');\n",
              "      quickchartButtonEl.style.display =\n",
              "        google.colab.kernel.accessAllowed ? 'block' : 'none';\n",
              "    })();\n",
              "  </script>\n",
              "</div>\n",
              "    </div>\n",
              "  </div>\n"
            ],
            "application/vnd.google.colaboratory.intrinsic+json": {
              "type": "dataframe",
              "summary": "{\n  \"name\": \"pd\",\n  \"rows\": 768,\n  \"fields\": [\n    {\n      \"column\": \"Value for dimension\",\n      \"properties\": {\n        \"dtype\": \"float32\",\n        \"num_unique_values\": 768,\n        \"samples\": [\n          -0.34809184074401855,\n          0.07953597605228424,\n          0.3089643120765686\n        ],\n        \"semantic_type\": \"\",\n        \"description\": \"\"\n      }\n    }\n  ]\n}"
            }
          },
          "metadata": {},
          "execution_count": 3
        }
      ]
    },
    {
      "cell_type": "markdown",
      "source": [
        "The vector has 768 dimensions."
      ],
      "metadata": {
        "id": "LHl8z3aoT9Su"
      }
    },
    {
      "cell_type": "markdown",
      "source": [
        "## Similarity and distance functions\n",
        "As described above, we can use standard distance metrics and similarity measures. Two popular ones are [euclidian distance (also known as L2-Norm)](https://en.wikipedia.org/wiki/Euclidean_distance) and [cosine similiarity](https://en.wikipedia.org/wiki/Cosine_similarity).\n",
        "\n",
        "Euclidian distance measures the distance between two points as if we'd walk from one point to the other in a straight line.\n",
        "\n",
        "With cosine similarity, we measure the angle between two points, with -1 being the most disimilar and 1 being the most similar.\n",
        "\n",
        "Let's define two functions, that given two input vectors, calculate the euclidian distance and cosine similarity respectively."
      ],
      "metadata": {
        "id": "MZfdvyS8FWVb"
      }
    },
    {
      "cell_type": "code",
      "source": [
        "cosine_similarity = lambda a,b: (a @ b.T) / (norm(a)*norm(b))\n",
        "l2_norm = lambda a,b: np.linalg.norm(a-b)"
      ],
      "metadata": {
        "id": "r3nm0cxEIdi3"
      },
      "execution_count": null,
      "outputs": []
    },
    {
      "cell_type": "markdown",
      "source": [
        "We'll evaluate which of these two functions gives better results for the tasks we implement below."
      ],
      "metadata": {
        "id": "nqBjquTWSHG1"
      }
    },
    {
      "cell_type": "markdown",
      "source": [
        "## Movie dataset\n",
        "\n",
        "We define a simple dataset inline. It consists of a handful of movies, each consisting of a title and plot. These have been manually fetched from IMDB. We could of course also load such a dataset from a file or via an API. We keep things simple here."
      ],
      "metadata": {
        "id": "1728bFcXI6je"
      }
    },
    {
      "cell_type": "code",
      "source": [
        "raw_movies = [\n",
        "  (\"Star Trek: Generations\", \"With the help of long presumed dead Captain Kirk, Captain Picard must stop a deranged scientist willing to murder on a planetary scale in order to enter a space matrix.\"),\n",
        "  (\"Star Wars: Episode V - The Empire Strikes Back\", \"After the Rebels are overpowered by the Empire, Luke Skywalker begins his Jedi training with Yoda, while his friends are pursued across the galaxy by Darth Vader and bounty hunter Boba Fett.\"),\n",
        "  (\"Pulp Fiction\", \"The lives of two mob hitmen, a boxer, a gangster and his wife, and a pair of diner bandits intertwine in four tales of violence and redemption.\"),\n",
        "  (\"Fight Club\", \"An insomniac office worker and a devil-may-care soap maker form an underground fight club that evolves into much more.\"),\n",
        "  (\"Ghostbusters\", \"Three parapsychologists forced out of their university funding set up shop as a unique ghost removal service in New York City, attracting frightened yet skeptical customers.\"),\n",
        "  (\"Ghostbusters II\", \"The discovery of a massive river of ectoplasm and a resurgence of spectral activity allows the staff of Ghostbusters to revive the business.\"),\n",
        "  (\"The Silence of the Lambs\", \"In this thriller, a young F.B.I. cadet must receive the help of an incarcerated and manipulative cannibal killer to help catch another serial killer, a madman who skins his victims.\"),\n",
        "  (\"Seven\", \"Two detectives, a rookie and a veteran, hunt a serial killer who uses the seven deadly sins as his motives.\"),\n",
        "  (\"The Lord of the Rings\", \"A meek Hobbit from the Shire and eight companions set out on a journey to destroy the powerful One Ring and save Middle-earth from the Dark Lord Sauron.\"),\n",
        "  (\"The Hobbit\", \"A reluctant Hobbit, Bilbo Baggins, sets out to the Lonely Mountain with a spirited group of dwarves to reclaim their mountain home, and the gold within it from the dragon Smaug.\"),\n",
        "  (\"The Jungle Book\", \"In this classic Disney movie, Bagheera the Panther and Baloo the Bear have a difficult time trying to convince a boy to leave the jungle for human civilization.\"),\n",
        "  (\"Peter Pan\", \"In this beautifully drawn animation film, Wendy and her brothers are whisked away to the magical world of Neverland with the hero of their stories, Peter Pan.\")\n",
        "]"
      ],
      "metadata": {
        "id": "3YAQ5ugdSUN-"
      },
      "execution_count": null,
      "outputs": []
    },
    {
      "cell_type": "markdown",
      "source": [
        "## Creating embedding vectors for each movie\n",
        "We embed both the title and plot as a single string for each movie, then create a Pandas `DataFrame` of movies, where each movie tuple consists of the emebdding vector, the title, and the plot of the movie."
      ],
      "metadata": {
        "id": "6gtrOZAhJPjE"
      }
    },
    {
      "cell_type": "code",
      "source": [
        "embeddings = model.encode([raw_movie[0] + \" \" + raw_movie[1] for raw_movie in raw_movies])\n",
        "movies = pd.DataFrame([(embedding, movie[0], movie[1]) for embedding, movie in zip(embeddings, raw_movies)], columns=[\"vector\", \"title\", \"plot\"])\n",
        "movies\n"
      ],
      "metadata": {
        "colab": {
          "base_uri": "https://localhost:8080/",
          "height": 426
        },
        "id": "xOFwiKUcJTGx",
        "outputId": "3b36948a-3835-4da6-d620-1bd2b12f2670"
      },
      "execution_count": null,
      "outputs": [
        {
          "output_type": "execute_result",
          "data": {
            "text/plain": [
              "                                               vector  \\\n",
              "0   [-0.15949629, -0.26931834, 0.12828855, 0.03978...   \n",
              "1   [-0.18870552, 0.13675152, -0.12258701, 0.03999...   \n",
              "2   [-0.09221994, 0.021838395, -0.09498616, -0.111...   \n",
              "3   [0.14404602, 0.27673542, -0.39927807, -0.20871...   \n",
              "4   [-0.0838464, -0.3563486, 0.15748197, 0.0007547...   \n",
              "5   [-0.045377046, -0.05466573, 0.21167399, 0.0401...   \n",
              "6   [0.105173394, -0.030302089, -0.20176488, 0.242...   \n",
              "7   [0.08146318, -0.17932993, -0.08796415, 0.12017...   \n",
              "8   [-0.28501946, 0.07704591, 0.014699279, 0.01563...   \n",
              "9   [-0.1872434, 0.1322996, -0.056449857, 0.066059...   \n",
              "10  [0.060308613, -0.03625406, -0.130036, 0.157710...   \n",
              "11  [0.03416418, 0.113559276, -0.19048862, 0.00951...   \n",
              "\n",
              "                                             title  \\\n",
              "0                           Star Trek: Generations   \n",
              "1   Star Wars: Episode V - The Empire Strikes Back   \n",
              "2                                     Pulp Fiction   \n",
              "3                                       Fight Club   \n",
              "4                                     Ghostbusters   \n",
              "5                                  Ghostbusters II   \n",
              "6                         The Silence of the Lambs   \n",
              "7                                            Seven   \n",
              "8                            The Lord of the Rings   \n",
              "9                                       The Hobbit   \n",
              "10                                 The Jungle Book   \n",
              "11                                       Peter Pan   \n",
              "\n",
              "                                                 plot  \n",
              "0   With the help of long presumed dead Captain Ki...  \n",
              "1   After the Rebels are overpowered by the Empire...  \n",
              "2   The lives of two mob hitmen, a boxer, a gangst...  \n",
              "3   An insomniac office worker and a devil-may-car...  \n",
              "4   Three parapsychologists forced out of their un...  \n",
              "5   The discovery of a massive river of ectoplasm ...  \n",
              "6   In this thriller, a young F.B.I. cadet must re...  \n",
              "7   Two detectives, a rookie and a veteran, hunt a...  \n",
              "8   A meek Hobbit from the Shire and eight compani...  \n",
              "9   A reluctant Hobbit, Bilbo Baggins, sets out to...  \n",
              "10  In this classic Disney movie, Bagheera the Pan...  \n",
              "11  In this beautifully drawn animation film, Wend...  "
            ],
            "text/html": [
              "\n",
              "  <div id=\"df-cc574bc0-e28f-44f6-8f35-cf7f7b6f99ce\" class=\"colab-df-container\">\n",
              "    <div>\n",
              "<style scoped>\n",
              "    .dataframe tbody tr th:only-of-type {\n",
              "        vertical-align: middle;\n",
              "    }\n",
              "\n",
              "    .dataframe tbody tr th {\n",
              "        vertical-align: top;\n",
              "    }\n",
              "\n",
              "    .dataframe thead th {\n",
              "        text-align: right;\n",
              "    }\n",
              "</style>\n",
              "<table border=\"1\" class=\"dataframe\">\n",
              "  <thead>\n",
              "    <tr style=\"text-align: right;\">\n",
              "      <th></th>\n",
              "      <th>vector</th>\n",
              "      <th>title</th>\n",
              "      <th>plot</th>\n",
              "    </tr>\n",
              "  </thead>\n",
              "  <tbody>\n",
              "    <tr>\n",
              "      <th>0</th>\n",
              "      <td>[-0.15949629, -0.26931834, 0.12828855, 0.03978...</td>\n",
              "      <td>Star Trek: Generations</td>\n",
              "      <td>With the help of long presumed dead Captain Ki...</td>\n",
              "    </tr>\n",
              "    <tr>\n",
              "      <th>1</th>\n",
              "      <td>[-0.18870552, 0.13675152, -0.12258701, 0.03999...</td>\n",
              "      <td>Star Wars: Episode V - The Empire Strikes Back</td>\n",
              "      <td>After the Rebels are overpowered by the Empire...</td>\n",
              "    </tr>\n",
              "    <tr>\n",
              "      <th>2</th>\n",
              "      <td>[-0.09221994, 0.021838395, -0.09498616, -0.111...</td>\n",
              "      <td>Pulp Fiction</td>\n",
              "      <td>The lives of two mob hitmen, a boxer, a gangst...</td>\n",
              "    </tr>\n",
              "    <tr>\n",
              "      <th>3</th>\n",
              "      <td>[0.14404602, 0.27673542, -0.39927807, -0.20871...</td>\n",
              "      <td>Fight Club</td>\n",
              "      <td>An insomniac office worker and a devil-may-car...</td>\n",
              "    </tr>\n",
              "    <tr>\n",
              "      <th>4</th>\n",
              "      <td>[-0.0838464, -0.3563486, 0.15748197, 0.0007547...</td>\n",
              "      <td>Ghostbusters</td>\n",
              "      <td>Three parapsychologists forced out of their un...</td>\n",
              "    </tr>\n",
              "    <tr>\n",
              "      <th>5</th>\n",
              "      <td>[-0.045377046, -0.05466573, 0.21167399, 0.0401...</td>\n",
              "      <td>Ghostbusters II</td>\n",
              "      <td>The discovery of a massive river of ectoplasm ...</td>\n",
              "    </tr>\n",
              "    <tr>\n",
              "      <th>6</th>\n",
              "      <td>[0.105173394, -0.030302089, -0.20176488, 0.242...</td>\n",
              "      <td>The Silence of the Lambs</td>\n",
              "      <td>In this thriller, a young F.B.I. cadet must re...</td>\n",
              "    </tr>\n",
              "    <tr>\n",
              "      <th>7</th>\n",
              "      <td>[0.08146318, -0.17932993, -0.08796415, 0.12017...</td>\n",
              "      <td>Seven</td>\n",
              "      <td>Two detectives, a rookie and a veteran, hunt a...</td>\n",
              "    </tr>\n",
              "    <tr>\n",
              "      <th>8</th>\n",
              "      <td>[-0.28501946, 0.07704591, 0.014699279, 0.01563...</td>\n",
              "      <td>The Lord of the Rings</td>\n",
              "      <td>A meek Hobbit from the Shire and eight compani...</td>\n",
              "    </tr>\n",
              "    <tr>\n",
              "      <th>9</th>\n",
              "      <td>[-0.1872434, 0.1322996, -0.056449857, 0.066059...</td>\n",
              "      <td>The Hobbit</td>\n",
              "      <td>A reluctant Hobbit, Bilbo Baggins, sets out to...</td>\n",
              "    </tr>\n",
              "    <tr>\n",
              "      <th>10</th>\n",
              "      <td>[0.060308613, -0.03625406, -0.130036, 0.157710...</td>\n",
              "      <td>The Jungle Book</td>\n",
              "      <td>In this classic Disney movie, Bagheera the Pan...</td>\n",
              "    </tr>\n",
              "    <tr>\n",
              "      <th>11</th>\n",
              "      <td>[0.03416418, 0.113559276, -0.19048862, 0.00951...</td>\n",
              "      <td>Peter Pan</td>\n",
              "      <td>In this beautifully drawn animation film, Wend...</td>\n",
              "    </tr>\n",
              "  </tbody>\n",
              "</table>\n",
              "</div>\n",
              "    <div class=\"colab-df-buttons\">\n",
              "\n",
              "  <div class=\"colab-df-container\">\n",
              "    <button class=\"colab-df-convert\" onclick=\"convertToInteractive('df-cc574bc0-e28f-44f6-8f35-cf7f7b6f99ce')\"\n",
              "            title=\"Convert this dataframe to an interactive table.\"\n",
              "            style=\"display:none;\">\n",
              "\n",
              "  <svg xmlns=\"http://www.w3.org/2000/svg\" height=\"24px\" viewBox=\"0 -960 960 960\">\n",
              "    <path d=\"M120-120v-720h720v720H120Zm60-500h600v-160H180v160Zm220 220h160v-160H400v160Zm0 220h160v-160H400v160ZM180-400h160v-160H180v160Zm440 0h160v-160H620v160ZM180-180h160v-160H180v160Zm440 0h160v-160H620v160Z\"/>\n",
              "  </svg>\n",
              "    </button>\n",
              "\n",
              "  <style>\n",
              "    .colab-df-container {\n",
              "      display:flex;\n",
              "      gap: 12px;\n",
              "    }\n",
              "\n",
              "    .colab-df-convert {\n",
              "      background-color: #E8F0FE;\n",
              "      border: none;\n",
              "      border-radius: 50%;\n",
              "      cursor: pointer;\n",
              "      display: none;\n",
              "      fill: #1967D2;\n",
              "      height: 32px;\n",
              "      padding: 0 0 0 0;\n",
              "      width: 32px;\n",
              "    }\n",
              "\n",
              "    .colab-df-convert:hover {\n",
              "      background-color: #E2EBFA;\n",
              "      box-shadow: 0px 1px 2px rgba(60, 64, 67, 0.3), 0px 1px 3px 1px rgba(60, 64, 67, 0.15);\n",
              "      fill: #174EA6;\n",
              "    }\n",
              "\n",
              "    .colab-df-buttons div {\n",
              "      margin-bottom: 4px;\n",
              "    }\n",
              "\n",
              "    [theme=dark] .colab-df-convert {\n",
              "      background-color: #3B4455;\n",
              "      fill: #D2E3FC;\n",
              "    }\n",
              "\n",
              "    [theme=dark] .colab-df-convert:hover {\n",
              "      background-color: #434B5C;\n",
              "      box-shadow: 0px 1px 3px 1px rgba(0, 0, 0, 0.15);\n",
              "      filter: drop-shadow(0px 1px 2px rgba(0, 0, 0, 0.3));\n",
              "      fill: #FFFFFF;\n",
              "    }\n",
              "  </style>\n",
              "\n",
              "    <script>\n",
              "      const buttonEl =\n",
              "        document.querySelector('#df-cc574bc0-e28f-44f6-8f35-cf7f7b6f99ce button.colab-df-convert');\n",
              "      buttonEl.style.display =\n",
              "        google.colab.kernel.accessAllowed ? 'block' : 'none';\n",
              "\n",
              "      async function convertToInteractive(key) {\n",
              "        const element = document.querySelector('#df-cc574bc0-e28f-44f6-8f35-cf7f7b6f99ce');\n",
              "        const dataTable =\n",
              "          await google.colab.kernel.invokeFunction('convertToInteractive',\n",
              "                                                    [key], {});\n",
              "        if (!dataTable) return;\n",
              "\n",
              "        const docLinkHtml = 'Like what you see? Visit the ' +\n",
              "          '<a target=\"_blank\" href=https://colab.research.google.com/notebooks/data_table.ipynb>data table notebook</a>'\n",
              "          + ' to learn more about interactive tables.';\n",
              "        element.innerHTML = '';\n",
              "        dataTable['output_type'] = 'display_data';\n",
              "        await google.colab.output.renderOutput(dataTable, element);\n",
              "        const docLink = document.createElement('div');\n",
              "        docLink.innerHTML = docLinkHtml;\n",
              "        element.appendChild(docLink);\n",
              "      }\n",
              "    </script>\n",
              "  </div>\n",
              "\n",
              "\n",
              "<div id=\"df-5861dcca-dc0a-4650-923b-667804632b46\">\n",
              "  <button class=\"colab-df-quickchart\" onclick=\"quickchart('df-5861dcca-dc0a-4650-923b-667804632b46')\"\n",
              "            title=\"Suggest charts\"\n",
              "            style=\"display:none;\">\n",
              "\n",
              "<svg xmlns=\"http://www.w3.org/2000/svg\" height=\"24px\"viewBox=\"0 0 24 24\"\n",
              "     width=\"24px\">\n",
              "    <g>\n",
              "        <path d=\"M19 3H5c-1.1 0-2 .9-2 2v14c0 1.1.9 2 2 2h14c1.1 0 2-.9 2-2V5c0-1.1-.9-2-2-2zM9 17H7v-7h2v7zm4 0h-2V7h2v10zm4 0h-2v-4h2v4z\"/>\n",
              "    </g>\n",
              "</svg>\n",
              "  </button>\n",
              "\n",
              "<style>\n",
              "  .colab-df-quickchart {\n",
              "      --bg-color: #E8F0FE;\n",
              "      --fill-color: #1967D2;\n",
              "      --hover-bg-color: #E2EBFA;\n",
              "      --hover-fill-color: #174EA6;\n",
              "      --disabled-fill-color: #AAA;\n",
              "      --disabled-bg-color: #DDD;\n",
              "  }\n",
              "\n",
              "  [theme=dark] .colab-df-quickchart {\n",
              "      --bg-color: #3B4455;\n",
              "      --fill-color: #D2E3FC;\n",
              "      --hover-bg-color: #434B5C;\n",
              "      --hover-fill-color: #FFFFFF;\n",
              "      --disabled-bg-color: #3B4455;\n",
              "      --disabled-fill-color: #666;\n",
              "  }\n",
              "\n",
              "  .colab-df-quickchart {\n",
              "    background-color: var(--bg-color);\n",
              "    border: none;\n",
              "    border-radius: 50%;\n",
              "    cursor: pointer;\n",
              "    display: none;\n",
              "    fill: var(--fill-color);\n",
              "    height: 32px;\n",
              "    padding: 0;\n",
              "    width: 32px;\n",
              "  }\n",
              "\n",
              "  .colab-df-quickchart:hover {\n",
              "    background-color: var(--hover-bg-color);\n",
              "    box-shadow: 0 1px 2px rgba(60, 64, 67, 0.3), 0 1px 3px 1px rgba(60, 64, 67, 0.15);\n",
              "    fill: var(--button-hover-fill-color);\n",
              "  }\n",
              "\n",
              "  .colab-df-quickchart-complete:disabled,\n",
              "  .colab-df-quickchart-complete:disabled:hover {\n",
              "    background-color: var(--disabled-bg-color);\n",
              "    fill: var(--disabled-fill-color);\n",
              "    box-shadow: none;\n",
              "  }\n",
              "\n",
              "  .colab-df-spinner {\n",
              "    border: 2px solid var(--fill-color);\n",
              "    border-color: transparent;\n",
              "    border-bottom-color: var(--fill-color);\n",
              "    animation:\n",
              "      spin 1s steps(1) infinite;\n",
              "  }\n",
              "\n",
              "  @keyframes spin {\n",
              "    0% {\n",
              "      border-color: transparent;\n",
              "      border-bottom-color: var(--fill-color);\n",
              "      border-left-color: var(--fill-color);\n",
              "    }\n",
              "    20% {\n",
              "      border-color: transparent;\n",
              "      border-left-color: var(--fill-color);\n",
              "      border-top-color: var(--fill-color);\n",
              "    }\n",
              "    30% {\n",
              "      border-color: transparent;\n",
              "      border-left-color: var(--fill-color);\n",
              "      border-top-color: var(--fill-color);\n",
              "      border-right-color: var(--fill-color);\n",
              "    }\n",
              "    40% {\n",
              "      border-color: transparent;\n",
              "      border-right-color: var(--fill-color);\n",
              "      border-top-color: var(--fill-color);\n",
              "    }\n",
              "    60% {\n",
              "      border-color: transparent;\n",
              "      border-right-color: var(--fill-color);\n",
              "    }\n",
              "    80% {\n",
              "      border-color: transparent;\n",
              "      border-right-color: var(--fill-color);\n",
              "      border-bottom-color: var(--fill-color);\n",
              "    }\n",
              "    90% {\n",
              "      border-color: transparent;\n",
              "      border-bottom-color: var(--fill-color);\n",
              "    }\n",
              "  }\n",
              "</style>\n",
              "\n",
              "  <script>\n",
              "    async function quickchart(key) {\n",
              "      const quickchartButtonEl =\n",
              "        document.querySelector('#' + key + ' button');\n",
              "      quickchartButtonEl.disabled = true;  // To prevent multiple clicks.\n",
              "      quickchartButtonEl.classList.add('colab-df-spinner');\n",
              "      try {\n",
              "        const charts = await google.colab.kernel.invokeFunction(\n",
              "            'suggestCharts', [key], {});\n",
              "      } catch (error) {\n",
              "        console.error('Error during call to suggestCharts:', error);\n",
              "      }\n",
              "      quickchartButtonEl.classList.remove('colab-df-spinner');\n",
              "      quickchartButtonEl.classList.add('colab-df-quickchart-complete');\n",
              "    }\n",
              "    (() => {\n",
              "      let quickchartButtonEl =\n",
              "        document.querySelector('#df-5861dcca-dc0a-4650-923b-667804632b46 button');\n",
              "      quickchartButtonEl.style.display =\n",
              "        google.colab.kernel.accessAllowed ? 'block' : 'none';\n",
              "    })();\n",
              "  </script>\n",
              "</div>\n",
              "    </div>\n",
              "  </div>\n"
            ],
            "application/vnd.google.colaboratory.intrinsic+json": {
              "type": "dataframe",
              "variable_name": "movies",
              "summary": "{\n  \"name\": \"movies\",\n  \"rows\": 12,\n  \"fields\": [\n    {\n      \"column\": \"vector\",\n      \"properties\": {\n        \"dtype\": \"object\",\n        \"semantic_type\": \"\",\n        \"description\": \"\"\n      }\n    },\n    {\n      \"column\": \"title\",\n      \"properties\": {\n        \"dtype\": \"string\",\n        \"num_unique_values\": 12,\n        \"samples\": [\n          \"The Jungle Book\",\n          \"The Hobbit\",\n          \"Star Trek: Generations\"\n        ],\n        \"semantic_type\": \"\",\n        \"description\": \"\"\n      }\n    },\n    {\n      \"column\": \"plot\",\n      \"properties\": {\n        \"dtype\": \"string\",\n        \"num_unique_values\": 12,\n        \"samples\": [\n          \"In this classic Disney movie, Bagheera the Panther and Baloo the Bear have a difficult time trying to convince a boy to leave the jungle for human civilization.\",\n          \"A reluctant Hobbit, Bilbo Baggins, sets out to the Lonely Mountain with a spirited group of dwarves to reclaim their mountain home, and the gold within it from the dragon Smaug.\",\n          \"With the help of long presumed dead Captain Kirk, Captain Picard must stop a deranged scientist willing to murder on a planetary scale in order to enter a space matrix.\"\n        ],\n        \"semantic_type\": \"\",\n        \"description\": \"\"\n      }\n    }\n  ]\n}"
            }
          },
          "metadata": {},
          "execution_count": 6
        }
      ]
    },
    {
      "cell_type": "markdown",
      "source": [
        "## Visualizing the embeddings with UMAP\n",
        "As we've seen, the jina model generates vectors with 768 dimensions. It is hard to visualize such high dimensional vector spaces in our heads.\n",
        "\n",
        "To get a better feeling for how these vectors relate to each other, we can use another embedding model, that will reduce the dimensionality down to 2 or 3 dimensions, while trying to retain the distances between the vectors as best as possible.\n",
        "\n",
        "One popular such model is [UMAP](https://pair-code.github.io/understanding-umap/).\n",
        "\n",
        "Let's visualize our embedded movies in 2D and see if we can identify clusters. The `visualize_embeddings` function takes as input the embedding vectors and their labels, and optionally a metric, either \"cosine\" or \"l2\". It will embed these vectors in 2D via UMAP and plot them.\n",
        "\n",
        "Let's plot the embedding using UMAP, using both the cosine and the L2 norm."
      ],
      "metadata": {
        "id": "pokJt7x876gF"
      }
    },
    {
      "cell_type": "code",
      "source": [
        "def visualize_embeddings(embeddings, labels, dist_func=\"cosine\"):\n",
        "  reducer = umap.UMAP(n_neighbors=min(15, len(embeddings)), n_components=2, metric=dist_func)\n",
        "  embeddings_2d = np.array(reducer.fit_transform(embeddings))\n",
        "\n",
        "  plt.figure(figsize=(6, 4))\n",
        "  plt.scatter(embeddings_2d[:, 0], embeddings_2d[:, 1], alpha=0.5)\n",
        "\n",
        "  for i, label in enumerate(labels):\n",
        "      plt.text(embeddings_2d[i, 0], embeddings_2d[i, 1], label, fontsize=9)\n",
        "\n",
        "  plt.title('2D Projection of Embeddings')\n",
        "  plt.xlabel('x')\n",
        "  plt.ylabel('y')\n",
        "  plt.show()\n",
        "\n",
        "visualize_embeddings(movies.vector.to_list(), movies.title, \"cosine\")\n",
        "visualize_embeddings(movies.vector.to_list(), movies.title, \"l2\")"
      ],
      "metadata": {
        "colab": {
          "base_uri": "https://localhost:8080/",
          "height": 874
        },
        "id": "-gdmUSAp8VvY",
        "outputId": "1eaaf895-233f-4fdb-fdd3-78ffe877aa66"
      },
      "execution_count": null,
      "outputs": [
        {
          "output_type": "stream",
          "name": "stderr",
          "text": [
            "/usr/local/lib/python3.10/dist-packages/umap/umap_.py:2433: UserWarning: n_neighbors is larger than the dataset size; truncating to X.shape[0] - 1\n",
            "  warn(\n"
          ]
        },
        {
          "output_type": "display_data",
          "data": {
            "text/plain": [
              "<Figure size 600x400 with 1 Axes>"
            ],
            "image/png": "[encoded data removed]"
          },
          "metadata": {}
        },
        {
          "output_type": "stream",
          "name": "stderr",
          "text": [
            "/usr/local/lib/python3.10/dist-packages/umap/umap_.py:2433: UserWarning: n_neighbors is larger than the dataset size; truncating to X.shape[0] - 1\n",
            "  warn(\n"
          ]
        },
        {
          "output_type": "display_data",
          "data": {
            "text/plain": [
              "<Figure size 600x400 with 1 Axes>"
            ],
            "image/png": "[encoded data removed]"
          },
          "metadata": {}
        }
      ]
    },
    {
      "cell_type": "markdown",
      "source": [
        "It doesn't seem to make a big difference what distance or similarity measure we use. We'll go with cosine similarity by default, as that's usually the default pick in other systems."
      ],
      "metadata": {
        "id": "JzVbV-aeaoLp"
      }
    },
    {
      "cell_type": "markdown",
      "source": [
        "## Similarity search\n",
        "We can now use those embeddings to find movies that are similar to a query. The query could be anything, like a user query, or the title and plot of another movie.\n",
        "\n",
        "We can wrap this idea up in a function called `similarity_search`. Its parameters are as follows:\n",
        "\n",
        "* **`query`**: a string or vector to find similar movies for\n",
        "* **`embeddings`**: the list of vectors for each movie\n",
        "* **`labels`**: the list of labels for each vector, e.g. the movie titles\n",
        "\n",
        "The function first embeds the query text, if it isn't already an vector. It then calculates the cosine similarity between the query text vector and the movie vectors and stores the resulting similarity and corresponding movie in a list. Finally, the similarity list is sorted in descending order by similarity, and returned to the caller."
      ],
      "metadata": {
        "id": "pV98mqItKYtP"
      }
    },
    {
      "cell_type": "code",
      "source": [
        "def similarity_search(query, embeddings, labels, dist_func=cosine_similarity):\n",
        "  query_embedding = embed(query) if isinstance(query, str) else query\n",
        "  similarities = []\n",
        "  for i in range(len(movies)):\n",
        "    similarity = dist_func(query_embedding, embeddings[i])\n",
        "    similarities.append((movies[i], similarity))\n",
        "\n",
        "  similarities.sort(key=lambda x: x[1], reverse=True)\n",
        "  return similarities"
      ],
      "metadata": {
        "id": "x_pZFRE5KoWN"
      },
      "execution_count": null,
      "outputs": []
    },
    {
      "cell_type": "markdown",
      "source": [
        "# Naive movie recommender\n",
        "Let's implement a movie recommender function. It takes as input:\n",
        "\n",
        "* `movie`: the movie for which we want to get recommendations\n",
        "* `movies`: the full list of movies (including the `movie`)\n",
        "* `embeddings`: the embeddings of each movie\n",
        "\n",
        "The function returns a list of tuples, each consisting of a movie and its similarity with the input `movie`. The list is sorted by similarity in descending order.\n",
        "\n"
      ],
      "metadata": {
        "id": "TnVg27pVLkgr"
      }
    },
    {
      "cell_type": "code",
      "source": [
        "def recommend_movies(selected_movie, movies_df, dist_func=cosine_similarity):\n",
        "    embedding = np.array(selected_movie['vector'])\n",
        "\n",
        "    def calculate_distances(row):\n",
        "        other_embedding = np.array(row['vector'])\n",
        "        return cosine_similarity(embedding, other_embedding)\n",
        "\n",
        "    movies_df['distance'] = movies_df.apply(calculate_distances, axis=1)\n",
        "    movies_to_recommend = movies_df[movies_df['title'] != selected_movie['title']]\n",
        "    recommended_movies = movies_to_recommend.sort_values(by='distance', ascending=False)\n",
        "    return recommended_movies[['title', 'plot', 'distance']]"
      ],
      "metadata": {
        "id": "sk88YNaQdH77"
      },
      "execution_count": null,
      "outputs": []
    },
    {
      "cell_type": "markdown",
      "source": [
        "We can now output the list of most similar movies, for each movie:"
      ],
      "metadata": {
        "id": "Y2zHHAqeQ7Ei"
      }
    },
    {
      "cell_type": "code",
      "source": [
        "for index, selected_movie in movies.iterrows():\n",
        "    print(f\"Recommended movies for {selected_movie['title']}:\")\n",
        "\n",
        "    # Get recommendations\n",
        "    recommendations = recommend_movies(selected_movie, movies)\n",
        "\n",
        "    # Iterate through the recommendations and print them\n",
        "    for _, row in recommendations.iterrows():\n",
        "        print(f\"\\t{row['title']}: {row['distance']:.2f}\")\n",
        "\n",
        "    print()"
      ],
      "metadata": {
        "colab": {
          "base_uri": "https://localhost:8080/"
        },
        "id": "zCwF8iWdQ-rE",
        "outputId": "491cf816-266e-4534-cde2-4f2f2e5373b4"
      },
      "execution_count": null,
      "outputs": [
        {
          "output_type": "stream",
          "name": "stdout",
          "text": [
            "Recommended movies for Star Trek: Generations:\n",
            "\tStar Wars: Episode V - The Empire Strikes Back: 0.25\n",
            "\tSeven: 0.24\n",
            "\tThe Lord of the Rings: 0.19\n",
            "\tThe Hobbit: 0.15\n",
            "\tPulp Fiction: 0.15\n",
            "\tThe Silence of the Lambs: 0.13\n",
            "\tFight Club: 0.11\n",
            "\tGhostbusters II: 0.10\n",
            "\tPeter Pan: 0.09\n",
            "\tGhostbusters: 0.05\n",
            "\tThe Jungle Book: 0.03\n",
            "\n",
            "Recommended movies for Star Wars: Episode V - The Empire Strikes Back:\n",
            "\tStar Trek: Generations: 0.25\n",
            "\tThe Lord of the Rings: 0.21\n",
            "\tThe Jungle Book: 0.13\n",
            "\tFight Club: 0.12\n",
            "\tPeter Pan: 0.11\n",
            "\tGhostbusters II: 0.05\n",
            "\tPulp Fiction: 0.04\n",
            "\tThe Hobbit: 0.04\n",
            "\tSeven: 0.02\n",
            "\tThe Silence of the Lambs: 0.02\n",
            "\tGhostbusters: -0.02\n",
            "\n",
            "Recommended movies for Pulp Fiction:\n",
            "\tFight Club: 0.38\n",
            "\tThe Silence of the Lambs: 0.35\n",
            "\tSeven: 0.33\n",
            "\tPeter Pan: 0.30\n",
            "\tThe Jungle Book: 0.28\n",
            "\tThe Hobbit: 0.19\n",
            "\tGhostbusters II: 0.17\n",
            "\tGhostbusters: 0.16\n",
            "\tStar Trek: Generations: 0.15\n",
            "\tThe Lord of the Rings: 0.13\n",
            "\tStar Wars: Episode V - The Empire Strikes Back: 0.04\n",
            "\n",
            "Recommended movies for Fight Club:\n",
            "\tPulp Fiction: 0.38\n",
            "\tSeven: 0.19\n",
            "\tGhostbusters: 0.18\n",
            "\tStar Wars: Episode V - The Empire Strikes Back: 0.12\n",
            "\tThe Silence of the Lambs: 0.11\n",
            "\tStar Trek: Generations: 0.11\n",
            "\tPeter Pan: 0.09\n",
            "\tThe Lord of the Rings: 0.08\n",
            "\tGhostbusters II: 0.06\n",
            "\tThe Jungle Book: 0.02\n",
            "\tThe Hobbit: 0.02\n",
            "\n",
            "Recommended movies for Ghostbusters:\n",
            "\tGhostbusters II: 0.35\n",
            "\tSeven: 0.20\n",
            "\tFight Club: 0.18\n",
            "\tPulp Fiction: 0.16\n",
            "\tThe Silence of the Lambs: 0.13\n",
            "\tPeter Pan: 0.12\n",
            "\tStar Trek: Generations: 0.05\n",
            "\tThe Lord of the Rings: -0.00\n",
            "\tThe Hobbit: -0.01\n",
            "\tThe Jungle Book: -0.01\n",
            "\tStar Wars: Episode V - The Empire Strikes Back: -0.02\n",
            "\n",
            "Recommended movies for Ghostbusters II:\n",
            "\tGhostbusters: 0.35\n",
            "\tSeven: 0.21\n",
            "\tPulp Fiction: 0.17\n",
            "\tStar Trek: Generations: 0.10\n",
            "\tThe Hobbit: 0.07\n",
            "\tThe Silence of the Lambs: 0.06\n",
            "\tFight Club: 0.06\n",
            "\tStar Wars: Episode V - The Empire Strikes Back: 0.05\n",
            "\tPeter Pan: 0.05\n",
            "\tThe Lord of the Rings: 0.05\n",
            "\tThe Jungle Book: -0.00\n",
            "\n",
            "Recommended movies for The Silence of the Lambs:\n",
            "\tThe Jungle Book: 0.35\n",
            "\tPulp Fiction: 0.35\n",
            "\tThe Hobbit: 0.29\n",
            "\tSeven: 0.28\n",
            "\tPeter Pan: 0.18\n",
            "\tGhostbusters: 0.13\n",
            "\tStar Trek: Generations: 0.13\n",
            "\tFight Club: 0.11\n",
            "\tGhostbusters II: 0.06\n",
            "\tStar Wars: Episode V - The Empire Strikes Back: 0.02\n",
            "\tThe Lord of the Rings: 0.01\n",
            "\n",
            "Recommended movies for Seven:\n",
            "\tPulp Fiction: 0.33\n",
            "\tThe Silence of the Lambs: 0.28\n",
            "\tStar Trek: Generations: 0.24\n",
            "\tGhostbusters II: 0.21\n",
            "\tGhostbusters: 0.20\n",
            "\tFight Club: 0.19\n",
            "\tThe Lord of the Rings: 0.11\n",
            "\tPeter Pan: 0.08\n",
            "\tThe Hobbit: 0.06\n",
            "\tThe Jungle Book: 0.04\n",
            "\tStar Wars: Episode V - The Empire Strikes Back: 0.02\n",
            "\n",
            "Recommended movies for The Lord of the Rings:\n",
            "\tThe Hobbit: 0.44\n",
            "\tStar Wars: Episode V - The Empire Strikes Back: 0.21\n",
            "\tStar Trek: Generations: 0.19\n",
            "\tThe Jungle Book: 0.18\n",
            "\tPulp Fiction: 0.13\n",
            "\tPeter Pan: 0.12\n",
            "\tSeven: 0.11\n",
            "\tFight Club: 0.08\n",
            "\tGhostbusters II: 0.05\n",
            "\tThe Silence of the Lambs: 0.01\n",
            "\tGhostbusters: -0.00\n",
            "\n",
            "Recommended movies for The Hobbit:\n",
            "\tThe Lord of the Rings: 0.44\n",
            "\tThe Jungle Book: 0.31\n",
            "\tThe Silence of the Lambs: 0.29\n",
            "\tPeter Pan: 0.22\n",
            "\tPulp Fiction: 0.19\n",
            "\tStar Trek: Generations: 0.15\n",
            "\tGhostbusters II: 0.07\n",
            "\tSeven: 0.06\n",
            "\tStar Wars: Episode V - The Empire Strikes Back: 0.04\n",
            "\tFight Club: 0.02\n",
            "\tGhostbusters: -0.01\n",
            "\n",
            "Recommended movies for The Jungle Book:\n",
            "\tThe Silence of the Lambs: 0.35\n",
            "\tPeter Pan: 0.34\n",
            "\tThe Hobbit: 0.31\n",
            "\tPulp Fiction: 0.28\n",
            "\tThe Lord of the Rings: 0.18\n",
            "\tStar Wars: Episode V - The Empire Strikes Back: 0.13\n",
            "\tSeven: 0.04\n",
            "\tStar Trek: Generations: 0.03\n",
            "\tFight Club: 0.02\n",
            "\tGhostbusters II: -0.00\n",
            "\tGhostbusters: -0.01\n",
            "\n",
            "Recommended movies for Peter Pan:\n",
            "\tThe Jungle Book: 0.34\n",
            "\tPulp Fiction: 0.30\n",
            "\tThe Hobbit: 0.22\n",
            "\tThe Silence of the Lambs: 0.18\n",
            "\tGhostbusters: 0.12\n",
            "\tThe Lord of the Rings: 0.12\n",
            "\tStar Wars: Episode V - The Empire Strikes Back: 0.11\n",
            "\tStar Trek: Generations: 0.09\n",
            "\tFight Club: 0.09\n",
            "\tSeven: 0.08\n",
            "\tGhostbusters II: 0.05\n",
            "\n"
          ]
        }
      ]
    },
    {
      "cell_type": "markdown",
      "source": [
        "This matches expectation for the most part! In a less naive recommender system, we'd use more intricate signals in addition to semantic similarity of two movies' titles and plots, such as taking into account what other people have watched. See [Collaborative Filtering](https://en.wikipedia.org/wiki/Collaborative_filtering)."
      ],
      "metadata": {
        "id": "5ErlEJ1FeUuF"
      }
    },
    {
      "cell_type": "markdown",
      "source": [
        "# Naive dense retrieval\n",
        "Retrieval is generally defined as finding relevant information, like text, image, or audio documents, for a given query. There are multiple ways to implement such retrieval systems, which are also known as \"search engines\". Here we'll focus on text retrieval.\n",
        "\n",
        "Up until recently, most search engines used \"sparse\" retrieval. Each document in the set of documents to be searched is split up into tokens (such as words). The tokens are then be post-processed via methods like normalization, stemming, stop-word removal, etc. This process is called **tokenization**. Each unique token then becomes a dimension in an n-dimensional vector space, where `n` is the number of unique tokens found in the set of all documents. This set of unique tokens is also called the **vocabulary**. Then, for each document, a vector is created, where counts for each token in the document are recorded in the corresponding vector dimension. This is where the term \"sparse\" comes from. A document's vector doesn't have an entry in each dimension, as not all tokens of the entire document set will be found in the document. E.g. the vector of the text \"I have a poodle\" only values set for the dimensions corresponding to the tokens \"i\", \"have\", \"a\", and \"poodle\", but not for any other tokens in the vocabulary.\n",
        "\n",
        "These so called [bag-of-words](https://en.wikipedia.org/wiki/Bag-of-words_model) vectors are then stored in an inverted index, a specialized data structure used for fast sparse retrieval of documents. Finally, the user query goes through the same process and is also transformed into a sparse vector, which is then used to query the invertex index for the documents, whose vectors are the closest to the query vector by some measure, like [TF-IDF](https://en.wikipedia.org/wiki/Tf%E2%80%93idf), or [BM25](https://en.wikipedia.org/wiki/Okapi_BM25)\n",
        "\n",
        "These sparse retrieval systems face many challenges, with the biggest being, that they work on a word level, instead of a meaning and semantic relatedness level. They were also exceptionally hard to get working in multi-lingual settings.\n",
        "\n",
        "\"Dense retrieval\" is based on vectors generated for texts by embedding models. The \"dense\" part stems from the fact, that the transformation does away entirely with words, and instead maps the text to semantic (albeit unobservable) concepts. We do no longer have to care for things like stemming or synonyms. These issues are automagically solved by the embedding model. These models also lend themselves well to handle multi-lingual retrieval, as semantic concepts transfer well between languages, as opposed to lexical words. The downside of dense retrieval is that exact phrase matches are not really possible. Instead of an inverted index, **vector databases** are used to find the top-k most similar documents for a query. This problem is called **[(approximiate) k-nearest-neighbour search](https://en.wikipedia.org/wiki/K-nearest_neighbors_algorithm)**\n",
        "\n",
        "We can wrap the idea of dense retrieval idea up in a function called `retrieve`, which allows us to query our movies. Its parameters are as follows:\n",
        "\n",
        "* **query**: a string or vector to find similar moviews for\n",
        "* **movies**: the movies we want to search\n",
        "* **embed** (optional): a function to embed the user query with\n",
        "\n",
        "The function first embeds the query text, if it isn't already a vector.\n",
        "\n",
        "It then calculates the cosine similarity between the query text vector and the movie vectors and stores the resulting similarity and corresponding movie title in a list. Finally, the similarity list is sorted in descending order by similarity, and returned to the caller."
      ],
      "metadata": {
        "id": "lqd7qI57RCSC"
      }
    },
    {
      "cell_type": "code",
      "source": [
        "def retrieve(query, movies, embed=lambda input: model.encode(input)):\n",
        "  query_embedding = embed(query) if isinstance(query, str) else query\n",
        "  similarities = []\n",
        "  embeddings = movies.vector\n",
        "  titles = movies.title\n",
        "  for i in range(len(embeddings)):\n",
        "    similarity = cosine_similarity(query_embedding, embeddings[i])\n",
        "    similarities.append((titles[i], similarity))\n",
        "\n",
        "  similarities.sort(key=lambda x: x[1], reverse=True)\n",
        "  return similarities\n",
        "\n",
        "retrieve(\"I want a sci-fi movie in space\", movies)"
      ],
      "metadata": {
        "colab": {
          "base_uri": "https://localhost:8080/"
        },
        "id": "q9M6ZhxpcziL",
        "outputId": "8af6772b-f711-4a71-f247-b1f32b349a84"
      },
      "execution_count": null,
      "outputs": [
        {
          "output_type": "execute_result",
          "data": {
            "text/plain": [
              "[('Star Trek: Generations', 0.22226472),\n",
              " ('Peter Pan', 0.14958572),\n",
              " ('Star Wars: Episode V - The Empire Strikes Back', 0.13036577),\n",
              " ('The Jungle Book', 0.10451267),\n",
              " ('The Hobbit', 0.1011019),\n",
              " ('The Silence of the Lambs', 0.07244135),\n",
              " ('Ghostbusters II', 0.07142215),\n",
              " ('Seven', 0.032105174),\n",
              " ('Ghostbusters', 0.025981912),\n",
              " ('The Lord of the Rings', 0.0054919585),\n",
              " ('Fight Club', 0.005122217),\n",
              " ('Pulp Fiction', -0.0038634401)]"
            ]
          },
          "metadata": {},
          "execution_count": 20
        }
      ]
    },
    {
      "cell_type": "code",
      "source": [
        "retrieve(\"I need a movie for children\", movies)"
      ],
      "metadata": {
        "colab": {
          "base_uri": "https://localhost:8080/"
        },
        "id": "dYtphn3VlWfN",
        "outputId": "e974bfd1-9642-43c7-88ae-c130b36290a0"
      },
      "execution_count": null,
      "outputs": [
        {
          "output_type": "execute_result",
          "data": {
            "text/plain": [
              "[('The Jungle Book', 0.34807757),\n",
              " ('Peter Pan', 0.33821195),\n",
              " ('The Silence of the Lambs', 0.21802826),\n",
              " ('Pulp Fiction', 0.18686046),\n",
              " ('Seven', 0.06618291),\n",
              " ('The Hobbit', 0.06579616),\n",
              " ('Star Trek: Generations', 0.04562815),\n",
              " ('Ghostbusters', 0.042599782),\n",
              " ('The Lord of the Rings', 0.030716153),\n",
              " ('Fight Club', 0.029393425),\n",
              " ('Ghostbusters II', 0.023982452),\n",
              " ('Star Wars: Episode V - The Empire Strikes Back', 0.0075912387)]"
            ]
          },
          "metadata": {},
          "execution_count": 21
        }
      ]
    },
    {
      "cell_type": "code",
      "source": [
        "retrieve(\"I want to be scared!\", movies)"
      ],
      "metadata": {
        "colab": {
          "base_uri": "https://localhost:8080/"
        },
        "id": "a_RVKISYlYGW",
        "outputId": "8ac64eff-59c0-41c9-e7f5-d0e4265aba3d"
      },
      "execution_count": null,
      "outputs": [
        {
          "output_type": "execute_result",
          "data": {
            "text/plain": [
              "[('Ghostbusters', 0.21073927),\n",
              " ('The Silence of the Lambs', 0.17536362),\n",
              " ('The Jungle Book', 0.14985359),\n",
              " ('Fight Club', 0.12972204),\n",
              " ('Peter Pan', 0.10804557),\n",
              " ('Ghostbusters II', 0.10533637),\n",
              " ('Star Trek: Generations', 0.085012704),\n",
              " ('The Hobbit', 0.08197592),\n",
              " ('Seven', 0.07068899),\n",
              " ('Pulp Fiction', 0.05737331),\n",
              " ('Star Wars: Episode V - The Empire Strikes Back', 0.044099648),\n",
              " ('The Lord of the Rings', 0.029015983)]"
            ]
          },
          "metadata": {},
          "execution_count": 22
        }
      ]
    },
    {
      "cell_type": "markdown",
      "source": [
        "# Deploying a model to the cloud\n",
        "\n",
        "Running a model in a Google Colab or Jupyter notebook is fine for engineering things. Ultimately, we want to serve models for production use. This way, we do not have to provision our own (costly) hardware, such as GPU clusters, and we let someone else care about (auto-)scaling the service based on demand.\n",
        "\n",
        "One simple way to do this is to use [Hugging Face Inference Endpoints](https://huggingface.co/inference-endpoints/dedicated).\n",
        "\n",
        "I've deployed the jina model via Hugging Face Inference Endpoints. Once deployed, we can use the model remotely via a simple `POST` request from anywhere. The API endpoint expects a JSON object of the form:\n",
        "\n",
        "```\n",
        "{\"inputs\": [first_text, second_text, ..., n_th_text], \"params\": {}}\n",
        "```\n",
        "\n",
        "The API endpoint returns a JSON array, where each element is an array of numbers representing the embedding vector of the corresponding input text.\n",
        "\n",
        "We wrap this in a function called `embed_remote`, which behaves like `model.encode`, so we can pass it to `retrieve` as the embedding function."
      ],
      "metadata": {
        "id": "7ZBkJPRKF-jz"
      }
    },
    {
      "cell_type": "code",
      "source": [
        "import requests\n",
        "\n",
        "def embed_remote(texts):\n",
        "  API_URL = \"https://bkr7g18qndixix0y.eu-west-1.aws.endpoints.huggingface.cloud\"\n",
        "  headers = {\n",
        "\t  \"Accept\" : \"application/json\",\n",
        "\t  \"Content-Type\": \"application/json\"\n",
        "  }\n",
        "  if not isinstance(texts, list):\n",
        "      texts = [texts]\n",
        "\n",
        "  response = requests.post(API_URL, headers=headers, json={\"inputs\": texts, \"payload\": {}})\n",
        "  response_json = response.json()\n",
        "  response_np = np.array(response_json)\n",
        "\n",
        "  if response_np.shape[0] == 1:\n",
        "      return response_np[0]\n",
        "  else:\n",
        "      return response_np"
      ],
      "metadata": {
        "id": "ljYhFmv4GfTq"
      },
      "execution_count": null,
      "outputs": []
    },
    {
      "cell_type": "markdown",
      "source": [
        "Now let us try our dense retrieval using the remote embedding model.\n",
        "\n",
        "> **Note:** If you have automatic `Scale-to-Zero` enabled on the endpoint, you may have to wait for it to boot up the first time you make a call to it. Check the inference endpoints dashboard for the state of the endpoint."
      ],
      "metadata": {
        "id": "PWuZunOFDSZW"
      }
    },
    {
      "cell_type": "code",
      "source": [
        "retrieve(\"I want a sci-fi movie in space\", movies, embed=embed_remote)"
      ],
      "metadata": {
        "colab": {
          "base_uri": "https://localhost:8080/"
        },
        "id": "8xn2uymuDdfY",
        "outputId": "e5dc0623-232f-4d24-ab4a-291aa8a7d4cb"
      },
      "execution_count": null,
      "outputs": [
        {
          "output_type": "execute_result",
          "data": {
            "text/plain": [
              "[('Star Trek: Generations', 0.22216843688035168),\n",
              " ('Peter Pan', 0.14929156998435214),\n",
              " ('Star Wars: Episode V - The Empire Strikes Back', 0.13009066793102403),\n",
              " ('The Jungle Book', 0.1046088634159571),\n",
              " ('The Hobbit', 0.10134855671221311),\n",
              " ('The Silence of the Lambs', 0.07164271748403654),\n",
              " ('Ghostbusters II', 0.07101712567104165),\n",
              " ('Seven', 0.031544588111084175),\n",
              " ('Ghostbusters', 0.026261614206865427),\n",
              " ('The Lord of the Rings', 0.005434212829526912),\n",
              " ('Fight Club', 0.005018728094432068),\n",
              " ('Pulp Fiction', -0.0043037503933230385)]"
            ]
          },
          "metadata": {},
          "execution_count": 15
        }
      ]
    },
    {
      "cell_type": "code",
      "source": [
        "retrieve(\"I need a movie for children\", movies, embed=embed_remote)"
      ],
      "metadata": {
        "colab": {
          "base_uri": "https://localhost:8080/"
        },
        "id": "Yz2jwBidm_tB",
        "outputId": "b9911167-53a3-4e31-af93-9d84860954c3"
      },
      "execution_count": null,
      "outputs": [
        {
          "output_type": "execute_result",
          "data": {
            "text/plain": [
              "[('The Jungle Book', 0.3480965415592364),\n",
              " ('Peter Pan', 0.33795300327151984),\n",
              " ('The Silence of the Lambs', 0.218187531110364),\n",
              " ('Pulp Fiction', 0.18655515224909125),\n",
              " ('Seven', 0.0662471463850046),\n",
              " ('The Hobbit', 0.06601042669558185),\n",
              " ('Star Trek: Generations', 0.045734681395676165),\n",
              " ('Ghostbusters', 0.04242313873523277),\n",
              " ('The Lord of the Rings', 0.030877323435791356),\n",
              " ('Fight Club', 0.029477052550246522),\n",
              " ('Ghostbusters II', 0.023750151569246376),\n",
              " ('Star Wars: Episode V - The Empire Strikes Back', 0.0074028226106837005)]"
            ]
          },
          "metadata": {},
          "execution_count": 23
        }
      ]
    },
    {
      "cell_type": "code",
      "source": [
        "retrieve(\"Where my Gandalf at?\", movies, embed=embed_remote)"
      ],
      "metadata": {
        "colab": {
          "base_uri": "https://localhost:8080/"
        },
        "id": "z_XFPlmco25D",
        "outputId": "9c0926f3-93f3-4b32-9c23-315fb4b9f325"
      },
      "execution_count": null,
      "outputs": [
        {
          "output_type": "execute_result",
          "data": {
            "text/plain": [
              "[('The Hobbit', 0.24775231124801597),\n",
              " ('The Lord of the Rings', 0.16659278737579705),\n",
              " ('Star Wars: Episode V - The Empire Strikes Back', 0.1499162874194827),\n",
              " ('The Jungle Book', 0.11941424523644092),\n",
              " ('Peter Pan', 0.11716821992314495),\n",
              " ('Ghostbusters', 0.08689316903218706),\n",
              " ('Ghostbusters II', 0.07525037410338131),\n",
              " ('Pulp Fiction', 0.06821710474981502),\n",
              " ('The Silence of the Lambs', 0.06629984345860243),\n",
              " ('Seven', 0.0489610159292678),\n",
              " ('Fight Club', 0.03537304776384188),\n",
              " ('Star Trek: Generations', 5.7060281257314516e-05)]"
            ]
          },
          "metadata": {},
          "execution_count": 24
        }
      ]
    },
    {
      "cell_type": "code",
      "source": [
        "retrieve(\"I want to be scared!\", movies, embed=embed_remote)"
      ],
      "metadata": {
        "colab": {
          "base_uri": "https://localhost:8080/"
        },
        "id": "vf8fvjI0nEn2",
        "outputId": "2eabc52c-1af1-4804-fd28-881577cf549e"
      },
      "execution_count": null,
      "outputs": [
        {
          "output_type": "execute_result",
          "data": {
            "text/plain": [
              "[('Ghostbusters', 0.2109303373943403),\n",
              " ('The Silence of the Lambs', 0.17606774720463558),\n",
              " ('The Jungle Book', 0.15039343516284412),\n",
              " ('Fight Club', 0.12963748085717744),\n",
              " ('Peter Pan', 0.10799312956531266),\n",
              " ('Ghostbusters II', 0.10529106941522627),\n",
              " ('Star Trek: Generations', 0.08493083720200995),\n",
              " ('The Hobbit', 0.08230945496442964),\n",
              " ('Seven', 0.07054788037935368),\n",
              " ('Pulp Fiction', 0.057729987400994276),\n",
              " ('Star Wars: Episode V - The Empire Strikes Back', 0.04399335222076742),\n",
              " ('The Lord of the Rings', 0.02901032404400857)]"
            ]
          },
          "metadata": {},
          "execution_count": 25
        }
      ]
    },
    {
      "cell_type": "markdown",
      "source": [
        "For a more in-depth tutorial on how to deploy models via inference endpoints, check out this [cookbook on Hugging Face](https://huggingface.co/learn/cookbook/automatic_embedding_tei_inference_endpoints)"
      ],
      "metadata": {
        "id": "UZNJ6s9HmWKJ"
      }
    }
  ]
}